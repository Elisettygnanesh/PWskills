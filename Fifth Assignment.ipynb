{
 "cells": [
  {
   "cell_type": "markdown",
   "id": "d3947cc3-48dd-436b-8f16-b07da87d7ec2",
   "metadata": {},
   "source": [
    "17-09-2023"
   ]
  },
  {
   "cell_type": "markdown",
   "id": "2daa1f07-84bf-4ea7-b069-91100990686e",
   "metadata": {},
   "source": [
    "FOR LOOP SOLUTIONS"
   ]
  },
  {
   "cell_type": "code",
   "execution_count": 2,
   "id": "d957e6fa-b4d4-4ef9-b051-23a0eb337d6e",
   "metadata": {},
   "outputs": [
    {
     "name": "stdin",
     "output_type": "stream",
     "text": [
      "Enter end number:  10\n"
     ]
    },
    {
     "name": "stdout",
     "output_type": "stream",
     "text": [
      "1 2 3 4 5 6 7 8 9 10 "
     ]
    }
   ],
   "source": [
    "n=int(input(\"Enter end number: \"))\n",
    "for i in range(1,n+1):\n",
    "    print(i,end=\" \")"
   ]
  },
  {
   "cell_type": "code",
   "execution_count": 12,
   "id": "a699f88f-27cc-425e-9bb6-74278cde9f43",
   "metadata": {},
   "outputs": [
    {
     "name": "stdout",
     "output_type": "stream",
     "text": [
      "For loop is used to iterate a particular sequence of items.\n",
      "While loop is used to execute a block of code while the condition is true.\n"
     ]
    }
   ],
   "source": [
    "print(\"For loop is used to iterate a particular sequence of items.\\nWhile loop is used to execute a block of code while the condition is true.\")"
   ]
  },
  {
   "cell_type": "code",
   "execution_count": 14,
   "id": "75dbc130-ed5c-4f1c-bb28-5762041a8b21",
   "metadata": {},
   "outputs": [
    {
     "name": "stdin",
     "output_type": "stream",
     "text": [
      "Enter last number upto where you want sum of numbers:  100\n"
     ]
    },
    {
     "name": "stdout",
     "output_type": "stream",
     "text": [
      "5050\n"
     ]
    }
   ],
   "source": [
    "n=int(input(\"Enter last number upto where you want sum of numbers: \"))\n",
    "sum=0\n",
    "for i in range(1,n+1):\n",
    "    sum+=i\n",
    "print(sum)"
   ]
  },
  {
   "cell_type": "code",
   "execution_count": 17,
   "id": "3b9de0ec-d3c9-4551-8bcd-56c6d6b739bf",
   "metadata": {},
   "outputs": [
    {
     "name": "stdout",
     "output_type": "stream",
     "text": [
      "I created one list named as l.\n",
      "Now by using 'for i in l' I iterate through the list.\n",
      "Here i am retreiving each and every item one by one until last item of the list.\n",
      "1 3 5 7 9 2 4 6 8 10 "
     ]
    }
   ],
   "source": [
    "l=[1,3,5,7,9,2,4,6,8,10]\n",
    "print(\"I created one list named as l.\\nNow by using 'for i in l' I iterate through the list.\\nHere i am retreiving each and every item one by one until last item of the list.\")\n",
    "for i in l:\n",
    "    print(i,end=\" \")"
   ]
  },
  {
   "cell_type": "code",
   "execution_count": 18,
   "id": "70f68b62-f5bb-42a4-8539-6060956280ce",
   "metadata": {},
   "outputs": [
    {
     "name": "stdout",
     "output_type": "stream",
     "text": [
      "33600\n"
     ]
    }
   ],
   "source": [
    "l=[2,5,8,10,7,6]\n",
    "product=1\n",
    "for i in l:\n",
    "    product*=i\n",
    "print(product)"
   ]
  },
  {
   "cell_type": "code",
   "execution_count": 19,
   "id": "b2a6d8cd-4289-467e-af32-aef178f2e80b",
   "metadata": {},
   "outputs": [
    {
     "name": "stdin",
     "output_type": "stream",
     "text": [
      "Enter last number upto where we have to print even numbers:  20\n"
     ]
    },
    {
     "name": "stdout",
     "output_type": "stream",
     "text": [
      "2 4 6 8 10 12 14 16 18 20 "
     ]
    }
   ],
   "source": [
    "n=int(input(\"Enter last number upto where we have to print even numbers: \"))\n",
    "for i in range(1,n+1):\n",
    "    if i%2==0:\n",
    "        print(i,end=\" \")"
   ]
  },
  {
   "cell_type": "code",
   "execution_count": 20,
   "id": "79423fb8-b62a-4202-8f32-b4aaaf34ac6c",
   "metadata": {},
   "outputs": [
    {
     "name": "stdin",
     "output_type": "stream",
     "text": [
      "Enter number to find factorial:  5\n"
     ]
    },
    {
     "name": "stdout",
     "output_type": "stream",
     "text": [
      "120\n"
     ]
    }
   ],
   "source": [
    "n=int(input(\"Enter number to find factorial: \"))\n",
    "fact=1\n",
    "for i in range(1,n+1):\n",
    "    fact*=i\n",
    "print(fact)"
   ]
  },
  {
   "cell_type": "code",
   "execution_count": 22,
   "id": "42947be6-2964-415f-9a1d-75d5197d72d0",
   "metadata": {},
   "outputs": [
    {
     "name": "stdout",
     "output_type": "stream",
     "text": [
      "Gnanesh learning from PWskills"
     ]
    }
   ],
   "source": [
    "s=\"Gnanesh learning from PWskills\"\n",
    "for i in s:\n",
    "    print(i,end=\"\")"
   ]
  },
  {
   "cell_type": "code",
   "execution_count": 23,
   "id": "68b99ebc-b79d-442a-870f-7782bab83782",
   "metadata": {},
   "outputs": [
    {
     "name": "stdout",
     "output_type": "stream",
     "text": [
      "233\n"
     ]
    }
   ],
   "source": [
    "l=[23,45,67,233,1,69,70]\n",
    "max=0\n",
    "for i in l:\n",
    "    if max<i:\n",
    "        max=i\n",
    "print(max)"
   ]
  },
  {
   "cell_type": "code",
   "execution_count": 25,
   "id": "706060c7-d5dd-43aa-b5ab-bdb582f485e4",
   "metadata": {},
   "outputs": [
    {
     "name": "stdin",
     "output_type": "stream",
     "text": [
      "Enter how many numbers you want in fibonacci series:  10\n"
     ]
    },
    {
     "name": "stdout",
     "output_type": "stream",
     "text": [
      "0 1 1 2 3 5 8 13 21 34 "
     ]
    }
   ],
   "source": [
    "n=int(input(\"Enter how many numbers you want in fibonacci series: \"))\n",
    "f=0\n",
    "s=1\n",
    "for i in range(n):\n",
    "    print(f,end=\" \")\n",
    "    t=f\n",
    "    f=s\n",
    "    s=t+s"
   ]
  },
  {
   "cell_type": "code",
   "execution_count": 26,
   "id": "c3e2ebd4-60ee-4be2-b8ad-0d98d7cc09c9",
   "metadata": {},
   "outputs": [
    {
     "name": "stdout",
     "output_type": "stream",
     "text": [
      "string has 12 vowels.\n"
     ]
    }
   ],
   "source": [
    "s=\"Gnanesh learning data science from PWskills\"\n",
    "v=\"AEIOUaeiou\"\n",
    "c=0\n",
    "for i in s:\n",
    "    if i in v:\n",
    "        c+=1\n",
    "print(\"string has\",c,\"vowels.\")"
   ]
  },
  {
   "cell_type": "code",
   "execution_count": 28,
   "id": "9f5e34f2-f50b-426e-9822-e7b1edee98ac",
   "metadata": {},
   "outputs": [
    {
     "name": "stdin",
     "output_type": "stream",
     "text": [
      "Enter number to create multiplication table:  3\n"
     ]
    },
    {
     "name": "stdout",
     "output_type": "stream",
     "text": [
      "3 * 1 = 3\n",
      "3 * 2 = 6\n",
      "3 * 3 = 9\n",
      "3 * 4 = 12\n",
      "3 * 5 = 15\n",
      "3 * 6 = 18\n",
      "3 * 7 = 21\n",
      "3 * 8 = 24\n",
      "3 * 9 = 27\n",
      "3 * 10 = 30\n"
     ]
    }
   ],
   "source": [
    "n=int(input(\"Enter number to create multiplication table: \"))\n",
    "for i in range(1,11):\n",
    "    print(n,\"*\",i,\"=\",n*i)"
   ]
  },
  {
   "cell_type": "code",
   "execution_count": 32,
   "id": "e7c5f7d7-ad28-4246-a59e-0a3e54196204",
   "metadata": {},
   "outputs": [
    {
     "name": "stdout",
     "output_type": "stream",
     "text": [
      "[78.5, 'data', 'Gnan', 'PW', 4, 8, 5, 2]\n"
     ]
    }
   ],
   "source": [
    "l=[2,5,8,4,'PW','Gnan','data',78.5]\n",
    "l1=[]\n",
    "for i in range((len(l)-1),-1,-1):\n",
    "    l1.append(l[i])\n",
    "print(l1)"
   ]
  },
  {
   "cell_type": "code",
   "execution_count": 35,
   "id": "933deb99-d110-49c1-8c03-ba5aa8f448f2",
   "metadata": {},
   "outputs": [
    {
     "name": "stdout",
     "output_type": "stream",
     "text": [
      "22, 2, 7, "
     ]
    }
   ],
   "source": [
    "l=[2,5,8,7,9,14,22]\n",
    "l1=[4,10,22,2,34,7,92]\n",
    "for i in l1:\n",
    "    if i in l:\n",
    "        print(i,end=\", \")"
   ]
  },
  {
   "cell_type": "code",
   "execution_count": 45,
   "id": "96b0e447-a99b-4f5f-b58d-fbb96a393820",
   "metadata": {},
   "outputs": [
    {
     "name": "stdout",
     "output_type": "stream",
     "text": [
      "We can iterate by keys. \n",
      "Gnanesh, 19, PWskills, Datascience, \n",
      "\n",
      "We can iterate keys by items. \n",
      "name, Roll_no, Platform, course, "
     ]
    }
   ],
   "source": [
    "d={'name':'Gnanesh','Roll_no':19,'Platform':'PWskills','course':'Datascience'}\n",
    "print(\"We can iterate by keys. \")\n",
    "for i in d:\n",
    "    print(d[i],end=\", \")\n",
    "print()\n",
    "print(\"\\nWe can iterate keys by items. \")\n",
    "for i in d.items():\n",
    "    print(i[0],end=\", \")"
   ]
  },
  {
   "cell_type": "code",
   "execution_count": 46,
   "id": "1d16b2fc-0896-4455-9a1a-d583deec5fff",
   "metadata": {},
   "outputs": [
    {
     "name": "stdin",
     "output_type": "stream",
     "text": [
      "Enter first number to find GCD:  60\n",
      "Enter second number to find GCD:  36\n"
     ]
    },
    {
     "name": "stdout",
     "output_type": "stream",
     "text": [
      "12\n"
     ]
    }
   ],
   "source": [
    "n1=int(input(\"Enter first number to find GCD: \"))\n",
    "n2=int(input(\"Enter second number to find GCD: \"))\n",
    "gcd=1\n",
    "for i in range(1,min(n1,n2)):\n",
    "    if n1%i==0 and n2%i==0:\n",
    "        gcd=i\n",
    "print(gcd)"
   ]
  },
  {
   "cell_type": "code",
   "execution_count": 48,
   "id": "a68f9350-0a6b-4732-9785-37d73acb1482",
   "metadata": {},
   "outputs": [
    {
     "name": "stdin",
     "output_type": "stream",
     "text": [
      "Enter any string to check palindrome or not:  GnanG\n"
     ]
    },
    {
     "name": "stdout",
     "output_type": "stream",
     "text": [
      "string is palindrome.\n"
     ]
    }
   ],
   "source": [
    "s=input(\"Enter any string to check palindrome or not: \")\n",
    "s1=\"\"\n",
    "for i in range((len(s)-1),-1,-1):\n",
    "    s1+=s[i]\n",
    "if s==s1:\n",
    "    print(\"string is palindrome.\")\n",
    "else:\n",
    "    print(\"string is not a palindrome\")"
   ]
  },
  {
   "cell_type": "code",
   "execution_count": 51,
   "id": "c2c3bee5-d205-484d-8691-edd765ef433b",
   "metadata": {},
   "outputs": [
    {
     "name": "stdout",
     "output_type": "stream",
     "text": [
      "[2, 5, 8, 4, 'PW', 'Gnan', 'data', 78.5]\n"
     ]
    }
   ],
   "source": [
    "l=[2,5,8,4,'PW','Gnan','data',78.5,2,8,'Gnan']\n",
    "l1=[]\n",
    "for i in l:\n",
    "    if i not in l1:\n",
    "        l1.append(i)\n",
    "print(l1)"
   ]
  },
  {
   "cell_type": "code",
   "execution_count": 52,
   "id": "f39fab4e-ea29-42e8-86ec-30df8200d5e2",
   "metadata": {},
   "outputs": [
    {
     "name": "stdout",
     "output_type": "stream",
     "text": [
      "12\n"
     ]
    }
   ],
   "source": [
    "sen=\"My name is Gnanesh and I am learning data science from pwskills\"\n",
    "l=sen.split(\" \")\n",
    "print(len(l))"
   ]
  },
  {
   "cell_type": "code",
   "execution_count": 54,
   "id": "b1b6f224-a9e4-45f2-b1e1-ac0f5f137ccd",
   "metadata": {},
   "outputs": [
    {
     "name": "stdin",
     "output_type": "stream",
     "text": [
      "Enter last number upto where we have to print odd numbers:  50\n"
     ]
    },
    {
     "name": "stdout",
     "output_type": "stream",
     "text": [
      "625\n"
     ]
    }
   ],
   "source": [
    "n=int(input(\"Enter last number upto where we have to print odd numbers: \"))\n",
    "sum=0\n",
    "for i in range(1,n+1):\n",
    "    if i%2!=0:\n",
    "        sum+=i\n",
    "print(sum)"
   ]
  },
  {
   "cell_type": "code",
   "execution_count": 56,
   "id": "10ae0b63-4f7e-4952-bd27-cd0b8627e3b4",
   "metadata": {},
   "outputs": [
    {
     "name": "stdin",
     "output_type": "stream",
     "text": [
      "Enter any year to check leap year or not:  2024\n"
     ]
    },
    {
     "name": "stdout",
     "output_type": "stream",
     "text": [
      "2024 is leap year\n"
     ]
    }
   ],
   "source": [
    "year=int(input(\"Enter any year to check leap year or not: \"))\n",
    "if (year%4==0 and year%100!=0 or year%400==0):\n",
    "    print(year,\"is leap year\")"
   ]
  },
  {
   "cell_type": "code",
   "execution_count": 7,
   "id": "d5a9001c-66a7-46bb-9cc4-b97a31177612",
   "metadata": {},
   "outputs": [
    {
     "name": "stdin",
     "output_type": "stream",
     "text": [
      "Enter number to find square root of the number:  64\n"
     ]
    },
    {
     "name": "stdout",
     "output_type": "stream",
     "text": [
      "8\n"
     ]
    }
   ],
   "source": [
    "n=int(input(\"Enter number to find square root of the number: \"))\n",
    "for i in range(2,n):\n",
    "    if n%i==0 and i*i==n:\n",
    "        print(i)"
   ]
  },
  {
   "cell_type": "code",
   "execution_count": 12,
   "id": "f8f4a47f-cb17-4145-8270-cd87f1d9e26f",
   "metadata": {},
   "outputs": [
    {
     "name": "stdin",
     "output_type": "stream",
     "text": [
      "Enter first number to find LCM:  12\n",
      "Enter second number to find LCM:  48\n"
     ]
    },
    {
     "name": "stdout",
     "output_type": "stream",
     "text": [
      "48\n"
     ]
    }
   ],
   "source": [
    "n1=int(input(\"Enter first number to find LCM: \"))\n",
    "n2=int(input(\"Enter second number to find LCM: \"))\n",
    "gcd=1\n",
    "for i in range(1,min(n1,n2)+1):\n",
    "    if n1%i==0 and n2%i==0:\n",
    "        gcd=i\n",
    "print((n1*n2)//gcd)"
   ]
  },
  {
   "cell_type": "markdown",
   "id": "598c63f5-0076-4fdb-979b-29a607846fa0",
   "metadata": {},
   "source": [
    "IF-ELSE SOLUTIONS"
   ]
  },
  {
   "cell_type": "code",
   "execution_count": 13,
   "id": "1680e4ce-2272-4656-9ea8-17a5966c8ca6",
   "metadata": {},
   "outputs": [
    {
     "name": "stdin",
     "output_type": "stream",
     "text": [
      "Enter any number:  -5\n"
     ]
    },
    {
     "name": "stdout",
     "output_type": "stream",
     "text": [
      "Number is negative\n"
     ]
    }
   ],
   "source": [
    "n=int(input(\"Enter any number: \"))\n",
    "if n>0:\n",
    "    print(\"Number is positive\")\n",
    "elif n<0:\n",
    "    print(\"Number is negative\")\n",
    "else:\n",
    "    print(\"Number is zero\")"
   ]
  },
  {
   "cell_type": "code",
   "execution_count": 14,
   "id": "ddae0969-bf1b-44e2-83d8-ea581f9a6861",
   "metadata": {},
   "outputs": [
    {
     "name": "stdin",
     "output_type": "stream",
     "text": [
      "Enter any number:  9\n"
     ]
    },
    {
     "name": "stdout",
     "output_type": "stream",
     "text": [
      "Number is odd.\n"
     ]
    }
   ],
   "source": [
    "n=int(input(\"Enter any number: \"))\n",
    "if n%2==0:\n",
    "    print(\"Number is even.\")\n",
    "else:\n",
    "    print(\"Number is odd.\")"
   ]
  },
  {
   "cell_type": "code",
   "execution_count": 16,
   "id": "3ff92fb3-f850-4c24-b39d-7e1f00fcaaf7",
   "metadata": {},
   "outputs": [
    {
     "name": "stdout",
     "output_type": "stream",
     "text": [
      "If we have to check number is even or odd only \n",
      "when the number is positive then we have to use nested if-else statements\n",
      "Here the python program below\n",
      "\n"
     ]
    },
    {
     "name": "stdin",
     "output_type": "stream",
     "text": [
      "Enter any number:  47\n"
     ]
    },
    {
     "name": "stdout",
     "output_type": "stream",
     "text": [
      "Number is odd.\n"
     ]
    }
   ],
   "source": [
    "print(\"If we have to check number is even or odd only \\nwhen the number is positive then we have to use nested if-else statements\")\n",
    "print(\"Here the python program below\\n\")\n",
    "n=int(input(\"Enter any number: \"))\n",
    "if n>0:\n",
    "    if n%2==0:\n",
    "        print(\"Number is even.\")\n",
    "    else:\n",
    "        print(\"Number is odd.\")\n",
    "else:\n",
    "    print(\"Enter positive number\")"
   ]
  },
  {
   "cell_type": "code",
   "execution_count": 17,
   "id": "738a04af-a759-499c-ae16-eadeeb0469a3",
   "metadata": {},
   "outputs": [
    {
     "name": "stdin",
     "output_type": "stream",
     "text": [
      "Enter first number:  5\n",
      "Enter second number:  9\n",
      "Enter third number:  3\n"
     ]
    },
    {
     "name": "stdout",
     "output_type": "stream",
     "text": [
      "9 is largest number\n"
     ]
    }
   ],
   "source": [
    "n1=int(input(\"Enter first number: \"))\n",
    "n2=int(input(\"Enter second number: \"))\n",
    "n3=int(input(\"Enter third number: \"))\n",
    "if (n1>n2 and n1>n3):\n",
    "    print(n1,\"is largest number\")\n",
    "elif (n2>n1 and n2>n3):\n",
    "    print(n2,\"is largest number\")\n",
    "else:\n",
    "    print(n3,\"is largest number\")"
   ]
  },
  {
   "cell_type": "code",
   "execution_count": 21,
   "id": "a68defe2-92d2-470c-acad-5c2e86c44615",
   "metadata": {},
   "outputs": [
    {
     "name": "stdin",
     "output_type": "stream",
     "text": [
      "Enter any number:  -9\n"
     ]
    },
    {
     "name": "stdout",
     "output_type": "stream",
     "text": [
      "9\n"
     ]
    }
   ],
   "source": [
    "n=int(input(\"Enter any number: \"))\n",
    "if n<=0:\n",
    "    print(abs(n))\n",
    "else:\n",
    "    print(n)"
   ]
  },
  {
   "cell_type": "code",
   "execution_count": 22,
   "id": "44728834-363f-494c-8ae9-0945c16c779b",
   "metadata": {},
   "outputs": [
    {
     "name": "stdin",
     "output_type": "stream",
     "text": [
      "Enter any letter from alphabets:  t\n"
     ]
    },
    {
     "name": "stdout",
     "output_type": "stream",
     "text": [
      "The entered character is consonant\n"
     ]
    }
   ],
   "source": [
    "c=input(\"Enter any letter from alphabets: \")\n",
    "v='AEIOUaeiou'\n",
    "if c in v:\n",
    "    print(\"The entered character is vowel.\")\n",
    "else:\n",
    "    print(\"The entered character is consonant\")"
   ]
  },
  {
   "cell_type": "code",
   "execution_count": 24,
   "id": "69362e8d-8ea8-4a00-85b6-65f1cb7baf45",
   "metadata": {},
   "outputs": [
    {
     "name": "stdin",
     "output_type": "stream",
     "text": [
      "Enter your age:  22\n"
     ]
    },
    {
     "name": "stdout",
     "output_type": "stream",
     "text": [
      "You are eligible to vote\n"
     ]
    }
   ],
   "source": [
    "age=int(input(\"Enter your age: \"))\n",
    "if age>=18:\n",
    "    print(\"You are eligible to vote\")\n",
    "else:\n",
    "    print(\"You are not eligible to vote\")"
   ]
  },
  {
   "cell_type": "code",
   "execution_count": 32,
   "id": "de0f8661-77c0-49a4-ba56-6cd72ab95ad7",
   "metadata": {},
   "outputs": [
    {
     "name": "stdin",
     "output_type": "stream",
     "text": [
      "Enter cost of the item:  2489\n"
     ]
    },
    {
     "name": "stdout",
     "output_type": "stream",
     "text": [
      "You got 248.9 discount on your product.\n"
     ]
    }
   ],
   "source": [
    "n=int(input(\"Enter cost of the item: \"))\n",
    "if 800<n<999:\n",
    "    print(\"You got\",(n*5)/100,\"discount on your product.\")\n",
    "elif 999<n<5001:\n",
    "    print(\"You got\",(n*10)/100,\"discount on your product.\")\n",
    "elif n>5000:\n",
    "    print(\"You got\",(n*15)/100,\"discount on your product.\")\n",
    "else:\n",
    "    print(\"You are not eligible for discount\")"
   ]
  },
  {
   "cell_type": "code",
   "execution_count": 33,
   "id": "512dacee-1e41-4f0d-9aee-0f4e1c5ecaef",
   "metadata": {},
   "outputs": [
    {
     "name": "stdin",
     "output_type": "stream",
     "text": [
      "Enter starting number of range:  4\n",
      "Enter ending number of range:  20\n",
      "Enter any number:  10\n"
     ]
    },
    {
     "name": "stdout",
     "output_type": "stream",
     "text": [
      "Number is in range.\n"
     ]
    }
   ],
   "source": [
    "r1=int(input(\"Enter starting number of range: \"))\n",
    "r2=int(input(\"Enter ending number of range: \"))\n",
    "n=int(input(\"Enter any number: \"))\n",
    "l=[]\n",
    "for i in range(r1,r2+1):\n",
    "    l.append(i)\n",
    "if n in l:\n",
    "    print(\"Number is in range.\")\n",
    "else:\n",
    "    print(\"Number is not in range\")"
   ]
  },
  {
   "cell_type": "code",
   "execution_count": 1,
   "id": "42d8cbf3-85c9-4ed5-8541-0aee2850fe33",
   "metadata": {},
   "outputs": [
    {
     "name": "stdin",
     "output_type": "stream",
     "text": [
      "Enter marks:  85\n"
     ]
    },
    {
     "name": "stdout",
     "output_type": "stream",
     "text": [
      "B Grade\n"
     ]
    }
   ],
   "source": [
    "mark=int(input(\"Enter marks: \"))\n",
    "if mark>90:\n",
    "    print('A Grade')\n",
    "elif 80<mark<91:\n",
    "    print('B Grade')\n",
    "elif 70<mark<81:\n",
    "    print('C Grade')\n",
    "elif 60<mark<71:\n",
    "    print('D Grade')\n",
    "elif 50<mark<61:\n",
    "    print('E Grade')\n",
    "elif 40<mark<51:\n",
    "    print('F Grade')\n",
    "else:\n",
    "    print('Fail')"
   ]
  },
  {
   "cell_type": "code",
   "execution_count": 2,
   "id": "27e7abb5-2fee-46c8-a07b-ca8a5144cbb1",
   "metadata": {},
   "outputs": [
    {
     "name": "stdin",
     "output_type": "stream",
     "text": [
      "Enter any string:  \n"
     ]
    },
    {
     "name": "stdout",
     "output_type": "stream",
     "text": [
      "String is empty\n"
     ]
    }
   ],
   "source": [
    "s=input(\"Enter any string: \")\n",
    "if len(s)>0:\n",
    "    print(\"String is not empty\")\n",
    "else:\n",
    "    print(\"String is empty\")"
   ]
  },
  {
   "cell_type": "code",
   "execution_count": 3,
   "id": "99cd9a73-19ac-4285-8eaa-912933a35243",
   "metadata": {},
   "outputs": [
    {
     "name": "stdin",
     "output_type": "stream",
     "text": [
      "Enter length1:  45\n",
      "Enter length2:  90\n",
      "Enter length3:  45\n"
     ]
    },
    {
     "name": "stdout",
     "output_type": "stream",
     "text": [
      "['It is isosceles triangle']\n"
     ]
    }
   ],
   "source": [
    "l1=int(input(\"Enter length1: \"))\n",
    "l2=int(input(\"Enter length2: \"))\n",
    "l3=int(input(\"Enter length3: \"))\n",
    "t=['It is equilateral triangle' if l1==l2==l3 else 'It is isosceles triangle' if l1==l2 or l2==l3 or l3==l1 else 'It is scalene triangle' if l1!=l2!=l3 and l1+l2+l3==180 else 'Enter correct numbers.']\n",
    "print(t)"
   ]
  },
  {
   "cell_type": "code",
   "execution_count": 4,
   "id": "339f3348-8947-4776-ae11-7109aef9f506",
   "metadata": {},
   "outputs": [
    {
     "name": "stdin",
     "output_type": "stream",
     "text": [
      "Enter number:  5\n"
     ]
    },
    {
     "name": "stdout",
     "output_type": "stream",
     "text": [
      "['Friday']\n"
     ]
    }
   ],
   "source": [
    "n=int(input(\"Enter number: \"))\n",
    "w=['Monday' if n==1 else 'Tuesday' if n==2 else 'Wednesday' if n==3 else 'Thursday' if n==4 else 'Friday' if n==5 else 'Saturday' if n==6 else 'Sunday']\n",
    "print(w)"
   ]
  },
  {
   "cell_type": "code",
   "execution_count": 6,
   "id": "3e17938b-90fe-407f-94c8-35ab37e59239",
   "metadata": {},
   "outputs": [
    {
     "name": "stdin",
     "output_type": "stream",
     "text": [
      "Enter any year:  2023\n"
     ]
    },
    {
     "name": "stdout",
     "output_type": "stream",
     "text": [
      "2023 is not a leap year\n"
     ]
    }
   ],
   "source": [
    "def l_y(n):\n",
    "    if (n%4==0 and n%100!=0 or n%400==0):\n",
    "        print(n,\"is leap year\")\n",
    "    else:\n",
    "        print(n,\"is not a leap year\")\n",
    "year=int(input(\"Enter any year: \"))\n",
    "l_y(year)"
   ]
  },
  {
   "cell_type": "code",
   "execution_count": 2,
   "id": "b7d2064f-66e0-47fc-9abf-c6bfd8131b92",
   "metadata": {},
   "outputs": [
    {
     "name": "stdout",
     "output_type": "stream",
     "text": [
      "Using assert statement we can proceed or break the program with error!\n",
      "\n"
     ]
    },
    {
     "name": "stdin",
     "output_type": "stream",
     "text": [
      "Enter any number:  5\n"
     ]
    },
    {
     "name": "stdout",
     "output_type": "stream",
     "text": [
      "Number is odd.\n"
     ]
    }
   ],
   "source": [
    "print(\"Using assert statement we can proceed or break the program with error!\\n\")\n",
    "n=int(input(\"Enter any number: \"))\n",
    "assert n>0, \"Number is negative.\"\n",
    "if n%2==0:\n",
    "    print(\"Number is even.\")\n",
    "else:\n",
    "    print(\"Number is odd.\")"
   ]
  },
  {
   "cell_type": "code",
   "execution_count": 1,
   "id": "61e65547-9e56-4ff3-b3de-83872168aa63",
   "metadata": {},
   "outputs": [
    {
     "name": "stdin",
     "output_type": "stream",
     "text": [
      "Enter age of the person:  59\n"
     ]
    },
    {
     "name": "stdout",
     "output_type": "stream",
     "text": [
      "You are not eligible for senior citizen discount\n"
     ]
    }
   ],
   "source": [
    "age=int(input(\"Enter age of the person: \"))\n",
    "if age>59:\n",
    "    print(\"You are eligible for senior citizen discount\")\n",
    "else:\n",
    "    print(\"You are not eligible for senior citizen discount\")"
   ]
  },
  {
   "cell_type": "code",
   "execution_count": 6,
   "id": "6bdb1aa3-af44-4b27-9b9c-396fb8916796",
   "metadata": {},
   "outputs": [
    {
     "name": "stdin",
     "output_type": "stream",
     "text": [
      "Enter any character:  P\n"
     ]
    },
    {
     "name": "stdout",
     "output_type": "stream",
     "text": [
      "Character in uppercase\n"
     ]
    }
   ],
   "source": [
    "c=input(\"Enter any character: \")\n",
    "if c.isupper():\n",
    "    print(\"Character in uppercase\")\n",
    "elif c.islower():\n",
    "    print(\"Character in lowercase\")\n",
    "else:\n",
    "    print(\"Please enter a character\")"
   ]
  },
  {
   "cell_type": "code",
   "execution_count": 15,
   "id": "653e46ac-96c5-44d7-b2d3-2c11e1a60fa6",
   "metadata": {},
   "outputs": [
    {
     "name": "stdin",
     "output_type": "stream",
     "text": [
      "Enter first number:  4\n",
      "Enter second number:  -5\n",
      "Enter third number:  -12\n"
     ]
    },
    {
     "name": "stdout",
     "output_type": "stream",
     "text": [
      "root-1 2.4663649828320295\n",
      "root-2 -1.2163649828320293\n"
     ]
    }
   ],
   "source": [
    "a=int(input(\"Enter first number: \"))\n",
    "b=int(input(\"Enter second number: \"))\n",
    "c=int(input(\"Enter third number: \"))\n",
    "if a==b==c==0:\n",
    "    print(\"Enter correct values.\")\n",
    "else:\n",
    "    print(\"root-1\",(-b + (b ** 2 - 4 * a * c) ** 0.5) / (2 * a))\n",
    "    print(\"root-2\",(-b - (b ** 2 - 4 * a * c) ** 0.5) / (2 * a))"
   ]
  },
  {
   "cell_type": "code",
   "execution_count": 17,
   "id": "0245fc03-72a1-47c3-9cb0-dbc366488a92",
   "metadata": {},
   "outputs": [
    {
     "name": "stdin",
     "output_type": "stream",
     "text": [
      "Enter year to check century year or not:  2001\n"
     ]
    },
    {
     "name": "stdout",
     "output_type": "stream",
     "text": [
      "The year is not a century year\n"
     ]
    }
   ],
   "source": [
    "year=int(input(\"Enter year to check century year or not: \"))\n",
    "if year%100==0:\n",
    "    print(\"The year is a century year\")\n",
    "else:\n",
    "    print(\"The year is not a century year\")"
   ]
  },
  {
   "cell_type": "code",
   "execution_count": 26,
   "id": "406bf023-4a63-4d52-8a4a-b5949e9a8538",
   "metadata": {},
   "outputs": [
    {
     "name": "stdin",
     "output_type": "stream",
     "text": [
      "Enter any number to check perfect square or not:  45\n"
     ]
    },
    {
     "name": "stdout",
     "output_type": "stream",
     "text": [
      "It is not a perfect square number.\n"
     ]
    }
   ],
   "source": [
    "n=int(input(\"Enter any number to check perfect square or not: \"))\n",
    "count=0\n",
    "for i in range(1,n//2):\n",
    "    if i*i==n:\n",
    "        count=+1\n",
    "if count==1:\n",
    "    print(\"It is a perfect square number.\")\n",
    "else:\n",
    "    print(\"It is not a perfect square number.\")"
   ]
  },
  {
   "cell_type": "code",
   "execution_count": 29,
   "id": "cbb397a8-3a83-4413-aef6-9a0e57c89f6f",
   "metadata": {},
   "outputs": [
    {
     "name": "stdout",
     "output_type": "stream",
     "text": [
      "Break will terminate the entire block of code once the condition true.\n",
      "Continue will skip the particular iteration and continue from next iteration.\n"
     ]
    }
   ],
   "source": [
    "print(\"Break will terminate the entire block of code once the condition true.\\nContinue will skip the particular iteration and continue from next iteration.\")"
   ]
  },
  {
   "cell_type": "code",
   "execution_count": 32,
   "id": "bc91f142-6e69-4ea4-94b6-7c1d98b81e40",
   "metadata": {},
   "outputs": [
    {
     "name": "stdin",
     "output_type": "stream",
     "text": [
      "Enter height in cm's 178\n",
      "Enter wight in kg's 78\n"
     ]
    },
    {
     "name": "stdout",
     "output_type": "stream",
     "text": [
      "your BMI is 24.618103774775914\n"
     ]
    }
   ],
   "source": [
    "H=float(input(\"Enter height in cm's\" ))\n",
    "W=float(input(\"Enter wight in kg's\" ))\n",
    "print(\"your BMI is\",(W/H/H)*10000)"
   ]
  },
  {
   "cell_type": "code",
   "execution_count": 38,
   "id": "4043f468-a3c7-44a9-8271-cce42bb77989",
   "metadata": {},
   "outputs": [
    {
     "name": "stdin",
     "output_type": "stream",
     "text": [
      "Enter to filter. 1-even,2-odd 2\n"
     ]
    },
    {
     "name": "stdout",
     "output_type": "stream",
     "text": [
      "[5, 13, 3, 9, 11]\n"
     ]
    }
   ],
   "source": [
    "l=[5,18,22,13,10,56,2,3,4,9,8,11]\n",
    "choice=int(input(\"Enter to filter. 1-even,2-odd\"))\n",
    "if choice==1:\n",
    "    print(list(filter(lambda a: a%2==0,l)))\n",
    "else:\n",
    "    print(list(filter(lambda a: a%2!=0,l)))"
   ]
  },
  {
   "cell_type": "code",
   "execution_count": 41,
   "id": "d9890e0f-ae7b-445f-8705-3a4e8c2bab4f",
   "metadata": {},
   "outputs": [
    {
     "name": "stdin",
     "output_type": "stream",
     "text": [
      "Enter any number:  13\n"
     ]
    },
    {
     "name": "stdout",
     "output_type": "stream",
     "text": [
      "Number is prime\n"
     ]
    }
   ],
   "source": [
    "n=int(input(\"Enter any number: \"))\n",
    "count=0\n",
    "for i in range(1,n):\n",
    "    if n%i==0:\n",
    "        count+=1\n",
    "if count<2:\n",
    "    print(\"Number is prime\")\n",
    "else:\n",
    "    print(\"Number is not prime\")"
   ]
  },
  {
   "cell_type": "markdown",
   "id": "27639a92-cd34-40a6-a9d1-0032e4648a90",
   "metadata": {},
   "source": [
    "MAP SOLUTIONS"
   ]
  },
  {
   "cell_type": "code",
   "execution_count": 2,
   "id": "7c37a992-192f-4eca-b342-5ba4636cac76",
   "metadata": {},
   "outputs": [
    {
     "name": "stdout",
     "output_type": "stream",
     "text": [
      "Map function has two arguments one is function and another one is iterable.\n",
      "The map function iterate each and every element separately and do particular function we create in the map function.\n"
     ]
    },
    {
     "data": {
      "text/plain": [
       "[5, 7, 9, 11, 13]"
      ]
     },
     "execution_count": 2,
     "metadata": {},
     "output_type": "execute_result"
    }
   ],
   "source": [
    "print(\"Map function has two arguments one is function and another one is iterable.\\nThe map function iterate each and every element separately and do particular function we create in the map function.\")\n",
    "l=[2,4,6,8,10]\n",
    "list(map(lambda a:a+3,l))"
   ]
  },
  {
   "cell_type": "code",
   "execution_count": 6,
   "id": "f7448d14-51ea-47f1-87d2-5aad5b25015d",
   "metadata": {},
   "outputs": [
    {
     "data": {
      "text/plain": [
       "[1, 4, 9, 16, 25, 36, 49, 64, 81, 100]"
      ]
     },
     "execution_count": 6,
     "metadata": {},
     "output_type": "execute_result"
    }
   ],
   "source": [
    "l=[1,2,3,4,5,6,7,8,9,10]\n",
    "def sq(a):\n",
    "    return a**2\n",
    "list(map(sq,l))"
   ]
  },
  {
   "cell_type": "code",
   "execution_count": 7,
   "id": "fbf6ce71-9f21-41df-a791-04cdc918e079",
   "metadata": {},
   "outputs": [
    {
     "name": "stdout",
     "output_type": "stream",
     "text": [
      "List comprehension returns a list by default but map returns objects that iterate.\n",
      "To iterate each and every value we have to use for loop in list comprehension what we didn't in map function.\n",
      "If we want to write large expressions list comprehension will use. If the function or expression already defined map will use.\n"
     ]
    }
   ],
   "source": [
    "print(\"List comprehension returns a list by default but map returns objects that iterate.\\nTo iterate each and every value we have to use for loop in list comprehension what we didn't in map function.\\nIf we want to write large expressions list comprehension will use. If the function or expression already defined map will use.\")"
   ]
  },
  {
   "cell_type": "code",
   "execution_count": 8,
   "id": "a526cb14-3430-4849-a91c-ff3ab638bccd",
   "metadata": {},
   "outputs": [
    {
     "data": {
      "text/plain": [
       "['GNANESH', 'PWSKILLS', 'INDIA', 'DATASCIENCE']"
      ]
     },
     "execution_count": 8,
     "metadata": {},
     "output_type": "execute_result"
    }
   ],
   "source": [
    "l=['Gnanesh','PWskills','India','DataScience']\n",
    "list(map(lambda a:a.upper(),l))"
   ]
  },
  {
   "cell_type": "code",
   "execution_count": 9,
   "id": "9c1832bd-eced-4742-9e1f-c7ae2d4cd077",
   "metadata": {},
   "outputs": [
    {
     "data": {
      "text/plain": [
       "[7, 8, 5, 11]"
      ]
     },
     "execution_count": 9,
     "metadata": {},
     "output_type": "execute_result"
    }
   ],
   "source": [
    "l=['Gnanesh','PWskills','India','DataScience']\n",
    "list(map(lambda a:len(a),l))"
   ]
  },
  {
   "cell_type": "code",
   "execution_count": 15,
   "id": "7e58ca65-536b-4f99-912f-caf8bd50c80a",
   "metadata": {},
   "outputs": [
    {
     "name": "stdout",
     "output_type": "stream",
     "text": [
      "[8, 64, 216, 512, 1000]\n",
      "[1, 27, 125, 343, 729]\n"
     ]
    }
   ],
   "source": [
    "l1=[2,4,6,8,10]\n",
    "l2=[1,3,5,7,9]\n",
    "def cube(n):\n",
    "    return n**3\n",
    "print(list(map(cube,l1)))\n",
    "print(list(map(cube,l2)))"
   ]
  },
  {
   "cell_type": "code",
   "execution_count": 16,
   "id": "7b72a56e-d69d-43c3-bb12-272458740c15",
   "metadata": {},
   "outputs": [
    {
     "data": {
      "text/plain": [
       "[113.0, 86.0, 77.0, 73.4]"
      ]
     },
     "execution_count": 16,
     "metadata": {},
     "output_type": "execute_result"
    }
   ],
   "source": [
    "l=[45,30,25,23]\n",
    "list(map(lambda a:a*(9/5)+32,l))"
   ]
  },
  {
   "cell_type": "code",
   "execution_count": 19,
   "id": "c9636459-08f2-45e6-8883-5a414c4ad92c",
   "metadata": {},
   "outputs": [
    {
     "data": {
      "text/plain": [
       "[46, 30, 26, 23]"
      ]
     },
     "execution_count": 19,
     "metadata": {},
     "output_type": "execute_result"
    }
   ],
   "source": [
    "l=[45.5,30.3,25.8,23.2]\n",
    "list(map(lambda a:round(a),l))"
   ]
  },
  {
   "cell_type": "markdown",
   "id": "a86ecbe8-d6c7-49a8-ad7a-a24e9725d886",
   "metadata": {},
   "source": [
    "REDUCE SOLUTIONS"
   ]
  },
  {
   "cell_type": "code",
   "execution_count": 24,
   "id": "fc8f7fe8-1bad-428e-9141-3d1c3a57bb61",
   "metadata": {},
   "outputs": [
    {
     "name": "stdout",
     "output_type": "stream",
     "text": [
      "Reduce function uses functions which are already defined in python.\n",
      "By using that functions the reduce apply a function cummutatively on each and every element iterably.\n",
      "Here one example.\n",
      "First we have to import reduce from functools.\n",
      "Then i will write reduce function by using lambda function.\n"
     ]
    },
    {
     "data": {
      "text/plain": [
       "22"
      ]
     },
     "execution_count": 24,
     "metadata": {},
     "output_type": "execute_result"
    }
   ],
   "source": [
    "print(\"Reduce function uses functions which are already defined in python.\\nBy using that functions the reduce apply a function cummutatively on each and every element iterably.\")\n",
    "print(\"Here one example.\\nFirst we have to import reduce from functools.\\nThen i will write reduce function by using lambda function.\")\n",
    "from functools import reduce\n",
    "l=[2,1,3,4,2,10]\n",
    "reduce(lambda a,b: a+b,l)"
   ]
  },
  {
   "cell_type": "code",
   "execution_count": 25,
   "id": "d44c51ad-5543-4a63-8cdf-f30f4c889311",
   "metadata": {},
   "outputs": [
    {
     "data": {
      "text/plain": [
       "480"
      ]
     },
     "execution_count": 25,
     "metadata": {},
     "output_type": "execute_result"
    }
   ],
   "source": [
    "from functools import reduce\n",
    "l=[2,1,3,4,2,10]\n",
    "reduce(lambda a,b: a*b,l)"
   ]
  },
  {
   "cell_type": "code",
   "execution_count": 26,
   "id": "3d4ffdaa-0f6d-4ae3-9769-b7ce0cac9b8f",
   "metadata": {},
   "outputs": [
    {
     "data": {
      "text/plain": [
       "10"
      ]
     },
     "execution_count": 26,
     "metadata": {},
     "output_type": "execute_result"
    }
   ],
   "source": [
    "from functools import reduce\n",
    "l=[2,1,3,4,2,10]\n",
    "reduce(lambda a,b:a if a>b else b,l)"
   ]
  },
  {
   "cell_type": "code",
   "execution_count": 27,
   "id": "8e3d55db-4936-4dc5-8f82-cc9d9c14b02e",
   "metadata": {},
   "outputs": [
    {
     "data": {
      "text/plain": [
       "'GnaneshPWskillsIndiaDataScience'"
      ]
     },
     "execution_count": 27,
     "metadata": {},
     "output_type": "execute_result"
    }
   ],
   "source": [
    "from functools import reduce\n",
    "l=['Gnanesh','PWskills','India','DataScience']\n",
    "reduce(lambda a,b: a+b,l)"
   ]
  },
  {
   "cell_type": "code",
   "execution_count": 29,
   "id": "b7a4083b-d24f-4710-a892-5fb11a6f9cac",
   "metadata": {},
   "outputs": [
    {
     "name": "stdin",
     "output_type": "stream",
     "text": [
      "Enter number to find fatorial:  5\n"
     ]
    },
    {
     "data": {
      "text/plain": [
       "120"
      ]
     },
     "execution_count": 29,
     "metadata": {},
     "output_type": "execute_result"
    }
   ],
   "source": [
    "from functools import reduce\n",
    "n=int(input(\"Enter number to find fatorial: \"))\n",
    "l=[i for i in range(1,n+1)]\n",
    "reduce(lambda a,b: a*b,l)"
   ]
  },
  {
   "cell_type": "code",
   "execution_count": 39,
   "id": "beb69e5e-99ac-493b-a7a6-7fb92edf2716",
   "metadata": {},
   "outputs": [
    {
     "name": "stdin",
     "output_type": "stream",
     "text": [
      "Enter any number:  345\n"
     ]
    },
    {
     "data": {
      "text/plain": [
       "12"
      ]
     },
     "execution_count": 39,
     "metadata": {},
     "output_type": "execute_result"
    }
   ],
   "source": [
    "from functools import reduce\n",
    "n=input(\"Enter any number: \")\n",
    "reduce(lambda a,b:int(a)+int(b),n)"
   ]
  },
  {
   "cell_type": "markdown",
   "id": "603a7264-5a83-4d28-bec6-1d8cee1a449b",
   "metadata": {},
   "source": [
    "FILTER SOLUTIONS"
   ]
  },
  {
   "cell_type": "code",
   "execution_count": 41,
   "id": "91f554cf-117a-4911-8095-561ff2b049e5",
   "metadata": {},
   "outputs": [
    {
     "name": "stdout",
     "output_type": "stream",
     "text": [
      "Filter function is used to iterate each and every element to do a particular function created by user.\n",
      "Here an example below\n"
     ]
    },
    {
     "data": {
      "text/plain": [
       "[3, 5, 7, 9]"
      ]
     },
     "execution_count": 41,
     "metadata": {},
     "output_type": "execute_result"
    }
   ],
   "source": [
    "print(\"Filter function is used to iterate each and every element to do a particular function created by user.\")\n",
    "print(\"Here an example below\")\n",
    "l=[2,3,5,7,9]\n",
    "list(filter(lambda a: a%2!=0,l))"
   ]
  },
  {
   "cell_type": "code",
   "execution_count": 42,
   "id": "a1361196-1d2e-41c9-a26f-2acbdecab47f",
   "metadata": {},
   "outputs": [
    {
     "data": {
      "text/plain": [
       "[2, 4, 6, 8, 10]"
      ]
     },
     "execution_count": 42,
     "metadata": {},
     "output_type": "execute_result"
    }
   ],
   "source": [
    "l=[1,2,3,4,5,6,7,8,9,10]\n",
    "list(filter(lambda a: a%2==0,l))"
   ]
  },
  {
   "cell_type": "code",
   "execution_count": 43,
   "id": "2c7a3ff3-95e6-43de-982b-d65bea4850c7",
   "metadata": {},
   "outputs": [
    {
     "data": {
      "text/plain": [
       "['Dinesh', 'Digital', 'DataScience']"
      ]
     },
     "execution_count": 43,
     "metadata": {},
     "output_type": "execute_result"
    }
   ],
   "source": [
    "l=['Dinesh','PWskills','Digital','DataScience','Gnanesh']\n",
    "list(filter(lambda a: a[0]=='D',l))"
   ]
  },
  {
   "cell_type": "code",
   "execution_count": 61,
   "id": "49de043f-402d-4119-b408-ef08355206c3",
   "metadata": {},
   "outputs": [
    {
     "name": "stdout",
     "output_type": "stream",
     "text": [
      "[5, 7, 9, 13]\n"
     ]
    }
   ],
   "source": [
    "l=[4,5,6,7,8,9,13,24]\n",
    "def prime(a):\n",
    "    for i in range(2,int(a**0.5)+1):\n",
    "        if a%i==0:\n",
    "            return False\n",
    "        return True\n",
    "print(list(filter(prime,l)))"
   ]
  },
  {
   "cell_type": "code",
   "execution_count": 71,
   "id": "f944f061-1220-45c9-841f-29025dc5f98a",
   "metadata": {},
   "outputs": [
    {
     "data": {
      "text/plain": [
       "[2, 4, 6, 8, 10]"
      ]
     },
     "execution_count": 71,
     "metadata": {},
     "output_type": "execute_result"
    }
   ],
   "source": [
    "l=[2,None,4,6,None,8,10]\n",
    "list(filter(lambda a: a is not None,l))"
   ]
  },
  {
   "cell_type": "code",
   "execution_count": 73,
   "id": "ca59008c-5764-4f59-98c4-df8d10c32613",
   "metadata": {},
   "outputs": [
    {
     "data": {
      "text/plain": [
       "['PWskills', 'DataScience']"
      ]
     },
     "execution_count": 73,
     "metadata": {},
     "output_type": "execute_result"
    }
   ],
   "source": [
    "l=['Dinesh','PWskills','Digital','DataScience','Gnanesh']\n",
    "list(filter(lambda a: len(a)>7,l))"
   ]
  },
  {
   "cell_type": "code",
   "execution_count": 74,
   "id": "ddb0b59c-43a0-45f1-ac19-d5a75147c102",
   "metadata": {},
   "outputs": [
    {
     "data": {
      "text/plain": [
       "[7, 9, 10]"
      ]
     },
     "execution_count": 74,
     "metadata": {},
     "output_type": "execute_result"
    }
   ],
   "source": [
    "l=[3,2,7,9,10]\n",
    "list(filter(lambda a: a>4,l))"
   ]
  },
  {
   "cell_type": "markdown",
   "id": "25fbb312-2dee-48b3-a3e3-b0d8036ca081",
   "metadata": {},
   "source": [
    "RECURSION SOLUTIONS"
   ]
  },
  {
   "cell_type": "code",
   "execution_count": 75,
   "id": "ce9559e8-b7a6-429e-bfa9-62a42b869142",
   "metadata": {},
   "outputs": [
    {
     "name": "stdout",
     "output_type": "stream",
     "text": [
      "Recursion means the process which a function calls itself until the loop ends.\n",
      "Recursion calls function continuesly by itself but iteration extract elements one by one from list or tuple or any other loop.\n"
     ]
    }
   ],
   "source": [
    "print(\"Recursion means the process which a function calls itself until the loop ends.\")\n",
    "print(\"Recursion calls function continuesly by itself but iteration extract elements one by one from list or tuple or any other loop.\")"
   ]
  },
  {
   "cell_type": "code",
   "execution_count": 78,
   "id": "453a2c30-fded-4430-88c9-42ade0d8cfe0",
   "metadata": {},
   "outputs": [
    {
     "name": "stdin",
     "output_type": "stream",
     "text": [
      "Enter any number to factorial:  6\n"
     ]
    },
    {
     "data": {
      "text/plain": [
       "720"
      ]
     },
     "execution_count": 78,
     "metadata": {},
     "output_type": "execute_result"
    }
   ],
   "source": [
    "def fact(n):\n",
    "    if n<=1:\n",
    "        return n\n",
    "    else:\n",
    "        return n*fact(n-1)\n",
    "num=int(input(\"Enter any number to factorial: \"))\n",
    "fact(num)"
   ]
  },
  {
   "cell_type": "code",
   "execution_count": 79,
   "id": "71173015-f2d5-41fe-af5a-e03eb892b16a",
   "metadata": {},
   "outputs": [
    {
     "name": "stdin",
     "output_type": "stream",
     "text": [
      "Enter number to find fibonacci number:  10\n"
     ]
    },
    {
     "data": {
      "text/plain": [
       "55"
      ]
     },
     "execution_count": 79,
     "metadata": {},
     "output_type": "execute_result"
    }
   ],
   "source": [
    "def fib(n):\n",
    "    if n<=1:\n",
    "        return n\n",
    "    else:\n",
    "        return fib(n-1)+fib(n-2)\n",
    "num=int(input(\"Enter number to find fibonacci number: \"))\n",
    "fib(num)"
   ]
  },
  {
   "cell_type": "code",
   "execution_count": 85,
   "id": "3f7986cc-8013-4303-af7a-b4a1d35acfa2",
   "metadata": {},
   "outputs": [
    {
     "name": "stdout",
     "output_type": "stream",
     "text": [
      "38\n"
     ]
    }
   ],
   "source": [
    "l=[2,4,5,6,7,9,5]\n",
    "def sum1(l1):\n",
    "    s=0\n",
    "    for i in l1:\n",
    "        s=s+i\n",
    "    print(s)\n",
    "sum1(l)"
   ]
  },
  {
   "cell_type": "code",
   "execution_count": 1,
   "id": "74c45b9c-b1eb-4ccc-af9e-f19b7740e5ab",
   "metadata": {},
   "outputs": [
    {
     "name": "stdout",
     "output_type": "stream",
     "text": [
      "The function setrecursionlimit() provided by 'sys' module is used to handle larger inputs and prevents a recursive function from running indefinitely.\n"
     ]
    }
   ],
   "source": [
    "print(\"The function setrecursionlimit() provided by 'sys' module is used to handle larger inputs and prevents a recursive function from running indefinitely.\")"
   ]
  },
  {
   "cell_type": "code",
   "execution_count": 2,
   "id": "d011081c-afc3-41ab-9bf4-66fbdd450159",
   "metadata": {},
   "outputs": [
    {
     "name": "stdin",
     "output_type": "stream",
     "text": [
      "Enter first number:  24\n",
      "Enter second number:  48\n"
     ]
    },
    {
     "data": {
      "text/plain": [
       "24"
      ]
     },
     "execution_count": 2,
     "metadata": {},
     "output_type": "execute_result"
    }
   ],
   "source": [
    "def gcd(a,b):\n",
    "    if b==0:\n",
    "        return a\n",
    "    return gcd(b,a%b)\n",
    "n1=int(input(\"Enter first number: \"))\n",
    "n2=int(input(\"Enter second number: \"))\n",
    "gcd(n1,n2)"
   ]
  },
  {
   "cell_type": "code",
   "execution_count": 9,
   "id": "795f7874-8506-4b99-8af8-3afe8b59e68e",
   "metadata": {},
   "outputs": [
    {
     "name": "stdin",
     "output_type": "stream",
     "text": [
      "Enter any string:  Gnanesh\n"
     ]
    },
    {
     "data": {
      "text/plain": [
       "'hsenanG'"
      ]
     },
     "execution_count": 9,
     "metadata": {},
     "output_type": "execute_result"
    }
   ],
   "source": [
    "def s(st):\n",
    "    if len(st)<=1:\n",
    "        return st\n",
    "    return st[-1]+s(st[0:-1])\n",
    "string=input(\"Enter any string: \")\n",
    "s(string)"
   ]
  },
  {
   "cell_type": "code",
   "execution_count": 15,
   "id": "3af2e559-aa0b-44ec-b309-2ab61dbacb57",
   "metadata": {},
   "outputs": [
    {
     "name": "stdin",
     "output_type": "stream",
     "text": [
      "Enter number to calculate:  5\n",
      "Enter power value:  -2\n"
     ]
    },
    {
     "data": {
      "text/plain": [
       "0.04"
      ]
     },
     "execution_count": 15,
     "metadata": {},
     "output_type": "execute_result"
    }
   ],
   "source": [
    "def power(x,n):\n",
    "    if n==0:\n",
    "        return 1\n",
    "    elif n>0:\n",
    "        return x*power(x,n-1)\n",
    "    else:\n",
    "        return 1/(x*power(x,-(n)-1))\n",
    "num=int(input(\"Enter number to calculate: \"))\n",
    "p=int(input(\"Enter power value: \"))\n",
    "power(num,p)"
   ]
  },
  {
   "cell_type": "code",
   "execution_count": 22,
   "id": "15dd1677-a1b7-4094-a828-57ab393a7891",
   "metadata": {},
   "outputs": [
    {
     "name": "stdin",
     "output_type": "stream",
     "text": [
      "Enter any string:  GnanG\n"
     ]
    },
    {
     "name": "stdout",
     "output_type": "stream",
     "text": [
      "It is palindrome\n"
     ]
    }
   ],
   "source": [
    "def s(st):\n",
    "    if len(st)<=1:\n",
    "        return True\n",
    "    if st[0]!=st[-1]:\n",
    "        return False\n",
    "    return s(st[1:-1])\n",
    "string=input(\"Enter any string: \")\n",
    "if s(string):\n",
    "    print(\"It is palindrome\")\n",
    "else:\n",
    "    print(\"It is not palindrome\")"
   ]
  },
  {
   "cell_type": "markdown",
   "id": "2ef64c75-a6a0-4a59-900a-297f1b94a29e",
   "metadata": {},
   "source": [
    "BASIC OF FUNCTIONS SOLUTIONS"
   ]
  },
  {
   "cell_type": "code",
   "execution_count": 23,
   "id": "5d62ca79-27f8-400e-a046-6f7b288ec962",
   "metadata": {},
   "outputs": [
    {
     "name": "stdout",
     "output_type": "stream",
     "text": [
      "Function in python is reusable block of code or tasks.\n",
      "Because of reusability,abstraction and return values functions are used in python.\n"
     ]
    }
   ],
   "source": [
    "print(\"Function in python is reusable block of code or tasks.\")\n",
    "print(\"Because of reusability,abstraction and return values functions are used in python.\")"
   ]
  },
  {
   "cell_type": "code",
   "execution_count": 24,
   "id": "68c9082a-9ead-4df5-8914-faac1f008b03",
   "metadata": {},
   "outputs": [
    {
     "name": "stdout",
     "output_type": "stream",
     "text": [
      "The function is veryuseful in python while we return values recursively.\n",
      "Here one example below.\n"
     ]
    },
    {
     "data": {
      "text/plain": [
       "120"
      ]
     },
     "execution_count": 24,
     "metadata": {},
     "output_type": "execute_result"
    }
   ],
   "source": [
    "print(\"The function is veryuseful in python while we return values recursively.\\nHere one example below.\")\n",
    "def fact(n):\n",
    "    if n<=1:\n",
    "        return 1\n",
    "    else:\n",
    "        return n*fact(n-1)\n",
    "fact(5)"
   ]
  },
  {
   "cell_type": "code",
   "execution_count": 29,
   "id": "187442a1-de22-4031-a085-4c12f4d6088f",
   "metadata": {},
   "outputs": [
    {
     "name": "stdout",
     "output_type": "stream",
     "text": [
      "Function definition do specific behaviour of function which is created by user.\n",
      "Here one example.\n",
      "\n",
      "def add(a,b):\n",
      "    result=a+b\n",
      "    return result\n",
      "\n",
      "Function call is calling the function add which created above with two arguments.\n",
      "\n",
      "add(4,6)\n"
     ]
    }
   ],
   "source": [
    "print(\"Function definition do specific behaviour of function which is created by user.\\nHere one example.\\n\")\n",
    "print('''def add(a,b):\n",
    "    result=a+b\n",
    "    return result''')\n",
    "print(\"\\nFunction call is calling the function add which created above with two arguments.\\n\")\n",
    "print(\"add(4,6)\")"
   ]
  },
  {
   "cell_type": "code",
   "execution_count": 30,
   "id": "fd31e442-aec9-49aa-9559-a77fa0d8ae95",
   "metadata": {},
   "outputs": [
    {
     "data": {
      "text/plain": [
       "11"
      ]
     },
     "execution_count": 30,
     "metadata": {},
     "output_type": "execute_result"
    }
   ],
   "source": [
    "def add(a,b):\n",
    "    result=a+b\n",
    "    return result\n",
    "add(8,3)"
   ]
  },
  {
   "cell_type": "code",
   "execution_count": 31,
   "id": "19cecd4a-b7f1-4ce6-882b-89236545d955",
   "metadata": {},
   "outputs": [
    {
     "name": "stdout",
     "output_type": "stream",
     "text": [
      "Function signature is nothing but declaring 'function name','parameters' and 'return type'.\n",
      "Here some examples below.\n",
      "Function name with parameters.\n",
      "sum(a,b):\n",
      "Return type.\n",
      "sum(a:int,b:int)--int:\n"
     ]
    }
   ],
   "source": [
    "print(\"Function signature is nothing but declaring 'function name','parameters' and 'return type'.\\nHere some examples below.\")\n",
    "print(\"Function name with parameters.\\nsum(a,b):\")\n",
    "print(\"Return type.\\nsum(a:int,b:int)--int:\")"
   ]
  },
  {
   "cell_type": "code",
   "execution_count": 32,
   "id": "ce5e568c-6d1a-42a5-add9-2f1d7f84a49a",
   "metadata": {},
   "outputs": [
    {
     "data": {
      "text/plain": [
       "24"
      ]
     },
     "execution_count": 32,
     "metadata": {},
     "output_type": "execute_result"
    }
   ],
   "source": [
    "def add(a,b):\n",
    "    result=a*b\n",
    "    return result\n",
    "add(8,3)"
   ]
  },
  {
   "cell_type": "markdown",
   "id": "1fc90cf6-ef78-44b1-b4af-ff694813fe9e",
   "metadata": {},
   "source": [
    "FUNCTION PARAMETERS AND ARGUMENTS SOLUTIONS"
   ]
  },
  {
   "cell_type": "code",
   "execution_count": 36,
   "id": "fa05ac62-bbce-4001-b12a-aff27f4091de",
   "metadata": {},
   "outputs": [
    {
     "name": "stdout",
     "output_type": "stream",
     "text": [
      "Formal parameters are variables placed in functions while creating it and they represent the data when the function calls.\n",
      "Here one example\n",
      "add(a,b)\n",
      "\n",
      "Actual arguments are values which are provided by user while calling function.\n",
      "Here one example\n",
      "add(4,2).\n"
     ]
    }
   ],
   "source": [
    "print(\"Formal parameters are variables placed in functions while creating it and they represent the data when the function calls.\")\n",
    "print(\"Here one example\\nadd(a,b)\")\n",
    "print(\"\\nActual arguments are values which are provided by user while calling function.\\nHere one example\\nadd(4,2).\")"
   ]
  },
  {
   "cell_type": "code",
   "execution_count": 39,
   "id": "ef729b0f-19df-4540-a460-855105bbcbbd",
   "metadata": {},
   "outputs": [
    {
     "data": {
      "text/plain": [
       "28"
      ]
     },
     "execution_count": 39,
     "metadata": {},
     "output_type": "execute_result"
    }
   ],
   "source": [
    "def mul(a=4,b=7):\n",
    "    return a*b\n",
    "mul()"
   ]
  },
  {
   "cell_type": "code",
   "execution_count": 41,
   "id": "18657245-f5b2-4bb7-9372-511c27301db1",
   "metadata": {},
   "outputs": [
    {
     "name": "stdout",
     "output_type": "stream",
     "text": [
      "In python keyword arguments in function calls along with specific names and values.\n",
      "Here one example.\n",
      "\n",
      "def greetings(name,greet='Hello'):\n",
      "            print(f\"{greet},{name}.\")\n",
      "       greetings('gnanesh')\n",
      "       greetings(name='gopal',greet='Hi')\n"
     ]
    }
   ],
   "source": [
    "print(\"In python keyword arguments in function calls along with specific names and values.\\nHere one example.\\n\")\n",
    "print('''def greetings(name,greet='Hello'):\n",
    "            print(f\"{greet},{name}.\")\n",
    "       greetings('gnanesh')\n",
    "       greetings(name='gopal',greet='Hi')''')"
   ]
  },
  {
   "cell_type": "code",
   "execution_count": 42,
   "id": "3182debd-5d4f-4954-a626-07cd7f780c0e",
   "metadata": {},
   "outputs": [
    {
     "name": "stdout",
     "output_type": "stream",
     "text": [
      "13\n",
      "8\n"
     ]
    }
   ],
   "source": [
    "def sum(a,b=9):\n",
    "    print(a+b)\n",
    "sum(4)\n",
    "sum(a=5,b=3)"
   ]
  },
  {
   "cell_type": "code",
   "execution_count": 47,
   "id": "cedb39d4-2d8f-4b72-935c-94e4d89cbbdc",
   "metadata": {},
   "outputs": [
    {
     "name": "stdout",
     "output_type": "stream",
     "text": [
      "*args function helps us to accept each and every element when it has more than 2 elements inside the function.\n",
      "Here one example.\n",
      "\n",
      "def sum(*args):\n",
      "  t=0\n",
      "  for i in args:\n",
      "     t=+i\n",
      "  return t\n",
      "sum(2,4,56,7)\n"
     ]
    }
   ],
   "source": [
    "print(\"*args function helps us to accept each and every element when it has more than 2 elements inside the function.\")\n",
    "print(\"Here one example.\\n\\ndef sum(*args):\\n  t=0\\n  for i in args:\\n     t=+i\\n  return t\\nsum(2,4,56,7)\")"
   ]
  },
  {
   "cell_type": "markdown",
   "id": "2517f60e-a692-4290-ab84-803cbfc9cd9f",
   "metadata": {},
   "source": [
    "RETURN VALUES AND SCOPING SOLUTIONS"
   ]
  },
  {
   "cell_type": "code",
   "execution_count": 50,
   "id": "6d1a4d2a-1937-4654-a591-be3c921f6069",
   "metadata": {},
   "outputs": [
    {
     "name": "stdout",
     "output_type": "stream",
     "text": [
      "The ruturn will return the result to the function in recursive manner.\n",
      "Here one example.\n",
      "\n",
      "def fact(n):\n",
      "    return n*fact(n-1)\n",
      "fact(5)\n"
     ]
    }
   ],
   "source": [
    "print(\"The ruturn will return the result to the function in recursive manner.\")\n",
    "print(\"Here one example.\\n\")\n",
    "print('''def fact(n):\n",
    "    return n*fact(n-1)\n",
    "fact(5)''')"
   ]
  },
  {
   "cell_type": "code",
   "execution_count": 51,
   "id": "98aa1370-9772-4fe8-a6b0-a0ea8c8743e6",
   "metadata": {},
   "outputs": [
    {
     "name": "stdout",
     "output_type": "stream",
     "text": [
      "Variable scope refers that where the variable is accessible.\n",
      "Local variable accessible at particular block of code.\n",
      "Global variable accessible at any part of code.\n"
     ]
    }
   ],
   "source": [
    "print(\"Variable scope refers that where the variable is accessible.\")\n",
    "print(\"Local variable accessible at particular block of code.\")\n",
    "print(\"Global variable accessible at any part of code.\")"
   ]
  },
  {
   "cell_type": "code",
   "execution_count": 53,
   "id": "84c02341-0baf-45a1-a576-2a9147cd8874",
   "metadata": {},
   "outputs": [
    {
     "name": "stdout",
     "output_type": "stream",
     "text": [
      "Global_variable= 10\n",
      "Global_variable= 30\n"
     ]
    }
   ],
   "source": [
    "g_v=10\n",
    "def m_g_v():\n",
    "    global g_v\n",
    "    g_v+=20\n",
    "def r_g_v():\n",
    "    print(\"Global_variable=\",g_v)\n",
    "r_g_v()\n",
    "m_g_v()\n",
    "r_g_v()"
   ]
  },
  {
   "cell_type": "code",
   "execution_count": 55,
   "id": "6840edd6-a807-49d9-8a04-43a249674f55",
   "metadata": {},
   "outputs": [
    {
     "data": {
      "text/plain": [
       "362880"
      ]
     },
     "execution_count": 55,
     "metadata": {},
     "output_type": "execute_result"
    }
   ],
   "source": [
    "def fact(n):\n",
    "    if n<=1:\n",
    "        return 1\n",
    "    else:\n",
    "        return n*fact(n-1)\n",
    "fact(9)"
   ]
  },
  {
   "cell_type": "code",
   "execution_count": 56,
   "id": "c2b2623d-7254-459f-af47-1ffee0b20c1c",
   "metadata": {},
   "outputs": [
    {
     "name": "stdout",
     "output_type": "stream",
     "text": [
      "Global_variable= 10\n"
     ]
    }
   ],
   "source": [
    "g_v=10\n",
    "def r_g_v():\n",
    "    print(\"Global_variable=\",g_v)\n",
    "r_g_v()"
   ]
  },
  {
   "cell_type": "markdown",
   "id": "5af4e2f9-66a4-4384-9611-22ef1042a4a4",
   "metadata": {},
   "source": [
    "LAMBDA FUNCTIONS AND HIGHER-ORDER FUNCTIONS"
   ]
  },
  {
   "cell_type": "code",
   "execution_count": 58,
   "id": "74729c49-6c93-4ad9-b587-e2e6f894d8e8",
   "metadata": {},
   "outputs": [
    {
     "name": "stdout",
     "output_type": "stream",
     "text": [
      "Lambda function had one function and arguments and it is used to simple calculations.\n",
      "Here one example\n",
      "\n",
      "l=[2,4,6,7,8,9]\n",
      "list(map(lambda a:a**2,l))\n"
     ]
    }
   ],
   "source": [
    "print(\"Lambda function had one function and arguments and it is used to simple calculations.\")\n",
    "print(\"Here one example\\n\\nl=[2,4,6,7,8,9]\\nlist(map(lambda a:a**2,l))\")"
   ]
  },
  {
   "cell_type": "code",
   "execution_count": 60,
   "id": "10420d4c-a3ce-499c-963a-e8ce3c5e6df8",
   "metadata": {},
   "outputs": [
    {
     "name": "stdout",
     "output_type": "stream",
     "text": [
      "[(45, 1, 6), (1, 2, 3), (5, 3, 9), (3, 4, 5)]\n"
     ]
    }
   ],
   "source": [
    "l=[(1,2,3),(3,4,5),(45,1,6),(5,3,9)]\n",
    "s_l=sorted(l,key=lambda a:a[1])\n",
    "print(s_l)"
   ]
  },
  {
   "cell_type": "code",
   "execution_count": 61,
   "id": "9cabc1d8-b7a9-407a-9f76-91d3b42d394a",
   "metadata": {},
   "outputs": [
    {
     "name": "stdout",
     "output_type": "stream",
     "text": [
      "higher-order function is a function that can take one or more functions as arguments and/or can return a function as its result\n",
      "8\n",
      "6\n"
     ]
    }
   ],
   "source": [
    "print(\"higher-order function is a function that can take one or more functions as arguments and/or can return a function as its result\")\n",
    "def apply_operation(operation, x, y):\n",
    "    result = operation(x, y)\n",
    "    return result\n",
    "\n",
    "def add(x, y):\n",
    "    return x + y\n",
    "\n",
    "def subtract(x, y):\n",
    "    return x - y\n",
    "\n",
    "result1 = apply_operation(add, 5, 3)\n",
    "print(result1)  \n",
    "\n",
    "result2 = apply_operation(subtract, 10, 4)\n",
    "print(result2)"
   ]
  },
  {
   "cell_type": "code",
   "execution_count": 62,
   "id": "8d88c2c3-c70f-48b2-a376-6f86bc70a8ad",
   "metadata": {},
   "outputs": [
    {
     "name": "stdout",
     "output_type": "stream",
     "text": [
      "[1, 4, 9, 16, 25]\n"
     ]
    }
   ],
   "source": [
    "def a_f(numbers, func):\n",
    "    result = []\n",
    "    for number in numbers:\n",
    "        result.append(func(number))\n",
    "    return result\n",
    "\n",
    "def square(x):\n",
    "    return x ** 2\n",
    "\n",
    "numbers = [1, 2, 3, 4, 5]\n",
    "\n",
    "result = a_f(numbers, square)\n",
    "print(result)"
   ]
  },
  {
   "cell_type": "markdown",
   "id": "af159c87-e76f-4898-81cb-63fe15e7496e",
   "metadata": {},
   "source": [
    "BUILT-IN FUNCTIONS SOLUTIONS"
   ]
  },
  {
   "cell_type": "code",
   "execution_count": 63,
   "id": "89bd3305-89cf-4591-9182-13856f58588f",
   "metadata": {},
   "outputs": [
    {
     "name": "stdout",
     "output_type": "stream",
     "text": [
      "'len()' returns the length of the data type except int,float,bool,complex and some other.\n",
      "'min()' returns the smallest value from the dataset.\n",
      "'max()' returns the largest value from the dataset.\n"
     ]
    }
   ],
   "source": [
    "print(\"'len()' returns the length of the data type except int,float,bool,complex and some other.\")\n",
    "print(\"'min()' returns the smallest value from the dataset.\")\n",
    "print(\"'max()' returns the largest value from the dataset.\")"
   ]
  },
  {
   "cell_type": "code",
   "execution_count": 66,
   "id": "a384438c-96b7-41c3-89b9-0674644bc731",
   "metadata": {},
   "outputs": [
    {
     "data": {
      "text/plain": [
       "[1, 4, 9, 16, 25, 36, 49, 64]"
      ]
     },
     "execution_count": 66,
     "metadata": {},
     "output_type": "execute_result"
    }
   ],
   "source": [
    "l=[1,2,3,4,5,6,7,8]\n",
    "def sq(a):\n",
    "    return a**2\n",
    "list(map(sq,l))"
   ]
  },
  {
   "cell_type": "code",
   "execution_count": 69,
   "id": "513a3a5a-64fc-49f1-8413-6ed8008392a7",
   "metadata": {},
   "outputs": [
    {
     "name": "stdout",
     "output_type": "stream",
     "text": [
      "[2, 4, 6, 8]\n",
      "To filter elements from the dataset represents specific given condition.\n"
     ]
    }
   ],
   "source": [
    "l=[1,2,3,4,5,6,7,8]\n",
    "print(list(filter(lambda a:a%2==0,l)))\n",
    "print('To filter elements from the dataset represents specific given condition.')"
   ]
  },
  {
   "cell_type": "code",
   "execution_count": 1,
   "id": "3a15b579-0f3c-490e-ab41-a68ad3436809",
   "metadata": {},
   "outputs": [
    {
     "data": {
      "text/plain": [
       "240"
      ]
     },
     "execution_count": 1,
     "metadata": {},
     "output_type": "execute_result"
    }
   ],
   "source": [
    "from functools import reduce\n",
    "l=[2,4,1,3,2,5]\n",
    "reduce(lambda a,b:a*b,l)"
   ]
  },
  {
   "cell_type": "markdown",
   "id": "5491d1df-31d7-4e00-8723-f29cf27598a6",
   "metadata": {},
   "source": [
    "FUNCTION DOCUMENTATION AND BEST PRACTICES"
   ]
  },
  {
   "cell_type": "code",
   "execution_count": 2,
   "id": "058d9f71-d187-40fc-a511-bbe1fbc52643",
   "metadata": {},
   "outputs": [
    {
     "name": "stdout",
     "output_type": "stream",
     "text": [
      "'docstrings' provide a convenient way of associating documentation with Python modules, functions, classes, and methods.\n",
      "format of docstring is '__doc__'\n"
     ]
    }
   ],
   "source": [
    "print(\"'docstrings' provide a convenient way of associating documentation with Python modules, functions, classes, and methods.\")\n",
    "print(\"format of docstring is '__doc__'\")"
   ]
  },
  {
   "cell_type": "code",
   "execution_count": 4,
   "id": "fb243685-9b0f-4595-a028-90779e67c3af",
   "metadata": {},
   "outputs": [
    {
     "name": "stdout",
     "output_type": "stream",
     "text": [
      "Use descriptive and meaningful names.\n",
      "Variable names should be descriptive and meaningful.\n",
      "Follow a consistent naming convention.\n",
      "Avoid reserved keywords.\n",
      "Don't use abbreviations\n"
     ]
    }
   ],
   "source": [
    "print('''Use descriptive and meaningful names.\\nVariable names should be descriptive and meaningful.\\nFollow a consistent naming convention.\\nAvoid reserved keywords.\\nDon't use abbreviations''')"
   ]
  },
  {
   "cell_type": "markdown",
   "id": "7f5fbd1a-2379-40a0-bffe-336cc3ace6fe",
   "metadata": {},
   "source": [
    "THANK YOU FOR GIVING THIS ASSIGNMENT"
   ]
  },
  {
   "cell_type": "code",
   "execution_count": null,
   "id": "73cdadb5-0142-4219-9d81-70b720bc1f4b",
   "metadata": {},
   "outputs": [],
   "source": []
  }
 ],
 "metadata": {
  "kernelspec": {
   "display_name": "Python 3 (ipykernel)",
   "language": "python",
   "name": "python3"
  },
  "language_info": {
   "codemirror_mode": {
    "name": "ipython",
    "version": 3
   },
   "file_extension": ".py",
   "mimetype": "text/x-python",
   "name": "python",
   "nbconvert_exporter": "python",
   "pygments_lexer": "ipython3",
   "version": "3.10.8"
  }
 },
 "nbformat": 4,
 "nbformat_minor": 5
}
