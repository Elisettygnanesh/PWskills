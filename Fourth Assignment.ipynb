{
 "cells": [
  {
   "cell_type": "markdown",
   "id": "45cc1e25-e081-42b1-8c57-a32f075da65f",
   "metadata": {},
   "source": [
    "BASIC IF-ELSE STATEMENT SOLUTIONS"
   ]
  },
  {
   "cell_type": "code",
   "execution_count": 4,
   "id": "51c30e75-5178-4c6f-9326-f5eda0dde36f",
   "metadata": {},
   "outputs": [
    {
     "name": "stdin",
     "output_type": "stream",
     "text": [
      "Enter number:  -3\n"
     ]
    },
    {
     "name": "stdout",
     "output_type": "stream",
     "text": [
      "['Negative']\n"
     ]
    }
   ],
   "source": [
    "num=int(input(\"Enter number: \"))\n",
    "n=['Positive' if num>=0 else 'Negative']\n",
    "print(n)"
   ]
  },
  {
   "cell_type": "code",
   "execution_count": 6,
   "id": "20cd8879-9385-4afe-a4ff-297fec587827",
   "metadata": {},
   "outputs": [
    {
     "name": "stdin",
     "output_type": "stream",
     "text": [
      "Enter your age:  20\n"
     ]
    },
    {
     "name": "stdout",
     "output_type": "stream",
     "text": [
      "['You are eligible for vote']\n"
     ]
    }
   ],
   "source": [
    "age=int(input(\"Enter your age: \"))\n",
    "v=['You are eligible for vote' if age>17 else 'You are not eligible for vote']\n",
    "print(v)"
   ]
  },
  {
   "cell_type": "code",
   "execution_count": 8,
   "id": "f78b2616-7b5f-4646-8331-fc9d2c774bc6",
   "metadata": {},
   "outputs": [
    {
     "name": "stdin",
     "output_type": "stream",
     "text": [
      "Enter first number:  22\n",
      "Enter second number:  45\n"
     ]
    },
    {
     "name": "stdout",
     "output_type": "stream",
     "text": [
      "[(45, 'is maximum number')]\n"
     ]
    }
   ],
   "source": [
    "a=int(input(\"Enter first number: \"))\n",
    "b=int(input(\"Enter second number: \"))\n",
    "m=[(a,'is maximum number.') if a>b else (b,'is maximum number')]\n",
    "print(m)"
   ]
  },
  {
   "cell_type": "code",
   "execution_count": 11,
   "id": "a5d3c0c9-6f4f-479c-8c7b-066c683a61d2",
   "metadata": {},
   "outputs": [
    {
     "name": "stdin",
     "output_type": "stream",
     "text": [
      "Enter year:  2023\n"
     ]
    },
    {
     "name": "stdout",
     "output_type": "stream",
     "text": [
      "[(2023, 'is not leap year')]\n"
     ]
    }
   ],
   "source": [
    "Year=int(input(\"Enter year: \"))\n",
    "l=[(Year,'is leap year.') if Year%4==0 else (Year,'is not leap year')]\n",
    "print(l)"
   ]
  },
  {
   "cell_type": "code",
   "execution_count": 13,
   "id": "35ff1df4-edba-4913-abb8-4a7c52952e58",
   "metadata": {},
   "outputs": [
    {
     "name": "stdin",
     "output_type": "stream",
     "text": [
      "Enter any character:  a\n"
     ]
    },
    {
     "name": "stdout",
     "output_type": "stream",
     "text": [
      "['It is vowel']\n"
     ]
    }
   ],
   "source": [
    "char=input(\"Enter any character: \")\n",
    "V='aeiouAEIOU'\n",
    "v=['It is vowel' if char in V else 'It is not vowel']\n",
    "print(v)"
   ]
  },
  {
   "cell_type": "code",
   "execution_count": 15,
   "id": "b83fa9d4-faf1-4b93-a5a1-1a78d513dff8",
   "metadata": {},
   "outputs": [
    {
     "name": "stdin",
     "output_type": "stream",
     "text": [
      "Enter number:  9\n"
     ]
    },
    {
     "name": "stdout",
     "output_type": "stream",
     "text": [
      "['It is odd number.']\n"
     ]
    }
   ],
   "source": [
    "n=int(input(\"Enter number: \"))\n",
    "e=['It is even number.' if n%2==0 else 'It is odd number.']\n",
    "print(e)"
   ]
  },
  {
   "cell_type": "code",
   "execution_count": 18,
   "id": "758ee7e4-1ab6-429e-a4bc-542f6ec12e4e",
   "metadata": {},
   "outputs": [
    {
     "name": "stdin",
     "output_type": "stream",
     "text": [
      "Enter number:  -900\n"
     ]
    },
    {
     "name": "stdout",
     "output_type": "stream",
     "text": [
      "[900]\n"
     ]
    }
   ],
   "source": [
    "num=int(input(\"Enter number: \"))\n",
    "a=[(-1*num) if num<0 else num]\n",
    "print(a)"
   ]
  },
  {
   "cell_type": "code",
   "execution_count": 90,
   "id": "f8a6bdd9-3878-4039-99a3-f7f60ba1009b",
   "metadata": {},
   "outputs": [
    {
     "name": "stdin",
     "output_type": "stream",
     "text": [
      "Enter number:  2\n",
      "Enter number:  4\n",
      "Enter number:  8\n"
     ]
    },
    {
     "name": "stdout",
     "output_type": "stream",
     "text": [
      "8\n"
     ]
    }
   ],
   "source": [
    "n1=int(input(\"Enter number: \"))\n",
    "n2=int(input(\"Enter number: \"))\n",
    "n3=int(input(\"Enter number: \"))\n",
    "if n1>n2 and n1>n3:\n",
    "    print(n1)\n",
    "elif n2>n1 and n2>n3:\n",
    "    print(n2)\n",
    "else:\n",
    "    print(n3)"
   ]
  },
  {
   "cell_type": "code",
   "execution_count": 23,
   "id": "4f752231-6886-4f2e-8fae-9201ff741235",
   "metadata": {},
   "outputs": [
    {
     "name": "stdin",
     "output_type": "stream",
     "text": [
      "Enter any string:  gnang\n"
     ]
    },
    {
     "name": "stdout",
     "output_type": "stream",
     "text": [
      "['The string is palindrome']\n"
     ]
    }
   ],
   "source": [
    "s=input(\"Enter any string: \")\n",
    "p=['The string is palindrome' if s==s[::-1] else 'The string is not palindrome']\n",
    "print(p)"
   ]
  },
  {
   "cell_type": "code",
   "execution_count": 27,
   "id": "c29cab6a-6f7f-424a-be91-eedcb7e82434",
   "metadata": {},
   "outputs": [
    {
     "name": "stdin",
     "output_type": "stream",
     "text": [
      "Enter student score:  84\n"
     ]
    },
    {
     "name": "stdout",
     "output_type": "stream",
     "text": [
      "['B']\n"
     ]
    }
   ],
   "source": [
    "score=int(input(\"Enter student score: \"))\n",
    "g=['A' if score>90 else 'B' if 80<score<91 else 'C' if 70<score<81 else 'D' if 60<score<71 else 'E' if 50<score<61 else 'Fail']\n",
    "print(g)"
   ]
  },
  {
   "cell_type": "markdown",
   "id": "bdd48d43-159f-457b-a792-58531a588e83",
   "metadata": {},
   "source": [
    "NESTED IF-ELSE STATEMENT SOLUTIONS"
   ]
  },
  {
   "cell_type": "code",
   "execution_count": 72,
   "id": "904eaebc-fac6-436b-b288-a6aab4ae4ad5",
   "metadata": {},
   "outputs": [
    {
     "name": "stdin",
     "output_type": "stream",
     "text": [
      "Enter number:  45\n",
      "Enter number:  3\n",
      "Enter number:  700\n"
     ]
    },
    {
     "name": "stdout",
     "output_type": "stream",
     "text": [
      "700\n"
     ]
    }
   ],
   "source": [
    "n1=int(input(\"Enter number: \"))\n",
    "n2=int(input(\"Enter number: \"))\n",
    "n3=int(input(\"Enter number: \"))\n",
    "if n1>n2 and n1>n3:\n",
    "    print(n1)\n",
    "elif n2>n1 and n2>n3:\n",
    "    print(n2)\n",
    "else:\n",
    "    print(n3)"
   ]
  },
  {
   "cell_type": "code",
   "execution_count": 30,
   "id": "47be29bf-9d37-4f5b-a5cd-5d7e9f1a0d05",
   "metadata": {},
   "outputs": [
    {
     "name": "stdin",
     "output_type": "stream",
     "text": [
      "Enter length1:  90\n",
      "Enter length2:  40\n",
      "Enter length3:  50\n"
     ]
    },
    {
     "name": "stdout",
     "output_type": "stream",
     "text": [
      "['It is scalene triangle']\n"
     ]
    }
   ],
   "source": [
    "l1=int(input(\"Enter length1: \"))\n",
    "l2=int(input(\"Enter length2: \"))\n",
    "l3=int(input(\"Enter length3: \"))\n",
    "t=['It is equilateral triangle' if l1==l2==l3 else 'It is isosceles triangle' if l1==l2 or l2==l3 or l3==l1 else 'It is scalene triangle' if l1!=l2!=l3 and l1+l2+l3==180 else 'Enter correct numbers.']\n",
    "print(t)"
   ]
  },
  {
   "cell_type": "code",
   "execution_count": 4,
   "id": "925c0c72-8bf6-49b3-b423-9d8dc58f7267",
   "metadata": {},
   "outputs": [
    {
     "name": "stdin",
     "output_type": "stream",
     "text": [
      "Enter any year:  2024\n"
     ]
    },
    {
     "name": "stdout",
     "output_type": "stream",
     "text": [
      "['It is leap year but not a century year']\n"
     ]
    }
   ],
   "source": [
    "year=int(input(\"Enter any year: \"))\n",
    "lc=['It is leap year and century year' if year%4==0 and year%100==0 else 'It is leap year but not a century year' if year%4==0 and year%100!=0 else 'It is century year but not a leap year' if year%4!=0 and year%100==0 else 'Enter valid year:']\n",
    "print(lc)"
   ]
  },
  {
   "cell_type": "code",
   "execution_count": 7,
   "id": "9338e883-f175-46e0-a107-393f75a70f52",
   "metadata": {},
   "outputs": [
    {
     "name": "stdin",
     "output_type": "stream",
     "text": [
      "Enter any number:  0\n"
     ]
    },
    {
     "name": "stdout",
     "output_type": "stream",
     "text": [
      "['n is zero']\n"
     ]
    }
   ],
   "source": [
    "n=int(input(\"Enter any number: \"))\n",
    "pnz=['Positive number' if n>0 else 'Negative number' if n<0 else 'n is zero']\n",
    "print(pnz)"
   ]
  },
  {
   "cell_type": "code",
   "execution_count": 9,
   "id": "19145cb5-4b22-46d0-83cc-22c8cf72ed15",
   "metadata": {},
   "outputs": [
    {
     "name": "stdin",
     "output_type": "stream",
     "text": [
      "Enter age:  15\n"
     ]
    },
    {
     "name": "stdout",
     "output_type": "stream",
     "text": [
      "['He is teenager']\n"
     ]
    }
   ],
   "source": [
    "age=int(input(\"Enter age: \"))\n",
    "t=['He is teenager' if 12<age<20 else 'He is not a teenager']\n",
    "print(t)"
   ]
  },
  {
   "cell_type": "code",
   "execution_count": 12,
   "id": "ea2966da-9399-4bb9-a61e-db80b79b13d5",
   "metadata": {},
   "outputs": [
    {
     "name": "stdin",
     "output_type": "stream",
     "text": [
      "Enter angle:  160\n"
     ]
    },
    {
     "name": "stdout",
     "output_type": "stream",
     "text": [
      "['It is obtuse angle']\n"
     ]
    }
   ],
   "source": [
    "ang=int(input(\"Enter angle: \"))\n",
    "A=['It is acute angle' if ang<90 else 'It is right angle' if ang==90 else 'It is obtuse angle']\n",
    "print(A)"
   ]
  },
  {
   "cell_type": "code",
   "execution_count": 17,
   "id": "3f72f632-ae89-471b-a0b6-69718d2b4be1",
   "metadata": {},
   "outputs": [
    {
     "name": "stdin",
     "output_type": "stream",
     "text": [
      "Enter a:  1\n",
      "Enter b:  5\n",
      "Enter c:  6\n"
     ]
    },
    {
     "name": "stdout",
     "output_type": "stream",
     "text": [
      "-2.0\n",
      "-3.0\n"
     ]
    }
   ],
   "source": [
    "a=int(input(\"Enter a: \"))\n",
    "b=int(input(\"Enter b: \"))\n",
    "c=int(input(\"Enter c: \"))\n",
    "print((-b + (b**2-4*a*c)**0.5)/2*a)\n",
    "print((-b - (b**2-4*a*c)**0.5)/2*a)"
   ]
  },
  {
   "cell_type": "code",
   "execution_count": 19,
   "id": "6106d4de-c813-4829-b3ef-7b26b0252882",
   "metadata": {},
   "outputs": [
    {
     "name": "stdin",
     "output_type": "stream",
     "text": [
      "Enter number:  3\n"
     ]
    },
    {
     "name": "stdout",
     "output_type": "stream",
     "text": [
      "['Wednesday']\n"
     ]
    }
   ],
   "source": [
    "n=int(input(\"Enter number: \"))\n",
    "w=['Monday' if n==1 else 'Tuesday' if n==2 else 'Wednesday' if n==3 else 'Thursday' if n==4 else 'Friday' if n==5 else 'Saturday' if n==6 else 'Sunday']\n",
    "print(w)"
   ]
  },
  {
   "cell_type": "code",
   "execution_count": 21,
   "id": "fa3dc10f-9221-44c8-86c2-dfbed52ef146",
   "metadata": {},
   "outputs": [
    {
     "name": "stdin",
     "output_type": "stream",
     "text": [
      "Enter any year:  2024\n"
     ]
    },
    {
     "name": "stdout",
     "output_type": "stream",
     "text": [
      "['It is leap year but not divisible by 400']\n"
     ]
    }
   ],
   "source": [
    "year=int(input(\"Enter any year: \"))\n",
    "lc=['It is leap year and divisible by 400' if year%4==0 and year%400==0 else 'It is leap year but not divisible by 400']\n",
    "print(lc)"
   ]
  },
  {
   "cell_type": "code",
   "execution_count": 28,
   "id": "f0d8c85e-51b7-4443-b56e-0950e2d30ee6",
   "metadata": {},
   "outputs": [
    {
     "name": "stdin",
     "output_type": "stream",
     "text": [
      "Enter number:  13\n"
     ]
    },
    {
     "name": "stdout",
     "output_type": "stream",
     "text": [
      "It is prime\n"
     ]
    }
   ],
   "source": [
    "num=int(input(\"Enter number: \"))\n",
    "count=0\n",
    "for i in range(1,num+1):\n",
    "    if num%i==0:\n",
    "        count+=1\n",
    "if count<3:\n",
    "    print(\"It is prime\")\n",
    "else:\n",
    "    print(\"It is not prime\")"
   ]
  },
  {
   "cell_type": "markdown",
   "id": "db4e72f8-9e25-48a2-b701-10d2bf21ac51",
   "metadata": {},
   "source": [
    "ELIF STATEMENT SOLUTIONS"
   ]
  },
  {
   "cell_type": "code",
   "execution_count": 30,
   "id": "193dc77f-6fbf-49cd-9239-1a33e996fd7b",
   "metadata": {},
   "outputs": [
    {
     "name": "stdin",
     "output_type": "stream",
     "text": [
      "Enter marks:  30\n"
     ]
    },
    {
     "name": "stdout",
     "output_type": "stream",
     "text": [
      "Fail\n"
     ]
    }
   ],
   "source": [
    "mark=int(input(\"Enter marks: \"))\n",
    "if mark>90:\n",
    "    print('A Grade')\n",
    "elif 80<mark<91:\n",
    "    print('B Grade')\n",
    "elif 70<mark<81:\n",
    "    print('C Grade')\n",
    "elif 60<mark<71:\n",
    "    print('D Grade')\n",
    "elif 50<mark<61:\n",
    "    print('E Grade')\n",
    "elif 40<mark<51:\n",
    "    print('F Grade')\n",
    "else:\n",
    "    print('Fail')"
   ]
  },
  {
   "cell_type": "code",
   "execution_count": 36,
   "id": "ab474113-a18c-4392-8d5d-8b632779912e",
   "metadata": {},
   "outputs": [
    {
     "name": "stdin",
     "output_type": "stream",
     "text": [
      "Enter angle1:  45\n",
      "Enter angle2:  60\n",
      "Enter angle3:  80\n"
     ]
    },
    {
     "name": "stdout",
     "output_type": "stream",
     "text": [
      "Acute triangle\n"
     ]
    }
   ],
   "source": [
    "ang1=int(input(\"Enter angle1: \"))\n",
    "ang2=int(input(\"Enter angle2: \"))\n",
    "ang3=int(input(\"Enter angle3: \"))\n",
    "if (ang1==90 and ang2<90 and ang3<90) or (ang1<90 and ang2==90 and ang3<90) or (ang1<90 and ang2<90 and ang3==90):\n",
    "    print('Right angle triangle')\n",
    "elif ang1<90 and ang2<90 and ang3<90:\n",
    "    print('Acute triangle')\n",
    "else:\n",
    "    print('Obtuse triangle')"
   ]
  },
  {
   "cell_type": "code",
   "execution_count": 38,
   "id": "afd58dfc-e883-40fc-865a-081774d001b0",
   "metadata": {},
   "outputs": [
    {
     "name": "stdin",
     "output_type": "stream",
     "text": [
      "Enter BMI:  28\n"
     ]
    },
    {
     "name": "stdout",
     "output_type": "stream",
     "text": [
      "Overweight\n"
     ]
    }
   ],
   "source": [
    "bmi=float(input(\"Enter BMI: \"))\n",
    "if bmi<18.5:\n",
    "    print('Underweight')\n",
    "elif 18.5<bmi<24.9:\n",
    "    print('Normal BMI')\n",
    "elif 25.0<bmi<29.9:\n",
    "    print('Overweight')\n",
    "else:\n",
    "    print('Obese')"
   ]
  },
  {
   "cell_type": "code",
   "execution_count": 39,
   "id": "8aca4f26-c287-490f-b304-236faecc616f",
   "metadata": {},
   "outputs": [
    {
     "name": "stdin",
     "output_type": "stream",
     "text": [
      "Enter a number:  -2\n"
     ]
    },
    {
     "name": "stdout",
     "output_type": "stream",
     "text": [
      "Negative number\n"
     ]
    }
   ],
   "source": [
    "num=int(input(\"Enter a number: \"))\n",
    "if num>0:\n",
    "    print(\"Positive number\")\n",
    "elif num<0:\n",
    "    print(\"Negative number\")\n",
    "else:\n",
    "    print(\"Number is zero\")"
   ]
  },
  {
   "cell_type": "code",
   "execution_count": 43,
   "id": "ed873563-7524-4d04-8c5d-67eee5b5f570",
   "metadata": {},
   "outputs": [
    {
     "name": "stdin",
     "output_type": "stream",
     "text": [
      "Enter any character:  P\n"
     ]
    },
    {
     "name": "stdout",
     "output_type": "stream",
     "text": [
      "char in uppercase\n"
     ]
    }
   ],
   "source": [
    "char=input(\"Enter any character: \")\n",
    "if char.isupper():\n",
    "    print(\"char in uppercase\")\n",
    "elif char.islower():\n",
    "    print(\"char in lowercase\")\n",
    "else:\n",
    "    print(\"char is special character\")"
   ]
  },
  {
   "cell_type": "code",
   "execution_count": 49,
   "id": "d9a0e27d-11c1-46ad-bc1d-7412cd3d379b",
   "metadata": {},
   "outputs": [
    {
     "name": "stdin",
     "output_type": "stream",
     "text": [
      "Enter purchased amount:  40000\n"
     ]
    },
    {
     "name": "stdout",
     "output_type": "stream",
     "text": [
      "you got 15% discount and discounted amount is  34000.0\n"
     ]
    }
   ],
   "source": [
    "pp=int(input(\"Enter purchased amount: \"))\n",
    "if pp>14999:\n",
    "    print(\"you got 15% discount and discounted amount is \", pp-(pp*15)/100)\n",
    "elif 14999<pp<30000:\n",
    "    print(\"you got 20% discount and discounted amount is \", pp-(pp*20)/100)\n",
    "elif pp>30000:\n",
    "    print(\"you got 25% discount and discounted amount is \", pp-(pp*25)/100)\n",
    "else:\n",
    "    print(\"you are not eligible for discount\")"
   ]
  },
  {
   "cell_type": "code",
   "execution_count": 50,
   "id": "bec4856f-54a9-47ae-bc77-9cacae77a640",
   "metadata": {},
   "outputs": [
    {
     "name": "stdin",
     "output_type": "stream",
     "text": [
      "Enter units of current:  24\n"
     ]
    },
    {
     "name": "stdout",
     "output_type": "stream",
     "text": [
      "you current bill is  240\n"
     ]
    }
   ],
   "source": [
    "c=int(input(\"Enter units of current: \"))\n",
    "if 0<c<14:\n",
    "    print(\"your current bill is \", c*3)\n",
    "if 13<c<20:\n",
    "    print(\"you current bill is \", c*4)\n",
    "elif 19<pp<25:\n",
    "    print(\"you current bill is \", c*5)\n",
    "elif 24<pp<30:\n",
    "    print(\"you current bill is \", c*6)\n",
    "else:\n",
    "    print(\"you current bill is \", c*10)"
   ]
  },
  {
   "cell_type": "code",
   "execution_count": 51,
   "id": "fa393622-6d0f-48eb-b1a5-241c835e50e0",
   "metadata": {},
   "outputs": [
    {
     "name": "stdin",
     "output_type": "stream",
     "text": [
      "Enter angle 1: 90\n",
      "Enter angle 2: 130\n",
      "Enter angle 3: 50\n",
      "Enter angle 4 90\n"
     ]
    },
    {
     "name": "stdout",
     "output_type": "stream",
     "text": [
      "It is quadrilateral\n"
     ]
    }
   ],
   "source": [
    "a=int(input(\"Enter angle 1:\"))\n",
    "b=int(input(\"Enter angle 2:\"))\n",
    "c=int(input(\"Enter angle 3:\"))\n",
    "d=int(input(\"Enter angle 4\"))\n",
    "if (a+b+c+d==360):\n",
    "    print(\"It is quadrilateral\")\n",
    "else:\n",
    "    print(\"It is not quadrilateral\")"
   ]
  },
  {
   "cell_type": "code",
   "execution_count": 52,
   "id": "4223d781-6579-447a-8641-f8e5196f9fb8",
   "metadata": {},
   "outputs": [
    {
     "name": "stdin",
     "output_type": "stream",
     "text": [
      "Enter month number:  4\n"
     ]
    },
    {
     "name": "stdout",
     "output_type": "stream",
     "text": [
      "Spring season\n"
     ]
    }
   ],
   "source": [
    "m=int(input(\"Enter month number: \"))\n",
    "if 0<m<4:\n",
    "    print(\"Winter season\")\n",
    "elif 3<m<7:\n",
    "    print(\"Spring season\")\n",
    "elif 6<m<10:\n",
    "    print(\"Summer season\")\n",
    "else:\n",
    "    print(\"Autumn season\")"
   ]
  },
  {
   "cell_type": "code",
   "execution_count": 62,
   "id": "ef7b3d7f-6784-4874-b4c1-6a76aaa2a164",
   "metadata": {},
   "outputs": [
    {
     "name": "stdin",
     "output_type": "stream",
     "text": [
      "Enter year:  2024\n",
      "Enter month:  feb\n"
     ]
    },
    {
     "name": "stdout",
     "output_type": "stream",
     "text": [
      "2024 is leap year and feb has 30 days\n"
     ]
    }
   ],
   "source": [
    "y=int(input(\"Enter year: \"))\n",
    "m=input(\"Enter month: \")\n",
    "months=['jan','mar','may','july','aug','oct','dec']\n",
    "months2=['feb','april','june','sep','nov']\n",
    "if y%4==0 and m in months:\n",
    "    print(y,'is leap year and' ,m, 'has 31 days')\n",
    "elif y%4!=0 and m in months2:\n",
    "    print(y,'is not leap year and' ,m, 'has 30 days')\n",
    "elif y%4==0 and m in months2:\n",
    "    print(y,'is leap year and' ,m, 'has 30 days')\n",
    "elif  y%4!=0 and m in months:\n",
    "    print(y,'is not leap year and' ,m, 'has 31 days')\n",
    "else:\n",
    "    print(\"Enter valid values: \")"
   ]
  },
  {
   "cell_type": "markdown",
   "id": "9dd0d0ee-f2be-4cd5-ac0f-d69aa5fe3750",
   "metadata": {},
   "source": [
    "BASIC LEVEL SOLUTIONS"
   ]
  },
  {
   "cell_type": "code",
   "execution_count": 63,
   "id": "e49e5f37-5c29-430a-a7fc-176277446698",
   "metadata": {},
   "outputs": [
    {
     "name": "stdin",
     "output_type": "stream",
     "text": [
      "Enter any number:  -3\n"
     ]
    },
    {
     "name": "stdout",
     "output_type": "stream",
     "text": [
      "['Negative number']\n"
     ]
    }
   ],
   "source": [
    "n=int(input(\"Enter any number: \"))\n",
    "pnz=['Positive number' if n>0 else 'Negative number' if n<0 else 'n is zero']\n",
    "print(pnz)"
   ]
  },
  {
   "cell_type": "code",
   "execution_count": 64,
   "id": "c104861d-fa58-465d-9f76-327ff1b444ee",
   "metadata": {},
   "outputs": [
    {
     "name": "stdin",
     "output_type": "stream",
     "text": [
      "Enter your age:  18\n"
     ]
    },
    {
     "name": "stdout",
     "output_type": "stream",
     "text": [
      "['You are eligible for vote']\n"
     ]
    }
   ],
   "source": [
    "age=int(input(\"Enter your age: \"))\n",
    "v=['You are eligible for vote' if age>17 else 'You are not eligible for vote']\n",
    "print(v)"
   ]
  },
  {
   "cell_type": "code",
   "execution_count": 65,
   "id": "7c3d18a4-5968-444d-8e21-f519603cd715",
   "metadata": {},
   "outputs": [
    {
     "name": "stdin",
     "output_type": "stream",
     "text": [
      "Enter first number:  60\n",
      "Enter second number:  45\n"
     ]
    },
    {
     "name": "stdout",
     "output_type": "stream",
     "text": [
      "[(60, 'is maximum number.')]\n"
     ]
    }
   ],
   "source": [
    "a=int(input(\"Enter first number: \"))\n",
    "b=int(input(\"Enter second number: \"))\n",
    "m=[(a,'is maximum number.') if a>b else (b,'is maximum number')]\n",
    "print(m)"
   ]
  },
  {
   "cell_type": "code",
   "execution_count": 66,
   "id": "5005ff1e-3ecd-48d2-829b-cd5073475152",
   "metadata": {},
   "outputs": [
    {
     "name": "stdin",
     "output_type": "stream",
     "text": [
      "Enter marks:  79\n"
     ]
    },
    {
     "name": "stdout",
     "output_type": "stream",
     "text": [
      "C Grade\n"
     ]
    }
   ],
   "source": [
    "mark=int(input(\"Enter marks: \"))\n",
    "if mark>90:\n",
    "    print('A Grade')\n",
    "elif 80<mark<91:\n",
    "    print('B Grade')\n",
    "elif 70<mark<81:\n",
    "    print('C Grade')\n",
    "elif 60<mark<71:\n",
    "    print('D Grade')\n",
    "elif 50<mark<61:\n",
    "    print('E Grade')\n",
    "elif 40<mark<51:\n",
    "    print('F Grade')\n",
    "else:\n",
    "    print('Fail')"
   ]
  },
  {
   "cell_type": "code",
   "execution_count": 67,
   "id": "dd87449e-bb5f-4976-a5b3-7ceaf75f4ea3",
   "metadata": {},
   "outputs": [
    {
     "name": "stdin",
     "output_type": "stream",
     "text": [
      "Enter year:  2000\n"
     ]
    },
    {
     "name": "stdout",
     "output_type": "stream",
     "text": [
      "[(2000, 'is leap year.')]\n"
     ]
    }
   ],
   "source": [
    "Year=int(input(\"Enter year: \"))\n",
    "l=[(Year,'is leap year.') if Year%4==0 else (Year,'is not leap year')]\n",
    "print(l)"
   ]
  },
  {
   "cell_type": "code",
   "execution_count": 68,
   "id": "5015d5ca-99b3-422c-b233-0e1c05ca545c",
   "metadata": {},
   "outputs": [
    {
     "name": "stdin",
     "output_type": "stream",
     "text": [
      "Enter length1:  60\n",
      "Enter length2:  60\n",
      "Enter length3:  60\n"
     ]
    },
    {
     "name": "stdout",
     "output_type": "stream",
     "text": [
      "['It is equilateral triangle']\n"
     ]
    }
   ],
   "source": [
    "l1=int(input(\"Enter length1: \"))\n",
    "l2=int(input(\"Enter length2: \"))\n",
    "l3=int(input(\"Enter length3: \"))\n",
    "t=['It is equilateral triangle' if l1==l2==l3 else 'It is isosceles triangle' if l1==l2 or l2==l3 or l3==l1 else 'It is scalene triangle' if l1!=l2!=l3 and l1+l2+l3==180 else 'Enter correct numbers.']\n",
    "print(t)"
   ]
  },
  {
   "cell_type": "code",
   "execution_count": 73,
   "id": "85151967-3f0d-4cec-8267-7a8e44247d8d",
   "metadata": {},
   "outputs": [
    {
     "name": "stdin",
     "output_type": "stream",
     "text": [
      "Enter number:  55\n",
      "Enter number:  60\n",
      "Enter number:  699\n"
     ]
    },
    {
     "name": "stdout",
     "output_type": "stream",
     "text": [
      "699\n"
     ]
    }
   ],
   "source": [
    "n1=int(input(\"Enter number: \"))\n",
    "n2=int(input(\"Enter number: \"))\n",
    "n3=int(input(\"Enter number: \"))\n",
    "if n1>n2 and n1>n3:\n",
    "    print(n1)\n",
    "elif n2>n1 and n2>n3:\n",
    "    print(n2)\n",
    "else:\n",
    "    print(n3)"
   ]
  },
  {
   "cell_type": "code",
   "execution_count": 75,
   "id": "fd1a03b6-6b5d-49f2-b017-0345103d02a8",
   "metadata": {},
   "outputs": [
    {
     "name": "stdin",
     "output_type": "stream",
     "text": [
      "Enter any char:  f\n"
     ]
    },
    {
     "name": "stdout",
     "output_type": "stream",
     "text": [
      "char is consonant\n"
     ]
    }
   ],
   "source": [
    "char=input(\"Enter any char: \")\n",
    "v=\"aeiouAEIOU\"\n",
    "if char in v:\n",
    "    print(\"char is vowel\")\n",
    "else:\n",
    "    print(\"char is consonant\")"
   ]
  },
  {
   "cell_type": "code",
   "execution_count": 84,
   "id": "dc3254c3-5e11-4c39-afe0-ddc6d39c6b6f",
   "metadata": {},
   "outputs": [
    {
     "name": "stdin",
     "output_type": "stream",
     "text": [
      "Enter all prices with spaces:  45 569 345 890 620 40\n"
     ]
    },
    {
     "name": "stdout",
     "output_type": "stream",
     "text": [
      "2387.8\n"
     ]
    }
   ],
   "source": [
    "total_cost=[]\n",
    "c=input(\"Enter all prices with spaces: \")\n",
    "l=c.split(\" \")\n",
    "for i in l:\n",
    "    n=int(i)\n",
    "    if n>100:\n",
    "        total_cost.append(n-(n*5)/100)\n",
    "    elif 99<n<500:\n",
    "        total_cost.append(n-(n*7)/100)\n",
    "    elif 499<n<1001:\n",
    "        total_cost.append(n-(n*9)/100)\n",
    "    elif n>1000:\n",
    "        total_cost.append(n-(n*12)/100)\n",
    "    else:\n",
    "        total_cost.append(n)\n",
    "t=sum(i for i in total_cost)\n",
    "print(t)"
   ]
  },
  {
   "cell_type": "code",
   "execution_count": 85,
   "id": "fca6a0b0-a265-4e26-aeee-e1079f5c510b",
   "metadata": {},
   "outputs": [
    {
     "name": "stdin",
     "output_type": "stream",
     "text": [
      "Enter number:  4\n"
     ]
    },
    {
     "name": "stdout",
     "output_type": "stream",
     "text": [
      "['It is even number.']\n"
     ]
    }
   ],
   "source": [
    "n=int(input(\"Enter number: \"))\n",
    "e=['It is even number.' if n%2==0 else 'It is odd number.']\n",
    "print(e)"
   ]
  },
  {
   "cell_type": "markdown",
   "id": "45496a5b-118c-45ec-b6bf-5a32c6f00bdf",
   "metadata": {},
   "source": [
    "INTERMEDIATE LEVEL SOLUTIONS"
   ]
  },
  {
   "cell_type": "code",
   "execution_count": 86,
   "id": "fbf362da-0643-45fc-a0ca-f0b45df9ccc1",
   "metadata": {},
   "outputs": [
    {
     "name": "stdin",
     "output_type": "stream",
     "text": [
      "Enter a:  5\n",
      "Enter b:  7\n",
      "Enter c:  8\n"
     ]
    },
    {
     "name": "stdout",
     "output_type": "stream",
     "text": [
      "(-17.499999999999996+26.339134382131846j)\n",
      "(-17.500000000000004-26.339134382131846j)\n"
     ]
    }
   ],
   "source": [
    "a=int(input(\"Enter a: \"))\n",
    "b=int(input(\"Enter b: \"))\n",
    "c=int(input(\"Enter c: \"))\n",
    "print((-b + (b**2-4*a*c)**0.5)/2*a)\n",
    "print((-b - (b**2-4*a*c)**0.5)/2*a)"
   ]
  },
  {
   "cell_type": "code",
   "execution_count": 87,
   "id": "744c44df-2c0a-4f6b-917a-c370eb8db40d",
   "metadata": {},
   "outputs": [
    {
     "name": "stdin",
     "output_type": "stream",
     "text": [
      "Enter number:  6\n"
     ]
    },
    {
     "name": "stdout",
     "output_type": "stream",
     "text": [
      "['Saturday']\n"
     ]
    }
   ],
   "source": [
    "n=int(input(\"Enter number: \"))\n",
    "w=['Monday' if n==1 else 'Tuesday' if n==2 else 'Wednesday' if n==3 else 'Thursday' if n==4 else 'Friday' if n==5 else 'Saturday' if n==6 else 'Sunday']\n",
    "print(w)"
   ]
  },
  {
   "cell_type": "code",
   "execution_count": 89,
   "id": "aca5df9e-defa-4211-b54c-89b1fad7697d",
   "metadata": {},
   "outputs": [
    {
     "name": "stdout",
     "output_type": "stream",
     "text": [
      "The factorial of 7 is 5040\n"
     ]
    }
   ],
   "source": [
    "def f(n):\n",
    "    if n==1:\n",
    "        return n\n",
    "    else:\n",
    "        return n*f(n-1)\n",
    "num=7\n",
    "if num<0:\n",
    "    print(\"sorry, factorial does not for negative numbers\")\n",
    "elif num==0:\n",
    "    print(\"factorial 0 is 1\")\n",
    "else:\n",
    "    print(\"The factorial of\", num, \"is\", f(num))"
   ]
  },
  {
   "cell_type": "code",
   "execution_count": 91,
   "id": "2fbb6ebe-36e9-4b67-bb03-e8d2ad0a6284",
   "metadata": {},
   "outputs": [
    {
     "name": "stdin",
     "output_type": "stream",
     "text": [
      "Enter number:  6\n",
      "Enter number:  9\n",
      "Enter number:  3\n"
     ]
    },
    {
     "name": "stdout",
     "output_type": "stream",
     "text": [
      "9\n"
     ]
    }
   ],
   "source": [
    "n1=int(input(\"Enter number: \"))\n",
    "n2=int(input(\"Enter number: \"))\n",
    "n3=int(input(\"Enter number: \"))\n",
    "if n1>n2 and n1>n3:\n",
    "    print(n1)\n",
    "elif n2>n1 and n2>n3:\n",
    "    print(n2)\n",
    "else:\n",
    "    print(n3)"
   ]
  },
  {
   "cell_type": "code",
   "execution_count": 8,
   "id": "209b59bf-fc64-48c7-9709-6b1f376dd663",
   "metadata": {},
   "outputs": [
    {
     "name": "stdin",
     "output_type": "stream",
     "text": [
      "Enter how much amount do you have in your account:  50000\n",
      "Enter your card number:  389839490934\n",
      "Enter pin code:  34389\n",
      "Enter amount:  40000\n"
     ]
    },
    {
     "name": "stdout",
     "output_type": "stream",
     "text": [
      "\n",
      "***Welcome to Bank***\n",
      "##Your transaction is successful##\n",
      "       Transaction Receipt   \n",
      "Date: 11-09-2023 \n",
      "Time: 12:45PM\n",
      "Transaction number: 3749273897\n",
      "Debited amount:  40000\n",
      "Available Balance:  10000\n",
      "______Thanks for visiting______\n"
     ]
    }
   ],
   "source": [
    "tm=int(input(\"Enter how much amount do you have in your account: \"))\n",
    "c=input(\"Enter your card number: \")\n",
    "if c.isnumeric():\n",
    "    p=int(input(\"Enter pin code: \"))\n",
    "    a=int(input(\"Enter amount: \"))\n",
    "    if a<tm:\n",
    "        print()\n",
    "        print(\"***Welcome to Bank***\")\n",
    "        print(\"##Your transaction is successful##\")\n",
    "        print(\"       Transaction Receipt   \")\n",
    "        print(\"Date: 11-09-2023 \")\n",
    "        print(\"Time: 12:45PM\")\n",
    "        print(\"Transaction number: 3749273897\")\n",
    "        print(\"Debited amount: \",a)\n",
    "        print(\"Available Balance: \",tm-a)\n",
    "        print(\"______Thanks for visiting______\")\n",
    "    else:\n",
    "        print(\"You have insuffient balance\")\n",
    "else:\n",
    "    print(\"Print card number in numbers\")"
   ]
  },
  {
   "cell_type": "code",
   "execution_count": 9,
   "id": "4442cd40-648e-49ad-9cef-961d361826e2",
   "metadata": {},
   "outputs": [
    {
     "name": "stdin",
     "output_type": "stream",
     "text": [
      "Enter any string:  pwskillikswp\n"
     ]
    },
    {
     "name": "stdout",
     "output_type": "stream",
     "text": [
      "['The string is palindrome']\n"
     ]
    }
   ],
   "source": [
    "s=input(\"Enter any string: \")\n",
    "p=['The string is palindrome' if s==s[::-1] else 'The string is not palindrome']\n",
    "print(p)"
   ]
  },
  {
   "cell_type": "code",
   "execution_count": 15,
   "id": "602b4fe9-694d-4662-aa7e-962b4c1fc8d7",
   "metadata": {},
   "outputs": [
    {
     "name": "stdout",
     "output_type": "stream",
     "text": [
      "5.5\n"
     ]
    }
   ],
   "source": [
    "l=[4,5,6,7,1,2,10,3,9,8]\n",
    "l.sort()\n",
    "sum=0\n",
    "for i in range(1,len(l)-1):\n",
    "    sum=sum+l[i]\n",
    "print(sum/(len(l)-2))"
   ]
  },
  {
   "cell_type": "code",
   "execution_count": 16,
   "id": "013acde3-7f03-4e9a-855c-e8192683c9e9",
   "metadata": {},
   "outputs": [
    {
     "name": "stdin",
     "output_type": "stream",
     "text": [
      "Enter temperature:  45\n"
     ]
    },
    {
     "name": "stdout",
     "output_type": "stream",
     "text": [
      "Temperature in farenheit:  113.0\n"
     ]
    }
   ],
   "source": [
    "t=int(input(\"Enter temperature: \"))\n",
    "print(\"Temperature in farenheit: \",(t*9/5)+32)"
   ]
  },
  {
   "cell_type": "code",
   "execution_count": 18,
   "id": "6ce7016a-229e-4df7-8777-06b6344246e3",
   "metadata": {},
   "outputs": [
    {
     "name": "stdin",
     "output_type": "stream",
     "text": [
      "Enter number1:  8\n",
      "Enter number2:  4\n",
      "Enter what operation do you want in shortcut and lowercase:  mul\n"
     ]
    },
    {
     "name": "stdout",
     "output_type": "stream",
     "text": [
      "32\n"
     ]
    }
   ],
   "source": [
    "a=int(input(\"Enter number1: \"))\n",
    "b=int(input(\"Enter number2: \"))\n",
    "x=input(\"Enter what operation do you want in shortcut and lowercase: \")\n",
    "if x=='add':\n",
    "    print(a+b)\n",
    "elif x=='sub':\n",
    "    print(a-b)\n",
    "elif x=='mul':\n",
    "    print(a*b)\n",
    "else:\n",
    "    print(a/b)"
   ]
  },
  {
   "cell_type": "markdown",
   "id": "1f45f320-ec1e-4af1-8a24-3b9016cc19b4",
   "metadata": {},
   "source": [
    "ADVANCED LEVEL SOLUTIONS"
   ]
  },
  {
   "cell_type": "code",
   "execution_count": 1,
   "id": "169bbb25-9e86-4bef-ad79-642675968999",
   "metadata": {},
   "outputs": [
    {
     "name": "stdin",
     "output_type": "stream",
     "text": [
      "Enter salary per annum:  450000\n"
     ]
    },
    {
     "name": "stdout",
     "output_type": "stream",
     "text": [
      "The tax you have to pay is:  22500.0\n"
     ]
    }
   ],
   "source": [
    "s=int(input(\"Enter salary per annum: \"))\n",
    "if 0<s<250000:\n",
    "    print(\"The tax you have to pay is: \",0)\n",
    "elif 249000<s<500000:\n",
    "    print(\"The tax you have to pay is: \",(s*5)/100)\n",
    "elif 499999<s<1000000:\n",
    "    print(\"The tax you have to pay is: \",(s*20)/100)\n",
    "else:\n",
    "    print(\"The tax you have to pay is: \",(s*30)/100)"
   ]
  },
  {
   "cell_type": "code",
   "execution_count": 36,
   "id": "7ddb276d-5f0b-4ef4-ae64-b4423bed67b2",
   "metadata": {},
   "outputs": [
    {
     "name": "stdin",
     "output_type": "stream",
     "text": [
      "Enter a choice(1-rock,2-paper,3-scissor):  3\n"
     ]
    },
    {
     "name": "stdout",
     "output_type": "stream",
     "text": [
      "computer choice:  1\n",
      "You lost the game\n"
     ]
    }
   ],
   "source": [
    "import random\n",
    "c=int(input(\"Enter a choice(1-rock,2-paper,3-scissor): \"))\n",
    "cc=random.randint(1,3)\n",
    "print(\"computer choice: \",cc)\n",
    "if c==1:\n",
    "    name='rock'\n",
    "elif c==2:\n",
    "    name='paper'\n",
    "else:\n",
    "    name='scissor'\n",
    "if c==cc:\n",
    "    print(\"It's a draw!\")\n",
    "elif ((c==1 and cc==2) or (c==2 and cc==3) or (c==3 and cc==1)):\n",
    "    print(\"You lost the game\")\n",
    "else:\n",
    "    print(\"You won the game\")"
   ]
  },
  {
   "cell_type": "code",
   "execution_count": 7,
   "id": "13a0977e-e2f8-468d-bc00-e425424813ac",
   "metadata": {},
   "outputs": [
    {
     "name": "stdin",
     "output_type": "stream",
     "text": [
      "Enter password length:  10\n"
     ]
    },
    {
     "name": "stdout",
     "output_type": "stream",
     "text": [
      "Choose character set for password from these :\n",
      "\t\t1. Letters\n",
      "\t\t2. Digits\n",
      "\t\t3. Special characters\n",
      "\t\t4. Exit\n"
     ]
    },
    {
     "name": "stdin",
     "output_type": "stream",
     "text": [
      "Pick a number  1\n",
      "Pick a number  4\n"
     ]
    },
    {
     "name": "stdout",
     "output_type": "stream",
     "text": [
      "The random password is KkMfwtJqEG\n"
     ]
    }
   ],
   "source": [
    "import string\n",
    "import random\n",
    "length = int(input(\"Enter password length: \"))\n",
    "print('''Choose character set for password from these :\n",
    "\t\t1. Letters\n",
    "\t\t2. Digits\n",
    "\t\t3. Special characters\n",
    "\t\t4. Exit''')\n",
    "characterList = \"\"\n",
    "\n",
    "while(True):\n",
    "\tchoice = int(input(\"Pick a number \"))\n",
    "\tif(choice == 1):\n",
    "\t\tcharacterList += string.ascii_letters\n",
    "\telif(choice == 2):\n",
    "\t\tcharacterList += string.digits\n",
    "\telif(choice == 3):\n",
    "\t\tcharacterList += string.punctuation\n",
    "\telif(choice == 4):\n",
    "\t\tbreak\n",
    "\telse:\n",
    "\t\tprint(\"Please pick a valid option!\")\n",
    "password = []\n",
    "for i in range(length):\n",
    "\trandomchar = random.choice(characterList)\n",
    "\tpassword.append(randomchar)\n",
    "print(\"The random password is \" + \"\".join(password))\n"
   ]
  },
  {
   "cell_type": "code",
   "execution_count": 8,
   "id": "8985c974-9983-4e8f-b9d5-a4ca44df209c",
   "metadata": {},
   "outputs": [
    {
     "name": "stdout",
     "output_type": "stream",
     "text": [
      "WELCOME TO THE ADVENTURE GAME!\n",
      "        Let's start the action! ☆-🎬-☆\n",
      " \n",
      "        Lily wakes up in her bedroom in the middle of the night. She heard a loud BAN outside the house.\n",
      "        Now she has two choices she can either stay in the room or check what the sound might be about.\n",
      " \n",
      "        Type your choice: Stay or Evaluate?\n",
      "    \n"
     ]
    },
    {
     "name": "stdin",
     "output_type": "stream",
     "text": [
      " Evaluate\n"
     ]
    },
    {
     "name": "stdout",
     "output_type": "stream",
     "text": [
      "Lily exits the room silently and reaches the main hall.\n",
      "\n",
      "            In the main hall, she finds a strange but cute teddy bear on the floor. \n",
      "            She wanted to pick the teddy up. \n",
      "            But should she? It doesn't belong to her. (•˳̂•̆)\n",
      " \n",
      "            Type your choice: Pick or Ignore?\n",
      " \n",
      "            \n"
     ]
    },
    {
     "name": "stdin",
     "output_type": "stream",
     "text": [
      " Pick\n"
     ]
    },
    {
     "name": "stdout",
     "output_type": "stream",
     "text": [
      "\n",
      "The moment Lily picked up the the teddy bear. The Teddy bear starts TALKING!The bear tells Lily that she is in grave danger as there is a monster in the house.And the monster has captured her PARENTS as well!But he hugged her and told her not to get scared as he knows how to beat the moster!\n",
      "\n",
      "The bear handed lily a magical potion which can weaken the moster and make him run away!He handed her the potion and then DISAPPEARED!Lily moved forward.\n",
      "\n",
      "\n",
      "After walking for a while, Lily saw the MONSTOR in front of her!\n",
      "    It had red eyes and evil looks. She got very scared! \n",
      "But then she remembered! She had the magic portion and she threw it on the moster!\n",
      "              Well she had nothing to lose!\n",
      "\n",
      " The monster SCREAMED in pain but he managed to make a portal and pushed Lily to a new world!\n",
      "\n",
      "\n",
      "\n",
      "=================================END OF CHAPTER 1=================================\n"
     ]
    }
   ],
   "source": [
    "def scene1():\n",
    "    import time\n",
    "    print(\"\"\"WELCOME TO THE ADVENTURE GAME!\n",
    "        Let's start the action! ☆-🎬-☆\n",
    " \n",
    "        Lily wakes up in her bedroom in the middle of the night. She heard a loud BAN outside the house.\n",
    "        Now she has two choices she can either stay in the room or check what the sound might be about.\n",
    " \n",
    "        Type your choice: Stay or Evaluate?\n",
    "    \"\"\")\n",
    " \n",
    "    c1 = input()\n",
    "    time.sleep(2)\n",
    "    ans = 'incorrect'\n",
    "    while(ans=='incorrect'):\n",
    "        if(c1.upper()==\"STAY\"):\n",
    "            print(\"\\nLily decides to stay in the room and ends up staying inside forever as noone seems to come to help her.\")\n",
    "            ans = 'correct'\n",
    "        elif(c1.upper()==\"EVALUATE\"):\n",
    "            print(\"Lily exits the room silently and reaches the main hall.\")\n",
    "            ans='correct'\n",
    "            scene2()\n",
    "        else:\n",
    "            print(\"ENTER THE CORRECT CHOICE! Stay or Evaluate?\")\n",
    "            c1 = input()\n",
    "def scene2():\n",
    "    import time\n",
    "    print(\"\"\"\n",
    "            In the main hall, she finds a strange but cute teddy bear on the floor. \n",
    "            She wanted to pick the teddy up. \n",
    "            But should she? It doesn't belong to her. (•˳̂•̆)\n",
    " \n",
    "            Type your choice: Pick or Ignore?\n",
    " \n",
    "            \"\"\")\n",
    "    time.sleep(2)\n",
    "    c1 = input()\n",
    "    ans = 'incorrect'\n",
    "    while(ans=='incorrect'):\n",
    "        if(c1.upper()==\"PICK\"):\n",
    "            print(\"\"\"\\nThe moment Lily picked up the the teddy bear. The Teddy bear starts TALKING!The bear tells Lily that she is in grave danger as there is a monster in the house.And the monster has captured her PARENTS as well!But he hugged her and told her not to get scared as he knows how to beat the moster!\"\"\")\n",
    "            time.sleep(2)\n",
    "            print(\"\"\"\\nThe bear handed lily a magical potion which can weaken the moster and make him run away!He handed her the potion and then DISAPPEARED!Lily moved forward.\"\"\")\n",
    "            ans = 'correct'\n",
    "            pick=\"True\"\n",
    "        elif(c1.upper()=='IGNORE'):\n",
    "            print(\"\"\"\\nLily decided not to pick up the bear and walked forward.\"\"\")\n",
    "            ans='correct'\n",
    "            pick=\"False\"\n",
    "        else:\n",
    "            print(\"Wrong Input! Enter pick or ignore?\")\n",
    "            c1=input()\n",
    "    time.sleep(2)\n",
    "    scene3(pick)\n",
    "def scene3(pick_value):\n",
    "    import time\n",
    "    print(\"\"\"\\n\\nAfter walking for a while, Lily saw the MONSTOR in front of her!\n",
    "    It had red eyes and evil looks. She got very scared! \"\"\")\n",
    "    time.sleep(2)\n",
    "    if(pick_value==\"True\"):\n",
    "        time.sleep(2)\n",
    "        print(\"\"\"But then she remembered! She had the magic portion and she threw it on the moster!\n",
    "              Well she had nothing to lose!\"\"\")\n",
    "        time.sleep(2)\n",
    "        print(\"\\n The monster SCREAMED in pain but he managed to make a portal and pushed Lily to a new world!\")\n",
    "    elif(pick_value==\"False\"):\n",
    "        print(\"The monster attacked Lily and hurt her! She was then thrown to the new world by the monster!\")\n",
    "scene1()\n",
    "print(\"\\n\\n\")\n",
    "print(\"=================================END OF CHAPTER 1=================================\")\n"
   ]
  },
  {
   "cell_type": "code",
   "execution_count": 3,
   "id": "27113c47-c85c-40bf-8a93-2d7da332fccf",
   "metadata": {},
   "outputs": [
    {
     "name": "stdin",
     "output_type": "stream",
     "text": [
      "Enter year:  2027\n"
     ]
    },
    {
     "name": "stdout",
     "output_type": "stream",
     "text": [
      "year is prime number\n"
     ]
    }
   ],
   "source": [
    "y=int(input(\"Enter year: \"))\n",
    "count=0\n",
    "for i in range(1,y+1):\n",
    "    if y%i==0:\n",
    "        count+=1\n",
    "if count<3:\n",
    "    print(\"year is prime number\")\n",
    "else:\n",
    "    print(\"year is not a prime number\")"
   ]
  },
  {
   "cell_type": "code",
   "execution_count": 16,
   "id": "2b016d74-18bd-4368-b4d9-7ed14b65c64f",
   "metadata": {},
   "outputs": [
    {
     "name": "stdout",
     "output_type": "stream",
     "text": [
      "[2, 5, 6]\n"
     ]
    }
   ],
   "source": [
    "l=[5,6,2]\n",
    "max=0\n",
    "l1=[]\n",
    "for i in l:\n",
    "    if max<i:\n",
    "        l1.append(i)\n",
    "        max=i\n",
    "    elif max>i:\n",
    "        l1.insert(0,i)\n",
    "print(l1)"
   ]
  },
  {
   "cell_type": "code",
   "execution_count": 17,
   "id": "3435daa5-244f-44f5-ade5-ca42eb11cce4",
   "metadata": {},
   "outputs": [
    {
     "name": "stdin",
     "output_type": "stream",
     "text": [
      "Enter a:  1\n",
      "Enter b:  10\n",
      "Enter c:  -24\n"
     ]
    },
    {
     "name": "stdout",
     "output_type": "stream",
     "text": [
      "2.0\n",
      "-12.0\n"
     ]
    }
   ],
   "source": [
    "a=int(input(\"Enter a: \"))\n",
    "b=int(input(\"Enter b: \"))\n",
    "c=int(input(\"Enter c: \"))\n",
    "print((-b + (b**2-4*a*c)**0.5)/2*a)\n",
    "print((-b - (b**2-4*a*c)**0.5)/2*a)"
   ]
  },
  {
   "cell_type": "code",
   "execution_count": 18,
   "id": "11493e42-5e4b-4dfd-b80f-198d1af3df14",
   "metadata": {},
   "outputs": [
    {
     "name": "stdin",
     "output_type": "stream",
     "text": [
      "Enter BMI:  24\n"
     ]
    },
    {
     "name": "stdout",
     "output_type": "stream",
     "text": [
      "Normal BMI, You perfectly all right\n"
     ]
    }
   ],
   "source": [
    "bmi=float(input(\"Enter BMI: \"))\n",
    "if bmi<18.5:\n",
    "    print('Underweight, You have to eat healthy food')\n",
    "elif 18.5<bmi<24.9:\n",
    "    print('Normal BMI, You perfectly all right')\n",
    "elif 25.0<bmi<29.9:\n",
    "    print('Overweight, You have to follow diet')\n",
    "else:\n",
    "    print('Obese, You have to eat healthy')"
   ]
  },
  {
   "cell_type": "markdown",
   "id": "803d0ed8-2cf9-4aa8-b558-7d9ed3974377",
   "metadata": {},
   "source": [
    "CHALLENGE LEVEL SOLUTIONS"
   ]
  },
  {
   "cell_type": "code",
   "execution_count": 19,
   "id": "03b04a33-7710-4f73-9f32-2f1d453d66b9",
   "metadata": {},
   "outputs": [
    {
     "name": "stdin",
     "output_type": "stream",
     "text": [
      "Enter password length:  15\n"
     ]
    },
    {
     "name": "stdout",
     "output_type": "stream",
     "text": [
      "Choose character set for password from these :\n",
      "\t\t1. Letters\n",
      "\t\t2. Digits\n",
      "\t\t3. Special characters\n",
      "\t\t4. Exit\n"
     ]
    },
    {
     "name": "stdin",
     "output_type": "stream",
     "text": [
      "Pick a number  2\n",
      "Pick a number  1\n",
      "Pick a number  4\n"
     ]
    },
    {
     "name": "stdout",
     "output_type": "stream",
     "text": [
      "The random password is 3B13LKQfI0IB0cL\n"
     ]
    }
   ],
   "source": [
    "import string\n",
    "import random\n",
    "length = int(input(\"Enter password length: \"))\n",
    "print('''Choose character set for password from these :\n",
    "\t\t1. Letters\n",
    "\t\t2. Digits\n",
    "\t\t3. Special characters\n",
    "\t\t4. Exit''')\n",
    "characterList = \"\"\n",
    "\n",
    "while(True):\n",
    "\tchoice = int(input(\"Pick a number \"))\n",
    "\tif(choice == 1):\n",
    "\t\tcharacterList += string.ascii_letters\n",
    "\telif(choice == 2):\n",
    "\t\tcharacterList += string.digits\n",
    "\telif(choice == 3):\n",
    "\t\tcharacterList += string.punctuation\n",
    "\telif(choice == 4):\n",
    "\t\tbreak\n",
    "\telse:\n",
    "\t\tprint(\"Please pick a valid option!\")\n",
    "password = []\n",
    "for i in range(length):\n",
    "\trandomchar = random.choice(characterList)\n",
    "\tpassword.append(randomchar)\n",
    "print(\"The random password is \" + \"\".join(password))\n"
   ]
  },
  {
   "cell_type": "code",
   "execution_count": 23,
   "id": "e70968e2-6e47-4b64-b416-da811c4e333b",
   "metadata": {},
   "outputs": [
    {
     "name": "stdin",
     "output_type": "stream",
     "text": [
      "Enter row number:  2\n",
      "Enter col number:  2\n"
     ]
    },
    {
     "name": "stdout",
     "output_type": "stream",
     "text": [
      "Enter elements for matrix1: \n"
     ]
    },
    {
     "name": "stdin",
     "output_type": "stream",
     "text": [
      " 1\n",
      " 2\n",
      " 3\n",
      " 4\n"
     ]
    },
    {
     "name": "stdout",
     "output_type": "stream",
     "text": [
      "matrix1: \n",
      "1  2  \n",
      "3  4  \n",
      "Enter elements for matrix2: \n"
     ]
    },
    {
     "name": "stdin",
     "output_type": "stream",
     "text": [
      " 10\n",
      " 20\n",
      " 30\n",
      " 40\n"
     ]
    },
    {
     "name": "stdout",
     "output_type": "stream",
     "text": [
      "matrix2: \n",
      "10 20 \n",
      "30 40 \n",
      "Final result for addition is: \n",
      "11 22 \n",
      "33 44 \n",
      "Final result for subtraction is: \n",
      "-9 -18\n",
      "-27-36\n"
     ]
    }
   ],
   "source": [
    "row=int(input(\"Enter row number: \"))\n",
    "col=int(input(\"Enter col number: \"))\n",
    "print(\"Enter elements for matrix1: \")\n",
    "m1=[[int(input()) for i in range(col)] for j in range(row)]\n",
    "print(\"matrix1: \")\n",
    "for i in range(row):\n",
    "    for j in range(col):\n",
    "        print(format(m1[i][j],\"<3\"), end=\"\")\n",
    "    print()\n",
    "print(\"Enter elements for matrix2: \")\n",
    "m2=[[int(input()) for i in range(col)] for j in range(row)]\n",
    "print(\"matrix2: \")\n",
    "for i in range(row):\n",
    "    for j in range(col):\n",
    "        print(format(m2[i][j],\"<3\"), end=\"\")\n",
    "    print()\n",
    "result1=[[0 for i in range(col)] for j in range(row)]\n",
    "for i in range(row):\n",
    "    for j in range(col):\n",
    "        result1[i][j]=m1[i][j]+m2[i][j]\n",
    "print(\"Final result for addition is: \")\n",
    "for i in range(row):\n",
    "    for j in range(col):\n",
    "        print(format(result1[i][j],\"<3\"), end=\"\")\n",
    "    print()\n",
    "result2=[[0 for i in range(col)] for j in range(row)]\n",
    "for i in range(row):\n",
    "    for j in range(col):\n",
    "        result2[i][j]=m1[i][j]-m2[i][j]\n",
    "print(\"Final result for subtraction is: \")\n",
    "for i in range(row):\n",
    "    for j in range(col):\n",
    "        print(format(result2[i][j],\"<3\"), end=\"\")\n",
    "    print()"
   ]
  },
  {
   "cell_type": "code",
   "execution_count": 26,
   "id": "c80aa01e-da10-430d-b76a-4b4c02816ab5",
   "metadata": {},
   "outputs": [
    {
     "name": "stdin",
     "output_type": "stream",
     "text": [
      "Enter first number:  64\n",
      "Enter second number:  48\n"
     ]
    },
    {
     "data": {
      "text/plain": [
       "16"
      ]
     },
     "execution_count": 26,
     "metadata": {},
     "output_type": "execute_result"
    }
   ],
   "source": [
    "def gcd(a,b):\n",
    "    if b==0:\n",
    "        return a\n",
    "    return gcd(b,a%b)\n",
    "n1=int(input(\"Enter first number: \"))\n",
    "n2=int(input(\"Enter second number: \"))\n",
    "gcd(n1,n2)"
   ]
  },
  {
   "cell_type": "code",
   "execution_count": 27,
   "id": "4aacdf36-5c29-4554-a5eb-de16683e02ff",
   "metadata": {},
   "outputs": [
    {
     "name": "stdin",
     "output_type": "stream",
     "text": [
      "Enter row number for m1:  2\n",
      "Enter col number for m2:  2\n",
      "Enter col number for m1 / row number for m2:  2\n"
     ]
    },
    {
     "name": "stdout",
     "output_type": "stream",
     "text": [
      "Enter elements for matrix1: \n"
     ]
    },
    {
     "name": "stdin",
     "output_type": "stream",
     "text": [
      " 1\n",
      " 2\n",
      " 3\n",
      " 4\n"
     ]
    },
    {
     "name": "stdout",
     "output_type": "stream",
     "text": [
      "matrix1: \n",
      "1    2    \n",
      "3    4    \n",
      "Enter elements for matrix2: \n"
     ]
    },
    {
     "name": "stdin",
     "output_type": "stream",
     "text": [
      " 1\n",
      " 2\n",
      " 3\n",
      " 4\n"
     ]
    },
    {
     "name": "stdout",
     "output_type": "stream",
     "text": [
      "matrix2: \n",
      "1    2    \n",
      "3    4    \n",
      "Final result for multiplication is: \n",
      "7    10   \n",
      "15   22   \n"
     ]
    }
   ],
   "source": [
    "p=int(input(\"Enter row number for m1: \"))\n",
    "q=int(input(\"Enter col number for m2: \"))\n",
    "n=int(input(\"Enter col number for m1 / row number for m2: \"))\n",
    "print(\"Enter elements for matrix1: \")\n",
    "m1=[[int(input()) for i in range(n)] for j in range(p)]\n",
    "print(\"matrix1: \")\n",
    "for i in range(p):\n",
    "    for j in range(n):\n",
    "        print(format(m1[i][j],\"<5\"), end=\"\")\n",
    "    print()\n",
    "print(\"Enter elements for matrix2: \")\n",
    "m2=[[int(input()) for i in range(q)] for j in range(n)]\n",
    "print(\"matrix2: \")\n",
    "for i in range(n):\n",
    "    for j in range(q):\n",
    "        print(format(m2[i][j],\"<5\"), end=\"\")\n",
    "    print()\n",
    "result=[[0 for i in range(q)] for j in range(p)]\n",
    "for i in range(p):\n",
    "    for j in range(q):\n",
    "        for k in range(n):\n",
    "            result[i][j]=result[i][j]+m1[i][k]*m2[k][j]\n",
    "print(\"Final result for multiplication is: \")\n",
    "for i in range(p):\n",
    "    for j in range(q):\n",
    "        print(format(result[i][j],\"<5\"), end=\"\")\n",
    "    print()"
   ]
  },
  {
   "cell_type": "code",
   "execution_count": 28,
   "id": "f0cd0cb1-0404-4668-8959-6bf429012d88",
   "metadata": {},
   "outputs": [
    {
     "name": "stdin",
     "output_type": "stream",
     "text": [
      "Enter a choice(1-rock,2-paper,3-scissor):  2\n"
     ]
    },
    {
     "name": "stdout",
     "output_type": "stream",
     "text": [
      "computer choice:  3\n",
      "You lost the game\n"
     ]
    }
   ],
   "source": [
    "import random\n",
    "c=int(input(\"Enter a choice(1-rock,2-paper,3-scissor): \"))\n",
    "cc=random.randint(1,3)\n",
    "print(\"computer choice: \",cc)\n",
    "if c==1:\n",
    "    name='rock'\n",
    "elif c==2:\n",
    "    name='paper'\n",
    "else:\n",
    "    name='scissor'\n",
    "if c==cc:\n",
    "    print(\"It's a draw!\")\n",
    "elif ((c==1 and cc==2) or (c==2 and cc==3) or (c==3 and cc==1)):\n",
    "    print(\"You lost the game\")\n",
    "else:\n",
    "    print(\"You won the game\")"
   ]
  },
  {
   "cell_type": "code",
   "execution_count": 30,
   "id": "a6cd6348-ffe2-421e-9a17-aaa5dafb12a6",
   "metadata": {},
   "outputs": [
    {
     "name": "stdin",
     "output_type": "stream",
     "text": [
      "Enter upto where you want series:  10\n"
     ]
    },
    {
     "name": "stdout",
     "output_type": "stream",
     "text": [
      "0 1 1 2 3 5 8 13 21 34 "
     ]
    }
   ],
   "source": [
    "n=int(input(\"Enter upto where you want series: \"))\n",
    "f=0\n",
    "s=1\n",
    "for i in range(n):\n",
    "    print(f, end=\" \")\n",
    "    temp=f\n",
    "    f=s\n",
    "    s=temp+s"
   ]
  },
  {
   "cell_type": "code",
   "execution_count": 35,
   "id": "425d9ce3-169b-4215-a887-940ccad09bf0",
   "metadata": {},
   "outputs": [
    {
     "name": "stdin",
     "output_type": "stream",
     "text": [
      "Enter place of digit you want:  15\n"
     ]
    },
    {
     "name": "stdout",
     "output_type": "stream",
     "text": [
      "377\n"
     ]
    }
   ],
   "source": [
    "n=int(input(\"Enter place of digit you want: \"))\n",
    "l=[]\n",
    "f=0\n",
    "s=1\n",
    "for i in range(n+1):\n",
    "    l.append(f)\n",
    "    temp=f\n",
    "    f=s\n",
    "    s=temp+s\n",
    "print(l[n-1])"
   ]
  },
  {
   "cell_type": "code",
   "execution_count": 36,
   "id": "e74980a4-663b-4365-a3ae-722a4d62fe10",
   "metadata": {},
   "outputs": [
    {
     "name": "stdin",
     "output_type": "stream",
     "text": [
      "Enter month:  feb\n",
      "Enter year:  2023\n"
     ]
    },
    {
     "name": "stdout",
     "output_type": "stream",
     "text": [
      "1 2 3 4 5 6 7 8 9 10 11 12 13 14 15 16 17 18 19 20 21 22 23 24 25 26 27 28 "
     ]
    }
   ],
   "source": [
    "month=input(\"Enter month: \")\n",
    "year=int(input(\"Enter year: \"))\n",
    "m=['april','june','sep','nov']\n",
    "if year%4==0:\n",
    "    if month=='feb':\n",
    "        for i in range(1,30):\n",
    "            print(i,end=\" \")\n",
    "    elif month in m:\n",
    "        for i in range(1,31):\n",
    "            print(i,end=\" \")\n",
    "    else:\n",
    "        for i in range(1,32):\n",
    "            print(i,end=\" \")\n",
    "else:\n",
    "    if month=='feb':\n",
    "        for i in range(1,29):\n",
    "            print(i,end=\" \")\n",
    "    elif month in m:\n",
    "        for i in range(1,31):\n",
    "            print(i,end=\" \")\n",
    "    else:\n",
    "        for i in range(1,32):\n",
    "            print(i,end=\" \")"
   ]
  },
  {
   "cell_type": "code",
   "execution_count": 40,
   "id": "7f6f5f9f-ac91-45ce-b4fb-994296a8f6a2",
   "metadata": {},
   "outputs": [
    {
     "name": "stdin",
     "output_type": "stream",
     "text": [
      "Enter number:  1111\n"
     ]
    },
    {
     "name": "stdout",
     "output_type": "stream",
     "text": [
      "1 11 101 "
     ]
    }
   ],
   "source": [
    "n=int(input(\"Enter number: \"))\n",
    "for i in range(1,n+1):\n",
    "    if n%i==0:\n",
    "        c=0\n",
    "        for j in range(2,i):\n",
    "            if i%j==0:\n",
    "                c=1\n",
    "                break\n",
    "        if c==0:\n",
    "            print(i, end=\" \")"
   ]
  },
  {
   "cell_type": "markdown",
   "id": "125dd4e9-8d7f-4642-958c-f6f1047ddc6a",
   "metadata": {},
   "source": [
    "THANK YOU FOR GIVING THIS ASSIGNMENT"
   ]
  },
  {
   "cell_type": "code",
   "execution_count": null,
   "id": "90e00ddf-b111-4c39-bf78-114464ac7959",
   "metadata": {},
   "outputs": [],
   "source": []
  }
 ],
 "metadata": {
  "kernelspec": {
   "display_name": "Python 3 (ipykernel)",
   "language": "python",
   "name": "python3"
  },
  "language_info": {
   "codemirror_mode": {
    "name": "ipython",
    "version": 3
   },
   "file_extension": ".py",
   "mimetype": "text/x-python",
   "name": "python",
   "nbconvert_exporter": "python",
   "pygments_lexer": "ipython3",
   "version": "3.10.8"
  }
 },
 "nbformat": 4,
 "nbformat_minor": 5
}
