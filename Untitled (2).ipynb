{
 "cells": [
  {
   "cell_type": "code",
   "execution_count": 9,
   "id": "79d7f259-c78d-4121-9503-bdab92fbdce9",
   "metadata": {},
   "outputs": [
    {
     "name": "stdout",
     "output_type": "stream",
     "text": [
      "7\n",
      "4\n"
     ]
    }
   ],
   "source": [
    "x=4\n",
    "y=7\n",
    "x=x+y\n",
    "y=x-y\n",
    "x=x-y\n",
    "print(x)\n",
    "print(y)"
   ]
  },
  {
   "cell_type": "code",
   "execution_count": 11,
   "id": "25da8256-0b8a-484a-acda-4d600c5f12ec",
   "metadata": {},
   "outputs": [
    {
     "name": "stdin",
     "output_type": "stream",
     "text": [
      "Enter length of the rectangle:  4\n",
      "Enter width of the rectangle:  6\n"
     ]
    },
    {
     "name": "stdout",
     "output_type": "stream",
     "text": [
      "24\n"
     ]
    }
   ],
   "source": [
    "length=int(input(\"Enter length of the rectangle: \"))\n",
    "width=int(input(\"Enter width of the rectangle: \"))\n",
    "area_of_rectangle=length*width\n",
    "print(area_of_rectangle)"
   ]
  },
  {
   "cell_type": "code",
   "execution_count": 12,
   "id": "bc6cd36b-1388-40b8-b8e4-9afaa705cf2e",
   "metadata": {},
   "outputs": [
    {
     "name": "stdin",
     "output_type": "stream",
     "text": [
      "Enter temperature in celsius:  30\n"
     ]
    },
    {
     "name": "stdout",
     "output_type": "stream",
     "text": [
      "Temperature in fahrenheit is: 86.0\n"
     ]
    }
   ],
   "source": [
    "Temp=int(input(\"Enter temperature in celsius: \"))\n",
    "F_Temp=(1.8*Temp)+32\n",
    "print(\"Temperature in fahrenheit is:\", F_Temp)"
   ]
  },
  {
   "cell_type": "code",
   "execution_count": 13,
   "id": "0e4883c2-c2ee-4511-a815-88abb4831849",
   "metadata": {},
   "outputs": [
    {
     "name": "stdin",
     "output_type": "stream",
     "text": [
      "Enter any string to find length:  Gnanesh\n"
     ]
    },
    {
     "name": "stdout",
     "output_type": "stream",
     "text": [
      "7\n"
     ]
    }
   ],
   "source": [
    "name=input(\"Enter any string to find length: \")\n",
    "print(len(name))"
   ]
  },
  {
   "cell_type": "code",
   "execution_count": 23,
   "id": "67ae9ce5-7364-4448-af32-d453ac20d2bf",
   "metadata": {},
   "outputs": [
    {
     "name": "stdin",
     "output_type": "stream",
     "text": [
      "Enter any sentence to count vowels:  I love my India\n"
     ]
    },
    {
     "name": "stdout",
     "output_type": "stream",
     "text": [
      "6\n"
     ]
    }
   ],
   "source": [
    "str=input(\"Enter any sentence to count vowels: \")\n",
    "vowels=\"aeoiuAEIOU\"\n",
    "count=sum(str.count(char) for char in vowels)\n",
    "print(count)"
   ]
  },
  {
   "cell_type": "code",
   "execution_count": 24,
   "id": "6e68ee96-b40a-40b0-8565-0183e3e0b4e7",
   "metadata": {},
   "outputs": [
    {
     "name": "stdout",
     "output_type": "stream",
     "text": [
      "hsenanG si eman yM\n"
     ]
    }
   ],
   "source": [
    "string=\"My name is Gnanesh\"\n",
    "print(string[::-1])"
   ]
  },
  {
   "cell_type": "code",
   "execution_count": 27,
   "id": "99f98a24-4e61-4092-a473-975a8fe47a8c",
   "metadata": {},
   "outputs": [
    {
     "name": "stdin",
     "output_type": "stream",
     "text": [
      "Enter string to check palindrome or not:  GnanG\n"
     ]
    },
    {
     "name": "stdout",
     "output_type": "stream",
     "text": [
      "The string is palindrome\n"
     ]
    }
   ],
   "source": [
    "string=input(\"Enter string to check palindrome or not: \")\n",
    "rev_string=string[::-1]\n",
    "if (string==rev_string):\n",
    "    print(\"The string is palindrome\")\n",
    "else:\n",
    "    print(\"The string is not palindrome\")"
   ]
  },
  {
   "cell_type": "code",
   "execution_count": null,
   "id": "89b64463-0054-42bd-8cf0-9ea5668be9a9",
   "metadata": {},
   "outputs": [],
   "source": [
    "string=input(\"Enter string to remove spaces in it: \")\n",
    "print(string.replace(\" \",\"\"))"
   ]
  },
  {
   "cell_type": "code",
   "execution_count": null,
   "id": "10819a5d-912a-4af3-a66b-3acce662bbd8",
   "metadata": {},
   "outputs": [],
   "source": []
  }
 ],
 "metadata": {
  "kernelspec": {
   "display_name": "Python 3 (ipykernel)",
   "language": "python",
   "name": "python3"
  },
  "language_info": {
   "codemirror_mode": {
    "name": "ipython",
    "version": 3
   },
   "file_extension": ".py",
   "mimetype": "text/x-python",
   "name": "python",
   "nbconvert_exporter": "python",
   "pygments_lexer": "ipython3",
   "version": "3.10.8"
  }
 },
 "nbformat": 4,
 "nbformat_minor": 5
}
