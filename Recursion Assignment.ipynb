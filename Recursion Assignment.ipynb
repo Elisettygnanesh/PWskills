{
 "cells": [
  {
   "cell_type": "markdown",
   "id": "b7b55ab3-73ed-4975-8131-030e538b4656",
   "metadata": {},
   "source": [
    "Recursion Assignment--24/11/2023"
   ]
  },
  {
   "cell_type": "code",
   "execution_count": 20,
   "id": "f5cd84cb-cc0c-4df2-a021-7108904b7b49",
   "metadata": {},
   "outputs": [
    {
     "name": "stdout",
     "output_type": "stream",
     "text": [
      "Steps to solve Tower of Hanoi with 3 disks:\n",
      "Move disk 1 from rod A to rod C\n",
      "Move disk 2 from rod A to rod B\n",
      "Move disk 1 from rod C to rod B\n",
      "Move disk 3 from rod A to rod C\n",
      "Move disk 1 from rod B to rod A\n",
      "Move disk 2 from rod B to rod C\n",
      "Move disk 1 from rod A to rod C\n"
     ]
    }
   ],
   "source": [
    "def hanoi(n, source, target, auxiliary):\n",
    "    if n == 1:\n",
    "        print(f\"Move disk 1 from rod {source} to rod {target}\")\n",
    "        return\n",
    "\n",
    "    hanoi(n - 1, source, auxiliary, target)\n",
    "\n",
    "    print(f\"Move disk {n} from rod {source} to rod {target}\")\n",
    "\n",
    "    hanoi(n - 1, auxiliary, target, source)\n",
    "\n",
    "if __name__ == \"__main__\":\n",
    "    num_disks = 3  \n",
    "    source_rod = 'A'\n",
    "    target_rod = 'C'\n",
    "    auxiliary_rod = 'B'\n",
    "\n",
    "    print(f\"Steps to solve Tower of Hanoi with {num_disks} disks:\")\n",
    "    hanoi(num_disks, source_rod, target_rod, auxiliary_rod)\n"
   ]
  },
  {
   "cell_type": "code",
   "execution_count": 21,
   "id": "bc5c3c32-9b48-4ca4-9813-4b4881ac7c4d",
   "metadata": {},
   "outputs": [
    {
     "name": "stdin",
     "output_type": "stream",
     "text": [
      "Enter String 1:-  intention\n",
      "Enter String 2:-  execution\n"
     ]
    },
    {
     "name": "stdout",
     "output_type": "stream",
     "text": [
      "5\n"
     ]
    }
   ],
   "source": [
    "def min_operations(word1, word2):\n",
    "    m, n = len(word1), len(word2)\n",
    "\n",
    "    dp = [[0] * (n + 1) for _ in range(m + 1)]\n",
    "\n",
    "    for i in range(m + 1):\n",
    "        dp[i][0] = i\n",
    "    for j in range(n + 1):\n",
    "        dp[0][j] = j\n",
    "\n",
    "    for i in range(1, m + 1):\n",
    "        for j in range(1, n + 1):\n",
    "            if word1[i - 1] == word2[j - 1]:\n",
    "                dp[i][j] = dp[i - 1][j - 1]\n",
    "            else:\n",
    "                dp[i][j] = 1 + min(dp[i - 1][j],        \n",
    "                                  dp[i][j - 1],        \n",
    "                                  dp[i - 1][j - 1])    \n",
    "\n",
    "    return dp[m][n]\n",
    "\n",
    "word1 = input(\"Enter String 1:- \")\n",
    "word2 = input(\"Enter String 2:- \")\n",
    "result = min_operations(word1, word2)\n",
    "print(f\"{result}\")"
   ]
  },
  {
   "cell_type": "code",
   "execution_count": 22,
   "id": "fa76af41-e02c-4c3a-a074-5f30912e9947",
   "metadata": {},
   "outputs": [
    {
     "name": "stdout",
     "output_type": "stream",
     "text": [
      "22\n"
     ]
    }
   ],
   "source": [
    "arr=[13, 1, -3, 22, 5]\n",
    "print(max(arr))"
   ]
  },
  {
   "cell_type": "code",
   "execution_count": 23,
   "id": "cfa70fe1-0899-44a0-9966-a0065d5fff4d",
   "metadata": {},
   "outputs": [
    {
     "name": "stdout",
     "output_type": "stream",
     "text": [
      "120\n"
     ]
    }
   ],
   "source": [
    "arr=[92, 23, 15, -20, 10]\n",
    "print(sum(arr))"
   ]
  },
  {
   "cell_type": "code",
   "execution_count": 24,
   "id": "582f2478-94ca-48b2-b591-29d61695efdd",
   "metadata": {},
   "outputs": [
    {
     "name": "stdin",
     "output_type": "stream",
     "text": [
      "Enter number to check armstrong number or not:-  153\n"
     ]
    },
    {
     "name": "stdout",
     "output_type": "stream",
     "text": [
      "Yes\n"
     ]
    }
   ],
   "source": [
    "n=input(\"Enter number to check armstrong number or not:- \")\n",
    "l=len(n)\n",
    "s=sum([int(i)**l for i in n])\n",
    "if int(n)==s:\n",
    "    print(\"Yes\")\n",
    "else:\n",
    "    print(\"No\")"
   ]
  },
  {
   "cell_type": "markdown",
   "id": "9eca87ef-5ffb-444f-af56-62ca99cf0e4f",
   "metadata": {},
   "source": [
    "THANK YOU FOR GIVING THIS ASSIGNMENT"
   ]
  },
  {
   "cell_type": "code",
   "execution_count": null,
   "id": "15492e0f-e836-4ea7-850d-9837f282b063",
   "metadata": {},
   "outputs": [],
   "source": []
  }
 ],
 "metadata": {
  "kernelspec": {
   "display_name": "Python 3 (ipykernel)",
   "language": "python",
   "name": "python3"
  },
  "language_info": {
   "codemirror_mode": {
    "name": "ipython",
    "version": 3
   },
   "file_extension": ".py",
   "mimetype": "text/x-python",
   "name": "python",
   "nbconvert_exporter": "python",
   "pygments_lexer": "ipython3",
   "version": "3.10.8"
  }
 },
 "nbformat": 4,
 "nbformat_minor": 5
}
