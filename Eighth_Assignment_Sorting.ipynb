{
 "cells": [
  {
   "cell_type": "markdown",
   "id": "948e8ea9-ea1a-41ed-bd06-6e2f2b2970f7",
   "metadata": {},
   "source": [
    "18-12-2023 / Assignment - 8 / Sorting"
   ]
  },
  {
   "cell_type": "code",
   "execution_count": 5,
   "id": "39ae7256-92c9-4b4b-b636-277f9522f709",
   "metadata": {},
   "outputs": [
    {
     "name": "stdout",
     "output_type": "stream",
     "text": [
      "5\n"
     ]
    }
   ],
   "source": [
    "def find_ele(l):\n",
    "    #Create an empty dictionary.\n",
    "    d={}\n",
    "    for i in l:\n",
    "        #To check an element already exists in dictionary or not.\n",
    "        if i in d:\n",
    "            #Increment the count if element already exists in dictionary.\n",
    "            d[i]=d[i]+1\n",
    "        else:\n",
    "            #Create key and value pair in dictionary.\n",
    "            d[i]=1\n",
    "    #Find element with maximum count. \n",
    "    max_ele=max(d, key=d.get)\n",
    "    print(max_ele)\n",
    "\n",
    "if __name__ == \"__main__\":\n",
    "    arr=[5,7,2,5,1,10,2,3,5,9]\n",
    "    find_ele(arr)"
   ]
  },
  {
   "cell_type": "code",
   "execution_count": 9,
   "id": "365313c1-dccc-4c2b-965e-5d93e66175b2",
   "metadata": {},
   "outputs": [
    {
     "name": "stdout",
     "output_type": "stream",
     "text": [
      "5 is missing in the array\n"
     ]
    }
   ],
   "source": [
    "def sort_arr(l):\n",
    "    for i in range(len(l)):\n",
    "        for j in range(i,len(l)):\n",
    "            if l[i] > l[j]:\n",
    "                l[i], l[j] = l[j], l[i]\n",
    "    return l\n",
    "\n",
    "def find_missing_ele(arr):\n",
    "    sort_arr(arr)\n",
    "    for i in range(len(arr)-1):\n",
    "        if arr[i]+1 != arr[i+1]:\n",
    "            print(arr[i]+1, \"is missing in the array\")\n",
    "            break\n",
    "\n",
    "if __name__ == \"__main__\":\n",
    "    arr=[1,2,4,6,3,7,8]\n",
    "    find_missing_ele(arr)"
   ]
  },
  {
   "cell_type": "code",
   "execution_count": 16,
   "id": "549049cc-f25b-48b8-8da1-63c614d8d9af",
   "metadata": {},
   "outputs": [
    {
     "name": "stdout",
     "output_type": "stream",
     "text": [
      "The number that occurs odd number of times is: 3\n"
     ]
    }
   ],
   "source": [
    "def find_odd_occurrence(arr):\n",
    "    result = 0\n",
    "    for num in arr:\n",
    "        result ^= num\n",
    "    return result\n",
    "\n",
    "arr = [1, 2, 3, 2, 3, 1, 3]\n",
    "result = find_odd_occurrence(arr)\n",
    "print(f\"The number that occurs odd number of times is: {result}\")\n"
   ]
  },
  {
   "cell_type": "code",
   "execution_count": 19,
   "id": "4e17afd4-b5db-4086-b7fb-c8c480310436",
   "metadata": {},
   "outputs": [
    {
     "name": "stdout",
     "output_type": "stream",
     "text": [
      "4 11\n"
     ]
    }
   ],
   "source": [
    "def find_pair_with_sum(arr, k):\n",
    "\n",
    "    # Iterate through the array\n",
    "    for i in range(len(arr)):\n",
    "        # Calculate the difference between the target sum K and the current element\n",
    "        difference = k - arr[i]\n",
    "\n",
    "        # Check if the difference in array\n",
    "        if difference in arr:\n",
    "            # If found, print the pair of elements\n",
    "            print(arr[i], difference)\n",
    "            break\n",
    "\n",
    "arr = [1, 4, 7, 11, 15]\n",
    "target_sum = 15\n",
    "\n",
    "find_pair_with_sum(arr, target_sum)"
   ]
  },
  {
   "cell_type": "code",
   "execution_count": 1,
   "id": "2681084b-d16f-4e5d-8a82-93425f0b49e1",
   "metadata": {},
   "outputs": [
    {
     "name": "stdout",
     "output_type": "stream",
     "text": [
      "-80 85\n"
     ]
    }
   ],
   "source": [
    "def closest_to_zero_sum_pair(arr):\n",
    "    ele=arr[0]\n",
    "    ele1=arr[1]\n",
    "    min=0\n",
    "    while min < len(arr):\n",
    "        for i in range(min+1, len(arr)):\n",
    "            new=arr[min]+arr[i]\n",
    "            if abs(ele + ele1) > abs(new):\n",
    "                ele=arr[min]\n",
    "                ele1=arr[i]\n",
    "        min+=1\n",
    "    print(ele, ele1)\n",
    "arr = [1, 60, -10, 70, -80, 85]\n",
    "closest_to_zero_sum_pair(arr)"
   ]
  },
  {
   "cell_type": "code",
   "execution_count": 6,
   "id": "9f163615-9283-4c22-8ba8-982be2e3940a",
   "metadata": {},
   "outputs": [
    {
     "name": "stdout",
     "output_type": "stream",
     "text": [
      "1 5 6\n"
     ]
    }
   ],
   "source": [
    "def find_three_sum(arr, k):\n",
    "    for i in range(len(arr)):\n",
    "        for j in range(i+1, len(arr)-1):\n",
    "            if arr[i]+arr[j]+arr[j+1] == k:\n",
    "                print(arr[i], arr[j], arr[j+1])\n",
    "\n",
    "arr=[1,2,3,5,6,7,8,9,10]\n",
    "k=12\n",
    "find_three_sum(arr,k)"
   ]
  },
  {
   "cell_type": "code",
   "execution_count": 14,
   "id": "5ef3829d-913a-4053-bd55-10be123a49f4",
   "metadata": {},
   "outputs": [
    {
     "name": "stdout",
     "output_type": "stream",
     "text": [
      "3 4 5\n"
     ]
    }
   ],
   "source": [
    "def find_three_square(arr):\n",
    "    for i in range(len(arr)):\n",
    "        for j in range(i+1, len(arr)-1):\n",
    "            if arr[i]**2+arr[j]**2 == arr[j+1]**2:\n",
    "                print(arr[i], arr[j], arr[j+1])\n",
    "\n",
    "arr=[1,2,3,4,5,6,7,8,9,10]\n",
    "find_three_square(arr)"
   ]
  },
  {
   "cell_type": "code",
   "execution_count": 17,
   "id": "69920b59-d9e6-41ab-be0b-88d41c31f27a",
   "metadata": {},
   "outputs": [
    {
     "name": "stdout",
     "output_type": "stream",
     "text": [
      "3\n"
     ]
    }
   ],
   "source": [
    "def find_majority(arr):\n",
    "    d={}\n",
    "    for i in arr:\n",
    "        if i in d:\n",
    "            d[i] += 1\n",
    "        else:\n",
    "            d[i] = 1\n",
    "    di=max(d, key=d.get)\n",
    "    m=d[di]\n",
    "    if m == len(arr)/2:\n",
    "        print(di)\n",
    "    else:\n",
    "        print(\"There are no numbers having count equal to n/2\")\n",
    "\n",
    "arr=[8,9,3,3,4,5,3,3]\n",
    "find_majority(arr)"
   ]
  },
  {
   "cell_type": "code",
   "execution_count": 18,
   "id": "b891aa60-a176-44e6-9cec-a143075b3a4a",
   "metadata": {},
   "outputs": [
    {
     "name": "stdout",
     "output_type": "stream",
     "text": [
      "The row with the maximum number of 0's is row 1\n"
     ]
    }
   ],
   "source": [
    "def find_max_zeros_row(matrix):\n",
    "    max_zeros_row = -1\n",
    "    max_zeros_count = -1\n",
    "    \n",
    "    for i, row in enumerate(matrix):\n",
    "        zeros_count = 0\n",
    "        for element in row:\n",
    "            if element == 0:\n",
    "                zeros_count += 1\n",
    "        \n",
    "        if zeros_count > max_zeros_count:\n",
    "            max_zeros_count = zeros_count\n",
    "            max_zeros_row = i\n",
    "    \n",
    "    return max_zeros_row\n",
    "\n",
    "matrix = [\n",
    "    [1, 1, 1, 0, 0],\n",
    "    [1, 1, 0, 0, 0],\n",
    "    [1, 1, 1, 1, 0],\n",
    "    [1, 1, 1, 0, 0]\n",
    "]\n",
    "\n",
    "result = find_max_zeros_row(matrix)\n",
    "print(f\"The row with the maximum number of 0's is row {result}\")\n"
   ]
  },
  {
   "cell_type": "code",
   "execution_count": 19,
   "id": "ddd4c5ec-5121-47f5-af4b-1993c027717a",
   "metadata": {},
   "outputs": [
    {
     "name": "stdout",
     "output_type": "stream",
     "text": [
      "[0, 0, 0, 0, 0, 1, 1, 1, 1, 1, 2, 2]\n"
     ]
    }
   ],
   "source": [
    "def sort_arr(l):\n",
    "    for i in range(len(l)):\n",
    "        for j in range(i,len(l)):\n",
    "            if l[i] > l[j]:\n",
    "                l[i], l[j] = l[j], l[i]\n",
    "                \n",
    "A=[0,1,1,0,1,2,1,2,0,0,0,1]\n",
    "sort_arr(A)\n",
    "print(A)"
   ]
  },
  {
   "cell_type": "markdown",
   "id": "04563841-52a4-4f2b-a946-e454e41ba88a",
   "metadata": {},
   "source": [
    "THANK YOU FOR GIVING THIS ASSIGNMENT"
   ]
  },
  {
   "cell_type": "code",
   "execution_count": null,
   "id": "b75afe9a-ef86-410a-8873-a93b1b2394ba",
   "metadata": {},
   "outputs": [],
   "source": []
  }
 ],
 "metadata": {
  "kernelspec": {
   "display_name": "Python 3 (ipykernel)",
   "language": "python",
   "name": "python3"
  },
  "language_info": {
   "codemirror_mode": {
    "name": "ipython",
    "version": 3
   },
   "file_extension": ".py",
   "mimetype": "text/x-python",
   "name": "python",
   "nbconvert_exporter": "python",
   "pygments_lexer": "ipython3",
   "version": "3.10.8"
  }
 },
 "nbformat": 4,
 "nbformat_minor": 5
}
