{
 "cells": [
  {
   "cell_type": "code",
   "execution_count": 2,
   "id": "15cd6656-18d8-42c7-866b-d8a74d1417b1",
   "metadata": {},
   "outputs": [
    {
     "name": "stdout",
     "output_type": "stream",
     "text": [
      "slliksWP\n"
     ]
    }
   ],
   "source": [
    "str=\"PWskills\"\n",
    "print(str[::-1])"
   ]
  },
  {
   "cell_type": "code",
   "execution_count": 3,
   "id": "ebecadf5-32b6-424a-ba8f-3ea5d47165ff",
   "metadata": {},
   "outputs": [
    {
     "name": "stdout",
     "output_type": "stream",
     "text": [
      "String is palindrome\n"
     ]
    }
   ],
   "source": [
    "str=\"GnanG\"\n",
    "rev_str=str[::-1]\n",
    "if (str==rev_str):\n",
    "    print(\"String is palindrome\")\n",
    "else:\n",
    "    print(\"String is not palindrome\")"
   ]
  },
  {
   "cell_type": "code",
   "execution_count": 4,
   "id": "e4858b27-0938-489b-8ba3-09ea0b1e535c",
   "metadata": {},
   "outputs": [
    {
     "name": "stdout",
     "output_type": "stream",
     "text": [
      "MAHESH\n"
     ]
    }
   ],
   "source": [
    "str=\"mahesh\"\n",
    "print(str.upper())"
   ]
  },
  {
   "cell_type": "code",
   "execution_count": 5,
   "id": "33b70d76-1ddb-4f54-9512-e9c451a66bb6",
   "metadata": {},
   "outputs": [
    {
     "name": "stdout",
     "output_type": "stream",
     "text": [
      "mahesh\n"
     ]
    }
   ],
   "source": [
    "str=\"MAHESH\"\n",
    "print(str.lower())"
   ]
  },
  {
   "cell_type": "code",
   "execution_count": 6,
   "id": "623c6083-514b-4121-82fe-18e9a4b5a969",
   "metadata": {},
   "outputs": [
    {
     "name": "stdout",
     "output_type": "stream",
     "text": [
      "6\n"
     ]
    }
   ],
   "source": [
    "str=\"I love India\"\n",
    "vowels=\"aeiouAEIOU\"\n",
    "vow_in_str=sum(str.count(char) for char in vowels)\n",
    "print(vow_in_str)"
   ]
  },
  {
   "cell_type": "code",
   "execution_count": 15,
   "id": "fb681a00-2516-4158-b83b-b79a8940ca4c",
   "metadata": {},
   "outputs": [
    {
     "name": "stdout",
     "output_type": "stream",
     "text": [
      "9\n"
     ]
    }
   ],
   "source": [
    "str=\"I love My Country\"\n",
    "vowels=\"aeiouAEIOU\"\n",
    "count=0\n",
    "for char in str:\n",
    "    if char in vowels or char==\" \":\n",
    "        count+=0\n",
    "    else:\n",
    "        count+=1\n",
    "print(count)"
   ]
  },
  {
   "cell_type": "code",
   "execution_count": 19,
   "id": "6fca50c7-148e-499a-a3ef-4bbd4cd2f06c",
   "metadata": {},
   "outputs": [
    {
     "name": "stdout",
     "output_type": "stream",
     "text": [
      "IamlearningDataSCienceinpwskills\n"
     ]
    }
   ],
   "source": [
    "sen=\"I am learning Data SCience in pw skills \"\n",
    "rem_spaces_str=sen.replace(\" \",\"\")\n",
    "print(rem_spaces_str)"
   ]
  },
  {
   "cell_type": "code",
   "execution_count": 21,
   "id": "c6925ca6-9fa1-449d-9f49-df4142e32f69",
   "metadata": {},
   "outputs": [
    {
     "name": "stdout",
     "output_type": "stream",
     "text": [
      "18\n"
     ]
    }
   ],
   "source": [
    "x=\"My name is Gnanesh\"\n",
    "count=0\n",
    "for char in x:\n",
    "    count+=1\n",
    "print(count)"
   ]
  },
  {
   "cell_type": "code",
   "execution_count": 32,
   "id": "97b28cfe-2c67-48f7-ac8a-60f8ac2aa92e",
   "metadata": {},
   "outputs": [
    {
     "name": "stdout",
     "output_type": "stream",
     "text": [
      "False\n"
     ]
    }
   ],
   "source": [
    "y=\"My name is Gnanesh\"\n",
    "print('Ramesh' in y)"
   ]
  },
  {
   "cell_type": "code",
   "execution_count": 33,
   "id": "e704f306-2a25-4a73-bea8-38b5147e9657",
   "metadata": {},
   "outputs": [
    {
     "name": "stdout",
     "output_type": "stream",
     "text": [
      "My name is Ramesh\n"
     ]
    }
   ],
   "source": [
    "x=\"My name is Gnanesh\"\n",
    "print(x.replace(\"Gnanesh\", \"Ramesh\"))"
   ]
  },
  {
   "cell_type": "code",
   "execution_count": 34,
   "id": "ae5b0f86-cd2d-4acc-b5cf-3d92c8932fb2",
   "metadata": {},
   "outputs": [
    {
     "name": "stdout",
     "output_type": "stream",
     "text": [
      "2\n"
     ]
    }
   ],
   "source": [
    "sen=\"I am Gnanesh, I am from India\"\n",
    "print(sen.count('am'))"
   ]
  },
  {
   "cell_type": "code",
   "execution_count": 52,
   "id": "faa6ac0a-14e3-40c3-b89b-2680b26ec07e",
   "metadata": {},
   "outputs": [
    {
     "name": "stdout",
     "output_type": "stream",
     "text": [
      "2\n"
     ]
    }
   ],
   "source": [
    "sen=\"PWskills\"\n",
    "print(sen.index('s'))"
   ]
  },
  {
   "cell_type": "code",
   "execution_count": 51,
   "id": "5abf1f8d-832e-40e1-8ef8-214c7d9f33e2",
   "metadata": {},
   "outputs": [
    {
     "name": "stdout",
     "output_type": "stream",
     "text": [
      "7\n"
     ]
    }
   ],
   "source": [
    "sen=\"PWskills\"\n",
    "print(sen.rindex('s'))"
   ]
  },
  {
   "cell_type": "code",
   "execution_count": 60,
   "id": "a5f814ac-9cf8-40f3-82e3-7b933a383f3c",
   "metadata": {},
   "outputs": [
    {
     "name": "stdout",
     "output_type": "stream",
     "text": [
      "['I', 'am', 'learnig', 'Data', 'Science', 'in', 'pwskills']\n"
     ]
    }
   ],
   "source": [
    "sr=\"I am learnig Data Science in pwskills\"\n",
    "list=sr.split()\n",
    "print(list)"
   ]
  },
  {
   "cell_type": "code",
   "execution_count": 66,
   "id": "0db40bb1-ecec-4211-a103-e8d4d144620f",
   "metadata": {},
   "outputs": [
    {
     "name": "stdout",
     "output_type": "stream",
     "text": [
      "IamAbhi\n"
     ]
    }
   ],
   "source": [
    "list=['I', 'am', 'Abhi']\n",
    "string=''\n",
    "for ele in list:\n",
    "    string+=ele\n",
    "print(string)"
   ]
  },
  {
   "cell_type": "code",
   "execution_count": 67,
   "id": "7224c188-4c59-4060-a959-3e7c9d79f5d1",
   "metadata": {},
   "outputs": [
    {
     "name": "stdout",
     "output_type": "stream",
     "text": [
      "I_am_playing_Foot_Ball\n"
     ]
    }
   ],
   "source": [
    "string=\"I am playing Foot Ball\"\n",
    "print(string.replace(\" \",\"_\"))"
   ]
  },
  {
   "cell_type": "code",
   "execution_count": 71,
   "id": "cc62910b-7c22-4832-9212-ac8d28c18f68",
   "metadata": {},
   "outputs": [
    {
     "name": "stdout",
     "output_type": "stream",
     "text": [
      "False\n"
     ]
    }
   ],
   "source": [
    "string=\"Gnanesh\"\n",
    "print(string.startswith('s'))"
   ]
  },
  {
   "cell_type": "code",
   "execution_count": 74,
   "id": "25f5bb56-ac0d-4566-9865-99d113fed837",
   "metadata": {},
   "outputs": [
    {
     "name": "stdout",
     "output_type": "stream",
     "text": [
      "True\n"
     ]
    }
   ],
   "source": [
    "string=\"Gnanesh\"\n",
    "print(string.endswith(\"h\"))"
   ]
  },
  {
   "cell_type": "code",
   "execution_count": 77,
   "id": "5215fda6-5822-4450-9675-4b499f9af290",
   "metadata": {},
   "outputs": [
    {
     "name": "stdout",
     "output_type": "stream",
     "text": [
      "Mahathma Gandhi\n"
     ]
    }
   ],
   "source": [
    "name=\"mahathma gandhi\"\n",
    "print(name.title())"
   ]
  },
  {
   "cell_type": "code",
   "execution_count": 90,
   "id": "b031a7bb-d915-4918-bac5-65ea22bc8dc4",
   "metadata": {},
   "outputs": [
    {
     "name": "stdout",
     "output_type": "stream",
     "text": [
      "Gnanesh\n"
     ]
    }
   ],
   "source": [
    "sen=\"my name is Gnanesh\"\n",
    "list=sen.split()\n",
    "string=list[0]\n",
    "for i in list:\n",
    "    if (len(i)>len(string)):\n",
    "        string=i\n",
    "print(string)"
   ]
  },
  {
   "cell_type": "code",
   "execution_count": 92,
   "id": "91374724-b384-430a-a874-5b32ce4d5dd1",
   "metadata": {},
   "outputs": [
    {
     "name": "stdout",
     "output_type": "stream",
     "text": [
      "I\n"
     ]
    }
   ],
   "source": [
    "sen=\"my name is Gnanesh and I am from India\"\n",
    "list=sen.split()\n",
    "string=list[0]\n",
    "for i in list:\n",
    "    if (len(i)<len(string)):\n",
    "        string=i\n",
    "print(string)"
   ]
  },
  {
   "cell_type": "code",
   "execution_count": 100,
   "id": "8d4eaae7-c9a7-4125-9bdb-5e14e4bef594",
   "metadata": {},
   "outputs": [
    {
     "name": "stdout",
     "output_type": "stream",
     "text": [
      "assignment second my is This "
     ]
    }
   ],
   "source": [
    "string=\"This is my second assignment\"\n",
    "list=string.split()\n",
    "rev_list=list[::-1]\n",
    "for i in rev_list:\n",
    "    print(i, end=' ')"
   ]
  },
  {
   "cell_type": "code",
   "execution_count": 102,
   "id": "5bb6807f-9c2e-4815-a7f6-28dcd07bc626",
   "metadata": {},
   "outputs": [
    {
     "name": "stdout",
     "output_type": "stream",
     "text": [
      "True\n"
     ]
    }
   ],
   "source": [
    "string=\"abc123\"\n",
    "print(string.isalnum())"
   ]
  },
  {
   "cell_type": "code",
   "execution_count": 108,
   "id": "bd0d29a3-3dab-4bfa-ba8e-ff2bbb346ecf",
   "metadata": {},
   "outputs": [
    {
     "name": "stdout",
     "output_type": "stream",
     "text": [
      "2 3 4 7 8 7 "
     ]
    }
   ],
   "source": [
    "string=\"abc234mnyk787\"\n",
    "numbers=[]\n",
    "for i in string:\n",
    "    if i.isnumeric():\n",
    "        numbers.append(i)\n",
    "for num in numbers:\n",
    "    print(num, end=\" \")"
   ]
  },
  {
   "cell_type": "code",
   "execution_count": 111,
   "id": "f620a0db-924c-4dbb-9743-1f5d75ce927b",
   "metadata": {},
   "outputs": [
    {
     "name": "stdout",
     "output_type": "stream",
     "text": [
      "a b c m n y k "
     ]
    }
   ],
   "source": [
    "string=\"abc234mnyk787\"\n",
    "alphabets=[]\n",
    "for i in string:\n",
    "    if i.isalpha():\n",
    "        alphabets.append(i)\n",
    "for alpha in numbers:\n",
    "    print(alpha, end=\" \")"
   ]
  },
  {
   "cell_type": "code",
   "execution_count": 1,
   "id": "d34572f8-6c24-4a59-a42a-54297c9f7500",
   "metadata": {},
   "outputs": [
    {
     "name": "stdout",
     "output_type": "stream",
     "text": [
      "2\n"
     ]
    }
   ],
   "source": [
    "string=\"PWskills\"\n",
    "count=0\n",
    "for char in string:\n",
    "    if char.isupper():\n",
    "        count+=1\n",
    "print(count)"
   ]
  },
  {
   "cell_type": "code",
   "execution_count": 3,
   "id": "d8dc28f7-b327-4f1c-aaac-7ea5a1db0806",
   "metadata": {},
   "outputs": [
    {
     "name": "stdout",
     "output_type": "stream",
     "text": [
      "6\n"
     ]
    }
   ],
   "source": [
    "string=\"PWskills\"\n",
    "count=0\n",
    "for char in string:\n",
    "    if char.islower():\n",
    "        count+=1\n",
    "print(count)"
   ]
  },
  {
   "cell_type": "code",
   "execution_count": 5,
   "id": "4bdf87ad-32d2-49f9-bd86-4918aed1e3fe",
   "metadata": {},
   "outputs": [
    {
     "name": "stdout",
     "output_type": "stream",
     "text": [
      "p w S K I L L S "
     ]
    }
   ],
   "source": [
    "string=\"PWskills\"\n",
    "for char in string:\n",
    "    if char.isupper():\n",
    "        print(char.lower(), end=\" \")\n",
    "    else:\n",
    "        print(char.upper(), end=\" \")"
   ]
  },
  {
   "cell_type": "code",
   "execution_count": 9,
   "id": "4b4d574d-afa9-4fc3-9bb6-5e0cae4db025",
   "metadata": {},
   "outputs": [
    {
     "name": "stdout",
     "output_type": "stream",
     "text": [
      "I am assignment "
     ]
    }
   ],
   "source": [
    "string=\"I am writing assignment\"\n",
    "list=string.split()\n",
    "list.remove('writing')\n",
    "for i in list:\n",
    "    print(i, end=\" \")"
   ]
  },
  {
   "cell_type": "code",
   "execution_count": 12,
   "id": "695b16fd-097c-402a-85b0-50bd7c091c72",
   "metadata": {},
   "outputs": [
    {
     "name": "stdout",
     "output_type": "stream",
     "text": [
      "It is valid Email\n"
     ]
    }
   ],
   "source": [
    "Email=\"PWskills@gmail.com\"\n",
    "list=Email.split('@')\n",
    "if 'gmail.com' in list:\n",
    "    print('It is valid Email')\n",
    "else:\n",
    "    print('It is not valid Email')"
   ]
  },
  {
   "cell_type": "code",
   "execution_count": 13,
   "id": "0078e7a4-bf13-4339-b6f6-c39fe415fb26",
   "metadata": {},
   "outputs": [
    {
     "name": "stdout",
     "output_type": "stream",
     "text": [
      "Username:  PWskills\n"
     ]
    }
   ],
   "source": [
    "Email=\"PWskills@gmail.com\"\n",
    "list=Email.split('@')\n",
    "print('Username: ',list[0])"
   ]
  },
  {
   "cell_type": "code",
   "execution_count": 23,
   "id": "0b9d8714-1e20-4be5-8426-479dc6151f41",
   "metadata": {},
   "outputs": [
    {
     "name": "stdout",
     "output_type": "stream",
     "text": [
      "Domain:  gmail\n"
     ]
    }
   ],
   "source": [
    "Email=\"PWskills@gmail.com\"\n",
    "list=Email.split('@')\n",
    "list2=list[1].split('.')\n",
    "print('Domain: ',list2[0])"
   ]
  },
  {
   "cell_type": "code",
   "execution_count": 28,
   "id": "9700df82-76cd-43c2-94e2-bafa588ad9b0",
   "metadata": {},
   "outputs": [
    {
     "name": "stdout",
     "output_type": "stream",
     "text": [
      "Here is an example "
     ]
    }
   ],
   "source": [
    "string=\"Here   is        an     example\"\n",
    "list=string.split()\n",
    "for char in list:\n",
    "    print(char, end=\" \")"
   ]
  },
  {
   "cell_type": "code",
   "execution_count": 30,
   "id": "22a4ebf7-5ae5-4fc4-928e-fd275a229e0c",
   "metadata": {},
   "outputs": [
    {
     "name": "stdout",
     "output_type": "stream",
     "text": [
      "{'T': 1, 'h': 2, 'i': 4, 's': 5, 'b': 1, 'e': 4, 't': 3, 'x': 1, 'a': 1, 'm': 1, 'p': 1, 'l': 1, 'f': 1, 'o': 2, 'r': 1, 'q': 1, 'u': 1, 'n': 1}\n"
     ]
    }
   ],
   "source": [
    "string=\"This is best example for this question\"\n",
    "dict={}\n",
    "for i in string:\n",
    "    if i==\" \":\n",
    "        continue\n",
    "    else:\n",
    "        dict[i]=string.count(i)\n",
    "print(dict)"
   ]
  },
  {
   "cell_type": "code",
   "execution_count": 16,
   "id": "34d6ea96-82fa-4391-9c07-d99ce238ff3e",
   "metadata": {},
   "outputs": [
    {
     "name": "stdout",
     "output_type": "stream",
     "text": [
      "I am stuck in the small places  what I have to do now\n"
     ]
    }
   ],
   "source": [
    "string=\"I am stuck!, in the small place's . what I have to do now?\"\n",
    "pun='''!()-[]{};:'\"\\,<>./?@#$%^&*_~'''\n",
    "for i in string:\n",
    "    if (i in pun):\n",
    "        string=string.replace(i,'')\n",
    "print(string)"
   ]
  },
  {
   "cell_type": "code",
   "execution_count": 32,
   "id": "6c239cc1-bfb9-48f2-b7d5-b451590501a2",
   "metadata": {},
   "outputs": [
    {
     "name": "stdout",
     "output_type": "stream",
     "text": [
      "string has only numbers\n"
     ]
    }
   ],
   "source": [
    "string=\"773987498106934\"\n",
    "num=0\n",
    "alpha=0\n",
    "for i in string:\n",
    "    if (i.isnumeric()):\n",
    "        num+=1\n",
    "    else:\n",
    "        alpha+=1\n",
    "if num>alpha and alpha==0:\n",
    "    print(\"string has only numbers\")\n",
    "elif num<alpha and num==0:\n",
    "    print(\"string has only alphabets\")\n",
    "else:\n",
    "    print(\"string has both numbers and alphabets\")"
   ]
  },
  {
   "cell_type": "code",
   "execution_count": 33,
   "id": "6381b77b-4c4a-44a8-b4e7-bc17844ccedd",
   "metadata": {},
   "outputs": [
    {
     "name": "stdout",
     "output_type": "stream",
     "text": [
      "string has only alphabets\n"
     ]
    }
   ],
   "source": [
    "string=\"adfkajoidjirjemojfiosajsd\"\n",
    "num=0\n",
    "alpha=0\n",
    "for i in string:\n",
    "    if (i.isnumeric()):\n",
    "        num+=1\n",
    "    else:\n",
    "        alpha+=1\n",
    "if num>alpha and alpha==0:\n",
    "    print(\"string has only numbers\")\n",
    "elif num<alpha and num==0:\n",
    "    print(\"string has only alphabets\")\n",
    "else:\n",
    "    print(\"string has both numbers and alphabets\")"
   ]
  },
  {
   "cell_type": "code",
   "execution_count": 34,
   "id": "994fc088-089f-4932-a9ef-628bfa5cca3d",
   "metadata": {},
   "outputs": [
    {
     "name": "stdout",
     "output_type": "stream",
     "text": [
      "['I', 'am', 'from', 'India']\n"
     ]
    }
   ],
   "source": [
    "string=\"I am from India\"\n",
    "list=string.split()\n",
    "print(list)"
   ]
  },
  {
   "cell_type": "code",
   "execution_count": 53,
   "id": "d6c61adb-5f92-4510-82ae-260c35364a53",
   "metadata": {},
   "outputs": [
    {
     "name": "stdout",
     "output_type": "stream",
     "text": [
      "Strings are anagram\n"
     ]
    }
   ],
   "source": [
    "string1=\"Entry\"\n",
    "string2=\"Entry\"\n",
    "if (sorted(string1)==sorted(string2)):\n",
    "    print(\"Strings are anagram\")\n",
    "else:\n",
    "    print(\"Strings are not anagram\")"
   ]
  },
  {
   "cell_type": "code",
   "execution_count": 57,
   "id": "fb8e3dde-30e8-4f52-96c0-2b3391a6469f",
   "metadata": {},
   "outputs": [
    {
     "name": "stdout",
     "output_type": "stream",
     "text": [
      "n\n"
     ]
    }
   ],
   "source": [
    "string=\"Gnanesh\"\n",
    "count=0\n",
    "char=string[0]\n",
    "for i in string:\n",
    "    if string.count(i)>count:\n",
    "        count=string.count(i)\n",
    "        char=i\n",
    "print(char)"
   ]
  },
  {
   "cell_type": "code",
   "execution_count": 62,
   "id": "2951e1b3-a86f-43db-8cdf-711739586f0c",
   "metadata": {},
   "outputs": [
    {
     "name": "stdout",
     "output_type": "stream",
     "text": [
      "G a e s h "
     ]
    }
   ],
   "source": [
    "string=\"Gnanesh\"\n",
    "for i in string:\n",
    "    if string.count(i)==1:\n",
    "        print(i, end=\" \")"
   ]
  },
  {
   "cell_type": "code",
   "execution_count": 64,
   "id": "c19149b9-637c-450e-8717-0fa80ea4d9f2",
   "metadata": {},
   "outputs": [
    {
     "name": "stdout",
     "output_type": "stream",
     "text": [
      "3\n"
     ]
    }
   ],
   "source": [
    "string=\"hotel-vserdt-iui-jj\"\n",
    "print(string.count('-'))"
   ]
  },
  {
   "cell_type": "code",
   "execution_count": 78,
   "id": "ae7f5aa5-ee31-4b47-b95c-33ec505ca6e6",
   "metadata": {},
   "outputs": [
    {
     "name": "stdout",
     "output_type": "stream",
     "text": [
      "String has special characters\n"
     ]
    }
   ],
   "source": [
    "string=\"Gnanesh@gmail.com\"\n",
    "if string.isalnum():\n",
    "    print(\"String has no special characters\")\n",
    "else:\n",
    "    print(\"String has special characters\") \n",
    "    "
   ]
  },
  {
   "cell_type": "code",
   "execution_count": 92,
   "id": "53f0c933-a263-40fa-9089-c658cc6f8e7a",
   "metadata": {},
   "outputs": [
    {
     "name": "stdout",
     "output_type": "stream",
     "text": [
      "string is str\n"
     ]
    }
   ],
   "source": [
    "string=\"string is written str\"\n",
    "list=string.split()\n",
    "list.pop(2)\n",
    "print(' '.join(list))"
   ]
  },
  {
   "cell_type": "code",
   "execution_count": 91,
   "id": "da62b1b3-6afd-48cc-b043-2a41c4b9ab3a",
   "metadata": {},
   "outputs": [
    {
     "name": "stdout",
     "output_type": "stream",
     "text": [
      "string is written as str\n"
     ]
    }
   ],
   "source": [
    "string=\"string is written str\"\n",
    "list=string.split()\n",
    "list.insert(3, 'as')\n",
    "print(' '.join(list))"
   ]
  },
  {
   "cell_type": "code",
   "execution_count": 90,
   "id": "aee5b8ae-6aea-4597-b695-7bf64232d60c",
   "metadata": {},
   "outputs": [
    {
     "name": "stdout",
     "output_type": "stream",
     "text": [
      "['Welcome', 'to', 'India']\n"
     ]
    }
   ],
   "source": [
    "string=\"Welcome,to,India\"\n",
    "list=string.split(',')\n",
    "print(list)"
   ]
  },
  {
   "cell_type": "markdown",
   "id": "5793dd3a-a8cc-4ad3-a2ae-6e469aad9e22",
   "metadata": {},
   "source": [
    "#From here list solutions are started"
   ]
  },
  {
   "cell_type": "code",
   "execution_count": 93,
   "id": "9cd50a71-26c7-4ec9-a185-04f8070fd347",
   "metadata": {},
   "outputs": [
    {
     "name": "stdout",
     "output_type": "stream",
     "text": [
      "[1, 2, 3, 4, 5, 6, 7, 8, 9, 10]\n"
     ]
    }
   ],
   "source": [
    "list=[1,2,3,4,5,6,7,8,9,10]\n",
    "print(list)"
   ]
  },
  {
   "cell_type": "code",
   "execution_count": 96,
   "id": "97d2bda3-97cc-4f8f-aedd-1b00b520d71e",
   "metadata": {},
   "outputs": [
    {
     "name": "stdout",
     "output_type": "stream",
     "text": [
      "10\n"
     ]
    }
   ],
   "source": [
    "count=0\n",
    "for i in list:\n",
    "    count+=1\n",
    "print(count)"
   ]
  },
  {
   "cell_type": "code",
   "execution_count": 97,
   "id": "92e478b5-bb63-458f-bc75-8f9b9f3da566",
   "metadata": {},
   "outputs": [
    {
     "name": "stdout",
     "output_type": "stream",
     "text": [
      "[1, 2, 3, 4, 5, 6, 7, 8, 9, 10, 11]\n"
     ]
    }
   ],
   "source": [
    "list.append(11)\n",
    "print(list)"
   ]
  },
  {
   "cell_type": "code",
   "execution_count": 98,
   "id": "d19a86b0-e63f-4c3a-9195-4e173c008c50",
   "metadata": {},
   "outputs": [
    {
     "name": "stdout",
     "output_type": "stream",
     "text": [
      "[1, 2, 3, 4, 5, 900, 6, 7, 8, 9, 10, 11]\n"
     ]
    }
   ],
   "source": [
    "list.insert(5,900)\n",
    "print(list)"
   ]
  },
  {
   "cell_type": "code",
   "execution_count": 100,
   "id": "4bc02bd3-e7d4-4505-9c32-4c45f8a80b41",
   "metadata": {},
   "outputs": [
    {
     "name": "stdout",
     "output_type": "stream",
     "text": [
      "[1, 2, 3, 4, 5, 6, 7, 8, 9, 10, 11]\n"
     ]
    }
   ],
   "source": [
    "list.remove(900)\n",
    "print(list)"
   ]
  },
  {
   "cell_type": "code",
   "execution_count": 101,
   "id": "22ce7fb2-f852-4355-9042-d95b51777b20",
   "metadata": {},
   "outputs": [
    {
     "name": "stdout",
     "output_type": "stream",
     "text": [
      "[1, 2, 3, 4, 5, 6, 7, 8, 9, 10]\n"
     ]
    }
   ],
   "source": [
    "list.pop(10)\n",
    "print(list)"
   ]
  },
  {
   "cell_type": "code",
   "execution_count": 103,
   "id": "f2bf8254-7b95-4317-920f-b65bb516ffef",
   "metadata": {},
   "outputs": [
    {
     "name": "stdout",
     "output_type": "stream",
     "text": [
      "NO\n"
     ]
    }
   ],
   "source": [
    "if 400 in list:\n",
    "    print(\"Yes number in list\")\n",
    "else:\n",
    "    print(\"NO\")"
   ]
  },
  {
   "cell_type": "code",
   "execution_count": 106,
   "id": "bd09a83d-d7e7-4d72-b0cd-5895e1b3ba52",
   "metadata": {},
   "outputs": [
    {
     "data": {
      "text/plain": [
       "6"
      ]
     },
     "execution_count": 106,
     "metadata": {},
     "output_type": "execute_result"
    }
   ],
   "source": [
    "list.insert(9,7)\n",
    "list.index(7)"
   ]
  },
  {
   "cell_type": "code",
   "execution_count": 108,
   "id": "2bab6c5c-efaf-4050-b9e9-597816578bdf",
   "metadata": {},
   "outputs": [
    {
     "data": {
      "text/plain": [
       "2"
      ]
     },
     "execution_count": 108,
     "metadata": {},
     "output_type": "execute_result"
    }
   ],
   "source": [
    "list.count(7)"
   ]
  },
  {
   "cell_type": "code",
   "execution_count": 109,
   "id": "8976507b-85b5-4201-a721-76d372e509ff",
   "metadata": {},
   "outputs": [
    {
     "data": {
      "text/plain": [
       "[10, 7, 9, 8, 7, 6, 5, 4, 3, 2, 1]"
      ]
     },
     "execution_count": 109,
     "metadata": {},
     "output_type": "execute_result"
    }
   ],
   "source": [
    "list[::-1]"
   ]
  },
  {
   "cell_type": "code",
   "execution_count": 116,
   "id": "0b3a6221-ccac-4273-b868-5685fe01c14e",
   "metadata": {},
   "outputs": [
    {
     "name": "stdout",
     "output_type": "stream",
     "text": [
      "[1, 2, 3, 5, 5, 7, 8, 80, 89]\n"
     ]
    }
   ],
   "source": [
    "list=[3,5,8,2,89,1,80,5,7,]\n",
    "list.sort()\n",
    "print(list)"
   ]
  },
  {
   "cell_type": "code",
   "execution_count": 120,
   "id": "8a430386-ffa3-4655-9d07-7008298e3438",
   "metadata": {},
   "outputs": [
    {
     "name": "stdout",
     "output_type": "stream",
     "text": [
      "[89, 80, 8, 7, 5, 5, 3, 2, 1]\n"
     ]
    }
   ],
   "source": [
    "list.sort(reverse=True)\n",
    "print(list)"
   ]
  },
  {
   "cell_type": "code",
   "execution_count": 121,
   "id": "b2afe263-48ab-40a1-93a6-094d5c6be9dd",
   "metadata": {},
   "outputs": [
    {
     "name": "stdout",
     "output_type": "stream",
     "text": [
      "[2, 4, 6, 8, 10, 12, 14, 16, 18, 20]\n"
     ]
    }
   ],
   "source": [
    "x=20\n",
    "list=[]\n",
    "for i in range(1,x+1):\n",
    "    if i%2==0:\n",
    "        list.append(i)\n",
    "print(list)"
   ]
  },
  {
   "cell_type": "code",
   "execution_count": 122,
   "id": "394867ac-6efe-4d26-b02e-ed2805ec31f3",
   "metadata": {},
   "outputs": [
    {
     "name": "stdout",
     "output_type": "stream",
     "text": [
      "[1, 3, 5, 7, 9, 11, 13, 15, 17, 19]\n"
     ]
    }
   ],
   "source": [
    "x=20\n",
    "list=[]\n",
    "for i in range(1,x+1):\n",
    "    if i%2!=0:\n",
    "        list.append(i)\n",
    "print(list)"
   ]
  },
  {
   "cell_type": "code",
   "execution_count": 128,
   "id": "c3c71e9e-534a-40c1-9b9a-68037cf68cdf",
   "metadata": {},
   "outputs": [
    {
     "name": "stdout",
     "output_type": "stream",
     "text": [
      "24\n"
     ]
    }
   ],
   "source": [
    "list=[2,4,7,9,2]\n",
    "sum=sum(num for num in list)\n",
    "print(sum)"
   ]
  },
  {
   "cell_type": "code",
   "execution_count": 130,
   "id": "2d00cd00-b656-4b85-ad2a-3e758f42346f",
   "metadata": {},
   "outputs": [
    {
     "name": "stdout",
     "output_type": "stream",
     "text": [
      "9\n"
     ]
    }
   ],
   "source": [
    "print(max(list))"
   ]
  },
  {
   "cell_type": "code",
   "execution_count": 131,
   "id": "7dbc0bc7-b2ff-47c5-875b-79d55da3a7a2",
   "metadata": {},
   "outputs": [
    {
     "name": "stdout",
     "output_type": "stream",
     "text": [
      "2\n"
     ]
    }
   ],
   "source": [
    "print(min(list))"
   ]
  },
  {
   "cell_type": "code",
   "execution_count": 133,
   "id": "50067fd9-d67e-4228-9e4a-369ccea18439",
   "metadata": {},
   "outputs": [
    {
     "name": "stdout",
     "output_type": "stream",
     "text": [
      "[1, 4, 9, 16, 25, 36, 49, 64, 81, 100]\n"
     ]
    }
   ],
   "source": [
    "num=10\n",
    "list1=[]\n",
    "for i in range(1,num+1):\n",
    "    list1.append(i**2)\n",
    "print(list1)"
   ]
  },
  {
   "cell_type": "code",
   "execution_count": 137,
   "id": "2916df84-c145-438a-b6cb-2ab6529ec817",
   "metadata": {},
   "outputs": [
    {
     "name": "stdout",
     "output_type": "stream",
     "text": [
      "[4, 5, 6, 7, 2, 33, 454]\n"
     ]
    }
   ],
   "source": [
    "l=[4,5,6,7,2,33,454,5,4,5,5]\n",
    "li=[]\n",
    "for i in l:\n",
    "    if i not in li:\n",
    "        li.append(i)\n",
    "print(li)"
   ]
  },
  {
   "cell_type": "code",
   "execution_count": 1,
   "id": "8d556114-4847-4387-bbef-6635be060164",
   "metadata": {},
   "outputs": [
    {
     "name": "stdout",
     "output_type": "stream",
     "text": [
      "[4, 6, 8]\n"
     ]
    }
   ],
   "source": [
    "l1=[2,4,6,8,5,3,2]\n",
    "l2=[4,8,6,9,10,1]\n",
    "com_ele=[]\n",
    "for i in l1:\n",
    "    if i in l2 and i not in com_ele:\n",
    "        com_ele.append(i)\n",
    "print(com_ele)"
   ]
  },
  {
   "cell_type": "code",
   "execution_count": 7,
   "id": "7a7c226f-0b4b-4820-bdcc-160dfff38e26",
   "metadata": {},
   "outputs": [
    {
     "name": "stdout",
     "output_type": "stream",
     "text": [
      "[1, 2, 3, 5, 9, 10]\n"
     ]
    }
   ],
   "source": [
    "l1=[2,4,6,8,5,3,2]\n",
    "l2=[4,8,6,9,10,1]\n",
    "com_ele=[]\n",
    "for i in l1:\n",
    "    for j in l2:\n",
    "        if i not in l2 and j not in l1 and i not in com_ele and j not in com_ele:\n",
    "            com_ele.append(i)\n",
    "            com_ele.append(j)\n",
    "print(sorted(com_ele))"
   ]
  },
  {
   "cell_type": "code",
   "execution_count": 9,
   "id": "4e960e85-5285-4104-8ba6-93faac4933fb",
   "metadata": {},
   "outputs": [
    {
     "name": "stdout",
     "output_type": "stream",
     "text": [
      "[2, 4, 6, 8, 5, 3, 2, 4, 8, 6, 9, 10, 1]\n"
     ]
    }
   ],
   "source": [
    "l1=[2,4,6,8,5,3,2]\n",
    "l2=[4,8,6,9,10,1]\n",
    "l1.extend(l2)\n",
    "print(l1)"
   ]
  },
  {
   "cell_type": "code",
   "execution_count": 17,
   "id": "a961f2f5-d329-424a-ae3e-148153a58fe2",
   "metadata": {},
   "outputs": [
    {
     "name": "stdout",
     "output_type": "stream",
     "text": [
      "8 16 12 18 20 2 "
     ]
    }
   ],
   "source": [
    "l1=[4,8,6,9,10,1]\n",
    "for i in l1:\n",
    "    print(i*2, end=\" \")"
   ]
  },
  {
   "cell_type": "code",
   "execution_count": 19,
   "id": "aba402de-1c36-48b1-8651-43e2dc6c3b40",
   "metadata": {},
   "outputs": [
    {
     "name": "stdout",
     "output_type": "stream",
     "text": [
      "2 4 6 8 10 "
     ]
    }
   ],
   "source": [
    "l1=[1,2,3,4,5,6,7,8,9,10]\n",
    "for i in l1:\n",
    "    if i%2==0:\n",
    "        print(i, end=\" \")"
   ]
  },
  {
   "cell_type": "code",
   "execution_count": 24,
   "id": "5084916e-b55e-407e-9e30-a282d2f03754",
   "metadata": {},
   "outputs": [
    {
     "name": "stdout",
     "output_type": "stream",
     "text": [
      "[4, 8, 6, 9, 10, 1]\n"
     ]
    }
   ],
   "source": [
    "l1=['4','8','6','9','10','1']\n",
    "l2=[]\n",
    "for i in l1:\n",
    "    l2.append(int(i))\n",
    "print(l2)"
   ]
  },
  {
   "cell_type": "code",
   "execution_count": 25,
   "id": "e3b400de-c266-4e95-a4b7-6c05a585a2be",
   "metadata": {},
   "outputs": [
    {
     "name": "stdout",
     "output_type": "stream",
     "text": [
      "['4', '8', '6', '9', '10', '1']\n"
     ]
    }
   ],
   "source": [
    "l1=[4,8,6,9,10,1]\n",
    "l2=[]\n",
    "for i in l1:\n",
    "    l2.append(str(i))\n",
    "print(l2)"
   ]
  },
  {
   "cell_type": "code",
   "execution_count": 28,
   "id": "3ee52427-86a9-4d95-ba34-ce622f8f6a40",
   "metadata": {},
   "outputs": [
    {
     "name": "stdout",
     "output_type": "stream",
     "text": [
      "[2, 4, 6, 8, 1, 2, 3, 9, 10]\n"
     ]
    }
   ],
   "source": [
    "l1=[2,4,6,8,[1,2,3],[9,10]]\n",
    "l2=[]\n",
    "for i in l1:\n",
    "    if type(i)!=int: \n",
    "        for ele in i:\n",
    "            l2.append(ele)\n",
    "    else:\n",
    "        l2.append(i)\n",
    "print(l2)"
   ]
  },
  {
   "cell_type": "code",
   "execution_count": 31,
   "id": "b57f11f3-a984-40a1-a411-622da8defe47",
   "metadata": {},
   "outputs": [
    {
     "name": "stdout",
     "output_type": "stream",
     "text": [
      "[0, 1, 1, 2, 3, 5, 8, 13, 21, 34]\n"
     ]
    }
   ],
   "source": [
    "flist=[]\n",
    "fn=0\n",
    "sn=1\n",
    "for i in range(10):\n",
    "    flist.append(fn)\n",
    "    temp=fn\n",
    "    fn=sn\n",
    "    sn=temp+sn\n",
    "print(flist)"
   ]
  },
  {
   "cell_type": "code",
   "execution_count": 35,
   "id": "47ebf252-d6b0-4a0a-a0e9-6d23ee8dd03a",
   "metadata": {},
   "outputs": [
    {
     "name": "stdout",
     "output_type": "stream",
     "text": [
      "list is not sorted\n"
     ]
    }
   ],
   "source": [
    "l1=[1,4,7,3,2]\n",
    "l2=sorted(l1)\n",
    "if l1==l2:\n",
    "    print(\"list is sorted\")\n",
    "else:\n",
    "    print(\"list is not sorted\")"
   ]
  },
  {
   "cell_type": "code",
   "execution_count": 10,
   "id": "cbe0eb2e-4524-4eaa-bbdb-f74bdc3e8858",
   "metadata": {},
   "outputs": [
    {
     "name": "stdin",
     "output_type": "stream",
     "text": [
      "Enter how many times rotate left:  4\n"
     ]
    },
    {
     "name": "stdout",
     "output_type": "stream",
     "text": [
      "[7, 3, 2, 9, 1, 4]\n"
     ]
    }
   ],
   "source": [
    "n=int(input(\"Enter how many times rotate left: \"))\n",
    "l1=[1,4,7,3,2,9]\n",
    "l1=l1[len(l1)-n:len(l1)]+l1[0:len(l1)-n]\n",
    "print(l1)"
   ]
  },
  {
   "cell_type": "code",
   "execution_count": 1,
   "id": "26e6751e-0acc-4437-8e97-1247e49bf5e2",
   "metadata": {},
   "outputs": [
    {
     "name": "stdin",
     "output_type": "stream",
     "text": [
      "Enter how many times rotate right:  4\n"
     ]
    },
    {
     "name": "stdout",
     "output_type": "stream",
     "text": [
      "[2, 9, 1, 4, 7, 3]\n"
     ]
    }
   ],
   "source": [
    "n=int(input(\"Enter how many times rotate right: \"))\n",
    "l1=[1,4,7,3,2,9]\n",
    "l1=l1[n:len(l1)]+l1[0:n]\n",
    "print(l1)"
   ]
  },
  {
   "cell_type": "code",
   "execution_count": 68,
   "id": "55888a56-afdf-4d72-a21f-1f6fe9a6a1ff",
   "metadata": {},
   "outputs": [
    {
     "name": "stdin",
     "output_type": "stream",
     "text": [
      "Enter number upto where you want prime numbers:   50\n"
     ]
    },
    {
     "name": "stdout",
     "output_type": "stream",
     "text": [
      "[1, 2, 3, 5, 7, 11, 13, 17, 19, 23, 29, 31, 37, 41, 43, 47]\n"
     ]
    }
   ],
   "source": [
    "num=int(input(\"Enter number upto where you want prime numbers:  \"))\n",
    "l=[]\n",
    "for i in range(1,num):\n",
    "    count=0\n",
    "    for j in range(1,i):\n",
    "        if i%j==0:\n",
    "            count+=1\n",
    "    if count<2:\n",
    "        l.append(i)\n",
    "print(l)"
   ]
  },
  {
   "cell_type": "code",
   "execution_count": 69,
   "id": "859c80b9-ade0-40ce-8940-8e620a936ac9",
   "metadata": {},
   "outputs": [
    {
     "name": "stdin",
     "output_type": "stream",
     "text": [
      "Enter how many chunks do you need:   4\n"
     ]
    },
    {
     "name": "stdout",
     "output_type": "stream",
     "text": [
      "[[1, 2, 3, 4], [5, 6, 7, 8], [9, 10, 11, 22], [33, 44, 55, 66], [77, 88, 99, 100]]\n"
     ]
    }
   ],
   "source": [
    "list=[1,2,3,4,5,6,7,8,9,10,11,22,33,44,55,66,77,88,99,100]\n",
    "N_list=[]\n",
    "chunks=int(input(\"Enter how many chunks do you need:  \"))\n",
    "for i in range(0,len(list),chunks):\n",
    "    N_list.append(list[i:i+chunks])\n",
    "print(N_list)"
   ]
  },
  {
   "cell_type": "code",
   "execution_count": 70,
   "id": "7f2cbd33-3679-455e-b351-7bd17033298f",
   "metadata": {},
   "outputs": [
    {
     "name": "stdout",
     "output_type": "stream",
     "text": [
      "555\n"
     ]
    }
   ],
   "source": [
    "list=[1112,27,34,4,5,6,77,8,9,10,11,22,33,44,555,66,88,99,100]\n",
    "l2=sorted(list)\n",
    "print(l2[-2])"
   ]
  },
  {
   "cell_type": "code",
   "execution_count": 1,
   "id": "69e9e538-8253-48d9-a79b-0fdef43e315c",
   "metadata": {},
   "outputs": [
    {
     "name": "stdout",
     "output_type": "stream",
     "text": [
      "[16, 9, 25, 36, 81]\n"
     ]
    }
   ],
   "source": [
    "l=[4,3,5,6,9]\n",
    "for i in range(len(l)):\n",
    "    l[i]=l[i]**2\n",
    "print(l)"
   ]
  },
  {
   "cell_type": "code",
   "execution_count": 2,
   "id": "b5c17adc-89c8-48ea-b914-d0023982b281",
   "metadata": {},
   "outputs": [
    {
     "name": "stdout",
     "output_type": "stream",
     "text": [
      "{'Gnanesh': 0, 8: 1, 7.567: 2, 6: 3, 2: 4, 'pw': 5, 'skills': 6, 5: 7}\n"
     ]
    }
   ],
   "source": [
    "list=['Gnanesh',8,7.567,6,2,'pw','skills',5]\n",
    "dict={}\n",
    "for i in range(len(list)):\n",
    "    dict[list[i]]=i\n",
    "print(dict)"
   ]
  },
  {
   "cell_type": "code",
   "execution_count": 6,
   "id": "032cb882-8998-4eaa-bb05-be7389d1c4cb",
   "metadata": {},
   "outputs": [
    {
     "name": "stdout",
     "output_type": "stream",
     "text": [
      "[1, 2, 6, 24, 120, 720, 5040, 40320, 362880, 3628800]\n"
     ]
    }
   ],
   "source": [
    "num=11\n",
    "list=[]\n",
    "for i in range(1,num):\n",
    "    s=1\n",
    "    while i>0:\n",
    "        s*=i\n",
    "        i-=1\n",
    "    list.append(s)\n",
    "print(list)"
   ]
  },
  {
   "cell_type": "code",
   "execution_count": 2,
   "id": "982f73bf-980f-4557-ad08-b33301b07722",
   "metadata": {},
   "outputs": [
    {
     "name": "stdout",
     "output_type": "stream",
     "text": [
      "Yes lists having comman element\n"
     ]
    }
   ],
   "source": [
    "l1=[2,3,5,6]\n",
    "l2=[4,5,7,6]\n",
    "for i in l1:\n",
    "    if i in l2:\n",
    "        print(\"Yes lists having comman element\")\n",
    "        break"
   ]
  },
  {
   "cell_type": "code",
   "execution_count": 3,
   "id": "ccf6874b-4ea9-4eda-840c-32dd8acf7bd4",
   "metadata": {},
   "outputs": [
    {
     "name": "stdout",
     "output_type": "stream",
     "text": [
      "[]\n"
     ]
    }
   ],
   "source": [
    "l1=[2,4,6,8,10]\n",
    "l1.clear()\n",
    "print(l1)"
   ]
  },
  {
   "cell_type": "code",
   "execution_count": 5,
   "id": "28361f71-e53c-45ac-8d07-e081e2030b90",
   "metadata": {},
   "outputs": [
    {
     "name": "stdout",
     "output_type": "stream",
     "text": [
      "[1, 3, 0, 8, 0, 4, 6, 0]\n"
     ]
    }
   ],
   "source": [
    "l=[1,3,-7,8,-9,4,6,-5]\n",
    "for i in range(len(l)):\n",
    "    if l[i]<0:\n",
    "        l[i]=0\n",
    "print(l)"
   ]
  },
  {
   "cell_type": "code",
   "execution_count": 6,
   "id": "f2b98d89-45cd-4bf3-9c1d-5682bed9757b",
   "metadata": {},
   "outputs": [
    {
     "name": "stdout",
     "output_type": "stream",
     "text": [
      "['I', 'am', 'Innocent']\n"
     ]
    }
   ],
   "source": [
    "string=\"I am Innocent\"\n",
    "list=string.split()\n",
    "print(list)"
   ]
  },
  {
   "cell_type": "code",
   "execution_count": 7,
   "id": "73542f47-3ee1-4c65-9d47-3bbfb24b0b5f",
   "metadata": {},
   "outputs": [
    {
     "name": "stdout",
     "output_type": "stream",
     "text": [
      "I am Hungry now\n"
     ]
    }
   ],
   "source": [
    "list=['I', 'am', 'Hungry', 'now']\n",
    "print(' '.join(list))"
   ]
  },
  {
   "cell_type": "code",
   "execution_count": 9,
   "id": "3b76a262-6ecc-496f-9e93-f3c42b931cdf",
   "metadata": {},
   "outputs": [
    {
     "name": "stdin",
     "output_type": "stream",
     "text": [
      "Enter how many could be squared:  10\n"
     ]
    },
    {
     "name": "stdout",
     "output_type": "stream",
     "text": [
      "[1, 4, 9, 16, 25, 36, 49, 64, 81, 100]\n"
     ]
    }
   ],
   "source": [
    "N=int(input(\"Enter how many could be squared: \"))\n",
    "l=[]\n",
    "for i in range(1,N+1):\n",
    "    l.append(i**2)\n",
    "print(l)"
   ]
  },
  {
   "cell_type": "code",
   "execution_count": 13,
   "id": "60b703e1-9d6d-4a54-9a46-612b41f5c939",
   "metadata": {},
   "outputs": [
    {
     "name": "stdout",
     "output_type": "stream",
     "text": [
      "pwskills\n"
     ]
    }
   ],
   "source": [
    "l_s=['3','Gnanesh','pwskills','Game']\n",
    "h_s=l_s[0]\n",
    "for i in l_s:\n",
    "    if len(i)>len(h_s):\n",
    "        h_s=i\n",
    "print(h_s)"
   ]
  },
  {
   "cell_type": "code",
   "execution_count": 14,
   "id": "6eae97e5-2fe2-4d5f-8efb-67685dd80b11",
   "metadata": {},
   "outputs": [
    {
     "name": "stdout",
     "output_type": "stream",
     "text": [
      "3\n"
     ]
    }
   ],
   "source": [
    "l_s=['3','Gnanesh','pwskills','Game']\n",
    "h_s=l_s[0]\n",
    "for i in l_s:\n",
    "    if len(i)<len(h_s):\n",
    "        h_s=i\n",
    "print(h_s)"
   ]
  },
  {
   "cell_type": "code",
   "execution_count": 17,
   "id": "f1a4981f-2b46-4446-b303-b2d84819f52c",
   "metadata": {},
   "outputs": [
    {
     "name": "stdin",
     "output_type": "stream",
     "text": [
      "Enter how many triangle numbers do you want:  13\n"
     ]
    },
    {
     "name": "stdout",
     "output_type": "stream",
     "text": [
      "[1, 3, 6, 10, 15, 21, 28, 36, 45, 55, 66, 78, 91]\n"
     ]
    }
   ],
   "source": [
    "num=int(input(\"Enter how many triangle numbers do you want: \"))\n",
    "list=[]\n",
    "first=1\n",
    "n=2\n",
    "for i in range(num):\n",
    "    list.append(first)\n",
    "    first=first+n\n",
    "    n+=1\n",
    "print(list)  "
   ]
  },
  {
   "cell_type": "code",
   "execution_count": 39,
   "id": "015bd2bd-9738-4788-b116-77c07c4e111a",
   "metadata": {},
   "outputs": [
    {
     "name": "stdout",
     "output_type": "stream",
     "text": [
      "list2 is subset of list1\n"
     ]
    }
   ],
   "source": [
    "list1=[1,3,2,4,6,8]\n",
    "list2=[2,4,6]\n",
    "l=len(list2)\n",
    "for i in range(len(list1)): \n",
    "    if list1[i:i+l]==list2:\n",
    "        print(\"list2 is subset of list1\")"
   ]
  },
  {
   "cell_type": "code",
   "execution_count": 43,
   "id": "726a5ed4-7946-4972-b3ab-20369f3162cc",
   "metadata": {},
   "outputs": [
    {
     "name": "stdout",
     "output_type": "stream",
     "text": [
      "[1, 3, 7, 5, 9]\n"
     ]
    }
   ],
   "source": [
    "list1=[1,3,5,7,9]\n",
    "N=2\n",
    "list1[N], list1[N+1]=list1[N+1], list1[N]\n",
    "print(list1)"
   ]
  },
  {
   "cell_type": "code",
   "execution_count": 44,
   "id": "601fb2c6-cbe5-4127-8cc4-a48f8887028d",
   "metadata": {},
   "outputs": [
    {
     "data": {
      "text/plain": [
       "(1, 2, 3, 4, 5)"
      ]
     },
     "execution_count": 44,
     "metadata": {},
     "output_type": "execute_result"
    }
   ],
   "source": [
    "t=(1,2,3,4,5)\n",
    "t"
   ]
  },
  {
   "cell_type": "code",
   "execution_count": 45,
   "id": "f56e9313-6d78-4da2-b481-15cec2fd3940",
   "metadata": {},
   "outputs": [
    {
     "data": {
      "text/plain": [
       "3"
      ]
     },
     "execution_count": 45,
     "metadata": {},
     "output_type": "execute_result"
    }
   ],
   "source": [
    "t[2]"
   ]
  },
  {
   "cell_type": "code",
   "execution_count": 46,
   "id": "458cfe97-eac9-4ae4-b363-160fc9e9be81",
   "metadata": {},
   "outputs": [
    {
     "name": "stdout",
     "output_type": "stream",
     "text": [
      "5\n"
     ]
    }
   ],
   "source": [
    "count=0\n",
    "for i in t:\n",
    "    count+=1\n",
    "print(count)"
   ]
  },
  {
   "cell_type": "code",
   "execution_count": 47,
   "id": "c2c113ce-198c-4d2b-a7b6-4280fc256cde",
   "metadata": {},
   "outputs": [
    {
     "data": {
      "text/plain": [
       "3"
      ]
     },
     "execution_count": 47,
     "metadata": {},
     "output_type": "execute_result"
    }
   ],
   "source": [
    "t=(3,4,5,6,7,5,4,4,3)\n",
    "t.count(4)"
   ]
  },
  {
   "cell_type": "code",
   "execution_count": 2,
   "id": "a6396f7f-204e-48bc-9ae0-3c0c37e69bea",
   "metadata": {},
   "outputs": [
    {
     "data": {
      "text/plain": [
       "1"
      ]
     },
     "execution_count": 2,
     "metadata": {},
     "output_type": "execute_result"
    }
   ],
   "source": [
    "t=(3,4,5,6,7,5,4,4,3)\n",
    "t.index(4)"
   ]
  },
  {
   "cell_type": "code",
   "execution_count": 3,
   "id": "2769d086-4124-4661-99f7-aab3502d6f21",
   "metadata": {},
   "outputs": [
    {
     "name": "stdout",
     "output_type": "stream",
     "text": [
      "Yes\n"
     ]
    }
   ],
   "source": [
    "if 7 in t:\n",
    "    print(\"Yes\")\n",
    "else:\n",
    "    print(\"No\")"
   ]
  },
  {
   "cell_type": "code",
   "execution_count": 4,
   "id": "4faa3c68-bb44-442a-9bd2-ce99e71e67b9",
   "metadata": {},
   "outputs": [
    {
     "data": {
      "text/plain": [
       "[3, 4, 5, 6, 7, 5, 4, 4, 3]"
      ]
     },
     "execution_count": 4,
     "metadata": {},
     "output_type": "execute_result"
    }
   ],
   "source": [
    "list=list(t)\n",
    "list"
   ]
  },
  {
   "cell_type": "code",
   "execution_count": 5,
   "id": "f31b758d-bca8-4f28-a15a-3d1239aef9d6",
   "metadata": {},
   "outputs": [
    {
     "data": {
      "text/plain": [
       "(3, 4, 5, 6, 7, 5, 4, 4, 3)"
      ]
     },
     "execution_count": 5,
     "metadata": {},
     "output_type": "execute_result"
    }
   ],
   "source": [
    "tuple=tuple(list)\n",
    "tuple"
   ]
  },
  {
   "cell_type": "code",
   "execution_count": 6,
   "id": "b96cf9ab-5472-4254-97a4-1a0b75d885bc",
   "metadata": {},
   "outputs": [
    {
     "name": "stdout",
     "output_type": "stream",
     "text": [
      "3 4 5 6 7 5 4 4 3 "
     ]
    }
   ],
   "source": [
    "for i in tuple:\n",
    "    print(i, end=\" \")"
   ]
  },
  {
   "cell_type": "code",
   "execution_count": 7,
   "id": "6dea047b-380a-4f5f-ba64-4169bd04e939",
   "metadata": {},
   "outputs": [
    {
     "name": "stdout",
     "output_type": "stream",
     "text": [
      "2 4 6 8 10 "
     ]
    }
   ],
   "source": [
    "for i in range(1,11):\n",
    "    if i%2==0:\n",
    "        print(i, end=\" \")"
   ]
  },
  {
   "cell_type": "code",
   "execution_count": 8,
   "id": "34970ba3-cc5b-4d49-8753-a5a6cca5cbde",
   "metadata": {},
   "outputs": [
    {
     "name": "stdout",
     "output_type": "stream",
     "text": [
      "1 3 5 7 9 "
     ]
    }
   ],
   "source": [
    "for i in range(1,11):\n",
    "    if i%2!=0:\n",
    "        print(i, end=\" \")"
   ]
  },
  {
   "cell_type": "code",
   "execution_count": 10,
   "id": "aa522788-1da7-4405-a092-e0c4e56ddcd8",
   "metadata": {},
   "outputs": [
    {
     "data": {
      "text/plain": [
       "(1, 2, 3, 4, 5, 6, 7, 8, 9, 10)"
      ]
     },
     "execution_count": 10,
     "metadata": {},
     "output_type": "execute_result"
    }
   ],
   "source": [
    "t1=(1,2,3,4,5)\n",
    "t2=(6,7,8,9,10)\n",
    "t1+t2"
   ]
  },
  {
   "cell_type": "code",
   "execution_count": 11,
   "id": "ca4c0d98-bbac-4d47-a900-19acba4e1fb4",
   "metadata": {},
   "outputs": [
    {
     "name": "stdout",
     "output_type": "stream",
     "text": [
      "(1, 2, 3, 4, 5, 1, 2, 3, 4, 5, 1, 2, 3, 4, 5)\n"
     ]
    }
   ],
   "source": [
    "t1=(1,2,3,4,5)\n",
    "print(t1*3)"
   ]
  },
  {
   "cell_type": "code",
   "execution_count": 13,
   "id": "fc0a0200-1102-4f2b-8461-a8ab697f3e47",
   "metadata": {},
   "outputs": [
    {
     "name": "stdout",
     "output_type": "stream",
     "text": [
      "tuple is empty\n"
     ]
    }
   ],
   "source": [
    "t1=()\n",
    "if len(t1)>0:\n",
    "    print(\"tuple is not empty\")\n",
    "else:\n",
    "    print(\"tuple is empty\")"
   ]
  },
  {
   "cell_type": "code",
   "execution_count": 14,
   "id": "52a11c9d-f755-4daa-958d-4ee14cf95f77",
   "metadata": {},
   "outputs": [
    {
     "data": {
      "text/plain": [
       "(1, 5, 6, (3, 2))"
      ]
     },
     "execution_count": 14,
     "metadata": {},
     "output_type": "execute_result"
    }
   ],
   "source": [
    "t2=(1,5,6,(3,2))\n",
    "t2"
   ]
  },
  {
   "cell_type": "code",
   "execution_count": 15,
   "id": "cc50f4b0-f679-4b5d-94eb-3b6efb2fbd57",
   "metadata": {},
   "outputs": [
    {
     "data": {
      "text/plain": [
       "3"
      ]
     },
     "execution_count": 15,
     "metadata": {},
     "output_type": "execute_result"
    }
   ],
   "source": [
    "t2[3][0]"
   ]
  },
  {
   "cell_type": "code",
   "execution_count": 17,
   "id": "135e4ea1-6789-4ca0-b41c-fb47e344dcfb",
   "metadata": {},
   "outputs": [
    {
     "data": {
      "text/plain": [
       "tuple"
      ]
     },
     "execution_count": 17,
     "metadata": {},
     "output_type": "execute_result"
    }
   ],
   "source": [
    "t5=(5,)\n",
    "type(t5)"
   ]
  },
  {
   "cell_type": "code",
   "execution_count": 18,
   "id": "f0641950-d381-4cf6-8537-d2f7ba693869",
   "metadata": {},
   "outputs": [
    {
     "name": "stdout",
     "output_type": "stream",
     "text": [
      "Both tuples are different\n"
     ]
    }
   ],
   "source": [
    "t1=(1,2,3,4,5)\n",
    "t2=(3,4,5,6,7)\n",
    "if sorted(t1)==sorted(t2):\n",
    "    print(\"Both tuples are same\")\n",
    "else:\n",
    "    print(\"Both tuples are different\")"
   ]
  },
  {
   "cell_type": "code",
   "execution_count": 21,
   "id": "c91b482f-c988-4f87-8906-eb0b09175ec9",
   "metadata": {},
   "outputs": [],
   "source": [
    "t1=(1,2,3,4,5)\n",
    "del t1"
   ]
  },
  {
   "cell_type": "code",
   "execution_count": 23,
   "id": "516d474d-d47e-4142-8298-7880ee6646c3",
   "metadata": {},
   "outputs": [
    {
     "data": {
      "text/plain": [
       "(5, 6, 7)"
      ]
     },
     "execution_count": 23,
     "metadata": {},
     "output_type": "execute_result"
    }
   ],
   "source": [
    "t1=(3,4,5,6,7,8)\n",
    "t1[2:5]"
   ]
  },
  {
   "cell_type": "code",
   "execution_count": 26,
   "id": "9e788e0a-b394-491b-9244-5af020db07ab",
   "metadata": {},
   "outputs": [
    {
     "data": {
      "text/plain": [
       "9"
      ]
     },
     "execution_count": 26,
     "metadata": {},
     "output_type": "execute_result"
    }
   ],
   "source": [
    "t1=(9,4,8,6,7,8)\n",
    "max(t1)"
   ]
  },
  {
   "cell_type": "code",
   "execution_count": 27,
   "id": "241ecee7-fba8-4c9b-9875-082f36fb921a",
   "metadata": {},
   "outputs": [
    {
     "data": {
      "text/plain": [
       "4"
      ]
     },
     "execution_count": 27,
     "metadata": {},
     "output_type": "execute_result"
    }
   ],
   "source": [
    "min(t1)"
   ]
  },
  {
   "cell_type": "code",
   "execution_count": 1,
   "id": "170c6a7f-d3bf-4d9c-9d94-4815fc47d5a9",
   "metadata": {},
   "outputs": [
    {
     "name": "stdout",
     "output_type": "stream",
     "text": [
      "('I', 'am', 'Gnanesh')\n"
     ]
    }
   ],
   "source": [
    "string=\"I am Gnanesh\"\n",
    "l=string.split()\n",
    "t=tuple(i for i in l)\n",
    "print(t)"
   ]
  },
  {
   "cell_type": "code",
   "execution_count": 3,
   "id": "eecf08b7-376b-445c-9279-e79de07a8a55",
   "metadata": {},
   "outputs": [
    {
     "name": "stdout",
     "output_type": "stream",
     "text": [
      "I am Gnanesh\n"
     ]
    }
   ],
   "source": [
    "print(' '.join(t))"
   ]
  },
  {
   "cell_type": "code",
   "execution_count": 4,
   "id": "9eddd03d-4d6c-44fc-bf2f-802a36e77645",
   "metadata": {},
   "outputs": [
    {
     "data": {
      "text/plain": [
       "(1, 'Gnanesh', 8.45, True)"
      ]
     },
     "execution_count": 4,
     "metadata": {},
     "output_type": "execute_result"
    }
   ],
   "source": [
    "tup=(1,'Gnanesh',8.45,True)\n",
    "tup"
   ]
  },
  {
   "cell_type": "code",
   "execution_count": 8,
   "id": "aa2780aa-eca6-4d65-9df2-aa1c301f5a28",
   "metadata": {},
   "outputs": [
    {
     "data": {
      "text/plain": [
       "(2, 3, 4, 5, 6, 7, 8, 9, 10)"
      ]
     },
     "execution_count": 8,
     "metadata": {},
     "output_type": "execute_result"
    }
   ],
   "source": [
    "t=(7,8,4,5,6,2,3,9,10)\n",
    "tuple(sorted(t))"
   ]
  },
  {
   "cell_type": "code",
   "execution_count": 10,
   "id": "78f8e26a-2e3b-41bb-8c1d-79efb66a77fc",
   "metadata": {},
   "outputs": [
    {
     "name": "stdout",
     "output_type": "stream",
     "text": [
      "('7', '8', '4', '5', '6', '2', '3', '9', '10')\n"
     ]
    }
   ],
   "source": [
    "t=(7,8,4,5,6,2,3,9,10)\n",
    "t2=[]\n",
    "for i in t:\n",
    "    t2.append(str(i))\n",
    "print(tuple(t2))"
   ]
  },
  {
   "cell_type": "code",
   "execution_count": 11,
   "id": "fe885c21-bddc-4be3-acf8-dd4fe64fbb0e",
   "metadata": {},
   "outputs": [
    {
     "name": "stdout",
     "output_type": "stream",
     "text": [
      "(7, 8, 4, 5, 6, 2, 3, 9, 10)\n"
     ]
    }
   ],
   "source": [
    "t=('7','8','4','5','6','2','3','9','10')\n",
    "t2=[]\n",
    "for i in t:\n",
    "    t2.append(int(i))\n",
    "print(tuple(t2))"
   ]
  },
  {
   "cell_type": "code",
   "execution_count": 12,
   "id": "1099d224-b0a3-4448-a085-73835fc27d22",
   "metadata": {},
   "outputs": [
    {
     "data": {
      "text/plain": [
       "(2, 3, 4, 5, 6, 7, 8, 9, 23, 4)"
      ]
     },
     "execution_count": 12,
     "metadata": {},
     "output_type": "execute_result"
    }
   ],
   "source": [
    "t1=(2,3,4,5,6)\n",
    "t2=(7,8,9,23,4)\n",
    "t=t1+t2\n",
    "t"
   ]
  },
  {
   "cell_type": "code",
   "execution_count": 15,
   "id": "565c5b6b-7770-4d75-b731-cc33b892ec40",
   "metadata": {},
   "outputs": [
    {
     "name": "stdout",
     "output_type": "stream",
     "text": [
      "(1, 2, 3, 6, 7, 8, 10, 22)\n"
     ]
    }
   ],
   "source": [
    "t=(1,2,3,(6,7,8),(10,22))\n",
    "t2=[]\n",
    "for i in t:\n",
    "    if type(i)==tuple:\n",
    "        for ele in i:\n",
    "            t2.append(ele)\n",
    "    else:\n",
    "        t2.append(i)\n",
    "print(tuple(t2))"
   ]
  },
  {
   "cell_type": "code",
   "execution_count": 17,
   "id": "5beea28e-da6e-40b0-85fe-c7fbc2c28278",
   "metadata": {},
   "outputs": [
    {
     "name": "stdout",
     "output_type": "stream",
     "text": [
      "(1, 2, 3, 5, 7)\n"
     ]
    }
   ],
   "source": [
    "t=[]\n",
    "for i in range(1,10):\n",
    "    count=0\n",
    "    for j in range(1,i):\n",
    "        if i%j==0:\n",
    "            count+=1\n",
    "    if count<2:\n",
    "        t.append(i)\n",
    "print(tuple(t))"
   ]
  },
  {
   "cell_type": "code",
   "execution_count": 21,
   "id": "216a4d26-d09a-41e2-9dde-f0a1f14511fc",
   "metadata": {},
   "outputs": [
    {
     "name": "stdout",
     "output_type": "stream",
     "text": [
      "tuple is not palindrome\n"
     ]
    }
   ],
   "source": [
    "t1=(2,3,4,5,6,5)\n",
    "if t1==t1[::-1]:\n",
    "    print(\"tuple is palindrome\")\n",
    "else:\n",
    "    print(\"tuple is not palindrome\")"
   ]
  },
  {
   "cell_type": "code",
   "execution_count": 22,
   "id": "066df65a-ee20-46de-9f4d-6b584cf4d3bf",
   "metadata": {},
   "outputs": [
    {
     "name": "stdout",
     "output_type": "stream",
     "text": [
      "(1, 4, 9, 16, 25)\n"
     ]
    }
   ],
   "source": [
    "l=[]\n",
    "for i in range(1,6):\n",
    "    l.append(i**2)\n",
    "print(tuple(l))"
   ]
  },
  {
   "cell_type": "code",
   "execution_count": 23,
   "id": "8a983523-2e2b-41c9-9ca8-d475e334a522",
   "metadata": {},
   "outputs": [
    {
     "name": "stdout",
     "output_type": "stream",
     "text": [
      "(2, 4, 6, 8, 10)\n"
     ]
    }
   ],
   "source": [
    "t=(1,2,3,4,5,6,7,8,9,10)\n",
    "l=[]\n",
    "for i in t:\n",
    "    if i%2==0:\n",
    "        l.append(i)\n",
    "print(tuple(l))"
   ]
  },
  {
   "cell_type": "code",
   "execution_count": 25,
   "id": "b361cdfe-e6c8-45b5-b096-4568c84d1183",
   "metadata": {},
   "outputs": [
    {
     "name": "stdout",
     "output_type": "stream",
     "text": [
      "(2, 4, 6, 8, 10, 12, 14, 16, 18, 20)\n"
     ]
    }
   ],
   "source": [
    "t=(1,2,3,4,5,6,7,8,9,10)\n",
    "l=[]\n",
    "for i in t:\n",
    "    l.append(i*2)\n",
    "print(tuple(l))"
   ]
  },
  {
   "cell_type": "code",
   "execution_count": 42,
   "id": "125d6c4b-a4e4-471d-b8c1-ac4dfc5a4362",
   "metadata": {},
   "outputs": [
    {
     "name": "stdout",
     "output_type": "stream",
     "text": [
      "No it is not sorted\n"
     ]
    }
   ],
   "source": [
    "t=(8,44,66,777,88888,22222,557343)\n",
    "t2=sorted(t)\n",
    "tuple6=tuple(t2)\n",
    "if t==tuple6:\n",
    "    print(\"Yes it is sorted\")\n",
    "else:\n",
    "    print(\"No it is not sorted\")"
   ]
  },
  {
   "cell_type": "code",
   "execution_count": 2,
   "id": "8ede5093-f5d5-4ccd-8c4c-f47aebed1ff4",
   "metadata": {},
   "outputs": [
    {
     "name": "stdin",
     "output_type": "stream",
     "text": [
      "Enter how many times rotate left:  6\n"
     ]
    },
    {
     "name": "stdout",
     "output_type": "stream",
     "text": [
      "[3, 2, 9, 10, 22, 56, 1, 4, 7]\n"
     ]
    }
   ],
   "source": [
    "n=int(input(\"Enter how many times rotate left: \"))\n",
    "t1=[1,4,7,3,2,9,10,22,56]\n",
    "t1=t1[len(t1)-n:len(t1)]+t1[0:len(t1)-n]\n",
    "print(t1)"
   ]
  },
  {
   "cell_type": "code",
   "execution_count": 3,
   "id": "10c7c470-b43a-4396-8a61-03f06b1d1ba5",
   "metadata": {},
   "outputs": [
    {
     "name": "stdin",
     "output_type": "stream",
     "text": [
      "Enter how many times rotate left:  5\n"
     ]
    },
    {
     "name": "stdout",
     "output_type": "stream",
     "text": [
      "[9, 10, 22, 56, 1, 4, 7, 3, 2]\n"
     ]
    }
   ],
   "source": [
    "n=int(input(\"Enter how many times rotate right: \"))\n",
    "t1=[1,4,7,3,2,9,10,22,56]\n",
    "t1=t1[n:len(t1)]+t1[0:n]\n",
    "print(t1)"
   ]
  },
  {
   "cell_type": "code",
   "execution_count": 5,
   "id": "f79b111c-e6a4-40a1-b1c0-9ba25acb7b17",
   "metadata": {},
   "outputs": [
    {
     "name": "stdout",
     "output_type": "stream",
     "text": [
      "(0, 1, 1, 2, 3, 5)\n"
     ]
    }
   ],
   "source": [
    "list=[]\n",
    "fn=0\n",
    "sn=1\n",
    "for i in range(6):\n",
    "    list.append(fn)\n",
    "    temp=fn\n",
    "    fn=sn\n",
    "    sn=temp+sn\n",
    "print(tuple(list))"
   ]
  },
  {
   "cell_type": "code",
   "execution_count": 1,
   "id": "7c273c04-a268-4afb-bb5d-5f44bf091f75",
   "metadata": {},
   "outputs": [
    {
     "name": "stdin",
     "output_type": "stream",
     "text": [
      "Enter how many numbers do you want to enter into tuple:  7\n"
     ]
    },
    {
     "name": "stdout",
     "output_type": "stream",
     "text": [
      "Enter number for index 0\n"
     ]
    },
    {
     "name": "stdin",
     "output_type": "stream",
     "text": [
      " 2\n"
     ]
    },
    {
     "name": "stdout",
     "output_type": "stream",
     "text": [
      "Enter number for index 1\n"
     ]
    },
    {
     "name": "stdin",
     "output_type": "stream",
     "text": [
      " 5\n"
     ]
    },
    {
     "name": "stdout",
     "output_type": "stream",
     "text": [
      "Enter number for index 2\n"
     ]
    },
    {
     "name": "stdin",
     "output_type": "stream",
     "text": [
      " 7\n"
     ]
    },
    {
     "name": "stdout",
     "output_type": "stream",
     "text": [
      "Enter number for index 3\n"
     ]
    },
    {
     "name": "stdin",
     "output_type": "stream",
     "text": [
      " 9\n"
     ]
    },
    {
     "name": "stdout",
     "output_type": "stream",
     "text": [
      "Enter number for index 4\n"
     ]
    },
    {
     "name": "stdin",
     "output_type": "stream",
     "text": [
      " 10\n"
     ]
    },
    {
     "name": "stdout",
     "output_type": "stream",
     "text": [
      "Enter number for index 5\n"
     ]
    },
    {
     "name": "stdin",
     "output_type": "stream",
     "text": [
      " 46\n"
     ]
    },
    {
     "name": "stdout",
     "output_type": "stream",
     "text": [
      "Enter number for index 6\n"
     ]
    },
    {
     "name": "stdin",
     "output_type": "stream",
     "text": [
      " 799\n"
     ]
    },
    {
     "name": "stdout",
     "output_type": "stream",
     "text": [
      "(2, 5, 7, 9, 10, 46, 799)\n"
     ]
    }
   ],
   "source": [
    "t=[]\n",
    "n=int(input(\"Enter how many numbers do you want to enter into tuple: \"))\n",
    "for i in range(n):\n",
    "    print(\"Enter number for index\",i)\n",
    "    ele=int(input())\n",
    "    t.append(ele)\n",
    "print(tuple(t))"
   ]
  },
  {
   "cell_type": "code",
   "execution_count": 1,
   "id": "98de2601-876a-4a43-b523-27c0e7657716",
   "metadata": {},
   "outputs": [
    {
     "name": "stdin",
     "output_type": "stream",
     "text": [
      "Enter index value to swap elements:  3\n"
     ]
    },
    {
     "name": "stdout",
     "output_type": "stream",
     "text": [
      "(2, 4, 6, 9, 7, 3, 10, 19, 77)\n"
     ]
    }
   ],
   "source": [
    "tup=(2,4,6,7,9,3,10,19,77)\n",
    "list=list(tup)\n",
    "I=int(input(\"Enter index value to swap elements: \"))\n",
    "list[I], list[I+1]=list[I+1], list[I]\n",
    "print(tuple(list))"
   ]
  },
  {
   "cell_type": "code",
   "execution_count": 2,
   "id": "0e0402f6-cf86-4453-b809-2906d4b9cddc",
   "metadata": {},
   "outputs": [
    {
     "name": "stdout",
     "output_type": "stream",
     "text": [
      "(77, 19, 10, 3, 9, 7, 6, 4, 2)\n"
     ]
    }
   ],
   "source": [
    "tup=(2,4,6,7,9,3,10,19,77)\n",
    "print(tup[::-1])"
   ]
  },
  {
   "cell_type": "code",
   "execution_count": 4,
   "id": "66a99899-67a0-4066-a40a-9de03c807e36",
   "metadata": {},
   "outputs": [
    {
     "name": "stdin",
     "output_type": "stream",
     "text": [
      "Enter upto where do you want to square numbers:  7\n"
     ]
    },
    {
     "name": "stdout",
     "output_type": "stream",
     "text": [
      "(1, 4, 9, 16, 25, 36, 49)\n"
     ]
    }
   ],
   "source": [
    "l=[]\n",
    "n=int(input(\"Enter upto where do you want to square numbers: \"))\n",
    "for i in range(1,n+1):\n",
    "    l.append(i**2)\n",
    "print(tuple(l))"
   ]
  },
  {
   "cell_type": "code",
   "execution_count": 6,
   "id": "4081b287-cda2-472e-90af-13f972f19b61",
   "metadata": {},
   "outputs": [
    {
     "name": "stdout",
     "output_type": "stream",
     "text": [
      "my nick name is abhi\n"
     ]
    }
   ],
   "source": [
    "t=('Gnanesh','pwskills','my nick name is abhi','as per point','28982')\n",
    "s=t[0]\n",
    "for i in t:\n",
    "    if len(i)>len(s):\n",
    "        s=i\n",
    "print(s)"
   ]
  },
  {
   "cell_type": "code",
   "execution_count": 7,
   "id": "eeb2ac42-9fd4-44d0-96e3-12054a9587a8",
   "metadata": {},
   "outputs": [
    {
     "name": "stdout",
     "output_type": "stream",
     "text": [
      "28982\n"
     ]
    }
   ],
   "source": [
    "t=('Gnanesh','pwskills','my nick name is abhi','as per point','28982')\n",
    "s=t[0]\n",
    "for i in t:\n",
    "    if len(i)<len(s):\n",
    "        s=i\n",
    "print(s)"
   ]
  },
  {
   "cell_type": "code",
   "execution_count": 8,
   "id": "d7b3f30b-3098-4944-87ee-2420615f9ae3",
   "metadata": {},
   "outputs": [
    {
     "name": "stdin",
     "output_type": "stream",
     "text": [
      "Enter how many triangle numbers do you want:  10\n"
     ]
    },
    {
     "name": "stdout",
     "output_type": "stream",
     "text": [
      "(1, 3, 6, 10, 15, 21, 28, 36, 45, 55)\n"
     ]
    }
   ],
   "source": [
    "num=int(input(\"Enter how many triangle numbers do you want: \"))\n",
    "list=[]\n",
    "first=1\n",
    "n=2\n",
    "for i in range(num):\n",
    "    list.append(first)\n",
    "    first=first+n\n",
    "    n+=1\n",
    "print(tuple(list))  "
   ]
  },
  {
   "cell_type": "code",
   "execution_count": 6,
   "id": "344d52bd-b8c0-4ffc-8a6c-a5c3fd60db79",
   "metadata": {},
   "outputs": [
    {
     "name": "stdout",
     "output_type": "stream",
     "text": [
      "t2 is not subset of t1\n"
     ]
    }
   ],
   "source": [
    "t1=(1,3,2,4,6,8)\n",
    "t2=(2,4,5)\n",
    "if set(t2).issubset(t1):\n",
    "    print(\"t2 is subset of t1\")\n",
    "else:\n",
    "    print(\"t2 is not subset of t1\")"
   ]
  },
  {
   "cell_type": "code",
   "execution_count": 44,
   "id": "67a49b53-7ae3-4af2-b25c-fa40b147e8e6",
   "metadata": {},
   "outputs": [
    {
     "name": "stdin",
     "output_type": "stream",
     "text": [
      "Enter how many numbers do you want to print:  5\n"
     ]
    },
    {
     "name": "stdout",
     "output_type": "stream",
     "text": [
      "(1, 0, 1, 0, 1)\n"
     ]
    }
   ],
   "source": [
    "l=[]\n",
    "n=int(input(\"Enter how many numbers do you want to print: \"))\n",
    "for i in range(n):\n",
    "    if i%2==0:\n",
    "        l.append(1)\n",
    "    else:\n",
    "        l.append(0)\n",
    "print(tuple(l))"
   ]
  },
  {
   "cell_type": "code",
   "execution_count": 8,
   "id": "934b871b-4c60-4c79-bdba-a144a4ea2701",
   "metadata": {},
   "outputs": [
    {
     "data": {
      "text/plain": [
       "{1, 2, 3, 4, 5}"
      ]
     },
     "execution_count": 8,
     "metadata": {},
     "output_type": "execute_result"
    }
   ],
   "source": [
    "set={1,2,3,4,5}\n",
    "set"
   ]
  },
  {
   "cell_type": "code",
   "execution_count": 10,
   "id": "580e0915-f489-4140-975d-f293cdc85ee7",
   "metadata": {},
   "outputs": [
    {
     "data": {
      "text/plain": [
       "{1, 2, 3, 4, 5, 11}"
      ]
     },
     "execution_count": 10,
     "metadata": {},
     "output_type": "execute_result"
    }
   ],
   "source": [
    "set.add(11)\n",
    "set"
   ]
  },
  {
   "cell_type": "code",
   "execution_count": 11,
   "id": "7c2b1173-9e9a-4adb-9be4-23d9f30c1e80",
   "metadata": {},
   "outputs": [
    {
     "data": {
      "text/plain": [
       "{1, 2, 4, 5, 11}"
      ]
     },
     "execution_count": 11,
     "metadata": {},
     "output_type": "execute_result"
    }
   ],
   "source": [
    "set.remove(3)\n",
    "set"
   ]
  },
  {
   "cell_type": "code",
   "execution_count": 12,
   "id": "b5dade99-e240-43ad-8dd1-e18f5226d6e8",
   "metadata": {},
   "outputs": [
    {
     "data": {
      "text/plain": [
       "True"
      ]
     },
     "execution_count": 12,
     "metadata": {},
     "output_type": "execute_result"
    }
   ],
   "source": [
    "5 in set"
   ]
  },
  {
   "cell_type": "code",
   "execution_count": 15,
   "id": "d9e6e312-85db-4540-86aa-f5d245c09315",
   "metadata": {},
   "outputs": [
    {
     "name": "stdout",
     "output_type": "stream",
     "text": [
      "7\n"
     ]
    }
   ],
   "source": [
    "set={1,3,5,7,9,2,10}\n",
    "count=0\n",
    "for i in set:\n",
    "    count+=1\n",
    "print(count)"
   ]
  },
  {
   "cell_type": "code",
   "execution_count": 16,
   "id": "1ef24bd9-6440-4e8d-bede-734ffc77afa1",
   "metadata": {},
   "outputs": [
    {
     "data": {
      "text/plain": [
       "set()"
      ]
     },
     "execution_count": 16,
     "metadata": {},
     "output_type": "execute_result"
    }
   ],
   "source": [
    "set={1,3,5,7,9,2,10}\n",
    "set.clear()\n",
    "set"
   ]
  },
  {
   "cell_type": "code",
   "execution_count": 1,
   "id": "4951c0c0-9b56-464e-b1d7-3694a7b089b3",
   "metadata": {},
   "outputs": [
    {
     "name": "stdout",
     "output_type": "stream",
     "text": [
      "{0, 2, 4, 6, 8}\n"
     ]
    }
   ],
   "source": [
    "s=set()\n",
    "for i in range(10):\n",
    "    if i%2==0:\n",
    "        s.add(i)\n",
    "print(s)"
   ]
  },
  {
   "cell_type": "code",
   "execution_count": 2,
   "id": "3dbdae0f-2372-46e0-ac9e-63f8a229f0ef",
   "metadata": {},
   "outputs": [
    {
     "name": "stdout",
     "output_type": "stream",
     "text": [
      "{1, 3, 5, 7, 9}\n"
     ]
    }
   ],
   "source": [
    "s=set()\n",
    "for i in range(10):\n",
    "    if i%2!=0:\n",
    "        s.add(i)\n",
    "print(s)"
   ]
  },
  {
   "cell_type": "code",
   "execution_count": 3,
   "id": "f50ce61c-f384-4f22-8e1d-99a96c4543f4",
   "metadata": {},
   "outputs": [
    {
     "data": {
      "text/plain": [
       "{1, 2, 3, 4, 6, 8}"
      ]
     },
     "execution_count": 3,
     "metadata": {},
     "output_type": "execute_result"
    }
   ],
   "source": [
    "set1={1,2,3,4}\n",
    "set2={2,4,6,8}\n",
    "set1.union(set2)"
   ]
  },
  {
   "cell_type": "code",
   "execution_count": 4,
   "id": "6ec8e5f1-c750-44eb-bcb5-c9c5683fd2fb",
   "metadata": {},
   "outputs": [
    {
     "data": {
      "text/plain": [
       "{2, 4}"
      ]
     },
     "execution_count": 4,
     "metadata": {},
     "output_type": "execute_result"
    }
   ],
   "source": [
    "set1={1,2,3,4}\n",
    "set2={2,4,6,8}\n",
    "set1.intersection(set2)"
   ]
  },
  {
   "cell_type": "code",
   "execution_count": 6,
   "id": "af04765e-b65b-4a26-9782-d8d6fe17fad0",
   "metadata": {},
   "outputs": [
    {
     "data": {
      "text/plain": [
       "{1, 3, 6, 8}"
      ]
     },
     "execution_count": 6,
     "metadata": {},
     "output_type": "execute_result"
    }
   ],
   "source": [
    "set1={1,2,3,4}\n",
    "set2={2,4,6,8}\n",
    "set1.symmetric_difference_update(set2)\n",
    "set1"
   ]
  },
  {
   "cell_type": "code",
   "execution_count": 9,
   "id": "8aa291c8-3076-4b16-8098-0daef40d5c93",
   "metadata": {},
   "outputs": [
    {
     "name": "stdout",
     "output_type": "stream",
     "text": [
      "No not subset\n"
     ]
    }
   ],
   "source": [
    "set1={1,2,3,4}\n",
    "set2={2,5}\n",
    "if set2.issubset(set1):\n",
    "    print(\"Yes subset\")\n",
    "else:\n",
    "    print(\"No not subset\")"
   ]
  },
  {
   "cell_type": "code",
   "execution_count": 11,
   "id": "ca1949d7-8851-49a5-8a38-cd39676329bf",
   "metadata": {},
   "outputs": [
    {
     "name": "stdout",
     "output_type": "stream",
     "text": [
      "Yes superset\n"
     ]
    }
   ],
   "source": [
    "set1={1,2,3,4}\n",
    "set2={2,4}\n",
    "if set1.issuperset(set2):\n",
    "    print(\"Yes superset\")\n",
    "else:\n",
    "    print(\"NO not superset\")"
   ]
  },
  {
   "cell_type": "code",
   "execution_count": 12,
   "id": "19ccf885-a8e1-4bf7-9fd2-bfc5843a76e5",
   "metadata": {},
   "outputs": [
    {
     "name": "stdout",
     "output_type": "stream",
     "text": [
      "{2, 299, 'Gnanesh', 6}\n"
     ]
    }
   ],
   "source": [
    "list=[2,'Gnanesh',6,299]\n",
    "print(set(list))"
   ]
  },
  {
   "cell_type": "code",
   "execution_count": 1,
   "id": "7eeda60d-f3f7-4464-a170-a064e3a2612e",
   "metadata": {},
   "outputs": [
    {
     "name": "stdout",
     "output_type": "stream",
     "text": [
      "[1, 2, 3, 4, 'Gnanesh', 12.344]\n"
     ]
    }
   ],
   "source": [
    "set1={1,2,3,4,'Gnanesh', 12.344}\n",
    "l=list(set1)\n",
    "print(l)"
   ]
  },
  {
   "cell_type": "code",
   "execution_count": 2,
   "id": "ef4a089c-a5d7-4679-a083-e7c79e4460e4",
   "metadata": {},
   "outputs": [
    {
     "data": {
      "text/plain": [
       "{1, 12.344, 3, 4, 'Gnanesh'}"
      ]
     },
     "execution_count": 2,
     "metadata": {},
     "output_type": "execute_result"
    }
   ],
   "source": [
    "set1={1,2,3,4,'Gnanesh', 12.344}\n",
    "set1.remove(2)\n",
    "set1"
   ]
  },
  {
   "cell_type": "code",
   "execution_count": 5,
   "id": "9b2deb11-a7d5-4f45-b164-45d111bc3526",
   "metadata": {},
   "outputs": [
    {
     "data": {
      "text/plain": [
       "{12.344, 2, 3, 4, 'Gnanesh'}"
      ]
     },
     "execution_count": 5,
     "metadata": {},
     "output_type": "execute_result"
    }
   ],
   "source": [
    "set1={1,2,3,4,'Gnanesh', 12.344}\n",
    "set1.pop()\n",
    "set1"
   ]
  },
  {
   "cell_type": "code",
   "execution_count": 7,
   "id": "5b8e07e3-560a-441e-aadc-a944062bea4d",
   "metadata": {},
   "outputs": [
    {
     "name": "stdout",
     "output_type": "stream",
     "text": [
      "sets didn't have common elements\n"
     ]
    }
   ],
   "source": [
    "set1={1,2,3,4}\n",
    "set2={6,8}\n",
    "if set1.intersection(set2):\n",
    "    print(\"sets have common elements\")\n",
    "else:\n",
    "    print(\"sets didn't have common elements\")"
   ]
  },
  {
   "cell_type": "code",
   "execution_count": 2,
   "id": "e51cd332-045a-4898-943a-1204dd6206b6",
   "metadata": {},
   "outputs": [
    {
     "data": {
      "text/plain": [
       "{1, 3, 6, 8, 'pwskills'}"
      ]
     },
     "execution_count": 2,
     "metadata": {},
     "output_type": "execute_result"
    }
   ],
   "source": [
    "set1={1,2,3,4,'pwskills','Gnanesh'}\n",
    "set2={2,4,6,8,'Gnanesh'}\n",
    "set1.symmetric_difference_update(set2)\n",
    "set1"
   ]
  },
  {
   "cell_type": "code",
   "execution_count": 4,
   "id": "46f96350-02d9-41f4-9412-7a7251d7af1c",
   "metadata": {},
   "outputs": [
    {
     "data": {
      "text/plain": [
       "{1, 2, 3, 4, 6, 8, 'Gnanesh', 'pwskills'}"
      ]
     },
     "execution_count": 4,
     "metadata": {},
     "output_type": "execute_result"
    }
   ],
   "source": [
    "set1={1,2,3,4,'pwskills','Gnanesh'}\n",
    "set2={2,4,6,8,'Gnanesh'}\n",
    "set1.update(set2)\n",
    "set1"
   ]
  },
  {
   "cell_type": "code",
   "execution_count": 5,
   "id": "4a860313-cdc6-4844-b514-6ce43d6f142d",
   "metadata": {},
   "outputs": [
    {
     "name": "stdout",
     "output_type": "stream",
     "text": [
      "{1, 2, 3, 5, 7}\n"
     ]
    }
   ],
   "source": [
    "set1=set()\n",
    "for i in range(1,10):\n",
    "    count=0\n",
    "    for j in range(1,i):\n",
    "        if i%j==0:\n",
    "            count+=1\n",
    "    if count<2:\n",
    "        set1.add(i)\n",
    "print(set1)"
   ]
  },
  {
   "cell_type": "code",
   "execution_count": 11,
   "id": "cadec877-745a-4c0d-aab3-9dae8ba78fc4",
   "metadata": {},
   "outputs": [
    {
     "name": "stdout",
     "output_type": "stream",
     "text": [
      "Yes sets are identical\n"
     ]
    }
   ],
   "source": [
    "set1={1,2,3,4}\n",
    "set2={2,4,1,3}\n",
    "if len(set1)==len(set2) and set1.intersection(set2)==set1:\n",
    "    print(\"Yes sets are identical\")\n",
    "else:\n",
    "    print(\"No sets are not same\")"
   ]
  },
  {
   "cell_type": "code",
   "execution_count": 12,
   "id": "edeb9079-ee9a-4fc8-9058-2edfaf753221",
   "metadata": {},
   "outputs": [
    {
     "data": {
      "text/plain": [
       "frozenset({2, 4, 7, 9, 10})"
      ]
     },
     "execution_count": 12,
     "metadata": {},
     "output_type": "execute_result"
    }
   ],
   "source": [
    "set={4,7,2,9,10}\n",
    "set1=frozenset(set)\n",
    "set1"
   ]
  },
  {
   "cell_type": "code",
   "execution_count": 14,
   "id": "63c52c92-589c-4635-9cda-5ca6f167adf7",
   "metadata": {},
   "outputs": [
    {
     "data": {
      "text/plain": [
       "True"
      ]
     },
     "execution_count": 14,
     "metadata": {},
     "output_type": "execute_result"
    }
   ],
   "source": [
    "set1={1,2,3,4}\n",
    "set2={5,6,7,8,9}\n",
    "set1.isdisjoint(set2)"
   ]
  },
  {
   "cell_type": "code",
   "execution_count": 1,
   "id": "88657256-fd9f-43ec-9901-d485af765ee7",
   "metadata": {},
   "outputs": [
    {
     "data": {
      "text/plain": [
       "{1, 4, 9, 16, 25}"
      ]
     },
     "execution_count": 1,
     "metadata": {},
     "output_type": "execute_result"
    }
   ],
   "source": [
    "set1=set()\n",
    "for i in range(1,6):\n",
    "    set1.add(i**2)\n",
    "set1"
   ]
  },
  {
   "cell_type": "code",
   "execution_count": 2,
   "id": "ae36079b-cdb4-43a7-9633-e63d2a7f0f0d",
   "metadata": {},
   "outputs": [
    {
     "data": {
      "text/plain": [
       "{2, 4, 6, 8, 34, 78, 900}"
      ]
     },
     "execution_count": 2,
     "metadata": {},
     "output_type": "execute_result"
    }
   ],
   "source": [
    "set1={1,2,3,4,5,6,7,8,9,34,78,23,900,345}\n",
    "set2=set()\n",
    "for i in set1:\n",
    "    if i%2==0:\n",
    "        set2.add(i)\n",
    "set2"
   ]
  },
  {
   "cell_type": "code",
   "execution_count": 3,
   "id": "fad14dd9-5846-42e1-b3aa-58d94b5ea287",
   "metadata": {},
   "outputs": [
    {
     "data": {
      "text/plain": [
       "{2, 4, 6, 8, 10, 12, 14, 16, 18, 46, 68, 156, 690, 1800}"
      ]
     },
     "execution_count": 3,
     "metadata": {},
     "output_type": "execute_result"
    }
   ],
   "source": [
    "set1={1,2,3,4,5,6,7,8,9,34,78,23,900,345}\n",
    "set2=set()\n",
    "for i in set1:\n",
    "    set2.add(i*2)\n",
    "set2"
   ]
  },
  {
   "cell_type": "code",
   "execution_count": 4,
   "id": "69dba60d-d43a-4512-82b7-bf65bba1897a",
   "metadata": {},
   "outputs": [
    {
     "name": "stdout",
     "output_type": "stream",
     "text": [
      "set is empty\n"
     ]
    }
   ],
   "source": [
    "set1=set()\n",
    "if len(set1)>1:\n",
    "    print(\"set is not empty\")\n",
    "else:\n",
    "    print(\"set is empty\")"
   ]
  },
  {
   "cell_type": "code",
   "execution_count": 2,
   "id": "d4e0c6be-6128-4a1c-a60f-cf6496e80165",
   "metadata": {},
   "outputs": [
    {
     "data": {
      "text/plain": [
       "frozenset({100, 2, 7, 9, 'Gnanesh', 'pwskills'})"
      ]
     },
     "execution_count": 2,
     "metadata": {},
     "output_type": "execute_result"
    }
   ],
   "source": [
    "set7={2,7,9,100,\"Gnanesh\",'pwskills'}\n",
    "set1=frozenset(set7)\n",
    "set1"
   ]
  },
  {
   "cell_type": "code",
   "execution_count": 3,
   "id": "a13eda77-4d7a-4d9e-ab3d-6189198a6531",
   "metadata": {},
   "outputs": [
    {
     "data": {
      "text/plain": [
       "{100, 2, 7, 9, 'Gnanesh'}"
      ]
     },
     "execution_count": 3,
     "metadata": {},
     "output_type": "execute_result"
    }
   ],
   "source": [
    "set7={2,7,9,100,\"Gnanesh\",'pwskills'}\n",
    "set7.discard('pwskills')\n",
    "set7"
   ]
  },
  {
   "cell_type": "code",
   "execution_count": 4,
   "id": "d40e1094-39aa-4e6e-b0fb-d1060b797ccb",
   "metadata": {},
   "outputs": [
    {
     "name": "stdout",
     "output_type": "stream",
     "text": [
      "sets are not same\n"
     ]
    }
   ],
   "source": [
    "set1={1,2,3,4}\n",
    "set2={5,6,7,8,9}\n",
    "if set1==set2:\n",
    "    print(\"sets are same\")\n",
    "else:\n",
    "    print(\"sets are not same\")"
   ]
  },
  {
   "cell_type": "code",
   "execution_count": 7,
   "id": "57bcad5d-3ff3-4e0b-85b4-f25c11652f9f",
   "metadata": {},
   "outputs": [
    {
     "name": "stdout",
     "output_type": "stream",
     "text": [
      "{'22', 'number', 'am', 'Gnanesh', 'roll', 'my', 'I', 'is'}\n"
     ]
    }
   ],
   "source": [
    "string=\"I am Gnanesh my roll number is 22\"\n",
    "l=string.split()\n",
    "print(set(l))"
   ]
  },
  {
   "cell_type": "code",
   "execution_count": 9,
   "id": "a4035e98-f1b0-4c66-9f23-e3132ef9df39",
   "metadata": {},
   "outputs": [
    {
     "data": {
      "text/plain": [
       "{16, 22, 27, 28, 30}"
      ]
     },
     "execution_count": 9,
     "metadata": {},
     "output_type": "execute_result"
    }
   ],
   "source": [
    "set123={'22','16','27','28','30'}\n",
    "set2=set()\n",
    "for i in set123:\n",
    "    set2.add(int(i))\n",
    "set2"
   ]
  },
  {
   "cell_type": "code",
   "execution_count": 11,
   "id": "493d2025-adf6-41eb-b666-fd3492533470",
   "metadata": {},
   "outputs": [
    {
     "data": {
      "text/plain": [
       "{'16', '22', '27', '28', '30'}"
      ]
     },
     "execution_count": 11,
     "metadata": {},
     "output_type": "execute_result"
    }
   ],
   "source": [
    "set123={22,16,27,28,30}\n",
    "set2=set()\n",
    "for i in set123:\n",
    "    set2.add(str(i))\n",
    "set2"
   ]
  },
  {
   "cell_type": "code",
   "execution_count": 12,
   "id": "a19f99c6-963e-4f38-91cf-96161127924b",
   "metadata": {},
   "outputs": [
    {
     "data": {
      "text/plain": [
       "{1, 3, 45.99, 'pwskills', 'remote'}"
      ]
     },
     "execution_count": 12,
     "metadata": {},
     "output_type": "execute_result"
    }
   ],
   "source": [
    "tuple1=(1,3,'pwskills','remote',45.99,True)\n",
    "set(tuple1)"
   ]
  },
  {
   "cell_type": "code",
   "execution_count": 13,
   "id": "d011cf62-fd67-4058-91a8-edc49085691e",
   "metadata": {},
   "outputs": [
    {
     "data": {
      "text/plain": [
       "(1, 3, 'pwskills', 'remote', 45.99)"
      ]
     },
     "execution_count": 13,
     "metadata": {},
     "output_type": "execute_result"
    }
   ],
   "source": [
    "set1={1,3,'pwskills','remote',45.99,True}\n",
    "tuple(set1)"
   ]
  },
  {
   "cell_type": "code",
   "execution_count": 14,
   "id": "4f828c94-52e3-411f-b50a-3b5ef08e1b10",
   "metadata": {},
   "outputs": [
    {
     "data": {
      "text/plain": [
       "30"
      ]
     },
     "execution_count": 14,
     "metadata": {},
     "output_type": "execute_result"
    }
   ],
   "source": [
    "set123={22,16,27,28,30}\n",
    "max(set123)"
   ]
  },
  {
   "cell_type": "code",
   "execution_count": 15,
   "id": "3b556a72-71db-46ea-83fe-3d1545dfffbe",
   "metadata": {},
   "outputs": [
    {
     "data": {
      "text/plain": [
       "16"
      ]
     },
     "execution_count": 15,
     "metadata": {},
     "output_type": "execute_result"
    }
   ],
   "source": [
    "min(set123)"
   ]
  },
  {
   "cell_type": "code",
   "execution_count": 16,
   "id": "54c8b8c4-91a9-4c7a-a1b0-4dad9261eaa1",
   "metadata": {},
   "outputs": [
    {
     "name": "stdin",
     "output_type": "stream",
     "text": [
      "Enter how many numbers do you add into set:  6\n"
     ]
    },
    {
     "name": "stdout",
     "output_type": "stream",
     "text": [
      "Enter number for index  0 :\n"
     ]
    },
    {
     "name": "stdin",
     "output_type": "stream",
     "text": [
      " 8\n"
     ]
    },
    {
     "name": "stdout",
     "output_type": "stream",
     "text": [
      "Enter number for index  1 :\n"
     ]
    },
    {
     "name": "stdin",
     "output_type": "stream",
     "text": [
      " 34\n"
     ]
    },
    {
     "name": "stdout",
     "output_type": "stream",
     "text": [
      "Enter number for index  2 :\n"
     ]
    },
    {
     "name": "stdin",
     "output_type": "stream",
     "text": [
      " 678\n"
     ]
    },
    {
     "name": "stdout",
     "output_type": "stream",
     "text": [
      "Enter number for index  3 :\n"
     ]
    },
    {
     "name": "stdin",
     "output_type": "stream",
     "text": [
      " 234\n"
     ]
    },
    {
     "name": "stdout",
     "output_type": "stream",
     "text": [
      "Enter number for index  4 :\n"
     ]
    },
    {
     "name": "stdin",
     "output_type": "stream",
     "text": [
      " 12\n"
     ]
    },
    {
     "name": "stdout",
     "output_type": "stream",
     "text": [
      "Enter number for index  5 :\n"
     ]
    },
    {
     "name": "stdin",
     "output_type": "stream",
     "text": [
      " 0\n"
     ]
    },
    {
     "data": {
      "text/plain": [
       "{0, 8, 12, 34, 234, 678}"
      ]
     },
     "execution_count": 16,
     "metadata": {},
     "output_type": "execute_result"
    }
   ],
   "source": [
    "set147=set()\n",
    "n=int(input(\"Enter how many numbers do you add into set: \"))\n",
    "for i in range(n):\n",
    "    print(\"Enter number for index \",i,\":\")\n",
    "    ele=int(input())\n",
    "    set147.add(ele)\n",
    "set147"
   ]
  },
  {
   "cell_type": "code",
   "execution_count": 20,
   "id": "785ea31c-d859-4c50-8054-5f04fde775d7",
   "metadata": {},
   "outputs": [
    {
     "name": "stdout",
     "output_type": "stream",
     "text": [
      "Intersection is empty\n"
     ]
    }
   ],
   "source": [
    "set1={1,2,3,4,5}\n",
    "set2={6,7,8,9,10}\n",
    "if set1.intersection(set2)==set():\n",
    "    print(\"Intersection is empty\")\n",
    "else:\n",
    "    print(\"Intersection have elements\")"
   ]
  },
  {
   "cell_type": "code",
   "execution_count": 22,
   "id": "e1c6bda6-bbc0-4a87-8d7c-101d5c2229ec",
   "metadata": {},
   "outputs": [
    {
     "data": {
      "text/plain": [
       "{0, 1, 2, 3, 5}"
      ]
     },
     "execution_count": 22,
     "metadata": {},
     "output_type": "execute_result"
    }
   ],
   "source": [
    "set9=set()\n",
    "first=0\n",
    "second=1\n",
    "for i in range(6):\n",
    "    set9.add(first)\n",
    "    temp=first\n",
    "    first=second\n",
    "    second=temp+second\n",
    "set9"
   ]
  },
  {
   "cell_type": "code",
   "execution_count": 23,
   "id": "dfd17dc1-2059-4700-85dc-cb21f45e9b86",
   "metadata": {},
   "outputs": [
    {
     "data": {
      "text/plain": [
       "{2, 4, 6, 8, 9}"
      ]
     },
     "execution_count": 23,
     "metadata": {},
     "output_type": "execute_result"
    }
   ],
   "source": [
    "set1={2,4,6,8,9,4,8,6,2,6,6,8}\n",
    "set1"
   ]
  },
  {
   "cell_type": "code",
   "execution_count": 26,
   "id": "4a233c29-879a-45e9-b4ce-77e924b9321c",
   "metadata": {},
   "outputs": [
    {
     "name": "stdout",
     "output_type": "stream",
     "text": [
      "No sets not having different elements\n"
     ]
    }
   ],
   "source": [
    "set1={1,2,3,4}\n",
    "set2={2,4,1,9}\n",
    "if set1.intersection(set2)==set1:\n",
    "    print(\"Yes sets having same elements\")\n",
    "else:\n",
    "    print(\"No sets not having different elements\")"
   ]
  },
  {
   "cell_type": "code",
   "execution_count": 27,
   "id": "3a26a497-cb3c-4634-b382-a5f06b715b03",
   "metadata": {},
   "outputs": [
    {
     "data": {
      "text/plain": [
       "{1, 4, 9, 16, 25, 36, 49, 64, 81, 100}"
      ]
     },
     "execution_count": 27,
     "metadata": {},
     "output_type": "execute_result"
    }
   ],
   "source": [
    "set9=set()\n",
    "for i in range(1,11):\n",
    "    set9.add(i**2)\n",
    "set9"
   ]
  },
  {
   "cell_type": "code",
   "execution_count": 28,
   "id": "ec91aaf8-ec5c-4045-87aa-1756e0a9f3d0",
   "metadata": {},
   "outputs": [
    {
     "data": {
      "text/plain": [
       "{23.78, 4, 'Gnanesh'}"
      ]
     },
     "execution_count": 28,
     "metadata": {},
     "output_type": "execute_result"
    }
   ],
   "source": [
    "set1={'Gnanesh','pwskills',4,8,23.78}\n",
    "list=[2,4,'Gnanesh',23.78,89.33]\n",
    "set1.intersection(list)"
   ]
  },
  {
   "cell_type": "code",
   "execution_count": 29,
   "id": "e2a3c319-d5ce-45ec-a676-e59013e45345",
   "metadata": {},
   "outputs": [
    {
     "name": "stdin",
     "output_type": "stream",
     "text": [
      "Enter how many triangle numbers do you want:  10\n"
     ]
    },
    {
     "name": "stdout",
     "output_type": "stream",
     "text": [
      "{1, 3, 36, 6, 10, 45, 15, 21, 55, 28}\n"
     ]
    }
   ],
   "source": [
    "num=int(input(\"Enter how many triangle numbers do you want: \"))\n",
    "set8=set()\n",
    "first=1\n",
    "n=2\n",
    "for i in range(num):\n",
    "    set8.add(first)\n",
    "    first=first+n\n",
    "    n+=1\n",
    "print(set8)  "
   ]
  },
  {
   "cell_type": "code",
   "execution_count": 31,
   "id": "a640465b-5896-466a-a57e-380fa20cec75",
   "metadata": {},
   "outputs": [
    {
     "name": "stdout",
     "output_type": "stream",
     "text": [
      "Yes set5 is subset of set4\n"
     ]
    }
   ],
   "source": [
    "set4={9,8,6,5,4}\n",
    "set5={8,6,9,4}\n",
    "if set5.issubset(set4):\n",
    "    print(\"Yes set5 is subset of set4\")\n",
    "else:\n",
    "    print(\"No set5 is not subset of set4\")"
   ]
  },
  {
   "cell_type": "code",
   "execution_count": 46,
   "id": "65faddb5-dc73-45e1-8fb3-8d239d35b32d",
   "metadata": {},
   "outputs": [
    {
     "data": {
      "text/plain": [
       "{0, 1}"
      ]
     },
     "execution_count": 46,
     "metadata": {},
     "output_type": "execute_result"
    }
   ],
   "source": [
    "set3=set()\n",
    "for i in range(4):\n",
    "    if i%2==0:\n",
    "        set3.add(1)\n",
    "    else:\n",
    "        set3.add(0)\n",
    "set3"
   ]
  },
  {
   "cell_type": "code",
   "execution_count": 47,
   "id": "cf455731-69ce-4b55-919d-451ae20e63c3",
   "metadata": {},
   "outputs": [
    {
     "data": {
      "text/plain": [
       "{1, 10, 2, 3, 45.22, 5, 7, False, 'Gnanesh', 'pwskills'}"
      ]
     },
     "execution_count": 47,
     "metadata": {},
     "output_type": "execute_result"
    }
   ],
   "source": [
    "set1={1,3,5,7}\n",
    "set2={2,10,'Gnanesh',False}\n",
    "set3={'pwskills',2,45.22,True}\n",
    "set_m=set1.union(set2,set3)\n",
    "set_m"
   ]
  },
  {
   "cell_type": "markdown",
   "id": "d77f6dbd-d45f-4090-996e-6b55b8a9a7c6",
   "metadata": {},
   "source": [
    "#Thank you for giving this assignment"
   ]
  },
  {
   "cell_type": "code",
   "execution_count": null,
   "id": "2eb6f848-0199-40cd-b3d9-7779fe8e00af",
   "metadata": {},
   "outputs": [],
   "source": []
  }
 ],
 "metadata": {
  "kernelspec": {
   "display_name": "Python 3 (ipykernel)",
   "language": "python",
   "name": "python3"
  },
  "language_info": {
   "codemirror_mode": {
    "name": "ipython",
    "version": 3
   },
   "file_extension": ".py",
   "mimetype": "text/x-python",
   "name": "python",
   "nbconvert_exporter": "python",
   "pygments_lexer": "ipython3",
   "version": "3.10.8"
  }
 },
 "nbformat": 4,
 "nbformat_minor": 5
}
