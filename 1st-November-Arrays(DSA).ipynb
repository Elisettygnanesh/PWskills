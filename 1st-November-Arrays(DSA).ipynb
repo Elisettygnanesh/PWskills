{
 "cells": [
  {
   "cell_type": "markdown",
   "id": "ec8d413f-749a-42e7-80aa-3afef20bf420",
   "metadata": {},
   "source": [
    "1st-NOVEMBER-ARRAYS(DSA)"
   ]
  },
  {
   "cell_type": "code",
   "execution_count": 2,
   "id": "229709d5-b67a-41e5-b709-5465fd3d1af8",
   "metadata": {},
   "outputs": [
    {
     "name": "stdout",
     "output_type": "stream",
     "text": [
      "True\n",
      "\n",
      "The list has duplicate values. First I converted list to set, because no duplicate values allowed in sets. After I have checked lengths of original list and set. If the lengths are equal then we conclude there are no duplicate values otherwise we conclude list has duplicate values. The time complexity is O(n) and space complexity is O(1).\n"
     ]
    }
   ],
   "source": [
    "def check_duplicate(arr):\n",
    "    # Convert the list 'arr' into set 'a'\n",
    "    a = set(arr)\n",
    "    # Check if the length of 'arr' (original list) is equal to the length of 'a' (set changed from original list).\n",
    "    if len(arr) == len(a):\n",
    "        # If the lengths are equal that means there are no duplicate values in 'arr' return False.\n",
    "        return False\n",
    "    else:\n",
    "        # If the lengths are not equal that means there are duplicate values in 'arr' return True.\n",
    "        return True\n",
    "\n",
    "#define an array\n",
    "arr=[1,2,4,2,5,9]\n",
    "# Call the 'check_duplicate' function with the 'arr' list and store the result in 'result'.\n",
    "result=check_duplicate(arr)\n",
    "# Print the result to see whether the list contains duplicate values or not.\n",
    "print(result)\n",
    "print(\"\\nThe list has duplicate values. First I converted list to set, because no duplicate values allowed in sets. After I have checked lengths of original list and set. If the lengths are equal then we conclude there are no duplicate values otherwise we conclude list has duplicate values. The time complexity is O(n) and space complexity is O(1).\")"
   ]
  },
  {
   "cell_type": "code",
   "execution_count": 3,
   "id": "37fcef4f-6807-4a4a-9108-06f1febe5909",
   "metadata": {},
   "outputs": [
    {
     "name": "stdout",
     "output_type": "stream",
     "text": [
      "[5, 6, 7, 1, 2, 3, 4]\n",
      "\n",
      "The given array is splitted into two parts by using k value in index slicing method then concatenate arr2 and arr1 to get rotated array. The time complexity is O(n) and space complexity is O(n).\n"
     ]
    }
   ],
   "source": [
    "def rotate(arr,k):\n",
    "    #Split the array into two parts by slicing using k value.\n",
    "    arr1=arr[:k+1]\n",
    "    arr2=arr[k+1:]\n",
    "    #Concatenate 'arr2' and 'arr1' to form the rotated array.\n",
    "    return arr2+arr1\n",
    "   \n",
    "#define an array\n",
    "arr=[1,2,3,4,5,6,7]\n",
    "k=3\n",
    "result=rotate(arr,k)\n",
    "# Print the result to see rotated array.\n",
    "print(result)\n",
    "print(\"\\nThe given array is splitted into two parts by using k value in index slicing method then concatenate arr2 and arr1 to get rotated array. The time complexity is O(n) and space complexity is O(n).\")"
   ]
  },
  {
   "cell_type": "code",
   "execution_count": 4,
   "id": "ba6d4cf7-63b2-42d0-b221-6bcb995cde6a",
   "metadata": {},
   "outputs": [
    {
     "name": "stdout",
     "output_type": "stream",
     "text": [
      "[12, 9, 7, 5, 4, 2]\n",
      "\n",
      "The array is reversed by using slicing notation. Time and space complexity are O(n). \n"
     ]
    }
   ],
   "source": [
    "def reverse(arr):\n",
    "    #Using slicing notation to reverse the arrray in place\n",
    "    return arr[::-1]\n",
    "\n",
    "#define an array\n",
    "arr=[2,4,5,7,9,12]\n",
    "result=reverse(arr)\n",
    "# Print the result to see reversed array.\n",
    "print(result)\n",
    "print(\"\\nThe array is reversed by using slicing notation. Time and space complexity are O(n). \")"
   ]
  },
  {
   "cell_type": "code",
   "execution_count": 5,
   "id": "023a4751-793f-4e13-a2a1-a6163e85bd36",
   "metadata": {},
   "outputs": [
    {
     "name": "stdout",
     "output_type": "stream",
     "text": [
      "20\n",
      "\n",
      "There are so many ways to find maximum value in an array but I choose sorting method. I sorted the array in ascending order then return last value by using negative indexing. Time complexity is O(n*log(n)) and space complexity is O(n).\n"
     ]
    }
   ],
   "source": [
    "def maximum(arr):\n",
    "    #Sorting the given array\n",
    "    a=sorted(arr)\n",
    "    #Return last element after sorting using index method. \n",
    "    return a[-1]\n",
    "\n",
    "#define an array\n",
    "arr=[10,5,8,20,15]\n",
    "result=maximum(arr)\n",
    "#Print the result to see maximum value.\n",
    "print(result)\n",
    "print(\"\\nThere are so many ways to find maximum value in an array but I choose sorting method. I sorted the array in ascending order then return last value by using negative indexing. Time complexity is O(n*log(n)) and space complexity is O(n).\")"
   ]
  },
  {
   "cell_type": "code",
   "execution_count": 7,
   "id": "f2c1dcc4-39d8-44fb-a12a-ab0439ba2392",
   "metadata": {},
   "outputs": [
    {
     "name": "stdout",
     "output_type": "stream",
     "text": [
      "[1, 2, 3, 4, 5]\n",
      "\n",
      "Two pointers, current and next_unique are initialized. The code enters a loop that iterates through the array from the second element (index 1) to the end. Inside the loop, it compares the element at the current position with the element at the next_unique position.If the elements are the same there is a duplicate values. The next_unique pointer is incremented to move to the next unique element.If the elements are different, it is a new unique element. The code increments the current pointer to the next position and copies the unique element (from next_unique) to this new position in the array. Then, it increments both the current and next_unique pointers.After the loop completes, the array has been modified in place, with duplicates removed.\n"
     ]
    }
   ],
   "source": [
    "def remove_duplicates(arr):\n",
    "    # Initialize pointers\n",
    "    current = 0\n",
    "    next_unique = 1\n",
    "\n",
    "    while next_unique < len(arr):\n",
    "        if arr[current] == arr[next_unique]:\n",
    "            next_unique += 1\n",
    "        else:\n",
    "            current += 1\n",
    "            arr[current] = arr[next_unique]\n",
    "            next_unique += 1\n",
    "\n",
    "    # The unique elements are now in arr[0 : current+1]\n",
    "    return current + 1\n",
    "\n",
    "arr = [1, 1, 2, 2, 2, 3, 3, 4, 4, 4, 5, 5]\n",
    "new_length = remove_duplicates(arr)\n",
    "\n",
    "# Print the array with duplicates removed\n",
    "print(arr[:new_length])\n",
    "print(\"\\nTwo pointers, current and next_unique are initialized. The code enters a loop that iterates through the array from the second element (index 1) to the end. Inside the loop, it compares the element at the current position with the element at the next_unique position.If the elements are the same there is a duplicate values. The next_unique pointer is incremented to move to the next unique element.If the elements are different, it is a new unique element. The code increments the current pointer to the next position and copies the unique element (from next_unique) to this new position in the array. Then, it increments both the current and next_unique pointers.After the loop completes, the array has been modified in place, with duplicates removed.\")"
   ]
  },
  {
   "cell_type": "markdown",
   "id": "db12d0fa-29b7-438c-a8a1-359b0825e5ec",
   "metadata": {},
   "source": [
    "THANK YOU FOR GIVING THIS ASSIGNMENT"
   ]
  },
  {
   "cell_type": "code",
   "execution_count": null,
   "id": "85f864c2-b75e-45e3-a01b-43b04d814da7",
   "metadata": {},
   "outputs": [],
   "source": []
  }
 ],
 "metadata": {
  "kernelspec": {
   "display_name": "Python 3 (ipykernel)",
   "language": "python",
   "name": "python3"
  },
  "language_info": {
   "codemirror_mode": {
    "name": "ipython",
    "version": 3
   },
   "file_extension": ".py",
   "mimetype": "text/x-python",
   "name": "python",
   "nbconvert_exporter": "python",
   "pygments_lexer": "ipython3",
   "version": "3.10.8"
  }
 },
 "nbformat": 4,
 "nbformat_minor": 5
}
