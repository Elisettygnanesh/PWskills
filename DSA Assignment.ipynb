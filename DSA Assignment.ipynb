{
 "cells": [
  {
   "cell_type": "markdown",
   "id": "46671db1-52d2-4bc3-89db-70f4ae132f80",
   "metadata": {},
   "source": [
    "DSA ASSIGNMENT"
   ]
  },
  {
   "cell_type": "code",
   "execution_count": 7,
   "id": "5bf014ab-b1fe-4a77-b4ff-f76343b59dc7",
   "metadata": {},
   "outputs": [
    {
     "name": "stdout",
     "output_type": "stream",
     "text": [
      "5 --> 4 --> 3 --> 2 --> 1\n"
     ]
    }
   ],
   "source": [
    "class Node:\n",
    "    def __init__(self,data=None,next=None):\n",
    "        self.next=next\n",
    "        self.data=data\n",
    "class linkedlist:\n",
    "    def __init__(self):\n",
    "        self.head=None\n",
    "        \n",
    "    def insert_at_end(self, data):\n",
    "        if self.head is None:\n",
    "            self.head = Node(data, None)\n",
    "            return\n",
    "\n",
    "        itr = self.head\n",
    "\n",
    "        while itr.next:\n",
    "            itr = itr.next\n",
    "            \n",
    "        itr.next = Node(data, None)\n",
    "    \n",
    "    def reverse(self):\n",
    "        prev = None\n",
    "        current = self.head\n",
    "        while current is not None:\n",
    "            next_node = current.next\n",
    "            current.next = prev\n",
    "            prev = current\n",
    "            current = next_node\n",
    "        self.head = prev\n",
    "\n",
    "    def print_list(self):\n",
    "        itr = self.head\n",
    "        llstr = ''\n",
    "        while itr:\n",
    "            llstr += str(itr.data) + ' --> ' if itr.next else str(itr.data)\n",
    "            itr = itr.next\n",
    "        print(llstr)\n",
    "        \n",
    "    def insert_values(self,l):\n",
    "        self.head=None\n",
    "        for d in l:\n",
    "            self.insert_at_end(d)\n",
    "            \n",
    "l=linkedlist()\n",
    "l.insert_values([1,2,3,4,5])\n",
    "l.reverse()\n",
    "l.print_list()"
   ]
  },
  {
   "cell_type": "code",
   "execution_count": 13,
   "id": "bce9ddb5-0f7b-4ef6-8158-b680f43029da",
   "metadata": {},
   "outputs": [
    {
     "name": "stdout",
     "output_type": "stream",
     "text": [
      "1 --> 2 --> 3 --> 4 --> 5 --> 6\n"
     ]
    }
   ],
   "source": [
    "class Node:\n",
    "    def __init__(self,data=None,next=None):\n",
    "        self.next=next\n",
    "        self.data=data\n",
    "class linkedlist:\n",
    "    def __init__(self):\n",
    "        self.head=None\n",
    "        \n",
    "    def insert_at_end(self, a,d):\n",
    "        if self.head is None:\n",
    "            self.head = Node(a, None)\n",
    "            return\n",
    "\n",
    "        itr = self.head\n",
    "        while itr.next:\n",
    "                itr = itr.next\n",
    "        if itr.data == a:\n",
    "            itr.next = Node(d, None)\n",
    "        else:\n",
    "            itr.next = Node(a, None)\n",
    "            itr.next.next = Node(d, None)\n",
    "\n",
    "    def print_list(self):\n",
    "        itr = self.head\n",
    "        llstr = ''\n",
    "        while itr:\n",
    "            llstr += str(itr.data) + ' --> ' if itr.next else str(itr.data)\n",
    "            itr = itr.next\n",
    "        print(llstr)\n",
    "        \n",
    "    def insert_values(self,l1,l2):\n",
    "        self.head=None\n",
    "        self.insert_at_end(l1[0],0)\n",
    "        for a,d in zip(l1,l2):\n",
    "            self.insert_at_end(a,d)\n",
    "            \n",
    "l=linkedlist()\n",
    "l.insert_values([1,3,5],[2,4,6])\n",
    "l.print_list()"
   ]
  },
  {
   "cell_type": "code",
   "execution_count": 19,
   "id": "8b5c87c0-b66c-4784-8b92-28c330f5c727",
   "metadata": {},
   "outputs": [
    {
     "name": "stdout",
     "output_type": "stream",
     "text": [
      "1 --> 2 --> 3 --> 5\n"
     ]
    }
   ],
   "source": [
    "class Node:\n",
    "    def __init__(self,data=None,next=None):\n",
    "        self.data=data\n",
    "        self.next=next\n",
    "class linkedlist:\n",
    "    def __init__(self):\n",
    "        self.head=None\n",
    "        \n",
    "    def insert_at_end(self,d):\n",
    "        if self.head is None:\n",
    "            self.head = Node(d, None)\n",
    "            return\n",
    "        itr = self.head\n",
    "        while itr.next:\n",
    "            itr=itr.next\n",
    "        itr.next = Node(d, None)\n",
    "        \n",
    "    def length(self):\n",
    "        count = 0\n",
    "        itr = self.head\n",
    "        while itr:\n",
    "            count += 1\n",
    "            itr=itr.next\n",
    "        return count\n",
    "    \n",
    "    def remove_from_end(self,n):\n",
    "        c=self.length()\n",
    "        a=1\n",
    "        itr=self.head\n",
    "        while itr:\n",
    "            if c-a == n:\n",
    "                itr.next = itr.next.next\n",
    "                break\n",
    "            else:\n",
    "                itr=itr.next\n",
    "                a+=1\n",
    "                \n",
    "    def print_list(self):\n",
    "        itr = self.head\n",
    "        llstr = ''\n",
    "        while itr:\n",
    "            llstr += str(itr.data) + ' --> ' if itr.next else str(itr.data)\n",
    "            itr = itr.next\n",
    "        print(llstr)\n",
    "                \n",
    "    def insert(self,l):\n",
    "        self.head = None\n",
    "        for d in l:\n",
    "            self.insert_at_end(d)\n",
    "            \n",
    "ll=linkedlist()\n",
    "ll.insert([1,2,3,4,5])\n",
    "ll.remove_from_end(2)\n",
    "ll.print_list()"
   ]
  },
  {
   "cell_type": "code",
   "execution_count": 21,
   "id": "5c1a895f-4179-4c95-a29e-4d2d1ba8d588",
   "metadata": {},
   "outputs": [
    {
     "name": "stdout",
     "output_type": "stream",
     "text": [
      "Intesection point is  3\n"
     ]
    }
   ],
   "source": [
    "class Node:\n",
    "    def __init__(self,data=None,next=None):\n",
    "        self.next=next\n",
    "        self.data=data\n",
    "class linkedlist:\n",
    "    def __init__(self):\n",
    "        self.head=None\n",
    "        \n",
    "    def insert_at_end(self, a,d):\n",
    "        if self.head is None:\n",
    "            self.head = Node(a, None)\n",
    "            return\n",
    "\n",
    "        itr = self.head\n",
    "        while itr.next:\n",
    "                itr = itr.next\n",
    "        if itr.data == a:\n",
    "            itr.next = Node(d, None)\n",
    "        else:\n",
    "            itr.next = Node(a, None)\n",
    "            itr.next.next = Node(d, None)\n",
    "\n",
    "    def print_list(self):\n",
    "        itr = self.head\n",
    "        while itr:\n",
    "            if itr.data == itr.next.data:\n",
    "                print(\"Intesection point is \",itr.data)\n",
    "                break\n",
    "            else:\n",
    "                itr=itr.next.next\n",
    "            \n",
    "        \n",
    "    def insert_values(self,l1,l2):\n",
    "        self.head=None\n",
    "        self.insert_at_end(l1[0],0)\n",
    "        for a,d in zip(l1,l2):\n",
    "            self.insert_at_end(a,d)\n",
    "            \n",
    "l=linkedlist()\n",
    "l.insert_values([1,2,3,4],[9,8,3,4])\n",
    "l.print_list()"
   ]
  },
  {
   "cell_type": "code",
   "execution_count": 1,
   "id": "60073153-d528-4ed8-97b2-6d7c8f9112fb",
   "metadata": {},
   "outputs": [
    {
     "name": "stdout",
     "output_type": "stream",
     "text": [
      "1-->2-->3\n"
     ]
    }
   ],
   "source": [
    "class Node:\n",
    "    def __init__(self,data=None,next=None):\n",
    "        self.next=next\n",
    "        self.data=data\n",
    "class linkedlist:\n",
    "    def __init__(self):\n",
    "        self.head=None\n",
    "        \n",
    "    def insert_at_end(self, a):\n",
    "        if self.head is None:\n",
    "            self.head = Node(a, None)\n",
    "            return\n",
    "\n",
    "        itr = self.head\n",
    "        while itr:\n",
    "            if itr.data == a:\n",
    "                break\n",
    "            elif itr.next:\n",
    "                itr=itr.next\n",
    "            else:\n",
    "                itr.next = Node(a, None)\n",
    "\n",
    "    def print_list(self):\n",
    "        itr = self.head\n",
    "        s=\"\"\n",
    "        while itr:\n",
    "            s+=str(itr.data)+\"-->\" if itr.next else str(itr.data)\n",
    "            itr = itr.next\n",
    "        print(s)    \n",
    "        \n",
    "    def insert_values(self,l1):\n",
    "        self.head=None\n",
    "        for a in l1:\n",
    "            self.insert_at_end(a)\n",
    "            \n",
    "l=linkedlist()\n",
    "l.insert_values([1,1,2,3,3])\n",
    "l.print_list()"
   ]
  },
  {
   "cell_type": "code",
   "execution_count": 1,
   "id": "53b31f83-41f2-46d7-9d50-3950834a7fbc",
   "metadata": {},
   "outputs": [
    {
     "name": "stdout",
     "output_type": "stream",
     "text": [
      "1 --> 2 --> 3 --> 4 --> 5\n"
     ]
    }
   ],
   "source": [
    "class Node:\n",
    "    def __init__(self,data=None,next=None):\n",
    "        self.next=next\n",
    "        self.data=data\n",
    "class linkedlist:\n",
    "    def __init__(self):\n",
    "        self.head=None\n",
    "        \n",
    "    def insert_at_end(self, data):\n",
    "        if self.head is None:\n",
    "            self.head = Node(data, None)\n",
    "            return\n",
    "\n",
    "        itr = self.head\n",
    "\n",
    "        while itr.next:\n",
    "            itr = itr.next\n",
    "            \n",
    "        itr.next = Node(data, None)\n",
    "\n",
    "    def print_list(self):\n",
    "        itr = self.head\n",
    "        llstr = ''\n",
    "        while itr:\n",
    "            llstr += str(itr.data) + ' --> ' if itr.next else str(itr.data)\n",
    "            itr = itr.next\n",
    "        print(llstr)\n",
    "        \n",
    "    def insert_values(self,l):\n",
    "        self.head=None\n",
    "        for d in l:\n",
    "            self.insert_at_end(d)\n",
    "            \n",
    "l=linkedlist()\n",
    "l.insert_values([1,2,3,4,5])\n",
    "l.print_list()"
   ]
  },
  {
   "cell_type": "code",
   "execution_count": 4,
   "id": "b9bc12be-2a2a-4504-9061-d3a20f6f0a9e",
   "metadata": {},
   "outputs": [
    {
     "name": "stdout",
     "output_type": "stream",
     "text": [
      "7 --> 0 --> 8\n"
     ]
    }
   ],
   "source": [
    "class ListNode:\n",
    "    def __init__(self, value=0, next=None):\n",
    "        self.value = value\n",
    "        self.next = next\n",
    "\n",
    "def add_linked_lists(l1, l2):\n",
    "    dummy_head = ListNode()\n",
    "    current = dummy_head\n",
    "    carry = 0\n",
    "\n",
    "    while l1 or l2 or carry:\n",
    "        value1 = l1.value if l1 else 0\n",
    "        value2 = l2.value if l2 else 0\n",
    "\n",
    "        total = value1 + value2 + carry\n",
    "        carry, remainder = divmod(total, 10)\n",
    "\n",
    "        current.next = ListNode(remainder)\n",
    "        current = current.next\n",
    "\n",
    "        l1 = l1.next if l1 else None\n",
    "        l2 = l2.next if l2 else None\n",
    "\n",
    "    return dummy_head.next\n",
    "\n",
    "list1 = ListNode(2, ListNode(4, ListNode(3)))\n",
    "list2 = ListNode(5, ListNode(6, ListNode(4)))\n",
    "\n",
    "result = add_linked_lists(list1, list2)\n",
    "\n",
    "s=\"\"\n",
    "while result:\n",
    "    s+=str(result.value)+\" --> \" if result.next else str(result.value) \n",
    "    result = result.next\n",
    "\n",
    "print(s)"
   ]
  },
  {
   "cell_type": "code",
   "execution_count": 3,
   "id": "9b402981-0ec2-4069-8caa-4e3fefa55703",
   "metadata": {},
   "outputs": [
    {
     "name": "stdout",
     "output_type": "stream",
     "text": [
      "2 --> 1 --> 4 --> 3\n"
     ]
    }
   ],
   "source": [
    "class ListNode:\n",
    "    def __init__(self, value=0, next=None):\n",
    "        self.value = value\n",
    "        self.next = next\n",
    "\n",
    "def swapPairs(head):\n",
    "    if not head or not head.next:\n",
    "        return head\n",
    "    \n",
    "    dummy = ListNode(0)\n",
    "    dummy.next = head\n",
    "    current = dummy\n",
    "\n",
    "    while current.next and current.next.next:\n",
    "        first_node = current.next\n",
    "        second_node = current.next.next\n",
    "\n",
    "        first_node.next = second_node.next\n",
    "        second_node.next = first_node\n",
    "        current.next = second_node\n",
    "\n",
    "        current = current.next.next\n",
    "\n",
    "    return dummy.next\n",
    "\n",
    "head = ListNode(1, ListNode(2, ListNode(3, ListNode(4))))\n",
    "result = swapPairs(head)\n",
    "s=\"\"\n",
    "while result:\n",
    "    s+=str(result.value)+\" --> \" if result.next else str(result.value)\n",
    "    result = result.next\n",
    "\n",
    "print(s)"
   ]
  },
  {
   "cell_type": "code",
   "execution_count": 4,
   "id": "a86bc6bd-281a-408e-96cc-62465bf7d14d",
   "metadata": {},
   "outputs": [
    {
     "name": "stdout",
     "output_type": "stream",
     "text": [
      "3 -> 2 -> 1 -> 4 -> 5\n"
     ]
    }
   ],
   "source": [
    "class ListNode:\n",
    "    def __init__(self, val=0, next=None):\n",
    "        self.val = val\n",
    "        self.next = next\n",
    "\n",
    "def reverse_k_group(head, k):\n",
    "    if not head or k == 1:\n",
    "        return head\n",
    "\n",
    "    length = 0\n",
    "    temp = head\n",
    "    while temp:\n",
    "        length += 1\n",
    "        temp = temp.next\n",
    "\n",
    "    dummy = ListNode(0)\n",
    "    dummy.next = head\n",
    "    prev_group_end = dummy\n",
    "    curr_group_start = head\n",
    "\n",
    "    while length >= k:\n",
    "        group_end = curr_group_start\n",
    "        group_prev = None\n",
    "\n",
    "        for _ in range(k):\n",
    "            next_node = curr_group_start.next\n",
    "            curr_group_start.next = group_prev\n",
    "            group_prev = curr_group_start\n",
    "            curr_group_start = next_node\n",
    "\n",
    "        prev_group_end.next = group_prev\n",
    "        group_end.next = curr_group_start\n",
    "\n",
    "        prev_group_end = group_end\n",
    "        length -= k\n",
    "\n",
    "    return dummy.next\n",
    "\n",
    "head = ListNode(1, ListNode(2, ListNode(3, ListNode(4, ListNode(5)))))\n",
    "k = 3\n",
    "result = reverse_k_group(head, k)\n",
    "s=\"\"\n",
    "while result:\n",
    "    s+=str(result.val)+\" -> \" if result.next else str(result.val)\n",
    "    result = result.next\n",
    "print(s)"
   ]
  },
  {
   "cell_type": "code",
   "execution_count": 3,
   "id": "120379f8-56e7-490e-af39-4c254d47635b",
   "metadata": {},
   "outputs": [
    {
     "name": "stdout",
     "output_type": "stream",
     "text": [
      "True\n"
     ]
    }
   ],
   "source": [
    "class ListNode:\n",
    "    def __init__(self, value=0, next=None):\n",
    "        self.value = value\n",
    "        self.next = next\n",
    "\n",
    "def is_palindrome(head):\n",
    "    values = []\n",
    "    \n",
    "    current = head\n",
    "    while current:\n",
    "        values.append(current.value)\n",
    "        current = current.next\n",
    "    \n",
    "    return values == values[::-1]\n",
    "\n",
    "head = ListNode(1, ListNode(2, ListNode(2, ListNode(1))))\n",
    "result = is_palindrome(head)\n",
    "print(result) \n"
   ]
  },
  {
   "cell_type": "code",
   "execution_count": 9,
   "id": "e8b4320b-73c2-47cf-87fd-6fa096a423ff",
   "metadata": {},
   "outputs": [
    {
     "name": "stdout",
     "output_type": "stream",
     "text": [
      "4 --> 5 --> 1 --> 2 --> 3\n"
     ]
    }
   ],
   "source": [
    "class ListNode:\n",
    "    def __init__(self, val=0, next=None):\n",
    "        self.val = val\n",
    "        self.next = next\n",
    "\n",
    "def rotateRight(head, k):\n",
    "    if not head or k == 0:\n",
    "        return head\n",
    "\n",
    "    length = 1\n",
    "    current = head\n",
    "    while current.next:\n",
    "        current = current.next\n",
    "        length += 1\n",
    "\n",
    "    k = k % length\n",
    "\n",
    "    if k == 0:\n",
    "        return head\n",
    "\n",
    "    current = head\n",
    "    for _ in range(length - k - 1):\n",
    "        current = current.next\n",
    "\n",
    "    new_head = current.next\n",
    "    current.next = None\n",
    "    current = new_head\n",
    "    while current.next:\n",
    "        current = current.next\n",
    "\n",
    "    current.next = head\n",
    "\n",
    "    return new_head\n",
    "\n",
    "head = ListNode(1, ListNode(2, ListNode(3, ListNode(4, ListNode(5)))))\n",
    "rotated_head = rotateRight(head, 2)\n",
    "s=\"\"\n",
    "while rotated_head:\n",
    "    s+=str(rotated_head.val)+\" --> \" if rotated_head.next else str(rotated_head.val)\n",
    "    rotated_head = rotated_head.next\n",
    "\n",
    "print(s)"
   ]
  },
  {
   "cell_type": "code",
   "execution_count": 7,
   "id": "ad129644-c8c1-47a1-9a3b-59588e8a939b",
   "metadata": {},
   "outputs": [
    {
     "name": "stdout",
     "output_type": "stream",
     "text": [
      "1 --> 3 --> 5 --> 2 --> 4\n"
     ]
    }
   ],
   "source": [
    "class ListNode:\n",
    "    def __init__(self, value=0, next=None):\n",
    "        self.value = value\n",
    "        self.next = next\n",
    "\n",
    "def rearrange_linked_list(head):\n",
    "    if not head or not head.next:\n",
    "        return head\n",
    "\n",
    "    odd_head = ListNode()\n",
    "    even_head = ListNode()\n",
    "    odd_current = odd_head\n",
    "    even_current = even_head\n",
    "\n",
    "    current = head\n",
    "    is_odd = True\n",
    "\n",
    "    while current:\n",
    "        if is_odd:\n",
    "            odd_current.next = current\n",
    "            odd_current = odd_current.next\n",
    "        else:\n",
    "            even_current.next = current\n",
    "            even_current = even_current.next\n",
    "\n",
    "        is_odd = not is_odd\n",
    "        current = current.next\n",
    "\n",
    "    odd_current.next = even_head.next\n",
    "    even_current.next = None  \n",
    "\n",
    "    return odd_head.next\n",
    "\n",
    "input_head = ListNode(1, ListNode(2, ListNode(3, ListNode(4, ListNode(5)))))\n",
    "\n",
    "output_head = rearrange_linked_list(input_head)\n",
    "s=\"\"\n",
    "while output_head:\n",
    "    s+=str(output_head.value)+\" --> \" if output_head.next else str(output_head.value)\n",
    "    output_head = output_head.next\n",
    "print(s)"
   ]
  },
  {
   "cell_type": "code",
   "execution_count": 1,
   "id": "fcc84b3e-42f2-4117-8d12-e2e007f548f0",
   "metadata": {},
   "outputs": [
    {
     "name": "stdout",
     "output_type": "stream",
     "text": [
      "1 --> 2 --> 4\n"
     ]
    }
   ],
   "source": [
    "class ListNode:\n",
    "    def __init__(self, value=0, next=None):\n",
    "        self.value = value\n",
    "        self.next = next\n",
    "\n",
    "def add_one_to_linked_list(head):\n",
    "    prev = None\n",
    "    current = head\n",
    "    while current:\n",
    "        next_node = current.next\n",
    "        current.next = prev\n",
    "        prev = current\n",
    "        current = next_node\n",
    "    head = prev\n",
    "\n",
    "    current = head\n",
    "    carry = 1  \n",
    "    while current:\n",
    "        total = current.value + carry\n",
    "        current.value = total % 10\n",
    "        carry = total // 10\n",
    "        if not current.next and carry:\n",
    "            current.next = ListNode(carry)\n",
    "        current = current.next\n",
    "\n",
    "    prev = None\n",
    "    current = head\n",
    "    while current:\n",
    "        next_node = current.next\n",
    "        current.next = prev\n",
    "        prev = current\n",
    "        current = next_node\n",
    "    head = prev\n",
    "\n",
    "    return head\n",
    "\n",
    "input_linked_list = ListNode(1, ListNode(2, ListNode(3)))\n",
    "result = add_one_to_linked_list(input_linked_list)\n",
    "s=\"\"\n",
    "while result:\n",
    "    s+=str(result.value)+\" --> \" if result.next else str(result.value)\n",
    "    result = result.next\n",
    "print(s)"
   ]
  },
  {
   "cell_type": "code",
   "execution_count": 6,
   "id": "31d96b2a-06e0-459f-97c7-bfe661c1e5a6",
   "metadata": {},
   "outputs": [
    {
     "name": "stdout",
     "output_type": "stream",
     "text": [
      "2\n"
     ]
    }
   ],
   "source": [
    "nums=[1,3,5,6]\n",
    "n=5\n",
    "for i in range(len(nums)):\n",
    "    if nums[i] == n:\n",
    "        print(i)\n",
    "        break\n",
    "    elif nums[i] > n:\n",
    "        print(i)\n",
    "        break"
   ]
  },
  {
   "cell_type": "code",
   "execution_count": 8,
   "id": "a6e85402-17ce-4d23-b459-045879177166",
   "metadata": {},
   "outputs": [
    {
     "name": "stdout",
     "output_type": "stream",
     "text": [
      "0\n"
     ]
    }
   ],
   "source": [
    "def find_min_in_rotated_array(nums):\n",
    "    left, right = 0, len(nums) - 1\n",
    "\n",
    "    while left < right:\n",
    "        mid = (left + right) // 2\n",
    "\n",
    "        if nums[mid] > nums[right]:\n",
    "            left = mid + 1\n",
    "        else:\n",
    "            right = mid\n",
    "\n",
    "    return nums[left]\n",
    "\n",
    "nums = [4, 5, 6, 7, 0, 1, 2]\n",
    "result = find_min_in_rotated_array(nums)\n",
    "print(result)"
   ]
  },
  {
   "cell_type": "code",
   "execution_count": 9,
   "id": "14458a2a-55e5-4ad6-a697-596481c8e1bf",
   "metadata": {},
   "outputs": [
    {
     "name": "stdout",
     "output_type": "stream",
     "text": [
      "4\n"
     ]
    }
   ],
   "source": [
    "def find_min_in_rotated_array(nums):\n",
    "    left, right = 0, len(nums) - 1\n",
    "\n",
    "    while left < right:\n",
    "        mid = (left + right) // 2\n",
    "\n",
    "        if nums[mid] > nums[right]:\n",
    "            left = mid + 1\n",
    "        else:\n",
    "            right = mid\n",
    "\n",
    "    return left\n",
    "\n",
    "nums = [4, 5, 6, 7, 0, 1, 2]\n",
    "result = find_min_in_rotated_array(nums)\n",
    "print(result)"
   ]
  },
  {
   "cell_type": "code",
   "execution_count": 11,
   "id": "245477cc-4781-4b66-b5cd-23b103f9df52",
   "metadata": {},
   "outputs": [
    {
     "name": "stdout",
     "output_type": "stream",
     "text": [
      "2\n"
     ]
    }
   ],
   "source": [
    "n=[1,2,3,1]\n",
    "for i in range(1,len(n)-1):\n",
    "    if n[i-1]<n[i] and n[i]>n[i+1]:\n",
    "        print(i)"
   ]
  },
  {
   "cell_type": "code",
   "execution_count": 13,
   "id": "002dee04-0e7f-45bb-84b3-62c3cd06aaf3",
   "metadata": {},
   "outputs": [
    {
     "name": "stdout",
     "output_type": "stream",
     "text": [
      "8\n"
     ]
    }
   ],
   "source": [
    "l = [[4, 3, 2, -1], [3, 2, 1, -1], [1, 1, -1, -2], [-1, -1, -2, -3]]\n",
    "count=0\n",
    "for i in range(len(l)):\n",
    "    for j in range(len(l)):\n",
    "        if l[i][j] < 0:\n",
    "            count += 1\n",
    "print(count)"
   ]
  },
  {
   "cell_type": "code",
   "execution_count": 19,
   "id": "656dbc0b-6c3e-459b-95d3-cb5af7543a3c",
   "metadata": {},
   "outputs": [
    {
     "name": "stdout",
     "output_type": "stream",
     "text": [
      "True\n"
     ]
    }
   ],
   "source": [
    "m = [[1, 3, 5, 7], [10, 11, 16, 20], [23, 30, 34, 60]]\n",
    "n=3\n",
    "s=[i for l in m for i in l if i == n]\n",
    "if len(s) > 0:\n",
    "    print(\"True\")\n",
    "else:\n",
    "    print(\"False\")"
   ]
  },
  {
   "cell_type": "code",
   "execution_count": 5,
   "id": "821b0970-f6f8-4d0e-a7dd-b38cccf8b18e",
   "metadata": {},
   "outputs": [
    {
     "name": "stdout",
     "output_type": "stream",
     "text": [
      "2\n"
     ]
    }
   ],
   "source": [
    "l1=[1,3]\n",
    "l2=[2]\n",
    "for i in l2:\n",
    "    for j in range(len(l1)):\n",
    "        if i < l1[j]:\n",
    "            l1.insert(j, i)\n",
    "l=len(l1)//2\n",
    "print(l1[l])"
   ]
  },
  {
   "cell_type": "code",
   "execution_count": 7,
   "id": "172f62e1-9d5b-4cce-a42c-128c3e99e13c",
   "metadata": {},
   "outputs": [
    {
     "name": "stdout",
     "output_type": "stream",
     "text": [
      "c\n"
     ]
    }
   ],
   "source": [
    "l = ['c', 'f', 'j']\n",
    "t = 'a'\n",
    "for i in l:\n",
    "    if ascii(i) > ascii(t):\n",
    "        print(i)\n",
    "        break"
   ]
  },
  {
   "cell_type": "code",
   "execution_count": 9,
   "id": "97758389-ff14-41e2-a86f-748bb73def00",
   "metadata": {},
   "outputs": [
    {
     "name": "stdout",
     "output_type": "stream",
     "text": [
      "[0, 0, 1, 1, 2, 2]\n"
     ]
    }
   ],
   "source": [
    "n=[2,0,2,1,1,0]\n",
    "s=sorted(n)\n",
    "print(s)"
   ]
  },
  {
   "cell_type": "code",
   "execution_count": 11,
   "id": "a80d7d0e-33c3-4161-94ca-8d2d2a1477ad",
   "metadata": {},
   "outputs": [
    {
     "name": "stdout",
     "output_type": "stream",
     "text": [
      "5\n"
     ]
    }
   ],
   "source": [
    "def find_kth_largest(nums, k):\n",
    "    sorted_nums = sorted(nums, reverse=True)\n",
    "    return sorted_nums[k - 1]\n",
    "\n",
    "nums = [3, 2, 1, 5, 6, 4]\n",
    "k = 2\n",
    "result = find_kth_largest(nums, k)\n",
    "print(result)"
   ]
  },
  {
   "cell_type": "code",
   "execution_count": 1,
   "id": "6f8e43f7-2e8b-4275-97b0-cbae3392e826",
   "metadata": {},
   "outputs": [
    {
     "name": "stdout",
     "output_type": "stream",
     "text": [
      "[3, 5, 2, 6, 1, 4]\n"
     ]
    }
   ],
   "source": [
    "nums=[3,5,2,1,6,4]\n",
    "i=0\n",
    "while i<len(nums)-1:\n",
    "    if nums[i] > nums[i+1]:\n",
    "        i+=1\n",
    "        if nums[i] < nums[i-1]:\n",
    "            nums[i], nums[i+1] = nums[i+1], nums[i]\n",
    "            i+=2\n",
    "    else:\n",
    "        i+=2\n",
    "        \n",
    "print(nums)"
   ]
  },
  {
   "cell_type": "code",
   "execution_count": 3,
   "id": "49bacf37-9d1c-47da-a9f5-75de524cd244",
   "metadata": {},
   "outputs": [
    {
     "name": "stdout",
     "output_type": "stream",
     "text": [
      "15\n"
     ]
    }
   ],
   "source": [
    "n=[1,2,3,4,5]\n",
    "sum=0\n",
    "for i in n:\n",
    "    sum+=i\n",
    "print(sum)"
   ]
  },
  {
   "cell_type": "code",
   "execution_count": 4,
   "id": "4258a82d-69e9-480f-a8e9-2f83d23c10f0",
   "metadata": {},
   "outputs": [
    {
     "name": "stdout",
     "output_type": "stream",
     "text": [
      "9\n"
     ]
    }
   ],
   "source": [
    "l=[3,7,2,9,4,1]\n",
    "max=0\n",
    "for i in l:\n",
    "    if max < i:\n",
    "        max = i\n",
    "print(max)"
   ]
  },
  {
   "cell_type": "code",
   "execution_count": 6,
   "id": "ff2e2c67-63bb-41ad-a3cd-0b4dd3eacffb",
   "metadata": {},
   "outputs": [
    {
     "name": "stdout",
     "output_type": "stream",
     "text": [
      "2\n"
     ]
    }
   ],
   "source": [
    "l=[5,3,8,2,7,4]\n",
    "n=8\n",
    "for i in range(len(l)):\n",
    "    if l[i] == n:\n",
    "        print(i)"
   ]
  },
  {
   "cell_type": "code",
   "execution_count": 8,
   "id": "14da11c8-9eea-40db-a4ae-1d5a7dfd6c40",
   "metadata": {},
   "outputs": [
    {
     "name": "stdout",
     "output_type": "stream",
     "text": [
      "120\n"
     ]
    }
   ],
   "source": [
    "def fact(n):\n",
    "    if n==0 or n==1:\n",
    "        return 1\n",
    "    else:\n",
    "        return n*fact(n-1)\n",
    "n=5\n",
    "result=fact(n)\n",
    "print(result)"
   ]
  },
  {
   "cell_type": "code",
   "execution_count": 9,
   "id": "a2d02baf-f70a-4bfe-8cc1-fe169466fa8b",
   "metadata": {},
   "outputs": [
    {
     "name": "stdout",
     "output_type": "stream",
     "text": [
      "True\n"
     ]
    }
   ],
   "source": [
    "def prime(n):\n",
    "    count=0\n",
    "    for i in range(2,n+1):\n",
    "        if n % i == 0:\n",
    "            count+=1\n",
    "    if count > 1:\n",
    "        return \"False\"\n",
    "    else:\n",
    "        return \"True\"\n",
    "n=7\n",
    "result=prime(n)\n",
    "print(result)"
   ]
  },
  {
   "cell_type": "code",
   "execution_count": 11,
   "id": "f5d42825-cbc9-473a-9501-2d2723ceeb1a",
   "metadata": {},
   "outputs": [
    {
     "name": "stdout",
     "output_type": "stream",
     "text": [
      "0 1 1 2 3 5 8 13 "
     ]
    }
   ],
   "source": [
    "n=8\n",
    "f=0\n",
    "s=1\n",
    "while n>0:\n",
    "    print(f, end=\" \")\n",
    "    temp=f\n",
    "    f=s\n",
    "    s=temp+s\n",
    "    n-=1"
   ]
  },
  {
   "cell_type": "code",
   "execution_count": 14,
   "id": "e0bb6c12-3e59-4ae8-a0c1-24d6d9d9adbc",
   "metadata": {},
   "outputs": [
    {
     "name": "stdout",
     "output_type": "stream",
     "text": [
      "81\n"
     ]
    }
   ],
   "source": [
    "def power(n,e):\n",
    "    if e == 0:\n",
    "        return \"1\"\n",
    "    elif e == 1:\n",
    "        return n\n",
    "    else:\n",
    "        return n*power(n,e-1)\n",
    "n=3\n",
    "e=4\n",
    "result=power(n,e)\n",
    "print(result)"
   ]
  },
  {
   "cell_type": "code",
   "execution_count": 15,
   "id": "9bf320e0-119d-44b1-a464-c70274b94ac7",
   "metadata": {},
   "outputs": [
    {
     "name": "stdout",
     "output_type": "stream",
     "text": [
      "olleh\n"
     ]
    }
   ],
   "source": [
    "s=\"hello\"\n",
    "s1=\"\"\n",
    "for i in range(len(s)-1,-1,-1):\n",
    "    s1+=s[i]\n",
    "print(s1)"
   ]
  },
  {
   "cell_type": "markdown",
   "id": "8178eeff-4050-4119-bb17-32c5393820d5",
   "metadata": {},
   "source": [
    "THANK YOU FOR GIVING THIS ASSIGNMENT"
   ]
  },
  {
   "cell_type": "code",
   "execution_count": null,
   "id": "431cf861-a315-45f4-914e-76e8308c63e6",
   "metadata": {},
   "outputs": [],
   "source": []
  }
 ],
 "metadata": {
  "kernelspec": {
   "display_name": "Python 3 (ipykernel)",
   "language": "python",
   "name": "python3"
  },
  "language_info": {
   "codemirror_mode": {
    "name": "ipython",
    "version": 3
   },
   "file_extension": ".py",
   "mimetype": "text/x-python",
   "name": "python",
   "nbconvert_exporter": "python",
   "pygments_lexer": "ipython3",
   "version": "3.10.8"
  }
 },
 "nbformat": 4,
 "nbformat_minor": 5
}
