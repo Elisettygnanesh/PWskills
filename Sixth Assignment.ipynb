{
 "cells": [
  {
   "cell_type": "markdown",
   "id": "c814625c-a978-45a2-aad7-b598e770391f",
   "metadata": {},
   "source": [
    "08-10-2023"
   ]
  },
  {
   "cell_type": "markdown",
   "id": "f781f15e-2ba7-4b41-b500-b66ee66b2420",
   "metadata": {},
   "source": [
    "Assignment on OOPS\n",
    "Problem-1"
   ]
  },
  {
   "cell_type": "code",
   "execution_count": 7,
   "id": "1cc60152-445e-4b6f-9e62-1b2a2bb29d0b",
   "metadata": {},
   "outputs": [],
   "source": [
    "class bank_account():\n",
    "    def __init__(self,account_number,account_holder_name,balance):\n",
    "        self.account_number=account_number\n",
    "        self.account_holder_name=account_holder_name\n",
    "        self.balance=balance\n",
    "    def deposit(self,deposit_amount):\n",
    "        print(\"Your amount is successfully deposited and your available balance is\",self.balance+deposit_amount)\n",
    "        self.balance=self.balance+deposit_amount\n",
    "    def withdraw(self,withdraw_amount):\n",
    "        if self.balance>withdraw_amount:\n",
    "            print(\"Your transaction is successful and your available balance is\",self.balance-withdraw_amount)\n",
    "            self.balance=self.balance-withdraw_amount\n",
    "        else:\n",
    "            print(\"You don't have sufficient balance to withdraw\")"
   ]
  },
  {
   "cell_type": "code",
   "execution_count": 8,
   "id": "c867cef4-c1b2-4584-8a9d-3434453f3248",
   "metadata": {},
   "outputs": [],
   "source": [
    "x=bank_account(123456789,'Gnanesh',50000)"
   ]
  },
  {
   "cell_type": "code",
   "execution_count": 9,
   "id": "0429e1a8-0d8d-44d2-b9e0-e5fdda2790ee",
   "metadata": {},
   "outputs": [
    {
     "name": "stdout",
     "output_type": "stream",
     "text": [
      "Your amount is successfully deposited and your available balance is 53000\n"
     ]
    }
   ],
   "source": [
    "x.deposit(3000)"
   ]
  },
  {
   "cell_type": "code",
   "execution_count": 10,
   "id": "5932d5de-52f1-41dd-a20e-fe5f992c6429",
   "metadata": {},
   "outputs": [
    {
     "name": "stdout",
     "output_type": "stream",
     "text": [
      "Your transaction is successful and your available balance is 23000\n"
     ]
    }
   ],
   "source": [
    "x.withdraw(30000)"
   ]
  },
  {
   "cell_type": "markdown",
   "id": "33f34e36-c5ef-4ce9-89c5-1d6db0b4645b",
   "metadata": {},
   "source": [
    "Problem-2"
   ]
  },
  {
   "cell_type": "code",
   "execution_count": 23,
   "id": "7b45b6cd-08a9-4e5b-af0c-07c8461c8ce3",
   "metadata": {},
   "outputs": [],
   "source": [
    "class employee():\n",
    "    def __init__(self,emp_id,emp_name,salary):\n",
    "        self.emp_id=emp_id\n",
    "        self.emp_name=emp_name\n",
    "        self.salary=salary\n",
    "    def bonus(self):\n",
    "        if 0<self.salary<50000:\n",
    "            print('Employee_id:',self.emp_id,'\\nEmployee_name:',self.emp_name,'\\nEmployee_salary:',self.salary,'\\nEmployee_yearly_Bonus',(self.salary*10)/100)\n",
    "        elif 50000<self.salary<100000:\n",
    "            print('Employee_id:',self.emp_id,'\\nEmployee_name:',self.emp_name,'\\nEmployee_salary:',self.salary,'\\nEmployee_yearly_Bonus',(self.salary*15)/100)\n",
    "        else:\n",
    "            print('Employee_id:',self.emp_id,'\\nEmployee_name:',self.emp_name,'\\nEmployee_salary:',self.salary,'\\nEmployee_yearly_Bonus',(self.salary*20)/100)"
   ]
  },
  {
   "cell_type": "code",
   "execution_count": 24,
   "id": "b7631fe6-6a7f-4375-a512-d6709ba236d5",
   "metadata": {},
   "outputs": [],
   "source": [
    "x=employee(3679,'Gnanesh',70000)"
   ]
  },
  {
   "cell_type": "code",
   "execution_count": 25,
   "id": "45cc4dad-9856-41e4-acfe-430805d1e916",
   "metadata": {},
   "outputs": [
    {
     "name": "stdout",
     "output_type": "stream",
     "text": [
      "Employee_id: 3679 \n",
      "Employee_name: Gnanesh \n",
      "Employee_salary: 70000 \n",
      "Employee_yearly_Bonus 10500.0\n"
     ]
    }
   ],
   "source": [
    "x.bonus()"
   ]
  },
  {
   "cell_type": "markdown",
   "id": "2f09bed4-2b2e-493d-b848-56544390096e",
   "metadata": {},
   "source": [
    "Problem-3"
   ]
  },
  {
   "cell_type": "code",
   "execution_count": 47,
   "id": "d1763b6f-f39b-462e-a28a-f609f0d5ceb9",
   "metadata": {},
   "outputs": [],
   "source": [
    "class vehicle_rental:\n",
    "    def __init__(self,cars):\n",
    "        self.cars=cars\n",
    "        print(\"Available cars :\",self.cars )\n",
    "        print(\"Are you here for rent or return the car\")\n",
    "    def rent_vehicle(self,rent):\n",
    "        self.rent=rent\n",
    "        if self.rent in self.cars:\n",
    "            print(\"Your car is available, please take vehicle from our manager\")\n",
    "            self.cars.remove(self.rent)\n",
    "        else:\n",
    "            print(\"Sorry, you selected car is not available\")\n",
    "            print(\"Please choose from available cars\")\n",
    "    def return_vehicle(self,return_car):\n",
    "        self.return_car=return_car\n",
    "        print(\"Thank you for choosing our rental cars\\nCome back again\")\n",
    "        self.cars.append(self.return_car)   "
   ]
  },
  {
   "cell_type": "code",
   "execution_count": 48,
   "id": "162d5b9c-7c08-407c-8458-41394306ce2c",
   "metadata": {},
   "outputs": [
    {
     "name": "stdout",
     "output_type": "stream",
     "text": [
      "Available cars : ['BMW', 'Rangerover', 'Benz', 'Volvo']\n",
      "Are you here for rent or return the car\n"
     ]
    }
   ],
   "source": [
    "x=vehicle_rental(['BMW','Rangerover','Benz','Volvo'])"
   ]
  },
  {
   "cell_type": "code",
   "execution_count": 49,
   "id": "f92b25a0-ec28-41cb-b5f5-f890217d41a2",
   "metadata": {},
   "outputs": [
    {
     "name": "stdout",
     "output_type": "stream",
     "text": [
      "Sorry, you selected car is not available\n",
      "Please choose from available cars\n"
     ]
    }
   ],
   "source": [
    "x.rent_vehicle('Rolls Royal')"
   ]
  },
  {
   "cell_type": "code",
   "execution_count": 50,
   "id": "9415b4e6-7a99-4ff5-9ec1-a518168b7540",
   "metadata": {},
   "outputs": [
    {
     "name": "stdout",
     "output_type": "stream",
     "text": [
      "Your car is available, please take vehicle from our manager\n"
     ]
    }
   ],
   "source": [
    "x.rent_vehicle('Rangerover')"
   ]
  },
  {
   "cell_type": "code",
   "execution_count": 52,
   "id": "88b0f4bb-4468-4f0f-bd4c-405330eb8e23",
   "metadata": {},
   "outputs": [
    {
     "name": "stdout",
     "output_type": "stream",
     "text": [
      "Thank you for choosing our rental cars\n",
      "Come back again\n"
     ]
    }
   ],
   "source": [
    "x.return_vehicle('Rangerover')"
   ]
  },
  {
   "cell_type": "markdown",
   "id": "d688f9ba-094a-41c4-8b2e-1b368733271e",
   "metadata": {},
   "source": [
    "Problem-4"
   ]
  },
  {
   "cell_type": "code",
   "execution_count": 53,
   "id": "adcc0241-c123-4a6d-b9b2-4afdd5f6839f",
   "metadata": {},
   "outputs": [],
   "source": [
    "class Library:\n",
    "    def __init__(self,books):\n",
    "        self.books=books\n",
    "        print(\"Available books :\",self.books )\n",
    "        print(\"Are you here for borrow or return the book\")\n",
    "    def borrow_book(self,borrow):\n",
    "        self.borrow=borrow\n",
    "        if self.borrow in self.books:\n",
    "            print(\"Your book is available, please take book from librarian\")\n",
    "            self.books.remove(self.borrow)\n",
    "        else:\n",
    "            print(\"Sorry, you choosen book is not available\")\n",
    "            print(\"Please choose from available books\")\n",
    "    def return_book(self,return_book):\n",
    "        self.return_book=return_book\n",
    "        print(\"Thank you for visiting library\\nCome back again\")\n",
    "        self.books.append(self.return_book)   "
   ]
  },
  {
   "cell_type": "code",
   "execution_count": 54,
   "id": "01d84561-8377-48e8-918d-7fdd0afcde87",
   "metadata": {},
   "outputs": [
    {
     "name": "stdout",
     "output_type": "stream",
     "text": [
      "Available books : ['picture book', 'political thriller', 'romance', 'poetry', 'dictionary']\n",
      "Are you here for borrow or return the book\n"
     ]
    }
   ],
   "source": [
    "x=Library(['picture book','political thriller','romance','poetry','dictionary'])"
   ]
  },
  {
   "cell_type": "code",
   "execution_count": 55,
   "id": "435e3517-d471-4314-9fff-72135f39a8be",
   "metadata": {},
   "outputs": [
    {
     "name": "stdout",
     "output_type": "stream",
     "text": [
      "Your book is available, please take book from librarian\n"
     ]
    }
   ],
   "source": [
    "x.borrow_book('romance')"
   ]
  },
  {
   "cell_type": "code",
   "execution_count": 56,
   "id": "13477893-50ca-4430-a0ed-20220fe2d71b",
   "metadata": {},
   "outputs": [
    {
     "name": "stdout",
     "output_type": "stream",
     "text": [
      "Sorry, you choosen book is not available\n",
      "Please choose from available books\n"
     ]
    }
   ],
   "source": [
    "x.borrow_book('fiction')"
   ]
  },
  {
   "cell_type": "code",
   "execution_count": 57,
   "id": "4f787640-02fd-4556-af20-b0c6e22f8cdb",
   "metadata": {},
   "outputs": [
    {
     "name": "stdout",
     "output_type": "stream",
     "text": [
      "Thank you for visiting library\n",
      "Come back again\n"
     ]
    }
   ],
   "source": [
    "x.return_book('romance')"
   ]
  },
  {
   "cell_type": "markdown",
   "id": "9048eafb-0564-49a4-8814-170589be27cd",
   "metadata": {},
   "source": [
    "Problem-5"
   ]
  },
  {
   "cell_type": "code",
   "execution_count": 71,
   "id": "f8c79bfe-7c32-4625-8406-a363abbdb1c1",
   "metadata": {},
   "outputs": [],
   "source": [
    "class Inventory:\n",
    "    def __init__(self,products):\n",
    "        self.products=products\n",
    "    def add_product(self,product):\n",
    "        self.product=product\n",
    "        self.products.append(self.product)\n",
    "        print(\"You entered products are added\")\n",
    "    def update_quantity(self,quantity,prod):\n",
    "        self.quantity=quantity\n",
    "        self.prod=prod\n",
    "        for i in range(0,self.quantity):\n",
    "            self.products.append(self.prod)\n",
    "        print('You entered product quantity is successfully added')\n",
    "    def display_products(self):\n",
    "        print(\"Available products in inventory are\",self.products)"
   ]
  },
  {
   "cell_type": "code",
   "execution_count": 72,
   "id": "1268217c-afe8-4e9b-8f17-456d4e6b1813",
   "metadata": {},
   "outputs": [],
   "source": [
    "x=Inventory(['milk','cheese','honey'])"
   ]
  },
  {
   "cell_type": "code",
   "execution_count": 73,
   "id": "9aba7eae-8542-4fa6-8786-01f922ca338f",
   "metadata": {},
   "outputs": [
    {
     "name": "stdout",
     "output_type": "stream",
     "text": [
      "You entered products are added\n"
     ]
    }
   ],
   "source": [
    "x.add_product('butter')"
   ]
  },
  {
   "cell_type": "code",
   "execution_count": 74,
   "id": "fdcbeaff-3acc-464d-8d0b-f7e92b650936",
   "metadata": {},
   "outputs": [
    {
     "name": "stdout",
     "output_type": "stream",
     "text": [
      "You entered product quantity is successfully added\n"
     ]
    }
   ],
   "source": [
    "x.update_quantity(3,'milk')"
   ]
  },
  {
   "cell_type": "code",
   "execution_count": 75,
   "id": "abb6190d-cf36-47c6-bb95-26e63ea77f18",
   "metadata": {},
   "outputs": [
    {
     "name": "stdout",
     "output_type": "stream",
     "text": [
      "Available products in inventory are ['milk', 'cheese', 'honey', 'butter', 'milk', 'milk', 'milk']\n"
     ]
    }
   ],
   "source": [
    "x.display_products()"
   ]
  },
  {
   "cell_type": "markdown",
   "id": "05f36ad9-bedc-458f-8b02-e3670d8aa597",
   "metadata": {},
   "source": [
    "Problem-6"
   ]
  },
  {
   "cell_type": "code",
   "execution_count": 84,
   "id": "f581bf56-78f1-461d-9e07-f7e5607476ac",
   "metadata": {},
   "outputs": [],
   "source": [
    "class shape:\n",
    "    def __init__(self,length,width,height):\n",
    "        self.length=length\n",
    "        self.width=width\n",
    "        self.height=height\n",
    "    def area(self):\n",
    "        print(\"Area of the shape is\",2*(self.length*self.width+self.width*self.height+self.height*self.length))\n",
    "    def perimeter(self):\n",
    "        print(\"Perimeter of the shape is\",4*(self.length+self.width+self.height))"
   ]
  },
  {
   "cell_type": "code",
   "execution_count": 85,
   "id": "06d25a14-639d-4317-bd3e-aca13a3429ea",
   "metadata": {},
   "outputs": [],
   "source": [
    "x=shape(15,9,3)"
   ]
  },
  {
   "cell_type": "code",
   "execution_count": 86,
   "id": "80618e73-a2fe-40f2-9ef6-bc2b199d0753",
   "metadata": {},
   "outputs": [
    {
     "name": "stdout",
     "output_type": "stream",
     "text": [
      "Area of the shape is 414\n"
     ]
    }
   ],
   "source": [
    "x.area()"
   ]
  },
  {
   "cell_type": "code",
   "execution_count": 87,
   "id": "5e3c4866-0d68-455d-bd6a-1e9c0ddfec06",
   "metadata": {},
   "outputs": [
    {
     "name": "stdout",
     "output_type": "stream",
     "text": [
      "Perimeter of the shape is 108\n"
     ]
    }
   ],
   "source": [
    "x.perimeter()"
   ]
  },
  {
   "cell_type": "markdown",
   "id": "f46585c7-b9d9-46b5-b165-db2996eb1c74",
   "metadata": {},
   "source": [
    "Problem-7"
   ]
  },
  {
   "cell_type": "code",
   "execution_count": 89,
   "id": "7bacc8bb-8db6-475e-bac5-6b58a2e7010d",
   "metadata": {},
   "outputs": [],
   "source": [
    "class student:\n",
    "    def __init__(self,student_id,name,grades):\n",
    "        self.student_id=student_id\n",
    "        self.name=name\n",
    "        self.grades=grades\n",
    "    def average_grade(self):\n",
    "        Average_grade=sum(self.grades)/len(self.grades)\n",
    "        if 89<Average_grade<100:\n",
    "            print(\"Student grade is 'A'\")\n",
    "        elif 79<Average_grade<90:\n",
    "             print(\"Student grade is 'B'\")\n",
    "        elif 69<Average_grade<80:\n",
    "             print(\"Student grade is 'C'\")\n",
    "        elif 59<Average_grade<70:\n",
    "             print(\"Student grade is 'D'\")\n",
    "        elif 49<Average_grade<60:\n",
    "             print(\"Student grade is 'E'\")\n",
    "        else:\n",
    "             print(\"You failed the test\")"
   ]
  },
  {
   "cell_type": "code",
   "execution_count": 90,
   "id": "710b15a6-c38d-4b3b-bdf3-58a5051ceb7a",
   "metadata": {},
   "outputs": [],
   "source": [
    "x=student(367921,'Gnanesh',[78,85,92,82,80])"
   ]
  },
  {
   "cell_type": "code",
   "execution_count": 91,
   "id": "7ac9630a-2fd4-4d5b-b398-d455589e04bd",
   "metadata": {},
   "outputs": [
    {
     "name": "stdout",
     "output_type": "stream",
     "text": [
      "Student grade is 'B'\n"
     ]
    }
   ],
   "source": [
    "x.average_grade()"
   ]
  },
  {
   "cell_type": "markdown",
   "id": "ae875118-e9cd-4ce1-a78d-b03482d21b1c",
   "metadata": {},
   "source": [
    "Problem-8"
   ]
  },
  {
   "cell_type": "code",
   "execution_count": 96,
   "id": "0069b0ac-788b-42c9-9a07-8d9d25c2f8ea",
   "metadata": {},
   "outputs": [],
   "source": [
    "class Email:\n",
    "    def __init__(self,sender,recipient,subject):\n",
    "        self.sender=sender\n",
    "        self.recipient=recipient\n",
    "        self.subject=subject\n",
    "    def send(self):\n",
    "        print('The mail send successfully from',self.sender,'to',self.recipient,'on the subject of',self.subject)\n",
    "    def display(self):\n",
    "        print('Mail sender:',self.sender,'\\nMail receiver:',self.recipient,'\\nMail subject:',self.subject)"
   ]
  },
  {
   "cell_type": "code",
   "execution_count": 97,
   "id": "2a33d850-5463-4485-b3fc-b62332574a33",
   "metadata": {},
   "outputs": [],
   "source": [
    "x=Email('Gnanesh','PW Skills','Assignment')"
   ]
  },
  {
   "cell_type": "code",
   "execution_count": 98,
   "id": "f2c5b8cb-3496-466b-8056-7a011586c3dd",
   "metadata": {},
   "outputs": [
    {
     "name": "stdout",
     "output_type": "stream",
     "text": [
      "The mail send successfully from Gnanesh to PW Skills on the subject of Assignment\n"
     ]
    }
   ],
   "source": [
    "x.send()"
   ]
  },
  {
   "cell_type": "code",
   "execution_count": 99,
   "id": "bc09fb43-4fec-49fc-a758-4379250ce871",
   "metadata": {},
   "outputs": [
    {
     "name": "stdout",
     "output_type": "stream",
     "text": [
      "Mail sender: Gnanesh \n",
      "Mail receiver: PW Skills \n",
      "Mail subject: Assignment\n"
     ]
    }
   ],
   "source": [
    "x.display()"
   ]
  },
  {
   "cell_type": "markdown",
   "id": "306277c7-570d-415b-91e9-74092748dbdf",
   "metadata": {},
   "source": [
    "Problem-9"
   ]
  },
  {
   "cell_type": "code",
   "execution_count": 115,
   "id": "d2b96885-cbf0-4bd2-97f8-f603acd4e8c9",
   "metadata": {},
   "outputs": [],
   "source": [
    "class social_media:\n",
    "    def __init__(self,username,posts):\n",
    "        self.username=username\n",
    "        self.posts=posts\n",
    "    def add_post(self,post):\n",
    "        self.post=post\n",
    "        self.posts.append(self.post)\n",
    "        print(\"Your post is successfully added to your account\")\n",
    "    def display_details(self):\n",
    "        print(\"Username:\",self.username,\"\\nPosts:\",self.posts)\n",
    "    def search_post(self,search_post):\n",
    "        self.search_post=search_post\n",
    "        if self.search_post in self.posts:\n",
    "            print(self.search_post)\n",
    "        else:\n",
    "            print(\"The post is unavailable\")"
   ]
  },
  {
   "cell_type": "code",
   "execution_count": 116,
   "id": "e00260c4-d1c1-42ac-8dd3-14884cfb5121",
   "metadata": {},
   "outputs": [],
   "source": [
    "x=social_media('Gnan_345',['Forest','Temple','City','Palace'])"
   ]
  },
  {
   "cell_type": "code",
   "execution_count": 117,
   "id": "6e2682ce-8557-49af-84ed-1a215423a810",
   "metadata": {},
   "outputs": [
    {
     "name": "stdout",
     "output_type": "stream",
     "text": [
      "Your post is successfully added to your account\n"
     ]
    }
   ],
   "source": [
    "x.add_post('Movie')"
   ]
  },
  {
   "cell_type": "code",
   "execution_count": 118,
   "id": "8348acfa-85de-4cb4-a248-6cfd217fab18",
   "metadata": {},
   "outputs": [
    {
     "name": "stdout",
     "output_type": "stream",
     "text": [
      "Username: Gnan_345 \n",
      "Posts: ['Forest', 'Temple', 'City', 'Palace', 'Movie']\n"
     ]
    }
   ],
   "source": [
    "x.display_details()"
   ]
  },
  {
   "cell_type": "code",
   "execution_count": 119,
   "id": "b1d8e851-f723-42d1-a38c-eaf0befb828b",
   "metadata": {},
   "outputs": [
    {
     "name": "stdout",
     "output_type": "stream",
     "text": [
      "City\n"
     ]
    }
   ],
   "source": [
    "x.search_post('City')"
   ]
  },
  {
   "cell_type": "markdown",
   "id": "198d18d7-be53-4458-878b-4a8391347563",
   "metadata": {},
   "source": [
    "Problem-10"
   ]
  },
  {
   "cell_type": "code",
   "execution_count": 132,
   "id": "96855998-0216-4fbb-b42b-e5400e183330",
   "metadata": {},
   "outputs": [],
   "source": [
    "class ToDo_List:\n",
    "    def __init__(self,tasks,due_dates):\n",
    "        self.tasks=tasks\n",
    "        self.due_dates=due_dates\n",
    "        print('Your tasks:',self.tasks)\n",
    "        print('Your tasks due dates:',self.due_dates)\n",
    "    def add_tasks(self,task):\n",
    "        self.task=task\n",
    "        self.tasks.append(self.task)\n",
    "        print(\"You entered task is added successfully\")\n",
    "    def completed_tasks(self,tas):\n",
    "        self.tas=tas\n",
    "        self.tasks.remove(self.tas)\n",
    "        print(\"Completed task marked completed\")\n",
    "    def pending_tasks(self):\n",
    "        print(\"Pending tasks:\",self.tasks)"
   ]
  },
  {
   "cell_type": "code",
   "execution_count": 133,
   "id": "02fd3370-947f-4425-af58-dd02c6662921",
   "metadata": {},
   "outputs": [
    {
     "name": "stdout",
     "output_type": "stream",
     "text": [
      "Your tasks: ['Meeting', 'Project', 'Trip', 'Learning']\n",
      "Your tasks due dates: ['10-10-2023', '15-10-2023', '20-10-2023', '18-10-2023']\n"
     ]
    }
   ],
   "source": [
    "x=ToDo_List(['Meeting','Project','Trip','Learning'],['10-10-2023','15-10-2023','20-10-2023','18-10-2023'])"
   ]
  },
  {
   "cell_type": "code",
   "execution_count": 134,
   "id": "3802b912-8050-4921-874c-061e5dde8fb5",
   "metadata": {},
   "outputs": [
    {
     "name": "stdout",
     "output_type": "stream",
     "text": [
      "You entered task is added successfully\n"
     ]
    }
   ],
   "source": [
    "x.add_tasks('Delivery')"
   ]
  },
  {
   "cell_type": "code",
   "execution_count": 135,
   "id": "ebfa8123-9d03-42d4-967a-9ec636592a7a",
   "metadata": {},
   "outputs": [
    {
     "name": "stdout",
     "output_type": "stream",
     "text": [
      "Completed task marked completed\n"
     ]
    }
   ],
   "source": [
    "x.completed_tasks('Meeting')"
   ]
  },
  {
   "cell_type": "code",
   "execution_count": 136,
   "id": "2bb1265b-2157-4fa4-a3eb-8b7084714df1",
   "metadata": {},
   "outputs": [
    {
     "name": "stdout",
     "output_type": "stream",
     "text": [
      "Pending tasks: ['Project', 'Trip', 'Learning', 'Delivery']\n"
     ]
    }
   ],
   "source": [
    "x.pending_tasks()"
   ]
  },
  {
   "cell_type": "markdown",
   "id": "efb16351-048c-4403-bb1d-a73694157b2a",
   "metadata": {},
   "source": [
    "Thank You For Giving This Assignment"
   ]
  },
  {
   "cell_type": "code",
   "execution_count": null,
   "id": "a45ea9ac-f6d2-4104-860a-793e6a7cad84",
   "metadata": {},
   "outputs": [],
   "source": []
  }
 ],
 "metadata": {
  "kernelspec": {
   "display_name": "Python 3 (ipykernel)",
   "language": "python",
   "name": "python3"
  },
  "language_info": {
   "codemirror_mode": {
    "name": "ipython",
    "version": 3
   },
   "file_extension": ".py",
   "mimetype": "text/x-python",
   "name": "python",
   "nbconvert_exporter": "python",
   "pygments_lexer": "ipython3",
   "version": "3.10.8"
  }
 },
 "nbformat": 4,
 "nbformat_minor": 5
}
