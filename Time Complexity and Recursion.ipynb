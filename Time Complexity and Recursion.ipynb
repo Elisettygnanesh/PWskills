{
 "cells": [
  {
   "cell_type": "markdown",
   "id": "efb32c61-5258-4c89-b679-34b657140bcd",
   "metadata": {},
   "source": [
    "TIME COMPLEXITY AND RECURSION ASSIGNMENT"
   ]
  },
  {
   "cell_type": "code",
   "execution_count": 2,
   "id": "0af393b1-784d-4814-af8b-c0319fd91def",
   "metadata": {},
   "outputs": [
    {
     "name": "stdout",
     "output_type": "stream",
     "text": [
      "The time complexity of the above code is O(n*log(n)) This is because each time we divide the array in half, so we will have a total of log(n) divisions. In each division, we compare two elements to find the left and right element, which takes constant time. Therefore, the total time complexity is O(n*log(n))\n"
     ]
    }
   ],
   "source": [
    "'''def quicksort(arr):\n",
    "\n",
    "    if len(arr) <= 1:\n",
    "\n",
    "        return arr\n",
    "\n",
    "    pivot = arr[len(arr) // 2]\n",
    "\n",
    "    left = [x for x in arr if x < pivot]\n",
    "\n",
    "    middle = [x for x in arr if x == pivot]\n",
    "\n",
    "    right = [x for x in arr if x > pivot]\n",
    "\n",
    "    return quicksort(left) + middle + quicksort(right)'''\n",
    "print(\"The time complexity of the above code is O(n*log(n)) This is because each time we divide the array in half, so we will have a total of log(n) divisions. In each division, we compare two elements to find the left and right element, which takes constant time. Therefore, the total time complexity is O(n*log(n))\")"
   ]
  },
  {
   "cell_type": "code",
   "execution_count": 3,
   "id": "fb08318c-e98d-4f47-b222-b0b83090897a",
   "metadata": {},
   "outputs": [
    {
     "name": "stdout",
     "output_type": "stream",
     "text": [
      "The time complexity of the above code is O(n**2) because for finding lengths of rows and columns the interation go through all the matrix. \n"
     ]
    }
   ],
   "source": [
    "'''def nested_loop_example(matrix):\n",
    "\n",
    "    rows, cols = len(matrix), len(matrix[0])\n",
    "\n",
    "    total = 0\n",
    "\n",
    "    for i in range(rows):\n",
    "\n",
    "        for j in range(cols):\n",
    "\n",
    "            total += matrix[i][j]\n",
    "\n",
    "    return total'''\n",
    "print(\"The time complexity of the above code is O(n**2) because for finding lengths of rows and columns the interation go through all the matrix. \")"
   ]
  },
  {
   "cell_type": "code",
   "execution_count": 4,
   "id": "e3761863-4682-49b2-8feb-15f5ad1dd4c9",
   "metadata": {},
   "outputs": [
    {
     "name": "stdout",
     "output_type": "stream",
     "text": [
      "The time complexity of above code is O(n) because for adding element to the result the iteration go through whole array.\n"
     ]
    }
   ],
   "source": [
    "'''def example_function(arr):\n",
    "    result = 0\n",
    "\n",
    "    for element in arr:\n",
    "\n",
    "        result += element\n",
    "\n",
    "    return result'''\n",
    "print(\"The time complexity of above code is O(n) because for adding element to the result the iteration go through whole array.\")"
   ]
  },
  {
   "cell_type": "code",
   "execution_count": 5,
   "id": "6a2a1589-0181-4033-b19d-49065dcb32b6",
   "metadata": {},
   "outputs": [
    {
     "name": "stdout",
     "output_type": "stream",
     "text": [
      "The time complexity of above code is O(n**2) This is because, in the worst case, for each element in the outer loop, you may have to compare it with all previous elements in the inner loop.\n"
     ]
    }
   ],
   "source": [
    "'''def longest_increasing_subsequence(nums):\n",
    "\n",
    "    n = len(nums)\n",
    "\n",
    "    lis = [1] * n\n",
    "\n",
    "    for i in range(1, n):\n",
    "\n",
    "        for j in range(0, i):\n",
    "\n",
    "            if nums[i] > nums[j] and lis[i] < lis[j] + 1:\n",
    "\n",
    "                lis[i] = lis[j] + 1\n",
    "\n",
    "    return max(lis)'''\n",
    "print(\"The time complexity of above code is O(n**2) This is because, in the worst case, for each element in the outer loop, you may have to compare it with all previous elements in the inner loop.\")"
   ]
  },
  {
   "cell_type": "code",
   "execution_count": 6,
   "id": "207a4771-8601-4f45-8e18-c502c78118d4",
   "metadata": {},
   "outputs": [
    {
     "name": "stdout",
     "output_type": "stream",
     "text": [
      "The time complexity of the given function is O(n^2) since the dominant term is the square of the input size n.\n"
     ]
    }
   ],
   "source": [
    "'''def mysterious_function(arr):\n",
    "\n",
    "    n = len(arr)\n",
    "\n",
    "    result = 0\n",
    "\n",
    "    for i in range(n):\n",
    "\n",
    "        for j in range(i, n):\n",
    "\n",
    "            result += arr[i] * arr[j]\n",
    "\n",
    "    return result'''\n",
    "print(\"The time complexity of the given function is O(n^2) since the dominant term is the square of the input size n.\")"
   ]
  },
  {
   "cell_type": "code",
   "execution_count": 13,
   "id": "57a77cfe-80e2-437d-acb8-a5301b1376f5",
   "metadata": {},
   "outputs": [
    {
     "name": "stdout",
     "output_type": "stream",
     "text": [
      "6\n"
     ]
    }
   ],
   "source": [
    "def sum_of_digits(n):\n",
    "    if n < 10:\n",
    "        return n\n",
    "    else:\n",
    "        return n % 10 + sum_of_digits(n // 10)\n",
    "\n",
    "result = sum_of_digits(123)\n",
    "print(result)"
   ]
  },
  {
   "cell_type": "code",
   "execution_count": 16,
   "id": "2ae692b9-f065-4f69-b0d1-551197720b1b",
   "metadata": {},
   "outputs": [
    {
     "name": "stdout",
     "output_type": "stream",
     "text": [
      "[0, 1, 1, 2, 3, 5]\n"
     ]
    }
   ],
   "source": [
    "def fibonacci_series(n):\n",
    "    if n == 0:\n",
    "        return []\n",
    "    elif n == 1:\n",
    "        return [0]\n",
    "    else:\n",
    "        series = fibonacci_series(n - 1)\n",
    "        series.append(series[-1] + series[-2] if len(series) >= 2 else 1)\n",
    "        return series\n",
    "\n",
    "n = 6\n",
    "result = fibonacci_series(n)\n",
    "print(result)"
   ]
  },
  {
   "cell_type": "code",
   "execution_count": 27,
   "id": "2aba9cdd-982c-4c7e-af49-2a6f247d58a2",
   "metadata": {},
   "outputs": [
    {
     "name": "stdout",
     "output_type": "stream",
     "text": [
      "True\n"
     ]
    }
   ],
   "source": [
    "def subset_sum(l,n):\n",
    "    s=sorted(l)\n",
    "    if len(s)==1 and s[0]!=n:\n",
    "        return \"False\"\n",
    "    elif s[0]+s[1]==n:\n",
    "        return \"True\"\n",
    "    else:\n",
    "        return subset_sum(s[1:],n)\n",
    "    \n",
    "result=subset_sum([3,34,4,12,5,2],9)\n",
    "print(result)"
   ]
  },
  {
   "cell_type": "code",
   "execution_count": 28,
   "id": "dfc9c10b-73b1-4f21-914e-2091610f2a4c",
   "metadata": {},
   "outputs": [
    {
     "name": "stdout",
     "output_type": "stream",
     "text": [
      "True\n"
     ]
    }
   ],
   "source": [
    "def word_break(s, word_dict):\n",
    "    if not s:\n",
    "        return True\n",
    "\n",
    "    for i in range(1, len(s) + 1):\n",
    "        prefix = s[:i]\n",
    "        if prefix in word_dict and word_break(s[i:], word_dict):\n",
    "            return True\n",
    "\n",
    "    return False\n",
    "\n",
    "string_to_check = \"leetcode\"\n",
    "dictionary = [\"leet\", \"code\"]\n",
    "\n",
    "result = word_break(string_to_check, dictionary)\n",
    "print(result)\n"
   ]
  },
  {
   "cell_type": "code",
   "execution_count": 29,
   "id": "cfb1cd54-f0f7-4c65-acba-03f5c9cb684f",
   "metadata": {},
   "outputs": [
    {
     "name": "stdout",
     "output_type": "stream",
     "text": [
      "..Q.\n",
      "Q...\n",
      "...Q\n",
      ".Q..\n",
      "\n",
      ".Q..\n",
      "...Q\n",
      "Q...\n",
      "..Q.\n",
      "\n"
     ]
    }
   ],
   "source": [
    "def is_safe(board, row, col, n):\n",
    "    for i in range(col):\n",
    "        if board[row][i] == 'Q':\n",
    "            return False\n",
    "    \n",
    "    for i, j in zip(range(row, -1, -1), range(col, -1, -1)):\n",
    "        if board[i][j] == 'Q':\n",
    "            return False\n",
    "    \n",
    "    for i, j in zip(range(row, n), range(col, -1, -1)):\n",
    "        if board[i][j] == 'Q':\n",
    "            return False\n",
    "    \n",
    "    return True\n",
    "\n",
    "def solve_n_queens_util(board, col, n, result):\n",
    "    if col == n:\n",
    "        result.append([''.join(row) for row in board])\n",
    "        return\n",
    "    \n",
    "    for i in range(n):\n",
    "        if is_safe(board, i, col, n):\n",
    "            board[i][col] = 'Q'\n",
    "            solve_n_queens_util(board, col + 1, n, result)\n",
    "            board[i][col] = '.'  \n",
    "\n",
    "def n_queens(n):\n",
    "    board = [['.' for _ in range(n)] for _ in range(n)]\n",
    "    result = []\n",
    "    solve_n_queens_util(board, 0, n, result)\n",
    "    return result\n",
    "\n",
    "n = 4\n",
    "result = n_queens(n)\n",
    "for solution in result:\n",
    "    for row in solution:\n",
    "        print(row)\n",
    "    print()\n"
   ]
  },
  {
   "cell_type": "markdown",
   "id": "b2ffa2b6-8107-460b-ab01-4e9dd507ac7d",
   "metadata": {},
   "source": [
    "THANK YOU FOR GIVING THIS ASSIGNMENT"
   ]
  },
  {
   "cell_type": "code",
   "execution_count": null,
   "id": "fb14f792-5310-4347-b2d4-6c24c888d12f",
   "metadata": {},
   "outputs": [],
   "source": []
  }
 ],
 "metadata": {
  "kernelspec": {
   "display_name": "Python 3 (ipykernel)",
   "language": "python",
   "name": "python3"
  },
  "language_info": {
   "codemirror_mode": {
    "name": "ipython",
    "version": 3
   },
   "file_extension": ".py",
   "mimetype": "text/x-python",
   "name": "python",
   "nbconvert_exporter": "python",
   "pygments_lexer": "ipython3",
   "version": "3.10.8"
  }
 },
 "nbformat": 4,
 "nbformat_minor": 5
}
