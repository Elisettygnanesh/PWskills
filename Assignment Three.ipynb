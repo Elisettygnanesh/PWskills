{
 "cells": [
  {
   "cell_type": "markdown",
   "id": "16d0f96f-ac93-48fe-a3ef-fde6c7d6d021",
   "metadata": {},
   "source": [
    "BASIC LEVEL FOR LOOP SOLUTIONS"
   ]
  },
  {
   "cell_type": "code",
   "execution_count": 2,
   "id": "22b9a94f-cd6a-41cc-b01b-f5e8b9d19742",
   "metadata": {},
   "outputs": [
    {
     "name": "stdin",
     "output_type": "stream",
     "text": [
      "Enter upto where you have to print:  10\n"
     ]
    },
    {
     "name": "stdout",
     "output_type": "stream",
     "text": [
      "1 2 3 4 5 6 7 8 9 10 "
     ]
    }
   ],
   "source": [
    "x=int(input(\"Enter upto where you have to print: \"))\n",
    "for i in range(1,x+1):\n",
    "    print(i, end=\" \")"
   ]
  },
  {
   "cell_type": "code",
   "execution_count": 3,
   "id": "780334ab-6f2f-4dda-a78b-83e90c25bc17",
   "metadata": {},
   "outputs": [
    {
     "name": "stdout",
     "output_type": "stream",
     "text": [
      "18\n"
     ]
    }
   ],
   "source": [
    "l=[3,7,5,2,1]\n",
    "print(sum(i for i in l))"
   ]
  },
  {
   "cell_type": "code",
   "execution_count": 11,
   "id": "1c6df40e-8bb1-4b17-a5e5-cb0d3f7a0e9d",
   "metadata": {},
   "outputs": [
    {
     "name": "stdout",
     "output_type": "stream",
     "text": [
      "s l l i k s W P "
     ]
    }
   ],
   "source": [
    "s=\"PWskills\"\n",
    "for i in range((len(s)-1),-1,-1):\n",
    "    print(s[i], end=\" \")"
   ]
  },
  {
   "cell_type": "code",
   "execution_count": 16,
   "id": "eb403899-514e-40c5-9572-e6e809c2f8e3",
   "metadata": {},
   "outputs": [
    {
     "name": "stdin",
     "output_type": "stream",
     "text": [
      "Enter number to do factorial:  5\n"
     ]
    },
    {
     "name": "stdout",
     "output_type": "stream",
     "text": [
      "120\n"
     ]
    }
   ],
   "source": [
    "num=int(input(\"Enter number to do factorial: \"))\n",
    "f=1\n",
    "for i in range(num,0,-1):\n",
    "    f=f*i\n",
    "print(f)"
   ]
  },
  {
   "cell_type": "code",
   "execution_count": 24,
   "id": "db212153-29a7-496b-9c77-8b3ec6480f08",
   "metadata": {},
   "outputs": [
    {
     "name": "stdin",
     "output_type": "stream",
     "text": [
      "Enter which table do you want:  4\n"
     ]
    },
    {
     "name": "stdout",
     "output_type": "stream",
     "text": [
      "4 * 1 = 4\n",
      "4 * 2 = 8\n",
      "4 * 3 = 12\n",
      "4 * 4 = 16\n",
      "4 * 5 = 20\n",
      "4 * 6 = 24\n",
      "4 * 7 = 28\n",
      "4 * 8 = 32\n",
      "4 * 9 = 36\n",
      "4 * 10 = 40\n"
     ]
    }
   ],
   "source": [
    "T=int(input(\"Enter which table do you want: \"))\n",
    "for i in range(1,11):\n",
    "    print(f\"{T} * {i} =\",T*i)"
   ]
  },
  {
   "cell_type": "code",
   "execution_count": 26,
   "id": "5daeb93b-aee8-4f8b-b612-f63fa88eeb55",
   "metadata": {},
   "outputs": [
    {
     "name": "stdout",
     "output_type": "stream",
     "text": [
      "list has 7 even numbers and 6 odd numbers.\n"
     ]
    }
   ],
   "source": [
    "l=[1,2,3,4,5,6,7,8,9,2,6,5,10]\n",
    "odd=0\n",
    "even=0\n",
    "for i in range(len(l)):\n",
    "    if l[i]%2==0:\n",
    "        even=even+1\n",
    "    else:\n",
    "        odd=odd+1\n",
    "print(f\"list has {even} even numbers and {odd} odd numbers.\")"
   ]
  },
  {
   "cell_type": "code",
   "execution_count": 27,
   "id": "34aa0375-8914-41d6-9f71-d7330b16d61d",
   "metadata": {},
   "outputs": [
    {
     "name": "stdin",
     "output_type": "stream",
     "text": [
      "Enter upto where you want squares:  5\n"
     ]
    },
    {
     "name": "stdout",
     "output_type": "stream",
     "text": [
      "1 4 9 16 25 "
     ]
    }
   ],
   "source": [
    "num=int(input(\"Enter upto where you want squares: \"))\n",
    "for i in range(1,num+1):\n",
    "    print(i**2, end=\" \")"
   ]
  },
  {
   "cell_type": "code",
   "execution_count": 28,
   "id": "29768974-c7bd-4b59-8eb7-58b481bac427",
   "metadata": {},
   "outputs": [
    {
     "name": "stdout",
     "output_type": "stream",
     "text": [
      "7\n"
     ]
    }
   ],
   "source": [
    "s=\"Gnanesh\"\n",
    "count=0\n",
    "for i in s:\n",
    "    count=count+1\n",
    "print(count)"
   ]
  },
  {
   "cell_type": "code",
   "execution_count": 31,
   "id": "309f4122-68b8-4394-90ed-3f6bd2f230ec",
   "metadata": {},
   "outputs": [
    {
     "name": "stdout",
     "output_type": "stream",
     "text": [
      "5.0\n"
     ]
    }
   ],
   "source": [
    "l=[2,2,6,7,4,9]\n",
    "s=sum(i for i in l)\n",
    "print(s/len(l))"
   ]
  },
  {
   "cell_type": "code",
   "execution_count": 34,
   "id": "143057fe-710b-4999-9364-8ba7da11a56c",
   "metadata": {},
   "outputs": [
    {
     "name": "stdin",
     "output_type": "stream",
     "text": [
      "Enter how many fibonacci numbers you want:  10\n"
     ]
    },
    {
     "name": "stdout",
     "output_type": "stream",
     "text": [
      "0 1 1 2 3 5 8 13 21 34 "
     ]
    }
   ],
   "source": [
    "n=int(input(\"Enter how many fibonacci numbers you want: \"))\n",
    "f=0\n",
    "s=1\n",
    "for i in range(n):\n",
    "    print(f, end=\" \")\n",
    "    temp=f\n",
    "    f=s\n",
    "    s=temp+s"
   ]
  },
  {
   "cell_type": "markdown",
   "id": "e9697c13-02c6-4b9a-b276-f565a58c6ade",
   "metadata": {},
   "source": [
    "INTERMEDIATE LEVEL FOR LOOP SOLUTIONS"
   ]
  },
  {
   "cell_type": "code",
   "execution_count": 43,
   "id": "fa3dc8b9-6afe-48ff-ae8f-8296bb005fdb",
   "metadata": {},
   "outputs": [
    {
     "name": "stdout",
     "output_type": "stream",
     "text": [
      "Yes list has duplicate values\n"
     ]
    }
   ],
   "source": [
    "l=[2,4,6,8,4]\n",
    "for i in l:\n",
    "    if l.count(i)>1:\n",
    "        print(\"Yes list has duplicate values\")\n",
    "        break\n",
    "    else:\n",
    "        continue"
   ]
  },
  {
   "cell_type": "code",
   "execution_count": 45,
   "id": "6318e631-55c8-4fbf-9530-e875088243ee",
   "metadata": {},
   "outputs": [
    {
     "name": "stdin",
     "output_type": "stream",
     "text": [
      "Enter upto where we find prime numbers:  100\n"
     ]
    },
    {
     "name": "stdout",
     "output_type": "stream",
     "text": [
      "1 2 3 5 7 11 13 17 19 23 29 31 37 41 43 47 53 59 61 67 71 73 79 83 89 97 "
     ]
    }
   ],
   "source": [
    "n=int(input(\"Enter upto where we find prime numbers: \"))\n",
    "for i in range(1,n):\n",
    "    count=0\n",
    "    for j in range(1,i):\n",
    "        if i%j==0:\n",
    "            count+=1\n",
    "    if count<2:\n",
    "        print(i, end=\" \")"
   ]
  },
  {
   "cell_type": "code",
   "execution_count": 46,
   "id": "c1d0fd63-ff93-4c5a-a986-44f2523ef2dd",
   "metadata": {},
   "outputs": [
    {
     "name": "stdout",
     "output_type": "stream",
     "text": [
      "string has  12  vowels.\n"
     ]
    }
   ],
   "source": [
    "s=\"Gnanesh learning data science in PWSKILLS\"\n",
    "v=\"AEIOUaeiou\"\n",
    "count=0\n",
    "for i in s:\n",
    "    if i in v:\n",
    "        count+=1\n",
    "print(\"string has \",count,\" vowels.\")"
   ]
  },
  {
   "cell_type": "code",
   "execution_count": 52,
   "id": "f3db761b-2441-409a-b6a3-2ae555342d41",
   "metadata": {},
   "outputs": [
    {
     "name": "stdout",
     "output_type": "stream",
     "text": [
      "10\n"
     ]
    }
   ],
   "source": [
    "l=[[1,4,6],[8,10,2],[6,1,7]]\n",
    "max=0\n",
    "for i in l:\n",
    "    if len(i)>2:\n",
    "        for j in i:\n",
    "            if max<j:\n",
    "                max=j\n",
    "print(max)"
   ]
  },
  {
   "cell_type": "code",
   "execution_count": 1,
   "id": "d5f3a0af-25cf-48fa-8251-aa7877f3dcde",
   "metadata": {},
   "outputs": [
    {
     "name": "stdin",
     "output_type": "stream",
     "text": [
      "Enter what element will be remove 3\n"
     ]
    },
    {
     "data": {
      "text/plain": [
       "[6, 9, 5, 10, 9, 6]"
      ]
     },
     "execution_count": 1,
     "metadata": {},
     "output_type": "execute_result"
    }
   ],
   "source": [
    "l=[3,6,9,5,3,10,9,3,6]\n",
    "num=int(input(\"Enter what element will be remove\"))\n",
    "for i in l:\n",
    "    if num==i:\n",
    "        l.remove(i)\n",
    "l"
   ]
  },
  {
   "cell_type": "code",
   "execution_count": 9,
   "id": "0b632bdf-2ed2-4f13-8bc8-e125bfdad4c8",
   "metadata": {},
   "outputs": [
    {
     "name": "stdin",
     "output_type": "stream",
     "text": [
      "Enter how many tables do you want:  5\n"
     ]
    },
    {
     "name": "stdout",
     "output_type": "stream",
     "text": [
      "1 * 1 = 1\n",
      "1 * 2 = 2\n",
      "1 * 3 = 3\n",
      "1 * 4 = 4\n",
      "1 * 5 = 5\n",
      "1 * 6 = 6\n",
      "1 * 7 = 7\n",
      "1 * 8 = 8\n",
      "1 * 9 = 9\n",
      "1 * 10 = 10\n",
      "\n",
      "2 * 1 = 2\n",
      "2 * 2 = 4\n",
      "2 * 3 = 6\n",
      "2 * 4 = 8\n",
      "2 * 5 = 10\n",
      "2 * 6 = 12\n",
      "2 * 7 = 14\n",
      "2 * 8 = 16\n",
      "2 * 9 = 18\n",
      "2 * 10 = 20\n",
      "\n",
      "3 * 1 = 3\n",
      "3 * 2 = 6\n",
      "3 * 3 = 9\n",
      "3 * 4 = 12\n",
      "3 * 5 = 15\n",
      "3 * 6 = 18\n",
      "3 * 7 = 21\n",
      "3 * 8 = 24\n",
      "3 * 9 = 27\n",
      "3 * 10 = 30\n",
      "\n",
      "4 * 1 = 4\n",
      "4 * 2 = 8\n",
      "4 * 3 = 12\n",
      "4 * 4 = 16\n",
      "4 * 5 = 20\n",
      "4 * 6 = 24\n",
      "4 * 7 = 28\n",
      "4 * 8 = 32\n",
      "4 * 9 = 36\n",
      "4 * 10 = 40\n",
      "\n",
      "5 * 1 = 5\n",
      "5 * 2 = 10\n",
      "5 * 3 = 15\n",
      "5 * 4 = 20\n",
      "5 * 5 = 25\n",
      "5 * 6 = 30\n",
      "5 * 7 = 35\n",
      "5 * 8 = 40\n",
      "5 * 9 = 45\n",
      "5 * 10 = 50\n",
      "\n"
     ]
    }
   ],
   "source": [
    "T=int(input(\"Enter how many tables do you want: \"))\n",
    "for i in range(1,T+1):\n",
    "    for j in range(1,11):\n",
    "        print(f\"{i} * {j} =\" , i*j)\n",
    "    print()"
   ]
  },
  {
   "cell_type": "code",
   "execution_count": 10,
   "id": "f878d752-5ecc-4e3e-bb67-d9cd00ae04b0",
   "metadata": {},
   "outputs": [
    {
     "name": "stdout",
     "output_type": "stream",
     "text": [
      "[7.222222222222222, 36.66666666666667, 0.0]\n"
     ]
    }
   ],
   "source": [
    "F=[45,98,32]\n",
    "C=[]\n",
    "for i in F:\n",
    "    C.append((5/9)*(i-32))\n",
    "print(C)"
   ]
  },
  {
   "cell_type": "code",
   "execution_count": 11,
   "id": "96e1c855-0650-4619-b9ea-1250b41d24f4",
   "metadata": {},
   "outputs": [
    {
     "name": "stdout",
     "output_type": "stream",
     "text": [
      "2 3 4 6 8 "
     ]
    }
   ],
   "source": [
    "l1=[1,2,3,4,5,6,7,8]\n",
    "l2=[2,4,6,8,10,11,3]\n",
    "for i in l1:\n",
    "    if i in l2:\n",
    "        print(i, end=\" \")"
   ]
  },
  {
   "cell_type": "code",
   "execution_count": 13,
   "id": "6a8703f3-5841-4d84-be5f-3264679b4aa4",
   "metadata": {},
   "outputs": [
    {
     "name": "stdin",
     "output_type": "stream",
     "text": [
      "Enter how many lines do you want:  5\n"
     ]
    },
    {
     "name": "stdout",
     "output_type": "stream",
     "text": [
      "\n",
      "* \n",
      "* * \n",
      "* * * \n",
      "* * * * \n",
      "* * * * * \n"
     ]
    }
   ],
   "source": [
    "l=int(input(\"Enter how many lines do you want: \"))\n",
    "for i in range(l+1):\n",
    "    for j in range(i):\n",
    "        print(\"*\", end=\" \")\n",
    "    print()"
   ]
  },
  {
   "cell_type": "code",
   "execution_count": 15,
   "id": "21635454-ded9-4413-ae99-34ee3bc0c9d4",
   "metadata": {},
   "outputs": [
    {
     "name": "stdin",
     "output_type": "stream",
     "text": [
      "Enter first number to find GCD 15\n",
      "Enter second number to find GCD 20\n"
     ]
    },
    {
     "name": "stdout",
     "output_type": "stream",
     "text": [
      "5\n"
     ]
    }
   ],
   "source": [
    "fn=int(input(\"Enter first number to find GCD\"))\n",
    "sn=int(input(\"Enter second number to find GCD\"))\n",
    "max=0\n",
    "for i in range(1,fn+1):\n",
    "    if fn%i==0 and sn%i==0:\n",
    "        max=i\n",
    "print(max)"
   ]
  },
  {
   "cell_type": "markdown",
   "id": "b84927d8-8f7e-4b1b-9244-fc81fe948235",
   "metadata": {},
   "source": [
    "ADVANCED LEVEL LIST COMPREHENSION SOLUTIONS"
   ]
  },
  {
   "cell_type": "code",
   "execution_count": 30,
   "id": "167ccb54-1e77-4192-9964-46a87e4781cb",
   "metadata": {},
   "outputs": [
    {
     "name": "stdout",
     "output_type": "stream",
     "text": [
      "33\n"
     ]
    }
   ],
   "source": [
    "l=[2,4,6,8,3,10]\n",
    "sum=0\n",
    "_=[sum:=sum+i for i in l]\n",
    "print(sum)"
   ]
  },
  {
   "cell_type": "code",
   "execution_count": 35,
   "id": "74527c07-b69d-4ae7-989f-e77dd5bac788",
   "metadata": {},
   "outputs": [
    {
     "name": "stdin",
     "output_type": "stream",
     "text": [
      "Enter a number:  40\n"
     ]
    },
    {
     "name": "stdout",
     "output_type": "stream",
     "text": [
      "2 2 2 5 "
     ]
    }
   ],
   "source": [
    "num=int(input(\"Enter a number: \"))\n",
    "a=2\n",
    "while num!=1:\n",
    "    if num%a==0:\n",
    "        num=num/a\n",
    "        print(a, end=\" \")\n",
    "    else:\n",
    "        a=a+1"
   ]
  },
  {
   "cell_type": "code",
   "execution_count": 36,
   "id": "ac441376-45f0-4c62-9e96-668b8de1a2b6",
   "metadata": {},
   "outputs": [
    {
     "name": "stdout",
     "output_type": "stream",
     "text": [
      "[1, 3, 5, 7, 8, 10]\n"
     ]
    }
   ],
   "source": [
    "l=[1,2,3,4,5,6,7,8,2,4,6,10]\n",
    "l1=[i for i in l if l.count(i)<2]\n",
    "print(l1)"
   ]
  },
  {
   "cell_type": "code",
   "execution_count": 49,
   "id": "14290143-9fe4-4627-a453-ea7ae04e7f67",
   "metadata": {},
   "outputs": [
    {
     "name": "stdin",
     "output_type": "stream",
     "text": [
      "Enter uptp where you check palindrome numbers:  500\n"
     ]
    },
    {
     "name": "stdout",
     "output_type": "stream",
     "text": [
      "[11, 22, 33, 44, 55, 66, 77, 88, 99, 101, 111, 121, 131, 141, 151, 161, 171, 181, 191, 202, 212, 222, 232, 242, 252, 262, 272, 282, 292, 303, 313, 323, 333, 343, 353, 363, 373, 383, 393, 404, 414, 424, 434, 444, 454, 464, 474, 484, 494]\n"
     ]
    }
   ],
   "source": [
    "n=int(input(\"Enter uptp where you check palindrome numbers: \"))\n",
    "l=[]\n",
    "for i in range(11,n+1):\n",
    "    temp=i\n",
    "    rev=0\n",
    "    while i>0:\n",
    "        d=i%10\n",
    "        rev=(rev*10)+d\n",
    "        i=i//10\n",
    "    if temp==rev:\n",
    "            l.append(temp)\n",
    "print(l)"
   ]
  },
  {
   "cell_type": "code",
   "execution_count": 64,
   "id": "f5828bd6-aa93-42c4-bcc3-f34d7a3f2a06",
   "metadata": {},
   "outputs": [
    {
     "name": "stdout",
     "output_type": "stream",
     "text": [
      "[2, 4, 6, 8, 9]\n"
     ]
    }
   ],
   "source": [
    "l=[[2,4,6],[8,9]]\n",
    "l2=[ele for i in l for ele in i]\n",
    "print(l2)"
   ]
  },
  {
   "cell_type": "code",
   "execution_count": 71,
   "id": "1e9168e6-b145-4622-970c-ed245de3bb45",
   "metadata": {},
   "outputs": [
    {
     "name": "stdout",
     "output_type": "stream",
     "text": [
      "Sum of even numbers:  30\n",
      "Sum of odd numbers:  25\n"
     ]
    }
   ],
   "source": [
    "l=[10,1,9,2,8,3,7,4,6,5]\n",
    "s_e=0\n",
    "s_o=0\n",
    "a=[s_e:=s_e+i for i in l if i%2==0]\n",
    "b=[s_o:=s_o+i for i in l if i%2!=0]\n",
    "print(\"Sum of even numbers: \", s_e)\n",
    "print(\"Sum of odd numbers: \", s_o)"
   ]
  },
  {
   "cell_type": "code",
   "execution_count": 72,
   "id": "71196e2d-3e83-49ff-878d-4d9f98d05fa1",
   "metadata": {},
   "outputs": [
    {
     "name": "stdin",
     "output_type": "stream",
     "text": [
      "Enter end numer:  10\n"
     ]
    },
    {
     "name": "stdout",
     "output_type": "stream",
     "text": [
      "[1, 9, 25, 49, 81]\n"
     ]
    }
   ],
   "source": [
    "n=int(input(\"Enter end numer: \"))\n",
    "l=[i**2 for i in range(n) if i%2!=0]\n",
    "print(l)"
   ]
  },
  {
   "cell_type": "code",
   "execution_count": 73,
   "id": "53d27248-3de0-4cf0-8b77-c0f1c66b526f",
   "metadata": {},
   "outputs": [
    {
     "name": "stdout",
     "output_type": "stream",
     "text": [
      "{'Name': 'Gnan', 'age': 20, 'state': 'AP'}\n"
     ]
    }
   ],
   "source": [
    "l1=['Name','age','state']\n",
    "l2=['Gnan',20,'AP']\n",
    "a={l1[i]:l2[i] for i in range(len(l1))}\n",
    "print(a)"
   ]
  },
  {
   "cell_type": "code",
   "execution_count": 74,
   "id": "5f48a483-d0bb-4ace-b80c-06a53edc5b57",
   "metadata": {},
   "outputs": [
    {
     "name": "stdout",
     "output_type": "stream",
     "text": [
      "['a', 'e', 'I']\n"
     ]
    }
   ],
   "source": [
    "s=\"GnaneshPWSKILLS\"\n",
    "v='aeiouAEIOU'\n",
    "l=[i for i in s if i in v]\n",
    "print(l)"
   ]
  },
  {
   "cell_type": "code",
   "execution_count": 79,
   "id": "f64dbcde-f961-4351-b4b1-59446512eeb6",
   "metadata": {},
   "outputs": [
    {
     "name": "stdout",
     "output_type": "stream",
     "text": [
      "['20', '908', '346', '3889483']\n"
     ]
    }
   ],
   "source": [
    "l1=['Gnan','20','AP','908','346','djikjf','3889483']\n",
    "l=[l1.remove(i) for i in l1 if i.isalpha()]\n",
    "print(l1)"
   ]
  },
  {
   "cell_type": "markdown",
   "id": "31d8742e-b4a3-4af6-b1cf-3a39d1a58d44",
   "metadata": {},
   "source": [
    "CHALLENGED LEVEL SOLUTIONS"
   ]
  },
  {
   "cell_type": "code",
   "execution_count": 88,
   "id": "0b03b405-16eb-48a5-be34-506adf2b4e58",
   "metadata": {},
   "outputs": [
    {
     "name": "stdin",
     "output_type": "stream",
     "text": [
      "Enter end number:  100\n"
     ]
    },
    {
     "name": "stdout",
     "output_type": "stream",
     "text": [
      "[1, 2, 3, 5, 7, 11, 13, 17, 19, 23, 29, 31, 37, 41, 43, 47, 53, 59, 61, 67, 71, 73, 79, 83, 89, 97]\n"
     ]
    }
   ],
   "source": [
    "n=int(input(\"Enter end number: \"))\n",
    "l1=[i for i in range(n+1)]\n",
    "p=2\n",
    "while p*p<=n:\n",
    "    if p!=0:\n",
    "        for i in range(p*2,n+1,p):\n",
    "            l1[i]=0 \n",
    "    p+=1\n",
    "l2=[i for i in l1 if i != 0]\n",
    "print(l2)"
   ]
  },
  {
   "cell_type": "code",
   "execution_count": 121,
   "id": "b93d3acc-6648-40fa-8d6f-ce051e0c6515",
   "metadata": {},
   "outputs": [
    {
     "name": "stdin",
     "output_type": "stream",
     "text": [
      "Enter upper limit: 20\n"
     ]
    },
    {
     "name": "stdout",
     "output_type": "stream",
     "text": [
      "[(3, 4, 5), (8, 6, 10), (5, 12, 13), (15, 8, 17), (12, 16, 20)]\n"
     ]
    }
   ],
   "source": [
    "x=int(input(\"Enter upper limit:\"))\n",
    "y=0\n",
    "z=2\n",
    "l=[]\n",
    "while(y<x):\n",
    "    for n in range(1,z+1):\n",
    "        a=z*z-n*n\n",
    "        b=2*z*n\n",
    "        y=z*z+n*n\n",
    "        if(y>x):\n",
    "            break\n",
    "        if(a==0 or b==0 or y==0):\n",
    "            break\n",
    "        l.append((a,b,y))\n",
    "    z=z+1\n",
    "print(l)"
   ]
  },
  {
   "cell_type": "code",
   "execution_count": 1,
   "id": "9f159c53-0f91-49f3-9fea-a641651a5110",
   "metadata": {},
   "outputs": [
    {
     "name": "stdout",
     "output_type": "stream",
     "text": [
      "[('b', 1), ('b', 4), ('b', 9), ('c', 1), ('c', 4), ('c', 9), ('d', 1), ('d', 4), ('d', 9)]\n"
     ]
    }
   ],
   "source": [
    "l1 = [\"b\", \"c\", \"d\"]\n",
    "l2 = [1, 4, 9]\n",
    "unique_combinations = []\n",
    "for i in range(len(l1)):\n",
    "\tfor j in range(len(l2)):\n",
    "\t\tunique_combinations.append((l1[i], l2[j]))\n",
    "print(unique_combinations)"
   ]
  },
  {
   "cell_type": "code",
   "execution_count": 11,
   "id": "d810fe5b-e2a4-4435-9d79-ddcd59665a5d",
   "metadata": {},
   "outputs": [
    {
     "name": "stdout",
     "output_type": "stream",
     "text": [
      "Mean is:  5.416666666666667\n",
      "Median is:  5\n",
      "Mode is:  4\n"
     ]
    }
   ],
   "source": [
    "L=[1,2,3,4,5,6,7,8,4,10,11,4]\n",
    "s=0\n",
    "a=[s:=s+i for i in L]\n",
    "print(\"Mean is: \",s/len(L))\n",
    "L.sort()\n",
    "print(\"Median is: \",L[len(L)//2])\n",
    "count=1\n",
    "mode=0\n",
    "m=[mode:=i for i in L if L.count(i)>count]\n",
    "print(\"Mode is: \",mode)\n"
   ]
  },
  {
   "cell_type": "code",
   "execution_count": 6,
   "id": "00380985-fb22-4cea-8757-cedcf9c0e520",
   "metadata": {},
   "outputs": [
    {
     "name": "stdin",
     "output_type": "stream",
     "text": [
      "Enter row:  5\n"
     ]
    },
    {
     "name": "stdout",
     "output_type": "stream",
     "text": [
      "    1 \n",
      "   1 1 \n",
      "  1 2 1 \n",
      " 1 3 3 1 \n",
      "1 4 6 4 1 \n"
     ]
    }
   ],
   "source": [
    "r=int(input(\"Enter row: \"))\n",
    "l=[]\n",
    "for i in range(r):\n",
    "    dl=[]\n",
    "    for j in range(i+1):\n",
    "        if j==0 or j==i:\n",
    "            dl.append(1)\n",
    "        else:\n",
    "            dl.append(l[i-1][j-1]+l[i-1][j])\n",
    "    l.append(dl)\n",
    "for i in range(r):\n",
    "    for j in range(r-i-1):\n",
    "        print(\" \", end=\"\")\n",
    "    for j in range(i+1):\n",
    "        print(l[i][j],end=\" \")\n",
    "    print()"
   ]
  },
  {
   "cell_type": "code",
   "execution_count": 22,
   "id": "8e23ecd5-e144-4653-8a30-e1ad93875071",
   "metadata": {},
   "outputs": [
    {
     "name": "stdout",
     "output_type": "stream",
     "text": [
      "34863\n"
     ]
    }
   ],
   "source": [
    "s= {1, 2, 3, 4, 5}\n",
    "l1=[]\n",
    "fact = 1\n",
    "for i in s:\n",
    "    for num in range(1,i+1):\n",
    "        fact = fact * num\n",
    "    l1.append(fact)\n",
    "s=sum(i for i in l1)\n",
    "print(s)"
   ]
  },
  {
   "cell_type": "code",
   "execution_count": 25,
   "id": "c973a98f-2929-4e54-b6d5-db277c534ed5",
   "metadata": {},
   "outputs": [
    {
     "name": "stdout",
     "output_type": "stream",
     "text": [
      "gnanesh\n"
     ]
    }
   ],
   "source": [
    "s=\"My name is gnanesh\"\n",
    "l=s.split(\" \")\n",
    "l1=\"\"\n",
    "_=[l1:=i for i in l if len(i)>len(l1)]\n",
    "print(l1)"
   ]
  },
  {
   "cell_type": "code",
   "execution_count": 40,
   "id": "414a266d-f69c-416a-8c6d-c275fa59b2cf",
   "metadata": {},
   "outputs": [
    {
     "name": "stdout",
     "output_type": "stream",
     "text": [
      "['oopsin', 'iamo']\n"
     ]
    }
   ],
   "source": [
    "l=['Gnanesh','oopsin','iamo','learn']\n",
    "v=\"aeiouAEIOU\"\n",
    "for i in l:\n",
    "    count=0\n",
    "    for char in i:\n",
    "        if char in v:\n",
    "            count+=1\n",
    "    if count<3:\n",
    "        l.remove(i)\n",
    "print(l)"
   ]
  },
  {
   "cell_type": "code",
   "execution_count": 1,
   "id": "251ff792-d72e-4239-a821-40a5ea0fe433",
   "metadata": {},
   "outputs": [
    {
     "name": "stdout",
     "output_type": "stream",
     "text": [
      "500500\n"
     ]
    }
   ],
   "source": [
    "s=sum(i for i in range(1,1001))\n",
    "print(s)"
   ]
  },
  {
   "cell_type": "code",
   "execution_count": 2,
   "id": "b3c13587-64d0-4ea9-b0b6-933d6a500d46",
   "metadata": {},
   "outputs": [
    {
     "name": "stdin",
     "output_type": "stream",
     "text": [
      "Enter uptp where you check palindrome numbers:  50\n"
     ]
    },
    {
     "name": "stdout",
     "output_type": "stream",
     "text": [
      "[11, 22, 33, 44]\n"
     ]
    }
   ],
   "source": [
    "n=int(input(\"Enter uptp where you check palindrome numbers: \"))\n",
    "l=[]\n",
    "for i in range(11,n+1):\n",
    "    temp=i\n",
    "    rev=0\n",
    "    while i>0:\n",
    "        d=i%10\n",
    "        rev=(rev*10)+d\n",
    "        i=i//10\n",
    "    if temp==rev:\n",
    "            l.append(temp)\n",
    "print(l)"
   ]
  },
  {
   "cell_type": "markdown",
   "id": "67f41831-f0e0-4526-93be-f8e4669e3232",
   "metadata": {},
   "source": [
    "THANK YOU FOR GIVING THIS ASSIGNMENT"
   ]
  },
  {
   "cell_type": "code",
   "execution_count": null,
   "id": "114f88b8-2946-44b6-b26d-a4885e76b38f",
   "metadata": {},
   "outputs": [],
   "source": []
  }
 ],
 "metadata": {
  "kernelspec": {
   "display_name": "Python 3 (ipykernel)",
   "language": "python",
   "name": "python3"
  },
  "language_info": {
   "codemirror_mode": {
    "name": "ipython",
    "version": 3
   },
   "file_extension": ".py",
   "mimetype": "text/x-python",
   "name": "python",
   "nbconvert_exporter": "python",
   "pygments_lexer": "ipython3",
   "version": "3.10.8"
  }
 },
 "nbformat": 4,
 "nbformat_minor": 5
}
