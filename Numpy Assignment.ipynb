{
 "cells": [
  {
   "cell_type": "markdown",
   "id": "246de6cb-99ed-4769-9a7c-384208864892",
   "metadata": {},
   "source": [
    "NUMPY ASSIGNMENT - 28-01-2024"
   ]
  },
  {
   "cell_type": "code",
   "execution_count": 29,
   "id": "82f6a3d1-e060-4850-af8d-17535f2551dd",
   "metadata": {},
   "outputs": [
    {
     "name": "stdout",
     "output_type": "stream",
     "text": [
      "A Python library is a collection of pre-written and reusable code that can be imported and used in Python programs. These libraries consist of modules, which are sets of functions and classes that perform specific tasks. Libraries help simplify the development process by providing pre-built functionality, allowing developers to leverage existing code rather than starting from scratch.\n"
     ]
    }
   ],
   "source": [
    "print(\"A Python library is a collection of pre-written and reusable code that can be imported and used in Python programs. These libraries consist of modules, which are sets of functions and classes that perform specific tasks. Libraries help simplify the development process by providing pre-built functionality, allowing developers to leverage existing code rather than starting from scratch.\")"
   ]
  },
  {
   "cell_type": "code",
   "execution_count": 30,
   "id": "b3ef2a52-0cf4-44c5-bf94-32244cb7d8e6",
   "metadata": {},
   "outputs": [
    {
     "name": "stdout",
     "output_type": "stream",
     "text": [
      "Data Type:\n",
      "\n",
      "In a NumPy array, all elements must have the same data type.\n",
      "Lists can contain elements of different data types.\n",
      "      \n",
      "Memory Efficiency:\n",
      "\n",
      "NumPy arrays are more memory efficient compared to lists, especially for large datasets, because they store data in a contiguous block of memory.\n",
      "Lists, being more flexible, may result in higher memory usage due to the overhead of storing type information for each element.\n"
     ]
    }
   ],
   "source": [
    "print('''Data Type:\n",
    "\n",
    "In a NumPy array, all elements must have the same data type.\n",
    "Lists can contain elements of different data types.\n",
    "      \n",
    "Memory Efficiency:\n",
    "\n",
    "NumPy arrays are more memory efficient compared to lists, especially for large datasets, because they store data in a contiguous block of memory.\n",
    "Lists, being more flexible, may result in higher memory usage due to the overhead of storing type information for each element.''')"
   ]
  },
  {
   "cell_type": "code",
   "execution_count": 1,
   "id": "a58a4a89-4e52-4046-8e41-8121cb39533d",
   "metadata": {},
   "outputs": [
    {
     "name": "stdout",
     "output_type": "stream",
     "text": [
      "The shape of the matrix is  (3, 4)\n",
      "The size of the matrix is  12\n",
      "The dimensions of the matrix is  2\n"
     ]
    }
   ],
   "source": [
    "import numpy as np\n",
    "m=np.array([[1,2,3,4],[5,6,7,8],[9,10,11,12]])\n",
    "print(\"The shape of the matrix is \",np.shape(m))\n",
    "print(\"The size of the matrix is \",np.size(m))\n",
    "print(\"The dimensions of the matrix is \",np.ndim(m))"
   ]
  },
  {
   "cell_type": "code",
   "execution_count": 10,
   "id": "8c39689c-1f9e-4fb5-b20f-0479bcde8de0",
   "metadata": {},
   "outputs": [
    {
     "name": "stdout",
     "output_type": "stream",
     "text": [
      "[1 2 3 4]\n"
     ]
    }
   ],
   "source": [
    "m=np.array([[1,2,3,4],[5,6,7,8],[9,10,11,12]])\n",
    "print(m[0, :])"
   ]
  },
  {
   "cell_type": "code",
   "execution_count": 9,
   "id": "e706af6a-fd84-40a7-82f6-63c71badcb5d",
   "metadata": {},
   "outputs": [
    {
     "name": "stdout",
     "output_type": "stream",
     "text": [
      "12\n"
     ]
    }
   ],
   "source": [
    "m=np.array([[1,2,3,4],[5,6,7,8],[9,10,11,12]])\n",
    "print(m[2, 3])"
   ]
  },
  {
   "cell_type": "code",
   "execution_count": 12,
   "id": "dc066be4-3e7c-4681-8823-55c1b0f71c3f",
   "metadata": {},
   "outputs": [
    {
     "name": "stdout",
     "output_type": "stream",
     "text": [
      "[[ 2  4]\n",
      " [ 6  8]\n",
      " [10 12]]\n"
     ]
    }
   ],
   "source": [
    "m=np.array([[1,2,3,4],[5,6,7,8],[9,10,11,12]])\n",
    "print(m[:, 1::2])"
   ]
  },
  {
   "cell_type": "code",
   "execution_count": 13,
   "id": "2ff429cf-da87-4b2c-88cd-9c74820e1b28",
   "metadata": {},
   "outputs": [
    {
     "name": "stdout",
     "output_type": "stream",
     "text": [
      "[[0.65789488 0.71620994 0.59514406]\n",
      " [0.2830807  0.94049151 0.23992502]\n",
      " [0.58259723 0.17106604 0.27161979]]\n"
     ]
    }
   ],
   "source": [
    "n=np.random.rand(3,3)\n",
    "print(n)"
   ]
  },
  {
   "cell_type": "code",
   "execution_count": 3,
   "id": "256e8bdd-598b-466f-99e0-9fe40e04b51a",
   "metadata": {},
   "outputs": [
    {
     "name": "stdout",
     "output_type": "stream",
     "text": [
      "np.random.rand generates random values from a uniform distribution between 0 and 1, while np.random.randn generates random values from a standard normal distribution with a mean of 0 and a standard deviation of 1.\n"
     ]
    }
   ],
   "source": [
    "print(\"np.random.rand generates random values from a uniform distribution between 0 and 1, while np.random.randn generates random values from a standard normal distribution with a mean of 0 and a standard deviation of 1.\")"
   ]
  },
  {
   "cell_type": "code",
   "execution_count": 5,
   "id": "a5d3b30a-77a0-4382-b1c5-9777af1ae2df",
   "metadata": {},
   "outputs": [
    {
     "name": "stdout",
     "output_type": "stream",
     "text": [
      "[[[ 1]\n",
      "  [ 2]\n",
      "  [ 3]\n",
      "  [ 4]]\n",
      "\n",
      " [[ 5]\n",
      "  [ 6]\n",
      "  [ 7]\n",
      "  [ 8]]\n",
      "\n",
      " [[ 9]\n",
      "  [10]\n",
      "  [11]\n",
      "  [12]]]\n"
     ]
    }
   ],
   "source": [
    "import numpy as np\n",
    "arr = np.array([[1, 2, 3, 4],\n",
    "                          [5, 6, 7, 8],\n",
    "                          [9, 10, 11, 12]])\n",
    "increased_dimension = arr[:, :, np.newaxis]\n",
    "print(increased_dimension)"
   ]
  },
  {
   "cell_type": "code",
   "execution_count": 6,
   "id": "f5f67561-c890-4af4-9719-9ffdc686e5f2",
   "metadata": {},
   "outputs": [
    {
     "name": "stdout",
     "output_type": "stream",
     "text": [
      "[[ 1  5  9]\n",
      " [ 2  6 10]\n",
      " [ 3  7 11]\n",
      " [ 4  8 12]]\n"
     ]
    }
   ],
   "source": [
    "arr = np.array([[1,2,3,4],[5,6,7,8],[9,10,11,12]])\n",
    "tra = np.transpose(arr)\n",
    "print(tra)"
   ]
  },
  {
   "cell_type": "code",
   "execution_count": 22,
   "id": "a2a5766d-d07b-4971-a7de-470901e5f5a7",
   "metadata": {},
   "outputs": [
    {
     "name": "stdout",
     "output_type": "stream",
     "text": [
      "[[1, 4, 9, 16], [25, 36, 49, 64], [81, 100, 121, 144]]\n",
      "[[ 30  70 110]\n",
      " [ 70 174 278]\n",
      " [110 278 446]]\n",
      "[[2, 4, 6, 8], [10, 12, 14, 16], [18, 20, 22, 24]]\n",
      "[[0, 0, 0, 0], [0, 0, 0, 0], [0, 0, 0, 0]]\n",
      "[[1.0, 1.0, 1.0, 1.0], [1.0, 1.0, 1.0, 1.0], [1.0, 1.0, 1.0, 1.0]]\n"
     ]
    }
   ],
   "source": [
    "A = [[1,2,3,4],[5,6,7,8],[9,10,11,12]]\n",
    "B = [[1,2,3,4],[5,6,7,8],[9,10,11,12]]\n",
    "# index wise multiplication.\n",
    "mul = [[i*j for i,j in zip(a,b)] for a,b in zip(A,B)]\n",
    "print(mul)\n",
    "# multiplication matrix\n",
    "mul1 = np.dot(A, np.transpose(B))\n",
    "print(mul1)\n",
    "# Add the both matrix\n",
    "add = [[i+j for i,j in zip(a,b)] for a,b in zip(A,B)]\n",
    "print(add)\n",
    "# Subtract the both matrix\n",
    "sub = [[i-j for i,j in zip(a,b)] for a,b in zip(A,B)]\n",
    "print(sub)\n",
    "# Divide the A from B\n",
    "div = [[b / a if a != 0 else 0 for a, b in zip(row_a, row_b)] for row_a, row_b in zip(A, B)]\n",
    "print(div)"
   ]
  },
  {
   "cell_type": "code",
   "execution_count": 25,
   "id": "535791ce-0684-42e4-819d-43e6435d6c87",
   "metadata": {},
   "outputs": [
    {
     "name": "stdout",
     "output_type": "stream",
     "text": [
      "Swapped Array: [16777216 33554432 50331648 67108864]\n"
     ]
    }
   ],
   "source": [
    "import numpy as np\n",
    "arr = np.array([1, 2, 3, 4], dtype=np.int32)\n",
    "swap_arr = arr.byteswap()\n",
    "print(\"Swapped Array:\", swap_arr)"
   ]
  },
  {
   "cell_type": "code",
   "execution_count": 26,
   "id": "48fa8d5d-5635-4ca6-977b-5d734b850957",
   "metadata": {},
   "outputs": [
    {
     "name": "stdout",
     "output_type": "stream",
     "text": [
      "The np.linalg.inv function in Python, provided by the NumPy library, is used to compute the (multiplicative) inverse of a matrix. In linear algebra, the inverse of a matrix is a matrix that, when multiplied with the original matrix, results in the identity matrix.\n"
     ]
    }
   ],
   "source": [
    "print(\"The np.linalg.inv function in Python, provided by the NumPy library, is used to compute the (multiplicative) inverse of a matrix. In linear algebra, the inverse of a matrix is a matrix that, when multiplied with the original matrix, results in the identity matrix.\")"
   ]
  },
  {
   "cell_type": "code",
   "execution_count": 27,
   "id": "704a837e-b156-42a6-b616-9de6d8cc6b31",
   "metadata": {},
   "outputs": [
    {
     "name": "stdout",
     "output_type": "stream",
     "text": [
      "The np.reshape function in NumPy is used to change the shape of an array. It allows you to rearrange the elements of an array into a new shape without changing their values.\n"
     ]
    }
   ],
   "source": [
    "print(\"The np.reshape function in NumPy is used to change the shape of an array. It allows you to rearrange the elements of an array into a new shape without changing their values.\")"
   ]
  },
  {
   "cell_type": "code",
   "execution_count": 28,
   "id": "5b83818a-7658-4eab-9036-a0eff36a8443",
   "metadata": {},
   "outputs": [
    {
     "name": "stdout",
     "output_type": "stream",
     "text": [
      "NumPy broadcasting refers to the ability of arrays with different shapes to be combined or operated upon element-wise. NumPy automatically broadcasts arrays when performing operations, allowing you to perform calculations on arrays of different shapes and sizes without explicitly reshaping them.\n"
     ]
    }
   ],
   "source": [
    "print(\"NumPy broadcasting refers to the ability of arrays with different shapes to be combined or operated upon element-wise. NumPy automatically broadcasts arrays when performing operations, allowing you to perform calculations on arrays of different shapes and sizes without explicitly reshaping them.\")"
   ]
  },
  {
   "cell_type": "markdown",
   "id": "7fc9952e-e1fd-4d47-aea8-772d21c8759e",
   "metadata": {},
   "source": [
    "THANK YOU FOR GIVING THIS ASSIGNMENT"
   ]
  },
  {
   "cell_type": "code",
   "execution_count": null,
   "id": "6e69a9b6-9807-496c-b64e-efcc998479fd",
   "metadata": {},
   "outputs": [],
   "source": []
  }
 ],
 "metadata": {
  "kernelspec": {
   "display_name": "Python 3 (ipykernel)",
   "language": "python",
   "name": "python3"
  },
  "language_info": {
   "codemirror_mode": {
    "name": "ipython",
    "version": 3
   },
   "file_extension": ".py",
   "mimetype": "text/x-python",
   "name": "python",
   "nbconvert_exporter": "python",
   "pygments_lexer": "ipython3",
   "version": "3.10.8"
  }
 },
 "nbformat": 4,
 "nbformat_minor": 5
}
