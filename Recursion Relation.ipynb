{
 "cells": [
  {
   "cell_type": "markdown",
   "id": "493a8050-0a62-40d5-a2e9-e2a30d0a3cc0",
   "metadata": {},
   "source": [
    "Recursion Relation--24/11/2023"
   ]
  },
  {
   "cell_type": "code",
   "execution_count": 2,
   "id": "da2bd3c3-575e-496d-8cfa-5fd34f6eb7b5",
   "metadata": {},
   "outputs": [
    {
     "name": "stdout",
     "output_type": "stream",
     "text": [
      "T(n)=3T(n-1)+12n\n",
      "To find T(2) first we have to T(1).\n",
      "\n",
      "=>T(1)=3T(1-1)+12(1)\n",
      "  T(1)=3T(0)+12--( 1 )\n",
      "  We know that T(0)=5, substitute this value in eq(1)\n",
      "  T(1)=3(5)+12\n",
      "  T(1)=15+12\n",
      "  __T(1)=27__\n",
      "\n",
      "=>T(2)=3T(2-1)+12(2)\n",
      "  T(2)=3T(1)+24--( 2 )\n",
      "  We know that T(1)=27, substitute this value in eq(2)\n",
      "  T(2)=3(27)+24\n",
      "  T(2)=81+24\n",
      "  __T(2)=105__\n",
      "  \n",
      "  The value of T(2) is 105.\n"
     ]
    }
   ],
   "source": [
    "print('''T(n)=3T(n-1)+12n\n",
    "To find T(2) first we have to T(1).\n",
    "\n",
    "=>T(1)=3T(1-1)+12(1)\n",
    "  T(1)=3T(0)+12--( 1 )\n",
    "  We know that T(0)=5, substitute this value in eq(1)\n",
    "  T(1)=3(5)+12\n",
    "  T(1)=15+12\n",
    "  __T(1)=27__\n",
    "\n",
    "=>T(2)=3T(2-1)+12(2)\n",
    "  T(2)=3T(1)+24--( 2 )\n",
    "  We know that T(1)=27, substitute this value in eq(2)\n",
    "  T(2)=3(27)+24\n",
    "  T(2)=81+24\n",
    "  __T(2)=105__\n",
    "  \n",
    "  The value of T(2) is 105.''')"
   ]
  },
  {
   "cell_type": "code",
   "execution_count": 3,
   "id": "45eb51bb-1d76-4ba4-b963-9269be66c19c",
   "metadata": {},
   "outputs": [
    {
     "name": "stdout",
     "output_type": "stream",
     "text": [
      "T(n)=T(n-1)+c--( 1 )\n",
      "When we substitute (n-1) in n.\n",
      "T(n-1)=T(n-1-1)+c\n",
      "T(n-1)=T(n-2)+c--( 2 )\n",
      "Substitute eq(2) in eq(1).\n",
      "T(n)=T(T(n-2)+c)+c\n",
      "T(n)=T(n-2)+2c--( 3 )\n",
      "T(n)=T(n-3)+3c--( 4 )\n",
      "After repeating k steps.\n",
      "T(n)=T(n-k)+kc--( 5 )\n",
      "When n-k=0 and n=k.\n",
      "T(n)=T(0)+nc\n",
      "\n",
      "So, the final recursion relation for T(n)=T(n-1)+c is T(n)=T0+nc. Where T0 is initial value at n=0.\n"
     ]
    }
   ],
   "source": [
    "print('''T(n)=T(n-1)+c--( 1 )\n",
    "When we substitute (n-1) in n.\n",
    "T(n-1)=T(n-1-1)+c\n",
    "T(n-1)=T(n-2)+c--( 2 )\n",
    "Substitute eq(2) in eq(1).\n",
    "T(n)=T(T(n-2)+c)+c\n",
    "T(n)=T(n-2)+2c--( 3 )\n",
    "T(n)=T(n-3)+3c--( 4 )\n",
    "After repeating k steps.\n",
    "T(n)=T(n-k)+kc--( 5 )\n",
    "When n-k=0 and n=k.\n",
    "T(n)=T(0)+nc\n",
    "\n",
    "So, the final recursion relation for T(n)=T(n-1)+c is T(n)=T0+nc. Where T0 is initial value at n=0.''')"
   ]
  },
  {
   "cell_type": "code",
   "execution_count": 4,
   "id": "d0693975-b52e-4486-9066-a43ba2b4491f",
   "metadata": {},
   "outputs": [
    {
     "name": "stdout",
     "output_type": "stream",
     "text": [
      "T(n)=2T(n/2)+n\n",
      "Assume T(n)=f(n).\n",
      "f(n)=2f(n/2)+1\n",
      "Divide both sides with n.\n",
      "f(n)/n=(2f(n/2)/n)+1\n",
      "Divide both sides with 2.\n",
      "f(n)/2n=(f(n/2)/n)+1/2\n",
      "f(n)/n=(f(n/2)/n/2)+1/2\n",
      "Consider 1/2 as a constant.\n",
      "We conclude that T(n)=f(n).\n",
      "\n",
      "The solution is T(n)=nlog(n).\n"
     ]
    }
   ],
   "source": [
    "print('''T(n)=2T(n/2)+n\n",
    "Assume T(n)=f(n).\n",
    "f(n)=2f(n/2)+1\n",
    "Divide both sides with n.\n",
    "f(n)/n=(2f(n/2)/n)+1\n",
    "Divide both sides with 2.\n",
    "f(n)/2n=(f(n/2)/n)+1/2\n",
    "f(n)/n=(f(n/2)/n/2)+1/2\n",
    "Consider 1/2 as a constant.\n",
    "We conclude that T(n)=f(n).\n",
    "\n",
    "The solution is T(n)=nlog(n).''')"
   ]
  },
  {
   "cell_type": "code",
   "execution_count": 3,
   "id": "d5dff1bc-3cf0-4995-9f84-f43d18807fe4",
   "metadata": {},
   "outputs": [
    {
     "name": "stdout",
     "output_type": "stream",
     "text": [
      "T(n)=2T(n/2)+c--( 1 )\n",
      "T(n)=2^2T(n/2^2)+2c--( 2 )\n",
      "T(n)=2^3T(n/2^3)+3c--( 3 )\n",
      "After continuousely do k times.\n",
      "T(n)=2^kT(n/2^k)+nc--( 4 )\n",
      "n/2^k=2, n=2^k+1\n",
      "log(n)=log(2^k+1)\n",
      "k+1=log2(n)\n",
      "2^k+n-2\n",
      "2^k=n/2\n",
      "n/2+n-2\n",
      "3n/2-2\n",
      "O(n)\n"
     ]
    }
   ],
   "source": [
    "print('''T(n)=2T(n/2)+c--( 1 )\n",
    "T(n)=2^2T(n/2^2)+2c--( 2 )\n",
    "T(n)=2^3T(n/2^3)+3c--( 3 )\n",
    "After continuousely do k times.\n",
    "T(n)=2^kT(n/2^k)+nc--( 4 )\n",
    "n/2^k=2, n=2^k+1\n",
    "log(n)=log(2^k+1)\n",
    "k+1=log2(n)\n",
    "2^k+n-2\n",
    "2^k=n/2\n",
    "n/2+n-2\n",
    "3n/2-2\n",
    "O(n)''')"
   ]
  },
  {
   "cell_type": "code",
   "execution_count": 1,
   "id": "6a4c8214-bc7e-4d0a-9e2b-e899200eb7ea",
   "metadata": {},
   "outputs": [
    {
     "name": "stdout",
     "output_type": "stream",
     "text": [
      "T(n)=2T(n-1)+1--( 1 )\n",
      "When we substitute n-1 in n.\n",
      "T(n-1)=2T(n-2)+1--( 2 )\n",
      "substitute eq(2) in eq(1).\n",
      "If we do continuesly like this in k times.\n",
      "we get  1,2,2^2,2^3,2^4,...,2^n\n",
      "This is geometric series.\n",
      "The formula for  geametric series is a,ar,ar^2,ar^3,ar^4,.....,ar^n=a((r^k+1)-1/(r-1))\n",
      "In our series a=1, r=2\n",
      "(2^k+1)-1\n",
      "We know n-k=0,n=k\n",
      "(2^n+1)-1\n",
      "Finally I am concluding that O(2^n).\n"
     ]
    }
   ],
   "source": [
    "print('''T(n)=2T(n-1)+1--( 1 )\n",
    "When we substitute n-1 in n.\n",
    "T(n-1)=2T(n-2)+1--( 2 )\n",
    "substitute eq(2) in eq(1).\n",
    "If we do continuesly like this in k times.\n",
    "we get  1,2,2^2,2^3,2^4,...,2^n\n",
    "This is geometric series.\n",
    "The formula for  geametric series is a,ar,ar^2,ar^3,ar^4,.....,ar^n=a((r^k+1)-1/(r-1))\n",
    "In our series a=1, r=2\n",
    "(2^k+1)-1\n",
    "We know n-k=0,n=k\n",
    "(2^n+1)-1\n",
    "Finally I am concluding that O(2^n).''')"
   ]
  },
  {
   "cell_type": "code",
   "execution_count": 2,
   "id": "f0698d74-ebe4-45ed-9f6d-32f39ae470b7",
   "metadata": {},
   "outputs": [
    {
     "name": "stdout",
     "output_type": "stream",
     "text": [
      "T(n)=2T(n/2)+cn\n",
      "T(n)=T(n/2)+T(n/2)+cn\n",
      "n-->n/2 , n/2\n",
      "n/2 , n/2-->n/2^2 n/2^2 , n/2^2 n/2^2\n",
      "After continously doing this k times it will become.\n",
      "n/2^k n/2^k n/2^k n/2^k.....n/2^k\n",
      "k.cn\n",
      "n/2^k=1, n=2^k, k=log(n)\n",
      "log(n).cn\n",
      "O(nlogn)\n"
     ]
    }
   ],
   "source": [
    "print('''T(n)=2T(n/2)+cn\n",
    "T(n)=T(n/2)+T(n/2)+cn\n",
    "n-->n/2 , n/2\n",
    "n/2 , n/2-->n/2^2 n/2^2 , n/2^2 n/2^2\n",
    "After continously doing this k times it will become.\n",
    "n/2^k n/2^k n/2^k n/2^k.....n/2^k\n",
    "k.cn\n",
    "n/2^k=1, n=2^k, k=log(n)\n",
    "log(n).cn\n",
    "O(nlogn)''')"
   ]
  },
  {
   "cell_type": "markdown",
   "id": "5349f953-4b4d-4b7a-ac77-a20325140d9f",
   "metadata": {},
   "source": [
    "Thank you for giving this assignment"
   ]
  },
  {
   "cell_type": "code",
   "execution_count": null,
   "id": "5be07518-4e44-4e2e-b32c-913a29494cb3",
   "metadata": {},
   "outputs": [],
   "source": []
  }
 ],
 "metadata": {
  "kernelspec": {
   "display_name": "Python 3 (ipykernel)",
   "language": "python",
   "name": "python3"
  },
  "language_info": {
   "codemirror_mode": {
    "name": "ipython",
    "version": 3
   },
   "file_extension": ".py",
   "mimetype": "text/x-python",
   "name": "python",
   "nbconvert_exporter": "python",
   "pygments_lexer": "ipython3",
   "version": "3.10.8"
  }
 },
 "nbformat": 4,
 "nbformat_minor": 5
}
