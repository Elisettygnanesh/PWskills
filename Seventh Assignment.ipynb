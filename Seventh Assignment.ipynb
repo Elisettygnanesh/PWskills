{
 "cells": [
  {
   "cell_type": "markdown",
   "id": "be6aacf2-6a22-423b-836a-b78cbf4c16db",
   "metadata": {},
   "source": [
    "21-10-2023, OOPS"
   ]
  },
  {
   "cell_type": "markdown",
   "id": "8666a6ea-aaa9-455c-8151-177ac19944fc",
   "metadata": {},
   "source": [
    "CONSTRUCTOR"
   ]
  },
  {
   "cell_type": "code",
   "execution_count": 8,
   "id": "dee46273-3238-47ea-9f4a-899fb3e9d39a",
   "metadata": {},
   "outputs": [
    {
     "name": "stdout",
     "output_type": "stream",
     "text": [
      "The constuctor is used to assign or initialize values to the class arguments and it cannot return values.\n"
     ]
    }
   ],
   "source": [
    "print(\"The constuctor is used to assign or initialize values to the class arguments and it cannot return values.\")"
   ]
  },
  {
   "cell_type": "code",
   "execution_count": 9,
   "id": "ebef1c22-9ccb-49a8-82a2-a1ffc535e5e4",
   "metadata": {},
   "outputs": [
    {
     "name": "stdout",
     "output_type": "stream",
     "text": [
      "            The parameterless constructor does not take any arguments.\n",
      "Example:\n",
      "\n",
      "class name():\n",
      "   def __init__(self):\n",
      "      print('My name is Gnanesh')\n",
      "\n",
      "           The parameterized constructor does take arguments.\n",
      "Example:\n",
      "\n",
      "class name():\n",
      "   def __init__(self,name):\n",
      "      print('My name is ',name)\n"
     ]
    }
   ],
   "source": [
    "print(\"            The parameterless constructor does not take any arguments.\")\n",
    "print(\"Example:\\n\\nclass name():\\n   def __init__(self):\\n      print('My name is Gnanesh')\")\n",
    "print(\"\\n           The parameterized constructor does take arguments.\")\n",
    "print(\"Example:\\n\\nclass name():\\n   def __init__(self,name):\\n      print('My name is ',name)\")"
   ]
  },
  {
   "cell_type": "code",
   "execution_count": 13,
   "id": "3f15a4b1-88db-430d-9b53-326fa4ccb175",
   "metadata": {},
   "outputs": [
    {
     "name": "stdout",
     "output_type": "stream",
     "text": [
      "The constructor is used to initialize instance members of the class. The name of the constructor is __init__.\n",
      "\n",
      "Example:\n",
      "\n",
      "class add():\n",
      "  def __init__(self,a,b):\n",
      "    return a+b\n"
     ]
    }
   ],
   "source": [
    "print(\"The constructor is used to initialize instance members of the class. The name of the constructor is __init__.\")\n",
    "print('\\nExample:\\n\\nclass add():\\n  def __init__(self,a,b):\\n    return a+b')"
   ]
  },
  {
   "cell_type": "code",
   "execution_count": 1,
   "id": "6916de08-5bc1-46d9-9d82-1ecad3a54dd0",
   "metadata": {},
   "outputs": [
    {
     "name": "stdout",
     "output_type": "stream",
     "text": [
      "Everytime the __init__ function is created with the class.\n",
      "This __init__ method initialize variables of object. It is used only within classes.\n"
     ]
    }
   ],
   "source": [
    "print('Everytime the __init__ function is created with the class.\\nThis __init__ method initialize variables of object. It is used only within classes.')"
   ]
  },
  {
   "cell_type": "code",
   "execution_count": 4,
   "id": "7b0404fe-222b-4359-8cc6-3ccd9d7c5d24",
   "metadata": {},
   "outputs": [
    {
     "name": "stdout",
     "output_type": "stream",
     "text": [
      "The person name is Gnanesh and age is 22.\n"
     ]
    }
   ],
   "source": [
    "class Person:\n",
    "    def __init__(self,name,age):\n",
    "        print(f\"The person name is {name} and age is {age}.\")\n",
    "p=Person('Gnanesh',22)"
   ]
  },
  {
   "cell_type": "code",
   "execution_count": 2,
   "id": "db12b832-fb58-4c8d-b609-95e74839b577",
   "metadata": {},
   "outputs": [
    {
     "name": "stdout",
     "output_type": "stream",
     "text": [
      "By using super() keyword we can call constructor explicitly.\n",
      "\n",
      "Example\n",
      "\n",
      "class vehical:\n",
      "  def __init__(self,name):\n",
      "  self.name=name\n",
      "class car(vehicle):\n",
      "  def __init__(self,name,wheels):\n",
      "  super().__init__(name)\n",
      "  self.wheels=wheels\n",
      "v=car('BMW',4)\n"
     ]
    }
   ],
   "source": [
    "print(\"By using super() keyword we can call constructor explicitly.\\n\\nExample\\n\")\n",
    "print(\"class vehical:\\n  def __init__(self,name):\\n  self.name=name\\nclass car(vehicle):\\n  def __init__(self,name,wheels):\\n  super().__init__(name)\\n  self.wheels=wheels\\nv=car('BMW',4)\")"
   ]
  },
  {
   "cell_type": "code",
   "execution_count": 4,
   "id": "7b2b2b84-9ab0-4efd-9ee4-58cbc3fd2ba5",
   "metadata": {},
   "outputs": [
    {
     "name": "stdout",
     "output_type": "stream",
     "text": [
      "By using self we can access attributes and methods of class.\n",
      "The self represents the instance of the class\n"
     ]
    }
   ],
   "source": [
    "print(\"By using self we can access attributes and methods of class.\\nThe self represents the instance of the class\")"
   ]
  },
  {
   "cell_type": "code",
   "execution_count": 6,
   "id": "95d51207-a9f8-4a0c-86bc-aa0f7b251ecb",
   "metadata": {},
   "outputs": [
    {
     "name": "stdout",
     "output_type": "stream",
     "text": [
      "A default constructor is constructor which takes no arguments.\n",
      "It is used create object with default values for it's attributes.\n",
      "When there is no user defined constructor exists for a class then compiler implicity declares a default constructor.\n"
     ]
    }
   ],
   "source": [
    "print(\"A default constructor is constructor which takes no arguments.\\nIt is used create object with default values for it's attributes.\")\n",
    "print(\"When there is no user defined constructor exists for a class then compiler implicity declares a default constructor.\")"
   ]
  },
  {
   "cell_type": "code",
   "execution_count": 7,
   "id": "5a59d433-6767-4969-8f0e-f92a5d21d384",
   "metadata": {},
   "outputs": [
    {
     "name": "stdout",
     "output_type": "stream",
     "text": [
      "The area of rectangle is 24\n"
     ]
    }
   ],
   "source": [
    "class rectangle:\n",
    "    def __init__(self,width,height):\n",
    "        a=width*height\n",
    "        print(f\"The area of rectangle is {a}\")\n",
    "r=rectangle(4,6)"
   ]
  },
  {
   "cell_type": "code",
   "execution_count": 5,
   "id": "467db6d5-24fc-424f-b89c-06d7b40d2908",
   "metadata": {},
   "outputs": [
    {
     "name": "stdout",
     "output_type": "stream",
     "text": [
      "We can use multiple constructors with different arguments in a class.\n",
      "It will allow us to call class constructor in different ways and get different each time.\n",
      "\n",
      "Example\n",
      "\n",
      "class person:\n",
      "  def __init__(self,name,age):\n",
      "     self.name=name\n",
      "     self.age=age\n",
      "  def __init__(self,name):\n",
      "     self.name=name\n",
      "     self.age=age\n",
      "  def details(self):\n",
      "     print(f\"My name is {self.name} and age is {self.age}.\")\n",
      "p1=person('Gnanesh',22)\n",
      "p1.details()\n"
     ]
    }
   ],
   "source": [
    "print(\"We can use multiple constructors with different arguments in a class.\\nIt will allow us to call class constructor in different ways and get different each time.\")\n",
    "print('''\\nExample\\n\\nclass person:\n",
    "  def __init__(self,name,age):\n",
    "     self.name=name\n",
    "     self.age=age\n",
    "  def __init__(self,name):\n",
    "     self.name=name\n",
    "     self.age=age\n",
    "  def details(self):\n",
    "     print(f\"My name is {self.name} and age is {self.age}.\")\n",
    "p1=person('Gnanesh',22)\n",
    "p1.details()''')"
   ]
  },
  {
   "cell_type": "code",
   "execution_count": 7,
   "id": "ac708cd9-bca9-45b4-b6ba-6b9a6d05541e",
   "metadata": {},
   "outputs": [
    {
     "name": "stdout",
     "output_type": "stream",
     "text": [
      "When class contains more than one methods with same name and different parameters is called method overloading.\n",
      "The multiple constuctors having same name is comes under method overloading.\n"
     ]
    }
   ],
   "source": [
    "print(\"When class contains more than one methods with same name and different parameters is called method overloading.\")\n",
    "print(\"The multiple constuctors having same name is comes under method overloading.\")"
   ]
  },
  {
   "cell_type": "code",
   "execution_count": 10,
   "id": "641c1a95-b7b3-4d79-b4e0-c1f0f6dbf564",
   "metadata": {},
   "outputs": [
    {
     "name": "stdout",
     "output_type": "stream",
     "text": [
      "The super() function refers the parent class. It allows us to call methods from parent class to child class.\n",
      "\n",
      "Example\n",
      "\n",
      "class vehical:\n",
      "  def __init__(self,name):\n",
      "  self.name=name\n",
      "class car(vehicle):\n",
      "  def __init__(self,name,wheels):\n",
      "  super().__init__(name)\n",
      "  self.wheels=wheels\n",
      "v=car('BMW',4)\n"
     ]
    }
   ],
   "source": [
    "print(\"The super() function refers the parent class. It allows us to call methods from parent class to child class.\\n\\nExample\\n\")\n",
    "print(\"class vehical:\\n  def __init__(self,name):\\n  self.name=name\\nclass car(vehicle):\\n  def __init__(self,name,wheels):\\n  super().__init__(name)\\n  self.wheels=wheels\\nv=car('BMW',4)\")"
   ]
  },
  {
   "cell_type": "code",
   "execution_count": 1,
   "id": "863c01a3-48f1-4e78-90f4-3d328e6ca3b2",
   "metadata": {},
   "outputs": [],
   "source": [
    "class Book:\n",
    "    def __init__(self,title,author,published_year):\n",
    "        self.title=title\n",
    "        self.author=author\n",
    "        self.published_year=published_year\n",
    "    def book_details(self):\n",
    "        print(f\"The title of the book is {self.title}.\")\n",
    "        print(f\"The author of the book is {self.author}.\")\n",
    "        print(f\"The book published in {self.published_year}.\")"
   ]
  },
  {
   "cell_type": "code",
   "execution_count": 2,
   "id": "575ddbdb-4ab1-47e1-aab0-1eae3516c4ff",
   "metadata": {},
   "outputs": [
    {
     "name": "stdout",
     "output_type": "stream",
     "text": [
      "The title of the book is Harry Potter.\n",
      "The author of the book is J K Rowling.\n",
      "The book published in 2016.\n"
     ]
    }
   ],
   "source": [
    "b=Book('Harry Potter','J K Rowling',2016)\n",
    "b.book_details()"
   ]
  },
  {
   "cell_type": "code",
   "execution_count": 5,
   "id": "3bd566cd-87ef-4597-a3e9-63446bd7db5b",
   "metadata": {},
   "outputs": [
    {
     "name": "stdout",
     "output_type": "stream",
     "text": [
      "A constructor is used to initialize the newly created object and initialize values to the parameters.\n",
      "A method having a group of statements which return values upon it's execution.\n"
     ]
    }
   ],
   "source": [
    "print(\"A constructor is used to initialize the newly created object and initialize values to the parameters.\")\n",
    "print(\"A method having a group of statements which return values upon it's execution.\")"
   ]
  },
  {
   "cell_type": "code",
   "execution_count": 6,
   "id": "95f1ca55-2bc5-4862-b785-cede1b5103bd",
   "metadata": {},
   "outputs": [
    {
     "name": "stdout",
     "output_type": "stream",
     "text": [
      "In constructor self is used to initialize instance variables with values passed as arguments.\n",
      "In method self is used to access and print the values of variables.\n"
     ]
    }
   ],
   "source": [
    "print(\"In constructor self is used to initialize instance variables with values passed as arguments.\")\n",
    "print(\"In method self is used to access and print the values of variables.\")"
   ]
  },
  {
   "cell_type": "code",
   "execution_count": 1,
   "id": "c86c4ae0-91cd-4b34-b7bb-eb633d86054b",
   "metadata": {},
   "outputs": [
    {
     "name": "stdout",
     "output_type": "stream",
     "text": [
      "['Telugu', 'English', 'Maths']\n"
     ]
    }
   ],
   "source": [
    "class Student:\n",
    "    def __init__(self,subjects):\n",
    "        self.subjects=subjects\n",
    "        \n",
    "s=Student(['Telugu','English','Maths'])\n",
    "print(s.subjects)"
   ]
  },
  {
   "cell_type": "code",
   "execution_count": 3,
   "id": "5c221704-ad8e-40d6-a3d9-aa999f504f35",
   "metadata": {},
   "outputs": [
    {
     "name": "stdout",
     "output_type": "stream",
     "text": [
      "The __del__ method in Python classes is called when an object is about to be deleted.\n",
      "The __del__() method is referred to as a destructor method.\n",
      "\n",
      "Example:-\n",
      "   class MyClass:\n",
      "    def __init__(self):\n",
      "        print(\"MyClass object created\")\n",
      "        self.file = open(\"my_file.txt\", \"w\")\n",
      "\n",
      "    def __del__(self):\n",
      "        print(\"MyClass object deleted\")\n",
      "        self.file.close()\n"
     ]
    }
   ],
   "source": [
    "print(\"The __del__ method in Python classes is called when an object is about to be deleted.\\nThe __del__() method is referred to as a destructor method.\")\n",
    "print('''\\nExample:-\n",
    "   class MyClass:\n",
    "    def __init__(self):\n",
    "        print(\"MyClass object created\")\n",
    "        self.file = open(\"my_file.txt\", \"w\")\n",
    "\n",
    "    def __del__(self):\n",
    "        print(\"MyClass object deleted\")\n",
    "        self.file.close()''')"
   ]
  },
  {
   "cell_type": "code",
   "execution_count": 4,
   "id": "fcc4b240-cddf-4480-9a4a-2f567ddf4033",
   "metadata": {},
   "outputs": [
    {
     "name": "stdout",
     "output_type": "stream",
     "text": [
      "The constructor is to assign value to data members when an object of the class is created.\n",
      "Constructor chaining is the process of calling one constructor from another constructor.\n",
      "\n",
      "Example:-\n",
      "class Animal:\n",
      "    def __init__(self, name):\n",
      "        self.name = name\n",
      "    def make_sound(self):\n",
      "        raise NotImplementedError\n",
      "\n",
      "class Dog(Animal):\n",
      "    def __init__(self, name, breed):\n",
      "        super().__init__(name)\n",
      "        self.breed = breed\n",
      "    def make_sound(self):\n",
      "        return \"Woof!\"\n",
      "\n",
      "class Cat(Animal):\n",
      "    def __init__(self, name, breed):\n",
      "        super().__init__(name)\n",
      "        self.breed = breed\n",
      "    def make_sound(self):\n",
      "        return \"Meow!\"\n",
      "dog = Dog(\"Fido\", \"Golden Retriever\")\n",
      "cat = Cat(\"Garfield\", \"Persian\")\n"
     ]
    }
   ],
   "source": [
    "print(\"The constructor is to assign value to data members when an object of the class is created.\\nConstructor chaining is the process of calling one constructor from another constructor.\")\n",
    "print('''\\nExample:-\n",
    "class Animal:\n",
    "    def __init__(self, name):\n",
    "        self.name = name\n",
    "    def make_sound(self):\n",
    "        raise NotImplementedError\n",
    "\n",
    "class Dog(Animal):\n",
    "    def __init__(self, name, breed):\n",
    "        super().__init__(name)\n",
    "        self.breed = breed\n",
    "    def make_sound(self):\n",
    "        return \"Woof!\"\n",
    "\n",
    "class Cat(Animal):\n",
    "    def __init__(self, name, breed):\n",
    "        super().__init__(name)\n",
    "        self.breed = breed\n",
    "    def make_sound(self):\n",
    "        return \"Meow!\"\n",
    "dog = Dog(\"Fido\", \"Golden Retriever\")\n",
    "cat = Cat(\"Garfield\", \"Persian\")''')"
   ]
  },
  {
   "cell_type": "code",
   "execution_count": 5,
   "id": "d0e48d78-8e75-461f-a102-d0f04f40b16e",
   "metadata": {},
   "outputs": [
    {
     "name": "stdout",
     "output_type": "stream",
     "text": [
      "The car make is BMW.\n",
      "The car model is BMW X5.\n"
     ]
    }
   ],
   "source": [
    "class Car:\n",
    "    def __init__(self,make,model):\n",
    "        self.make=make\n",
    "        self.model=model\n",
    "    def car_details(self):\n",
    "        print(f\"The car make is {self.make}.\")\n",
    "        print(f\"The car model is {self.model}.\")\n",
    "        \n",
    "c=Car('BMW','BMW X5')\n",
    "c.car_details()"
   ]
  },
  {
   "cell_type": "markdown",
   "id": "4ee0c81b-2e8b-4785-a455-a7340d69e5eb",
   "metadata": {},
   "source": [
    "INHERITANCE"
   ]
  },
  {
   "cell_type": "code",
   "execution_count": 6,
   "id": "7033b357-f752-4849-99fa-dd0272fa4561",
   "metadata": {},
   "outputs": [
    {
     "name": "stdout",
     "output_type": "stream",
     "text": [
      "The Inheritance allows a class to inherit the properties and methods of another class.\n",
      "It allows for code reuse and helps to create organized code.\n"
     ]
    }
   ],
   "source": [
    "print(\"The Inheritance allows a class to inherit the properties and methods of another class.\\nIt allows for code reuse and helps to create organized code.\")"
   ]
  },
  {
   "cell_type": "code",
   "execution_count": 9,
   "id": "e218e306-64a8-4d62-a6a4-69630eeddaac",
   "metadata": {},
   "outputs": [
    {
     "name": "stdout",
     "output_type": "stream",
     "text": [
      "In single inheritance, a class can only inherit to one parent class, while in multiple inheritance, a class can inherit to multiple parent classes.\n",
      "\n",
      "_______Single Inheritance Example:-\n",
      "class Animal:\n",
      "    def speak(self):\n",
      "        print(\"Animal Speaking\")\n",
      "class Dog(Animal):\n",
      "    def bark(self):\n",
      "        print(\"dog barking\")\n",
      "dog = Dog()\n",
      "dog.speak()\n",
      "\n",
      "_______Multiple Inheritance Example:-\n",
      "class Animal:\n",
      "    def speak(self):\n",
      "        print(\"Animal Speaking\")\n",
      "class Dog(Animal):\n",
      "    def bark(self):\n",
      "        print(\"dog barking\")\n",
      "class Cat(Animal):\n",
      "    def meow(self):\n",
      "        print(\"cat meowing\")\n",
      "cat = Cat()\n",
      "cat.speak() \n"
     ]
    }
   ],
   "source": [
    "print(\"In single inheritance, a class can only inherit to one parent class, while in multiple inheritance, a class can inherit to multiple parent classes.\")\n",
    "print('''\\n_______Single Inheritance Example:-\n",
    "class Animal:\n",
    "    def speak(self):\n",
    "        print(\"Animal Speaking\")\n",
    "class Dog(Animal):\n",
    "    def bark(self):\n",
    "        print(\"dog barking\")\n",
    "dog = Dog()\n",
    "dog.speak()''')\n",
    "print('''\\n_______Multiple Inheritance Example:-\n",
    "class Animal:\n",
    "    def speak(self):\n",
    "        print(\"Animal Speaking\")\n",
    "class Dog(Animal):\n",
    "    def bark(self):\n",
    "        print(\"dog barking\")\n",
    "class Cat(Animal):\n",
    "    def meow(self):\n",
    "        print(\"cat meowing\")\n",
    "cat = Cat()\n",
    "cat.speak() ''')"
   ]
  },
  {
   "cell_type": "code",
   "execution_count": 10,
   "id": "27d39a06-c01b-433e-aaae-058268706ebb",
   "metadata": {},
   "outputs": [
    {
     "name": "stdout",
     "output_type": "stream",
     "text": [
      "Red\n",
      "220\n",
      "Benz\n"
     ]
    }
   ],
   "source": [
    "class Vehicle:\n",
    "    def __init__(self,color,speed):\n",
    "        self.color=color\n",
    "        self.speed=speed\n",
    "class Car(Vehicle):\n",
    "    def __init__(self,color,speed,brand):\n",
    "        super().__init__(color,speed)\n",
    "        self.brand=brand\n",
    "        \n",
    "c=Car('Red','220','Benz')\n",
    "print(c.color)\n",
    "print(c.speed)\n",
    "print(c.brand)"
   ]
  },
  {
   "cell_type": "code",
   "execution_count": 11,
   "id": "211395d7-2af4-4083-b01b-785c50b67934",
   "metadata": {},
   "outputs": [
    {
     "name": "stdout",
     "output_type": "stream",
     "text": [
      "The method overriding means in the child class having a method with the same name of a method in the parent class.\n",
      "When we call method from each class the ouput will be different.\n",
      "\n",
      "Example:-\n",
      "class Animal:\n",
      "    def speak(self):\n",
      "        print(\"Animals can make sounds.\")\n",
      "class Dog(Animal):\n",
      "    def speak(self):\n",
      "        print(\"Dog barks.\")\n",
      "class Cat(Animal):\n",
      "    def speak(self):\n",
      "        print(\"Cat meows.\")\n",
      "animal = Animal()\n",
      "dog = Dog()\n",
      "cat = Cat()\n",
      "animal.speak()  \n",
      "dog.speak()    \n",
      "cat.speak()\n"
     ]
    }
   ],
   "source": [
    "print(\"The method overriding means in the child class having a method with the same name of a method in the parent class.\\nWhen we call method from each class the ouput will be different.\")\n",
    "print('''\\nExample:-\n",
    "class Animal:\n",
    "    def speak(self):\n",
    "        print(\"Animals can make sounds.\")\n",
    "class Dog(Animal):\n",
    "    def speak(self):\n",
    "        print(\"Dog barks.\")\n",
    "class Cat(Animal):\n",
    "    def speak(self):\n",
    "        print(\"Cat meows.\")\n",
    "animal = Animal()\n",
    "dog = Dog()\n",
    "cat = Cat()\n",
    "animal.speak()  \n",
    "dog.speak()    \n",
    "cat.speak()''')"
   ]
  },
  {
   "cell_type": "code",
   "execution_count": 21,
   "id": "4db73f69-cb1f-4974-b381-27826cbe76a2",
   "metadata": {},
   "outputs": [
    {
     "name": "stdout",
     "output_type": "stream",
     "text": [
      "By using super() function we can return a temporary object of the superclass, which allows us to call its methods.\n",
      "\n",
      "Example:-\n",
      "class Parent:\n",
      "    def __init__(self):\n",
      "        print(\"India is my country.\")\n",
      "class Child(Parent):\n",
      "    def __init__(self):\n",
      "        super().__init__()\n",
      "        print(\"They are total 29 states in India.\")\n",
      "child = Child()\n"
     ]
    }
   ],
   "source": [
    "print(\"By using super() function we can return a temporary object of the superclass, which allows us to call its methods.\")\n",
    "print('''\\nExample:-\n",
    "class Parent:\n",
    "    def __init__(self):\n",
    "        print(\"India is my country.\")\n",
    "class Child(Parent):\n",
    "    def __init__(self):\n",
    "        super().__init__()\n",
    "        print(\"They are total 29 states in India.\")\n",
    "child = Child()''')"
   ]
  },
  {
   "cell_type": "code",
   "execution_count": 20,
   "id": "6dd51ce0-db14-481a-a2d2-fdae736758a1",
   "metadata": {},
   "outputs": [
    {
     "name": "stdout",
     "output_type": "stream",
     "text": [
      "The super() function used when we have to inherits attributes of parent class to child class.\n",
      "\n",
      "Example:-\n",
      "class Animal:\n",
      "    def __init__(self, name):\n",
      "        self.name = name\n",
      "    def speak(self):\n",
      "        pass\n",
      "class Lion(Animal):\n",
      "    def __init__(self, name, roar_sound):\n",
      "        super().__init__(name)\n",
      "        self.roar_sound = roar_sound\n",
      "    def speak(self):\n",
      "        return f\"{self.name} roars like {self.roar_sound}!\"\n",
      "lion = Lion(\"Simba\", \"a mighty lion\")\n",
      "print(lion.speak())\n"
     ]
    }
   ],
   "source": [
    "print(\"The super() function used when we have to inherits attributes of parent class to child class.\")\n",
    "print('''\\nExample:-\n",
    "class Animal:\n",
    "    def __init__(self, name):\n",
    "        self.name = name\n",
    "    def speak(self):\n",
    "        pass\n",
    "class Lion(Animal):\n",
    "    def __init__(self, name, roar_sound):\n",
    "        super().__init__(name)\n",
    "        self.roar_sound = roar_sound\n",
    "    def speak(self):\n",
    "        return f\"{self.name} roars like {self.roar_sound}!\"\n",
    "lion = Lion(\"Simba\", \"a mighty lion\")\n",
    "print(lion.speak())''')"
   ]
  },
  {
   "cell_type": "code",
   "execution_count": 15,
   "id": "5dd38c31-8e7e-4bf2-a7b7-65e9589de89b",
   "metadata": {},
   "outputs": [
    {
     "name": "stdout",
     "output_type": "stream",
     "text": [
      "Bow Bow\n",
      "Mew Mew\n"
     ]
    }
   ],
   "source": [
    "class Animal:\n",
    "    def speak():\n",
    "        pass\n",
    "class Dog(Animal):\n",
    "    def speak(self,speak):\n",
    "        self.speak=speak\n",
    "class Cat(Animal):\n",
    "    def speak(self,speak):\n",
    "        self.speak=speak\n",
    "\n",
    "d=Dog()\n",
    "d.speak('Bow Bow')\n",
    "c=Cat()\n",
    "c.speak('Mew Mew')\n",
    "print(d.speak)\n",
    "print(c.speak)"
   ]
  },
  {
   "cell_type": "code",
   "execution_count": 17,
   "id": "52695781-e693-4b63-9304-ef66760807a8",
   "metadata": {},
   "outputs": [
    {
     "name": "stdout",
     "output_type": "stream",
     "text": [
      "The isinstance() function  is used to check if an object is an instance of a particular class or a subclass of that class.\n",
      "The isinstance() function can be used to check if a specified class is the parent class of an object or not.\n"
     ]
    }
   ],
   "source": [
    "print(\"The isinstance() function  is used to check if an object is an instance of a particular class or a subclass of that class.\")\n",
    "print(\"The isinstance() function can be used to check if a specified class is the parent class of an object or not.\")"
   ]
  },
  {
   "cell_type": "code",
   "execution_count": 19,
   "id": "37e2e769-7a67-435f-9ede-67d547b3adc8",
   "metadata": {},
   "outputs": [
    {
     "name": "stdout",
     "output_type": "stream",
     "text": [
      "This issubclass() function returns True if the given child class is the subclass of given parent class else it returns False.\n",
      "\n",
      "Example:-\n",
      "class Animal:\n",
      "    pass\n",
      "class Mammal(Animal):\n",
      "    pass\n",
      "class Bird(Animal):\n",
      "    pass\n",
      "class Dog(Mammal):\n",
      "    pass\n",
      "result = issubclass(Dog, Mammal)\n",
      "print(result) \n",
      "result = issubclass(Bird, Mammal)\n",
      "print(result)\n"
     ]
    }
   ],
   "source": [
    "print(\"This issubclass() function returns True if the given child class is the subclass of given parent class else it returns False.\")\n",
    "print('''\\nExample:-\n",
    "class Animal:\n",
    "    pass\n",
    "class Mammal(Animal):\n",
    "    pass\n",
    "class Bird(Animal):\n",
    "    pass\n",
    "class Dog(Mammal):\n",
    "    pass\n",
    "result = issubclass(Dog, Mammal)\n",
    "print(result) \n",
    "result = issubclass(Bird, Mammal)\n",
    "print(result)''')"
   ]
  },
  {
   "cell_type": "code",
   "execution_count": 23,
   "id": "576eeb28-cc07-4a3b-84d9-f67a23412f95",
   "metadata": {},
   "outputs": [
    {
     "name": "stdout",
     "output_type": "stream",
     "text": [
      "When a child class is created, the constructor of the parent class is automatically called, followed by the constructor of the child class.\n",
      "\n",
      "Example:-\n",
      "class Parent:\n",
      "   def __init__(self, name):\n",
      "   self.name = name\n",
      "class Child(Parent):\n",
      "   def __init__(self, name, age):\n",
      "   super().__init__(name)\n",
      "   self.age = age\n"
     ]
    }
   ],
   "source": [
    "print(\"When a child class is created, the constructor of the parent class is automatically called, followed by the constructor of the child class.\")\n",
    "print('''\\nExample:-\n",
    "class Parent:\n",
    "   def __init__(self, name):\n",
    "   self.name = name\n",
    "class Child(Parent):\n",
    "   def __init__(self, name, age):\n",
    "   super().__init__(name)\n",
    "   self.age = age''')"
   ]
  },
  {
   "cell_type": "code",
   "execution_count": 24,
   "id": "69dc9b63-6ed4-4b12-b4c2-580120292d41",
   "metadata": {},
   "outputs": [
    {
     "name": "stdout",
     "output_type": "stream",
     "text": [
      "Area of circle is 50.24.\n",
      "Area of rectangle is 24.\n"
     ]
    }
   ],
   "source": [
    "class Shape:\n",
    "    def area(self):\n",
    "        pass\n",
    "class Circle(Shape):\n",
    "    def area(self,radius):\n",
    "        r=3.14*radius**2\n",
    "        return f\"Area of circle is {r}.\"\n",
    "class Rectangle(Shape):\n",
    "     def area(self,length,width):\n",
    "            r=length*width\n",
    "            return f\"Area of rectangle is {r}.\"\n",
    "    \n",
    "c=Circle()\n",
    "r=Rectangle()\n",
    "print(c.area(4))\n",
    "print(r.area(4,6))"
   ]
  },
  {
   "cell_type": "code",
   "execution_count": 25,
   "id": "8bef7612-98cb-4f7b-a651-c77fcb4de26a",
   "metadata": {},
   "outputs": [
    {
     "name": "stdout",
     "output_type": "stream",
     "text": [
      "The abc module provides a number of classes that can be used to define ABCs.\n",
      "\n",
      "Example:-\n",
      "from abc import ABC, abstractmethod\n",
      "class Shape(ABC):\n",
      "    @abstractmethod\n",
      "    def area(self):\n",
      "        pass\n",
      "class Circle(Shape):\n",
      "    def __init__(self, radius):\n",
      "        self.radius = radius\n",
      "    def area(self):\n",
      "        return 3.14 * self.radius * self.radius\n",
      "class Square(Shape):\n",
      "    def __init__(self, side):\n",
      "        self.side = side\n",
      "    def area(self):\n",
      "        return self.side * self.side\n",
      "print(Circle(5).area())\n",
      "print(Square(4).area())\n"
     ]
    }
   ],
   "source": [
    "print(\"The abc module provides a number of classes that can be used to define ABCs.\")\n",
    "print('''\\nExample:-\n",
    "from abc import ABC, abstractmethod\n",
    "class Shape(ABC):\n",
    "    @abstractmethod\n",
    "    def area(self):\n",
    "        pass\n",
    "class Circle(Shape):\n",
    "    def __init__(self, radius):\n",
    "        self.radius = radius\n",
    "    def area(self):\n",
    "        return 3.14 * self.radius * self.radius\n",
    "class Square(Shape):\n",
    "    def __init__(self, side):\n",
    "        self.side = side\n",
    "    def area(self):\n",
    "        return self.side * self.side\n",
    "print(Circle(5).area())\n",
    "print(Square(4).area())''')"
   ]
  },
  {
   "cell_type": "code",
   "execution_count": 26,
   "id": "609d7514-8efb-48aa-bd44-6829eb829a1b",
   "metadata": {},
   "outputs": [
    {
     "name": "stdout",
     "output_type": "stream",
     "text": [
      "By using private attributes we can protect modifying.\n",
      "For that we have to use single and double underscores infront of attribute name.\n"
     ]
    }
   ],
   "source": [
    "print(\"By using private attributes we can protect modifying.\")\n",
    "print(\"For that we have to use single and double underscores infront of attribute name.\")"
   ]
  },
  {
   "cell_type": "code",
   "execution_count": 27,
   "id": "d8076964-9a2a-4714-8273-f22f65b14d72",
   "metadata": {},
   "outputs": [
    {
     "name": "stdout",
     "output_type": "stream",
     "text": [
      "Gnanesh\n",
      "1000000\n",
      "Data Scientist\n"
     ]
    }
   ],
   "source": [
    "class Employee:\n",
    "    def __init__(self,name,salary):\n",
    "        self.name=name\n",
    "        self.salary=salary\n",
    "class Manager(Employee):\n",
    "    def __init__(self,name,salary,department):\n",
    "        super().__init__(name,salary)\n",
    "        self.department=department\n",
    "\n",
    "m=Manager('Gnanesh',1000000,'Data Scientist')\n",
    "print(m.name)\n",
    "print(m.salary)\n",
    "print(m.department)"
   ]
  },
  {
   "cell_type": "code",
   "execution_count": 28,
   "id": "ee3c0364-6270-4878-96ec-dd5d0ff77df4",
   "metadata": {},
   "outputs": [
    {
     "name": "stdout",
     "output_type": "stream",
     "text": [
      "Method overloading means inheritance is the ability to define multiple methods with the same name but different parameters.\n",
      "method overloading can be used to define methods with different parameters, while method overriding can only be used to redefine methods with the same parameters.\n"
     ]
    }
   ],
   "source": [
    "print(\"Method overloading means inheritance is the ability to define multiple methods with the same name but different parameters.\")\n",
    "print(\"method overloading can be used to define methods with different parameters, while method overriding can only be used to redefine methods with the same parameters.\")"
   ]
  },
  {
   "cell_type": "code",
   "execution_count": 29,
   "id": "803e4fff-85b6-4718-bc8a-096b39375935",
   "metadata": {},
   "outputs": [
    {
     "name": "stdout",
     "output_type": "stream",
     "text": [
      "the __init__() method of the parent class can be utilized in child classes to initialize the attributes of the child class. This is done by using the super() function to call the __init__() method of the parent class.\n"
     ]
    }
   ],
   "source": [
    "print(\"the __init__() method of the parent class can be utilized in child classes to initialize the attributes of the child class. This is done by using the super() function to call the __init__() method of the parent class.\")"
   ]
  },
  {
   "cell_type": "code",
   "execution_count": 30,
   "id": "48cccda4-b890-4138-a4fb-b1cdf29d058e",
   "metadata": {},
   "outputs": [
    {
     "name": "stdout",
     "output_type": "stream",
     "text": [
      "The flying height of Eagle is 20000feet.\n",
      "The flying height of Sparrow is 150feet.\n"
     ]
    }
   ],
   "source": [
    "class Bird:\n",
    "    def fly(self):\n",
    "        pass\n",
    "class Eagle(Bird):\n",
    "    def fly(self,height):\n",
    "        return f\"The flying height of Eagle is {height}.\"\n",
    "\n",
    "class Sparrow(Bird):\n",
    "    def fly(self,height):\n",
    "        return f\"The flying height of Sparrow is {height}.\"\n",
    "    \n",
    "e=Eagle()\n",
    "s=Sparrow()\n",
    "print(e.fly('20000feet'))\n",
    "print(s.fly('150feet'))"
   ]
  },
  {
   "cell_type": "code",
   "execution_count": 31,
   "id": "08df3a77-d57e-4957-8159-f56d142ce917",
   "metadata": {},
   "outputs": [
    {
     "name": "stdout",
     "output_type": "stream",
     "text": [
      "The diamond problem is an ambiguity that arises when two classes have a common parent class, and another class has both those classes as base classes.\n",
      "By using super() we can address the diamond problem and also this function allows us to access methods and attributes from a parent class without explicitly specifying the class\n"
     ]
    }
   ],
   "source": [
    "print(\"The diamond problem is an ambiguity that arises when two classes have a common parent class, and another class has both those classes as base classes.\")\n",
    "print(\"By using super() we can address the diamond problem and also this function allows us to access methods and attributes from a parent class without explicitly specifying the class\")"
   ]
  },
  {
   "cell_type": "code",
   "execution_count": 33,
   "id": "20842378-d686-4335-b3ee-eb788d69f256",
   "metadata": {},
   "outputs": [
    {
     "name": "stdout",
     "output_type": "stream",
     "text": [
      "An 'is-a' relationship refers to a relationship between a class and its subclass, where the subclass inherits all of the attributes and methods of the class.\n",
      "\n",
      "Example:-\n",
      "class Animal:\n",
      "    def __init__(self, name):\n",
      "        self.name = name\n",
      "    def speak(self):\n",
      "        pass\n",
      "class Dog(Animal):  \n",
      "    def speak(self):\n",
      "        return \"Woof!\"\n",
      "A 'has-a' relationship refers to a relationship between a class and another class, where the class contains an instance of the other class as an attribute.\n",
      "\n",
      "Example:-\n",
      "class Engine:\n",
      "    def start(self):\n",
      "        return \"Engine started\"\n",
      "class Car:\n",
      "    def __init__(self):\n",
      "        self.engine = Engine()  \n",
      "    def start_car(self):\n",
      "        return self.engine.start()\n",
      "my_car = Car()\n",
      "print(my_car.start_car())\n"
     ]
    }
   ],
   "source": [
    "print(\"An 'is-a' relationship refers to a relationship between a class and its subclass, where the subclass inherits all of the attributes and methods of the class.\")\n",
    "print('''\\nExample:-\n",
    "class Animal:\n",
    "    def __init__(self, name):\n",
    "        self.name = name\n",
    "    def speak(self):\n",
    "        pass\n",
    "class Dog(Animal):  \n",
    "    def speak(self):\n",
    "        return \"Woof!\"''')\n",
    "print(\"A 'has-a' relationship refers to a relationship between a class and another class, where the class contains an instance of the other class as an attribute.\")\n",
    "print('''\\nExample:-\n",
    "class Engine:\n",
    "    def start(self):\n",
    "        return \"Engine started\"\n",
    "class Car:\n",
    "    def __init__(self):\n",
    "        self.engine = Engine()  \n",
    "    def start_car(self):\n",
    "        return self.engine.start()\n",
    "my_car = Car()\n",
    "print(my_car.start_car())''')"
   ]
  },
  {
   "cell_type": "code",
   "execution_count": 34,
   "id": "43711123-fee4-429b-91ab-b395d3975622",
   "metadata": {},
   "outputs": [
    {
     "name": "stdout",
     "output_type": "stream",
     "text": [
      "Student name is James.\n",
      "Student Roll.no is 987652023.\n",
      "Student studying at Oxford university.\n",
      "\n",
      "Professor name is Albert.\n",
      "Professor salary is $30000.\n",
      "Professor teaching at Oxford university.\n"
     ]
    }
   ],
   "source": [
    "class Person:\n",
    "    def __init__(self,university_name):\n",
    "        self.university_name=university_name\n",
    "        \n",
    "class Student(Person):\n",
    "    def __init__(self,university_name,s_name,roll_no):\n",
    "        super().__init__(university_name)\n",
    "        self.s_name=s_name\n",
    "        self.roll_no=roll_no\n",
    "    def student_details(self):\n",
    "        print(f\"Student name is {self.s_name}.\")\n",
    "        print(f\"Student Roll.no is {self.roll_no}.\")\n",
    "        print(f\"Student studying at {self.university_name} university.\")\n",
    "    \n",
    "class Professor(Person):\n",
    "    def __init__(self,university_name,p_name,salary):\n",
    "        super().__init__(university_name)\n",
    "        self.p_name=p_name\n",
    "        self.salary=salary\n",
    "    def professor_details(self):\n",
    "        print()\n",
    "        print(f\"Professor name is {self.p_name}.\")\n",
    "        print(f\"Professor salary is {self.salary}.\")\n",
    "        print(f\"Professor teaching at {self.university_name} university.\")\n",
    "        \n",
    "s=Student('Oxford','James',987652023)\n",
    "p=Professor('Oxford','Albert','$30000')\n",
    "s.student_details()\n",
    "p.professor_details()"
   ]
  },
  {
   "cell_type": "markdown",
   "id": "27a0f24f-f729-48bf-ae67-0001dc71476c",
   "metadata": {},
   "source": [
    "ENCAPSULATION"
   ]
  },
  {
   "cell_type": "code",
   "execution_count": 35,
   "id": "5a6b9ba9-096e-47e3-88eb-dfc4b9582d7d",
   "metadata": {},
   "outputs": [
    {
     "name": "stdout",
     "output_type": "stream",
     "text": [
      "Encapsulation is used to restrict access to methods and variables. In encapsulation, code and data are wrapped together within a single unit.\n"
     ]
    }
   ],
   "source": [
    "print(\"Encapsulation is used to restrict access to methods and variables. In encapsulation, code and data are wrapped together within a single unit.\")"
   ]
  },
  {
   "cell_type": "code",
   "execution_count": 36,
   "id": "9c4942d4-0a88-4ad3-85b1-8a889a3f0fc7",
   "metadata": {},
   "outputs": [
    {
     "name": "stdout",
     "output_type": "stream",
     "text": [
      "Data encapsulation targets how the data is accessed and how different objects behave.\n",
      "Data hiding focuses on object member accessibility within a class.\n",
      "Information hiding is the main usage of encapsulation in oops.\n"
     ]
    }
   ],
   "source": [
    "print(\"Data encapsulation targets how the data is accessed and how different objects behave.\\nData hiding focuses on object member accessibility within a class.\\nInformation hiding is the main usage of encapsulation in oops.\")"
   ]
  },
  {
   "cell_type": "code",
   "execution_count": 37,
   "id": "a44e90a6-8256-4d63-bf28-c0e8c96c019c",
   "metadata": {},
   "outputs": [
    {
     "name": "stdout",
     "output_type": "stream",
     "text": [
      "Encapsulation can be achieved by declaring a class's data members and methods as either private or protected.\n",
      "\n",
      "Example:-\n",
      "class Employee:\n",
      "    def __init__(self, name, salary):\n",
      "        self._name = name\n",
      "        self._salary = salary\n",
      "class Manager(Employee):\n",
      "    def __init__(self, name, salary, bonus):\n",
      "        super().__init__(name, salary)\n",
      "        self._bonus = bonus\n",
      "    def get_bonus(self):\n",
      "        return self._bonus\n",
      "    def set_bonus(self, bonus):\n",
      "        self._bonus = bonus\n"
     ]
    }
   ],
   "source": [
    "print(\"Encapsulation can be achieved by declaring a class's data members and methods as either private or protected.\")\n",
    "print('''\\nExample:-\n",
    "class Employee:\n",
    "    def __init__(self, name, salary):\n",
    "        self._name = name\n",
    "        self._salary = salary\n",
    "class Manager(Employee):\n",
    "    def __init__(self, name, salary, bonus):\n",
    "        super().__init__(name, salary)\n",
    "        self._bonus = bonus\n",
    "    def get_bonus(self):\n",
    "        return self._bonus\n",
    "    def set_bonus(self, bonus):\n",
    "        self._bonus = bonus''')"
   ]
  },
  {
   "cell_type": "code",
   "execution_count": 38,
   "id": "eae38dd5-91a3-4c57-9fa0-de6988c562c7",
   "metadata": {},
   "outputs": [
    {
     "name": "stdout",
     "output_type": "stream",
     "text": [
      "Public members are accessible from anywhere, including outside the class. This means that they can be accessed by other classes also.\n",
      "Private members are only accessible from within the class in which they are defined. This means that they cannot be accessed by other classes.\n",
      "Protected members are accessible from within the class in which they are defined, and from any subclass of that class. This means that they cannot be accessed by other classes.\n"
     ]
    }
   ],
   "source": [
    "print(\"Public members are accessible from anywhere, including outside the class. This means that they can be accessed by other classes also.\")\n",
    "print(\"Private members are only accessible from within the class in which they are defined. This means that they cannot be accessed by other classes.\")\n",
    "print(\"Protected members are accessible from within the class in which they are defined, and from any subclass of that class. This means that they cannot be accessed by other classes.\")"
   ]
  },
  {
   "cell_type": "code",
   "execution_count": 39,
   "id": "877e6bfe-039b-4d30-b939-8321a975b74e",
   "metadata": {},
   "outputs": [
    {
     "data": {
      "text/plain": [
       "'Gnanesh'"
      ]
     },
     "execution_count": 39,
     "metadata": {},
     "output_type": "execute_result"
    }
   ],
   "source": [
    "class Person:\n",
    "    def __init__(self,name):\n",
    "        self.__name=name\n",
    "    def set_name(self,name):\n",
    "        self.__name=name\n",
    "    def get_name(self):\n",
    "        return self.__name\n",
    "    \n",
    "p=Person('Gnanesh')\n",
    "p.get_name()"
   ]
  },
  {
   "cell_type": "code",
   "execution_count": 40,
   "id": "18e302f0-d15c-4328-a436-892884ccc720",
   "metadata": {},
   "outputs": [
    {
     "name": "stdout",
     "output_type": "stream",
     "text": [
      "A getter method, also known as an accessor method, is used to retrieve the value of a private or protected instance variable or attribute of an object.\n",
      "\n",
      "Example:-\n",
      "class Person:\n",
      "    def __init__(self, name):\n",
      "        self.__name = name\n",
      "    def get_name(self):\n",
      "        return self.__name\n",
      "person = Person(\"Alice\")\n",
      "print(person.get_name())\n",
      "A setter method is used to modify the value of a private or protected instance variable or attribute of an object.\n",
      "\n",
      "Example:-\n",
      "class BankAccount:\n",
      "    def __init__(self, account_number, balance):\n",
      "        self.__account_number = account_number\n",
      "        self.__balance = balance\n",
      "    def set_balance(self, new_balance):\n",
      "        if new_balance >= 0:\n",
      "            self.__balance = new_balance\n",
      "        else:\n",
      "            print(\"Balance cannot be negative.\")\n",
      "account = BankAccount(\"12345\", 1000)\n",
      "account.set_balance(1500) \n"
     ]
    }
   ],
   "source": [
    "print(\"A getter method, also known as an accessor method, is used to retrieve the value of a private or protected instance variable or attribute of an object.\")\n",
    "print('''\\nExample:-\n",
    "class Person:\n",
    "    def __init__(self, name):\n",
    "        self.__name = name\n",
    "    def get_name(self):\n",
    "        return self.__name\n",
    "person = Person(\"Alice\")\n",
    "print(person.get_name())''')\n",
    "print(\"A setter method is used to modify the value of a private or protected instance variable or attribute of an object.\")\n",
    "print('''\\nExample:-\n",
    "class BankAccount:\n",
    "    def __init__(self, account_number, balance):\n",
    "        self.__account_number = account_number\n",
    "        self.__balance = balance\n",
    "    def set_balance(self, new_balance):\n",
    "        if new_balance >= 0:\n",
    "            self.__balance = new_balance\n",
    "        else:\n",
    "            print(\"Balance cannot be negative.\")\n",
    "account = BankAccount(\"12345\", 1000)\n",
    "account.set_balance(1500) ''')"
   ]
  },
  {
   "cell_type": "code",
   "execution_count": 41,
   "id": "0feda126-aeb0-4eab-a1c7-d24e8005300f",
   "metadata": {},
   "outputs": [],
   "source": [
    "class BankAccount():\n",
    "    def __init__(self,account_number,balance):\n",
    "        self.__account_number=account_number\n",
    "        self.__balance=balance\n",
    "    def deposit(self,account_num,amount):\n",
    "        if self.__account_number == account_num:\n",
    "            self.__balance=self.__balance+amount\n",
    "            return f\"Your cash is successfully added to your bank account. Thank you for visiting!\"\n",
    "        else:\n",
    "            return f\"Sorry, You entered account number is incorrect. Please try again later\"\n",
    "    def withdraw(self,acc_number,amount):\n",
    "        if self.__account_number == acc_number:\n",
    "            if self.__balance > amount:\n",
    "                return f\"Your transaction is successful please collect your cash.\"\n",
    "            else:\n",
    "                return f\"Sorry, You don't have enough balance to withdraw.\"\n",
    "        else:\n",
    "            return f\"Sorry, You entered account number is incorrect. Please try again later\"\n",
    "        \n",
    "b=BankAccount(998877665544,20000)"
   ]
  },
  {
   "cell_type": "code",
   "execution_count": 42,
   "id": "ee002ac2-63f5-4fa5-8320-0b3849511721",
   "metadata": {},
   "outputs": [
    {
     "data": {
      "text/plain": [
       "'Sorry, You entered account number is incorrect. Please try again later'"
      ]
     },
     "execution_count": 42,
     "metadata": {},
     "output_type": "execute_result"
    }
   ],
   "source": [
    "b.deposit(998877665533,10000)"
   ]
  },
  {
   "cell_type": "code",
   "execution_count": 43,
   "id": "ede4b4df-30d2-47c4-ad99-d11389243748",
   "metadata": {},
   "outputs": [
    {
     "data": {
      "text/plain": [
       "'Your cash is successfully added to your bank account. Thank you for visiting!'"
      ]
     },
     "execution_count": 43,
     "metadata": {},
     "output_type": "execute_result"
    }
   ],
   "source": [
    "b.deposit(998877665544,10000)"
   ]
  },
  {
   "cell_type": "code",
   "execution_count": 44,
   "id": "d2f22b0a-6c13-4f31-b0ab-e7af014d3c08",
   "metadata": {},
   "outputs": [
    {
     "data": {
      "text/plain": [
       "\"Sorry, You don't have enough balance to withdraw.\""
      ]
     },
     "execution_count": 44,
     "metadata": {},
     "output_type": "execute_result"
    }
   ],
   "source": [
    "b.withdraw(998877665544,40000)"
   ]
  },
  {
   "cell_type": "code",
   "execution_count": 45,
   "id": "e376b93d-d9be-4323-b81e-82ff5463eb89",
   "metadata": {},
   "outputs": [
    {
     "data": {
      "text/plain": [
       "'Your transaction is successful please collect your cash.'"
      ]
     },
     "execution_count": 45,
     "metadata": {},
     "output_type": "execute_result"
    }
   ],
   "source": [
    "b.withdraw(998877665544,20000)"
   ]
  },
  {
   "cell_type": "code",
   "execution_count": 46,
   "id": "f3684761-c1ca-4359-b986-b6301f83e9b4",
   "metadata": {},
   "outputs": [
    {
     "name": "stdout",
     "output_type": "stream",
     "text": [
      "Encapsulation helps to improve code maintainability by bundling data and methods within a single unit, called a class. This makes it easier to understand, maintain, and extend the code, as changes to the implementation can be made without affecting other parts of the system.\n"
     ]
    }
   ],
   "source": [
    "print(\"Encapsulation helps to improve code maintainability by bundling data and methods within a single unit, called a class. This makes it easier to understand, maintain, and extend the code, as changes to the implementation can be made without affecting other parts of the system.\")"
   ]
  },
  {
   "cell_type": "code",
   "execution_count": 48,
   "id": "f4bb4905-e15f-425d-a161-3feb57b86f5f",
   "metadata": {},
   "outputs": [
    {
     "name": "stdout",
     "output_type": "stream",
     "text": [
      "It is getting values by prefixing the attribute name with a double underscore (__) and by adding (_classname) we can achieve mangling.\n",
      "\n",
      "Example:-\n",
      "class MyClass:\n",
      "    def __init__(self):\n",
      "        self.__private_var = 42\n",
      "\n",
      "    def access_private(self):\n",
      "        return self.__private_var\n",
      "obj = MyClass()\n",
      "print(obj._MyClass__private_var) \n"
     ]
    }
   ],
   "source": [
    "print(\"It is getting values by prefixing the attribute name with a double underscore (__) and by adding (_classname) we can achieve mangling.\")\n",
    "print('''\\nExample:-\n",
    "class MyClass:\n",
    "    def __init__(self):\n",
    "        self.__private_var = 42\n",
    "\n",
    "    def access_private(self):\n",
    "        return self.__private_var\n",
    "obj = MyClass()\n",
    "print(obj._MyClass__private_var) ''')"
   ]
  },
  {
   "cell_type": "code",
   "execution_count": 49,
   "id": "7ab69270-8718-46eb-a0ad-bb9b1861b846",
   "metadata": {},
   "outputs": [
    {
     "name": "stdout",
     "output_type": "stream",
     "text": [
      "Total number of students are 800.\n",
      "Total number of classes in Champion are 16\n",
      "All students from Champion school.\n",
      "\n",
      "Total number of teachers are 20.\n",
      "The average salary for teachers in Champion is 30000\n",
      "All teachers teaching in Champion school.\n",
      "\n",
      "Total number of courses is 10.\n",
      "The premium course in Champion is Coding-A\n",
      "All courses available in Champion school.\n"
     ]
    }
   ],
   "source": [
    "class School:\n",
    "    def __init__(self,school_name):\n",
    "        self.school_name=school_name\n",
    "        \n",
    "class Students(School):\n",
    "    def __init__(self,school_name,total_students,total_classes):\n",
    "        super().__init__(school_name)\n",
    "        self._total_students=total_students\n",
    "        self.total_classes=total_classes\n",
    "    def student_details(self):\n",
    "        print(f\"Total number of students are {self._total_students}.\")\n",
    "        print(f\"Total number of classes in {self.school_name} are {self.total_classes}\")\n",
    "        print(f\"All students from {self.school_name} school.\")\n",
    "        \n",
    "class Teachers(School):\n",
    "    def __init__(self,school_name,total_teachers,avg_salary):\n",
    "        super().__init__(school_name)\n",
    "        self.total_teachers=total_teachers\n",
    "        self._avg_salary=avg_salary\n",
    "    def teacher_details(self):\n",
    "        print()\n",
    "        print(f\"Total number of teachers are {self.total_teachers}.\")\n",
    "        print(f\"The average salary for teachers in {self.school_name} is {self._avg_salary}\")\n",
    "        print(f\"All teachers teaching in {self.school_name} school.\")\n",
    "\n",
    "class Courses(School):\n",
    "    def __init__(self,school_name,total_courses,premium_course):\n",
    "        super().__init__(school_name)\n",
    "        self.total_courses=total_courses\n",
    "        self._premium_course=premium_course\n",
    "    def course_details(self):\n",
    "        print()\n",
    "        print(f\"Total number of courses is {self.total_courses}.\")\n",
    "        print(f\"The premium course in {self.school_name} is {self._premium_course}\")\n",
    "        print(f\"All courses available in {self.school_name} school.\")\n",
    "        \n",
    "s=School('Champion')\n",
    "s1=Students('Champion',800,16)\n",
    "t=Teachers('Champion',20,30000)\n",
    "c=Courses('Champion',10,'Coding-A')\n",
    "s1.student_details()\n",
    "t.teacher_details()\n",
    "c.course_details()"
   ]
  },
  {
   "cell_type": "code",
   "execution_count": 50,
   "id": "3d0097d2-2df8-4b1c-9685-36b3ed3e30fc",
   "metadata": {},
   "outputs": [
    {
     "name": "stdout",
     "output_type": "stream",
     "text": [
      "Property decorators are a way to define getters and setters for properties. A property is a special type of attribute that can be used to control access to data. Property decorators allow you to define how data is accessed and modified, and they can be used to implement encapsulation.\n"
     ]
    }
   ],
   "source": [
    "print(\"Property decorators are a way to define getters and setters for properties. A property is a special type of attribute that can be used to control access to data. Property decorators allow you to define how data is accessed and modified, and they can be used to implement encapsulation.\")"
   ]
  },
  {
   "cell_type": "code",
   "execution_count": 51,
   "id": "35fca9f2-1112-4688-967b-9d5088827d3e",
   "metadata": {},
   "outputs": [
    {
     "name": "stdout",
     "output_type": "stream",
     "text": [
      "Data hiding is important in encapsulation because it helps to protect the integrity of the object. By keeping the implementation details private, other objects cannot accidentally modify the data in a way that could break the object.\n",
      "\n",
      "Example:-\n",
      "class MyClass:\n",
      "    def __init__(self):\n",
      "        self._private_variable = 10\n",
      "    def get_private_variable(self):\n",
      "        return self._private_variable\n",
      "    def set_private_variable(self, value):\n",
      "        self._private_variable = value\n"
     ]
    }
   ],
   "source": [
    "print(\"Data hiding is important in encapsulation because it helps to protect the integrity of the object. By keeping the implementation details private, other objects cannot accidentally modify the data in a way that could break the object.\")\n",
    "print('''\\nExample:-\n",
    "class MyClass:\n",
    "    def __init__(self):\n",
    "        self._private_variable = 10\n",
    "    def get_private_variable(self):\n",
    "        return self._private_variable\n",
    "    def set_private_variable(self, value):\n",
    "        self._private_variable = value''')"
   ]
  },
  {
   "cell_type": "code",
   "execution_count": 52,
   "id": "3cae0478-7c09-4e2a-96a8-1c6821f6a4b9",
   "metadata": {},
   "outputs": [
    {
     "data": {
      "text/plain": [
       "'The employee yearly bonus is 6000.0.'"
      ]
     },
     "execution_count": 52,
     "metadata": {},
     "output_type": "execute_result"
    }
   ],
   "source": [
    "class Employee:\n",
    "    def __init__(self,employee_id,salary):\n",
    "        self.__employee_id=employee_id\n",
    "        self.__salary=salary\n",
    "    def bonus(self):\n",
    "        if 0<self.__salary<20000:\n",
    "            b=(self.__salary*5)/100\n",
    "            return f\"The employee yearly bonus is {b}.\"\n",
    "        elif 20000<self.__salary<100000:\n",
    "            b=(self.__salary*10)/100\n",
    "            return f\"The employee yearly bonus is {b}.\"\n",
    "        elif 100000<self.__salary<200000:\n",
    "            b=(self.__salary*15)/100\n",
    "            return f\"The employee yearly bonus is {b}.\"\n",
    "        else:\n",
    "            b=(self.__salary*20)/100\n",
    "            return f\"The employee yearly bonus is {b}.\"\n",
    "\n",
    "e=Employee('GNAN9876',60000)\n",
    "e.bonus()"
   ]
  },
  {
   "cell_type": "code",
   "execution_count": 54,
   "id": "d9607a49-de87-4dea-8ae2-dd2c6df78af4",
   "metadata": {},
   "outputs": [
    {
     "name": "stdout",
     "output_type": "stream",
     "text": [
      "Accessors and mutators are methods used to access and modify the state of an object. Accessors are methods that get the value of an attribute, while mutators are methods that set the value of an attribute.\n"
     ]
    }
   ],
   "source": [
    "print(\"Accessors and mutators are methods used to access and modify the state of an object. Accessors are methods that get the value of an attribute, while mutators are methods that set the value of an attribute.\")"
   ]
  },
  {
   "cell_type": "code",
   "execution_count": 55,
   "id": "3f668a3e-60eb-4ab6-90da-22dc40103d81",
   "metadata": {},
   "outputs": [],
   "source": [
    "class Library:\n",
    "    def __init__(self,titles,authors,availability_status):\n",
    "        self.titles=titles\n",
    "        self.__authors=authors\n",
    "        self.availability_status=availability_status\n",
    "    def available_books(self):\n",
    "        print(f\"The titles of the books is {self.titles}.\")\n",
    "        print(f\"The authors of the books is {self.__authors}.\")\n",
    "        print(f\"Availability status of books are {self.availability_status}\")\n",
    "    def borrow(self,title):\n",
    "        if title in self.titles:\n",
    "            self.titles.remove(title)\n",
    "            return f\"Your book is available. Please take from register desk.\"\n",
    "        else:\n",
    "            return f\"Sorry, The book is not available. Available books are {self.titles}.\"\n",
    "    def return_book(self,title):\n",
    "        self.titles.append(title)\n",
    "        return f\"Thank you borrowing the book. Visit again.\"\n",
    "    \n",
    "l=Library(['Harry Potter','A passage of India','Time Machine'],['Rook','Forster','H.G.Wells'],'Available')"
   ]
  },
  {
   "cell_type": "code",
   "execution_count": 56,
   "id": "04125df7-ab18-4005-8c89-79db1eeb09d1",
   "metadata": {},
   "outputs": [
    {
     "name": "stdout",
     "output_type": "stream",
     "text": [
      "The titles of the books is ['Harry Potter', 'A passage of India', 'Time Machine'].\n",
      "The authors of the books is ['Rook', 'Forster', 'H.G.Wells'].\n",
      "Availability status of books are Available\n"
     ]
    }
   ],
   "source": [
    "l.available_books()"
   ]
  },
  {
   "cell_type": "code",
   "execution_count": 57,
   "id": "68ffc788-3701-4eab-bc93-c8f5eb9fb711",
   "metadata": {},
   "outputs": [
    {
     "data": {
      "text/plain": [
       "'Your book is available. Please take from register desk.'"
      ]
     },
     "execution_count": 57,
     "metadata": {},
     "output_type": "execute_result"
    }
   ],
   "source": [
    "l.borrow('Time Machine')"
   ]
  },
  {
   "cell_type": "code",
   "execution_count": 58,
   "id": "7510d38f-a33e-4a01-aad7-29eba56eaa1a",
   "metadata": {},
   "outputs": [
    {
     "data": {
      "text/plain": [
       "\"Sorry, The book is not available. Available books are ['Harry Potter', 'A passage of India'].\""
      ]
     },
     "execution_count": 58,
     "metadata": {},
     "output_type": "execute_result"
    }
   ],
   "source": [
    "l.borrow('Time Machine')"
   ]
  },
  {
   "cell_type": "code",
   "execution_count": 59,
   "id": "ff5e26b4-9a65-473f-8d7f-2bf5133610d6",
   "metadata": {},
   "outputs": [
    {
     "data": {
      "text/plain": [
       "'Thank you borrowing the book. Visit again.'"
      ]
     },
     "execution_count": 59,
     "metadata": {},
     "output_type": "execute_result"
    }
   ],
   "source": [
    "l.return_book('Time Machine')"
   ]
  },
  {
   "cell_type": "code",
   "execution_count": 60,
   "id": "c9235760-105c-4e03-ab19-00c6cf3bb4c1",
   "metadata": {},
   "outputs": [
    {
     "name": "stdout",
     "output_type": "stream",
     "text": [
      "Encapsulation promotes code reusability and modularity in Python programs by allowing developers to group related code and data together, and then reuse this code in other programs or modules.\n"
     ]
    }
   ],
   "source": [
    "print(\"Encapsulation promotes code reusability and modularity in Python programs by allowing developers to group related code and data together, and then reuse this code in other programs or modules.\")"
   ]
  },
  {
   "cell_type": "code",
   "execution_count": 62,
   "id": "a43f20eb-209a-4d82-93b7-085738741454",
   "metadata": {},
   "outputs": [
    {
     "name": "stdout",
     "output_type": "stream",
     "text": [
      "Data hiding helps to protect the integrity of the object or class.\n",
      "Information hiding can help to improve the modularity of software. By encapsulating data and methods within a single unit.\n",
      "Information hiding can help to improve the security of software.\n"
     ]
    }
   ],
   "source": [
    "print(\"Data hiding helps to protect the integrity of the object or class.\")\n",
    "print(\"Information hiding can help to improve the modularity of software. By encapsulating data and methods within a single unit.\")\n",
    "print(\"Information hiding can help to improve the security of software.\")"
   ]
  },
  {
   "cell_type": "code",
   "execution_count": 63,
   "id": "5065f2c0-290b-45d5-817f-fc9e47fe3740",
   "metadata": {},
   "outputs": [],
   "source": [
    "class Customer:\n",
    "    def __init__(self,name,address,contact):\n",
    "        self.__name=name\n",
    "        self.__address=address\n",
    "        self.__contact=contact\n",
    "    def customer_details(self):\n",
    "        print(f\"Customer name is {self.__name}.\")\n",
    "        print(f\"Customer address is {self.__address}.\")\n",
    "        print(f\"Customer contact is {self.__contact}.\")\n",
    "    @property\n",
    "    def name(self):\n",
    "        return self.__name\n",
    "    @name.setter\n",
    "    def name(self,name):\n",
    "        self.__name=name\n",
    "    @property\n",
    "    def address(self):\n",
    "        return self.__address\n",
    "    @address.setter\n",
    "    def address(self,address):\n",
    "        self.__address=address\n",
    "    @property\n",
    "    def contact(self):\n",
    "        return self.__contact\n",
    "    @contact.setter\n",
    "    def contact(self,contact):\n",
    "        self.__contact=contact\n",
    "        \n",
    "c=Customer('Gnanesh','Ram Nagar',7981352626)"
   ]
  },
  {
   "cell_type": "code",
   "execution_count": 64,
   "id": "31be39f1-e6af-487d-8205-688110e7e691",
   "metadata": {},
   "outputs": [
    {
     "name": "stdout",
     "output_type": "stream",
     "text": [
      "Customer name is Gnanesh.\n",
      "Customer address is Ram Nagar.\n",
      "Customer contact is 7981352626.\n"
     ]
    }
   ],
   "source": [
    "c.customer_details()"
   ]
  },
  {
   "cell_type": "code",
   "execution_count": 65,
   "id": "f5561907-d294-492f-be12-6a28c410a99b",
   "metadata": {},
   "outputs": [
    {
     "name": "stdout",
     "output_type": "stream",
     "text": [
      "Customer name is Gopal.\n",
      "Customer address is Ram Nagar.\n",
      "Customer contact is 7981352626.\n"
     ]
    }
   ],
   "source": [
    "c.name='Gopal'\n",
    "c.customer_details()"
   ]
  },
  {
   "cell_type": "markdown",
   "id": "2e06f64c-13f8-4c56-9207-a93aeb8b3f32",
   "metadata": {},
   "source": [
    "POLYMORPHISM"
   ]
  },
  {
   "cell_type": "code",
   "execution_count": 66,
   "id": "8f736752-f174-4afc-8b60-1fd612ce2f76",
   "metadata": {},
   "outputs": [
    {
     "name": "stdout",
     "output_type": "stream",
     "text": [
      "Polymorphism is the ability of an object to take many forms. Polymorphism allows us to perform the same action in many different ways.\n"
     ]
    }
   ],
   "source": [
    "print(\"Polymorphism is the ability of an object to take many forms. Polymorphism allows us to perform the same action in many different ways.\")"
   ]
  },
  {
   "cell_type": "code",
   "execution_count": 67,
   "id": "fee373a7-37b9-4c8e-b9c8-c9ec276dcfed",
   "metadata": {},
   "outputs": [
    {
     "name": "stdout",
     "output_type": "stream",
     "text": [
      "The compile-time polymorphism is determined by the compiler, while runtime polymorphism is determined by the interpreter.\n"
     ]
    }
   ],
   "source": [
    "print(\"The compile-time polymorphism is determined by the compiler, while runtime polymorphism is determined by the interpreter.\")"
   ]
  },
  {
   "cell_type": "code",
   "execution_count": 68,
   "id": "b319ee7c-c2e0-4899-a99a-e2b8596ac794",
   "metadata": {},
   "outputs": [],
   "source": [
    "class Shapes:\n",
    "    def __init__(self):\n",
    "        pass\n",
    "    def area(self):\n",
    "        pass\n",
    "\n",
    "class Circle(Shapes):\n",
    "    def __init__(self,radius):\n",
    "        self.radius=radius\n",
    "    def area(self):\n",
    "        a=3.14*self.radius**2\n",
    "        return f\"Area of circle is {a}.\"\n",
    "\n",
    "class Square(Shapes):\n",
    "    def __init__(self,length):\n",
    "        self.length=length\n",
    "    def area(self):\n",
    "        a=self.length**2\n",
    "        return f\"Area of Square is {a}.\"\n",
    "\n",
    "class Triangle(Shapes):\n",
    "    def __init__(self,base,height):\n",
    "        self.base=base\n",
    "        self.height=height\n",
    "    def area(self):\n",
    "        a=0.5*self.base*self.height\n",
    "        return f\"Area of Triangle is {a}.\"\n",
    "    \n",
    "c=Circle(6)\n",
    "s=Square(5)\n",
    "t=Triangle(10,20)"
   ]
  },
  {
   "cell_type": "code",
   "execution_count": 69,
   "id": "f5477c29-4a0e-4e0d-a604-1eff55e6c793",
   "metadata": {},
   "outputs": [
    {
     "name": "stdout",
     "output_type": "stream",
     "text": [
      "Area of circle is 113.04.\n",
      "Area of Square is 25.\n",
      "Area of Triangle is 100.0.\n"
     ]
    }
   ],
   "source": [
    "print(c.area())\n",
    "print(s.area())\n",
    "print(t.area())"
   ]
  },
  {
   "cell_type": "code",
   "execution_count": 70,
   "id": "da06e23e-c217-42a3-a059-c0ea8b17f3a8",
   "metadata": {},
   "outputs": [
    {
     "name": "stdout",
     "output_type": "stream",
     "text": [
      "Method overriding allows a subclass to change the implementation of a method that is defined in its superclass.\n",
      "\n",
      "Example:-\n",
      "class Animal:\n",
      "    def speak(self):\n",
      "        print(\"The animal makes a sound\")\n",
      "class Dog(Animal):\n",
      "    def speak(self):\n",
      "        print(\"The dog barks\")\n"
     ]
    }
   ],
   "source": [
    "print(\"Method overriding allows a subclass to change the implementation of a method that is defined in its superclass.\")\n",
    "print('''\\nExample:-\n",
    "class Animal:\n",
    "    def speak(self):\n",
    "        print(\"The animal makes a sound\")\n",
    "class Dog(Animal):\n",
    "    def speak(self):\n",
    "        print(\"The dog barks\")''')"
   ]
  },
  {
   "cell_type": "code",
   "execution_count": 71,
   "id": "c6854646-37ba-4599-9e7d-bc343d88be17",
   "metadata": {},
   "outputs": [
    {
     "name": "stdout",
     "output_type": "stream",
     "text": [
      "Polymorphism is the ability to have a single interface that can be used with different data types or classes, or with a different number of inputs.\n",
      "Method overloading is a type of polymorphism that allows you to define multiple methods with the same name but with different arguments.\n",
      "\n",
      "Polymorphism Example:-\n",
      "class Animal:\n",
      "    def make_sound(self):\n",
      "        pass\n",
      "class Dog(Animal):\n",
      "    def make_sound(self):\n",
      "        print(\"Woof!\")\n",
      "d = Dog()\n",
      "d.make_sound()\n",
      "\n",
      "Method overloading Example:-\n",
      "class Animal:\n",
      "    def make_sound(self):\n",
      "        pass\n",
      "class Dog(Animal):\n",
      "    def make_sound(self, volume):\n",
      "        print(\"Woof!\" * volume)\n",
      "d = Dog()\n",
      "d.make_sound(5)\n"
     ]
    }
   ],
   "source": [
    "print(\"Polymorphism is the ability to have a single interface that can be used with different data types or classes, or with a different number of inputs.\\nMethod overloading is a type of polymorphism that allows you to define multiple methods with the same name but with different arguments.\")\n",
    "print('''\\nPolymorphism Example:-\n",
    "class Animal:\n",
    "    def make_sound(self):\n",
    "        pass\n",
    "class Dog(Animal):\n",
    "    def make_sound(self):\n",
    "        print(\"Woof!\")\n",
    "d = Dog()\n",
    "d.make_sound()''')\n",
    "print('''\\nMethod overloading Example:-\n",
    "class Animal:\n",
    "    def make_sound(self):\n",
    "        pass\n",
    "class Dog(Animal):\n",
    "    def make_sound(self, volume):\n",
    "        print(\"Woof!\" * volume)\n",
    "d = Dog()\n",
    "d.make_sound(5)''')"
   ]
  },
  {
   "cell_type": "code",
   "execution_count": 72,
   "id": "d5741c34-2ab9-4e99-a4e6-afa1acb31018",
   "metadata": {},
   "outputs": [],
   "source": [
    "class Animal:\n",
    "    def speak(self):\n",
    "        pass\n",
    "    \n",
    "class Dog(Animal):\n",
    "    def __init__(self,sound):\n",
    "        self.sound=sound\n",
    "    def speak(self):\n",
    "        return f\"Dog make sound {self.sound}.\"\n",
    "    \n",
    "class Cat(Animal):\n",
    "    def __init__(self,sound):\n",
    "        self.sound=sound\n",
    "    def speak(self):\n",
    "        return f\"Cat make sound {self.sound}.\"\n",
    "    \n",
    "class Bird(Animal):\n",
    "    def __init__(self,sound):\n",
    "        self.sound=sound\n",
    "    def speak(self):\n",
    "        return f\"Bird make sound {self.sound}.\"\n",
    "    \n",
    "d=Dog('Bow Bow')\n",
    "c=Cat('Mew Mew')\n",
    "b=Bird('Koo Koo')"
   ]
  },
  {
   "cell_type": "code",
   "execution_count": 73,
   "id": "e6662eaf-3125-45fe-8c9b-9612400265c9",
   "metadata": {},
   "outputs": [
    {
     "name": "stdout",
     "output_type": "stream",
     "text": [
      "Dog make sound Bow Bow.\n",
      "Cat make sound Mew Mew.\n",
      "Bird make sound Koo Koo.\n"
     ]
    }
   ],
   "source": [
    "print(d.speak())\n",
    "print(c.speak())\n",
    "print(b.speak())"
   ]
  },
  {
   "cell_type": "code",
   "execution_count": 74,
   "id": "ed2d6d32-4279-4584-a14b-90835063daae",
   "metadata": {},
   "outputs": [
    {
     "name": "stdout",
     "output_type": "stream",
     "text": [
      "The abc module provides a base class for defining abstract base classes (ABCs)\n",
      "\n",
      "Example:-\n",
      "from abc import ABC, abstractmethod\n",
      "class Animal(ABC):\n",
      "  @abstractmethod\n",
      "  def make_sound(self):\n",
      "    pass\n",
      "class Dog(Animal):\n",
      "  def make_sound(self):\n",
      "    return 'Woof!'\n",
      "dog = Dog()\n",
      "print(dog.make_sound())\n"
     ]
    }
   ],
   "source": [
    "print(\"The abc module provides a base class for defining abstract base classes (ABCs)\")\n",
    "print('''\\nExample:-\n",
    "from abc import ABC, abstractmethod\n",
    "class Animal(ABC):\n",
    "  @abstractmethod\n",
    "  def make_sound(self):\n",
    "    pass\n",
    "class Dog(Animal):\n",
    "  def make_sound(self):\n",
    "    return 'Woof!'\n",
    "dog = Dog()\n",
    "print(dog.make_sound())''')"
   ]
  },
  {
   "cell_type": "code",
   "execution_count": 75,
   "id": "d3b2cfc6-89c3-4f42-8c24-1e47b9500edd",
   "metadata": {},
   "outputs": [],
   "source": [
    "class Vehicle:\n",
    "    def start(self):\n",
    "        pass\n",
    "\n",
    "class Car(Vehicle):\n",
    "    def __init__(self,key):\n",
    "        self.key=key\n",
    "    def start(self):\n",
    "        return f\"Car start with {self.key}.\"\n",
    "\n",
    "class Bicycle(Vehicle):\n",
    "    def __init__(self,key):\n",
    "        self.key=key\n",
    "    def start(self):\n",
    "        return f\"Bicycle start with {self.key}.\"\n",
    "\n",
    "class Boat(Vehicle):\n",
    "    def __init__(self,key):\n",
    "        self.key=key\n",
    "    def start(self):\n",
    "        return f\"Boat start with {self.key}.\"\n",
    "    \n",
    "c=Car('Engine')\n",
    "b=Bicycle('Pedals')\n",
    "b1=Boat('Engine')"
   ]
  },
  {
   "cell_type": "code",
   "execution_count": 76,
   "id": "e49b577d-4b27-4d45-85c9-35f4b694ff31",
   "metadata": {},
   "outputs": [
    {
     "name": "stdout",
     "output_type": "stream",
     "text": [
      "Car start with Engine.\n",
      "Bicycle start with Pedals.\n",
      "Boat start with Engine.\n"
     ]
    }
   ],
   "source": [
    "print(c.start())\n",
    "print(b.start())\n",
    "print(b1.start())"
   ]
  },
  {
   "cell_type": "code",
   "execution_count": 77,
   "id": "00df5292-42b1-405b-98e9-30d41a1e6219",
   "metadata": {},
   "outputs": [
    {
     "name": "stdout",
     "output_type": "stream",
     "text": [
      "The isinstance() function  is used to check if an object is an instance of a particular class or a subclass of that class.\n",
      "The isinstance() function can be used to check if a specified class is the parent class of an object or not.\n",
      "\n",
      "Example:-\n",
      "class Animal:\n",
      "    def make_sound(self):\n",
      "        pass\n",
      "class Dog(Animal):\n",
      "    def make_sound(self):\n",
      "        print(\"Woof!\")\n",
      "def make_sound(animal):\n",
      "    if isinstance(animal, Dog):\n",
      "        animal.make_sound()\n",
      "    else:\n",
      "        print(\"I don't know how to make a sound like that.\")\n",
      "dog = Dog()\n",
      "make_sound(dog)\n",
      "This issubclass() function returns True if the given child class is the subclass of given parent class else it returns False.\n",
      "\n",
      "Example:-\n",
      "class Animal:\n",
      "    pass\n",
      "class Mammal(Animal):\n",
      "    pass\n",
      "class Bird(Animal):\n",
      "    pass\n",
      "class Dog(Mammal):\n",
      "    pass\n",
      "result = issubclass(Dog, Mammal)\n",
      "print(result) \n",
      "result = issubclass(Bird, Mammal)\n",
      "print(result)\n"
     ]
    }
   ],
   "source": [
    "print(\"The isinstance() function  is used to check if an object is an instance of a particular class or a subclass of that class.\\nThe isinstance() function can be used to check if a specified class is the parent class of an object or not.\")\n",
    "print('''\\nExample:-\n",
    "class Animal:\n",
    "    def make_sound(self):\n",
    "        pass\n",
    "class Dog(Animal):\n",
    "    def make_sound(self):\n",
    "        print(\"Woof!\")\n",
    "def make_sound(animal):\n",
    "    if isinstance(animal, Dog):\n",
    "        animal.make_sound()\n",
    "    else:\n",
    "        print(\"I don't know how to make a sound like that.\")\n",
    "dog = Dog()\n",
    "make_sound(dog)''')\n",
    "print(\"This issubclass() function returns True if the given child class is the subclass of given parent class else it returns False.\")\n",
    "print('''\\nExample:-\n",
    "class Animal:\n",
    "    pass\n",
    "class Mammal(Animal):\n",
    "    pass\n",
    "class Bird(Animal):\n",
    "    pass\n",
    "class Dog(Mammal):\n",
    "    pass\n",
    "result = issubclass(Dog, Mammal)\n",
    "print(result) \n",
    "result = issubclass(Bird, Mammal)\n",
    "print(result)''')"
   ]
  },
  {
   "cell_type": "code",
   "execution_count": 78,
   "id": "f939d28b-ca56-41cb-8658-6bbe1287890c",
   "metadata": {},
   "outputs": [
    {
     "name": "stdout",
     "output_type": "stream",
     "text": [
      "Abstract methods are methods that must be implemented by any subclass of a class that declares them.\n",
      "\n",
      "Example:-\n",
      "from abc import ABC, abstractmethod\n",
      "class Animal(ABC):\n",
      "    @abstractmethod\n",
      "    def make_sound(self):\n",
      "        pass\n",
      "class Dog(Animal):\n",
      "    def make_sound(self):\n",
      "        return \"Woof!\"\n"
     ]
    }
   ],
   "source": [
    "print(\"Abstract methods are methods that must be implemented by any subclass of a class that declares them.\")\n",
    "print('''\\nExample:-\n",
    "from abc import ABC, abstractmethod\n",
    "class Animal(ABC):\n",
    "    @abstractmethod\n",
    "    def make_sound(self):\n",
    "        pass\n",
    "class Dog(Animal):\n",
    "    def make_sound(self):\n",
    "        return \"Woof!\"''')"
   ]
  },
  {
   "cell_type": "code",
   "execution_count": 79,
   "id": "bef9d9e0-1ab3-4b3f-a6a0-9cb1f5bec0de",
   "metadata": {},
   "outputs": [],
   "source": [
    "class Shapes:\n",
    "    def __init__(self):\n",
    "        pass\n",
    "    def area(self):\n",
    "        pass\n",
    "\n",
    "class Circle(Shapes):\n",
    "    def __init__(self,radius):\n",
    "        self.radius=radius\n",
    "    def area(self):\n",
    "        a=3.14*self.radius**2\n",
    "        return f\"Area of circle is {a}.\"\n",
    "\n",
    "class Rectangle(Shapes):\n",
    "    def __init__(self,length,width):\n",
    "        self.length=length\n",
    "        self.width=width\n",
    "    def area(self):\n",
    "        a=self.length*self.width\n",
    "        return f\"Area of Rectangle is {a}.\"\n",
    "\n",
    "class Triangle(Shapes):\n",
    "    def __init__(self,base,height):\n",
    "        self.base=base\n",
    "        self.height=height\n",
    "    def area(self):\n",
    "        a=0.5*self.base*self.height\n",
    "        return f\"Area of Triangle is {a}.\"\n",
    "    \n",
    "c=Circle(6)\n",
    "r=Rectangle(5,8)\n",
    "t=Triangle(10,20)"
   ]
  },
  {
   "cell_type": "code",
   "execution_count": 80,
   "id": "5a0f93a6-7e20-4f0c-a3c8-2665388f6169",
   "metadata": {},
   "outputs": [
    {
     "name": "stdout",
     "output_type": "stream",
     "text": [
      "Area of circle is 113.04.\n",
      "Area of Rectangle is 40.\n",
      "Area of Triangle is 100.0.\n"
     ]
    }
   ],
   "source": [
    "print(c.area())\n",
    "print(r.area())\n",
    "print(t.area())"
   ]
  },
  {
   "cell_type": "code",
   "execution_count": 81,
   "id": "fe9468a9-957a-4ae2-b6b4-4d63b553bd8c",
   "metadata": {},
   "outputs": [
    {
     "name": "stdout",
     "output_type": "stream",
     "text": [
      "Code Reusability in Polymorphism allows you to reuse the code written for the base class, reducing redundancy and promoting cleaner, more concise code.\n",
      "Flexibility and Extensibility With polymorphism, you can add new derived classes without modifying existing code.\n"
     ]
    }
   ],
   "source": [
    "print(\"Code Reusability in Polymorphism allows you to reuse the code written for the base class, reducing redundancy and promoting cleaner, more concise code.\")\n",
    "print(\"Flexibility and Extensibility With polymorphism, you can add new derived classes without modifying existing code.\")"
   ]
  },
  {
   "cell_type": "code",
   "execution_count": 82,
   "id": "8c1b2154-ca5b-460f-97b7-4015d9b17d9d",
   "metadata": {},
   "outputs": [
    {
     "name": "stdout",
     "output_type": "stream",
     "text": [
      "The super() function in Python is used to call methods of a parent class from a child class. This allows you to extend and customize the functionality inherited from the parent class.\n"
     ]
    }
   ],
   "source": [
    "print(\"The super() function in Python is used to call methods of a parent class from a child class. This allows you to extend and customize the functionality inherited from the parent class.\")"
   ]
  },
  {
   "cell_type": "code",
   "execution_count": 83,
   "id": "8c46d082-0e03-46b2-9d12-b69851c8ace5",
   "metadata": {},
   "outputs": [],
   "source": [
    "class Bank:\n",
    "    def withdraw(self):\n",
    "        pass\n",
    "\n",
    "class Savings(Bank):\n",
    "    def __init__(self,account_number,amount):\n",
    "        self.account_number=account_number\n",
    "        self.amount=amount\n",
    "    def withdraw(self,acc_number,amount1):\n",
    "        if self.account_number == acc_number:\n",
    "            if self.amount > amount1:\n",
    "                self.amount=self.amount-amount1\n",
    "                return f\"Your transaction is successful. Please collect your cash.\"\n",
    "            else:\n",
    "                return f\"Sorry, You don't have enough balance to withdraw money.\"\n",
    "        else:\n",
    "            return f\"Sorry, You entered wrong account number.\"\n",
    "        \n",
    "class Checking(Bank):\n",
    "    def __init__(self,account_number,amount):\n",
    "        self.account_number=account_number\n",
    "        self.amount=amount\n",
    "    def withdraw(self,acc_number,amount1):\n",
    "        if self.account_number == acc_number:\n",
    "            if self.amount > amount1:\n",
    "                self.amount=self.amount-amount1\n",
    "                return f\"Your transaction is successful. Please collect your cash.\"\n",
    "            else:\n",
    "                return f\"Sorry, You don't have enough balance to withdraw money.\"\n",
    "        else:\n",
    "            return f\"Sorry, You entered wrong account number.\"\n",
    "        \n",
    "class Creditcard(Bank):\n",
    "    def __init__(self,account_number,amount):\n",
    "        self.account_number=account_number\n",
    "        self.amount=amount\n",
    "    def withdraw(self,acc_number,amount1):\n",
    "        if self.account_number == acc_number:\n",
    "            if self.amount > amount1:\n",
    "                self.amount=self.amount-amount1\n",
    "                return f\"Your transaction is successful. Please collect your cash.\"\n",
    "            else:\n",
    "                return f\"Sorry, You don't have enough balance to withdraw money.\"\n",
    "        else:\n",
    "            return f\"Sorry, You entered wrong account number.\"\n",
    "        \n",
    "s=Savings(998877665544,40000)\n",
    "c=Checking(998877665533,20000)\n",
    "c1=Creditcard(998877665522,70000)"
   ]
  },
  {
   "cell_type": "code",
   "execution_count": 84,
   "id": "1751951a-ed9f-4966-bf55-a6e194e9c899",
   "metadata": {},
   "outputs": [
    {
     "data": {
      "text/plain": [
       "\"Sorry, You don't have enough balance to withdraw money.\""
      ]
     },
     "execution_count": 84,
     "metadata": {},
     "output_type": "execute_result"
    }
   ],
   "source": [
    "s.withdraw(998877665544,50000)"
   ]
  },
  {
   "cell_type": "code",
   "execution_count": 85,
   "id": "8c7a1114-b395-47c8-afb3-118c09b52818",
   "metadata": {},
   "outputs": [
    {
     "data": {
      "text/plain": [
       "'Your transaction is successful. Please collect your cash.'"
      ]
     },
     "execution_count": 85,
     "metadata": {},
     "output_type": "execute_result"
    }
   ],
   "source": [
    "s.withdraw(998877665544,20000)"
   ]
  },
  {
   "cell_type": "code",
   "execution_count": 86,
   "id": "ce4e2e33-b4f0-4713-97bb-ef6f1ffbd8fb",
   "metadata": {},
   "outputs": [
    {
     "data": {
      "text/plain": [
       "'Sorry, You entered wrong account number.'"
      ]
     },
     "execution_count": 86,
     "metadata": {},
     "output_type": "execute_result"
    }
   ],
   "source": [
    "c1.withdraw(998877665521,30000)"
   ]
  },
  {
   "cell_type": "code",
   "execution_count": 87,
   "id": "623c4b8a-30b8-4e98-a91f-1990e80277be",
   "metadata": {},
   "outputs": [
    {
     "name": "stdout",
     "output_type": "stream",
     "text": [
      "You can define the behavior of the + operator for objects of your own classes by implementing the __add__ method.\n",
      "\n",
      "Example:-\n",
      "class Point:\n",
      "    def __init__(self, x, y):\n",
      "        self.x = x\n",
      "        self.y = y\n",
      "    def __add__(self, other):\n",
      "        if isinstance(other, int):\n",
      "            return Point(self.x + other, self.y + other)\n",
      "        else:\n",
      "            raise ValueError(\"Unsupported operand type\")\n",
      "p1 = Point(2, 3)\n",
      "p2 = Point(1, 4)\n",
      "result = p1 + p2  \n",
      "print(result.x, result.y) \n",
      "Similarly, you can define the behavior of the * operator for objects of your own classes by implementing the __mul__ method.\n",
      "\n",
      "Example:-\n",
      "class Vector:\n",
      "    def __init__(self, x, y):\n",
      "        self.x = x\n",
      "        self.y = y\n",
      "    def __mul__(self, scalar):\n",
      "        if isinstance(scalar, int) or isinstance(scalar, float):\n",
      "            return Vector(self.x * scalar, self.y * scalar)\n",
      "        else:\n",
      "            raise ValueError(\"Unsupported operand type\")\n",
      "v1 = Vector(2, 3)\n",
      "print(result.x, result.y) \n"
     ]
    }
   ],
   "source": [
    "print(\"You can define the behavior of the + operator for objects of your own classes by implementing the __add__ method.\")\n",
    "print('''\\nExample:-\n",
    "class Point:\n",
    "    def __init__(self, x, y):\n",
    "        self.x = x\n",
    "        self.y = y\n",
    "    def __add__(self, other):\n",
    "        if isinstance(other, int):\n",
    "            return Point(self.x + other, self.y + other)\n",
    "        else:\n",
    "            raise ValueError(\"Unsupported operand type\")\n",
    "p1 = Point(2, 3)\n",
    "p2 = Point(1, 4)\n",
    "result = p1 + p2  \n",
    "print(result.x, result.y) ''')\n",
    "print(\"Similarly, you can define the behavior of the * operator for objects of your own classes by implementing the __mul__ method.\")\n",
    "print('''\\nExample:-\n",
    "class Vector:\n",
    "    def __init__(self, x, y):\n",
    "        self.x = x\n",
    "        self.y = y\n",
    "    def __mul__(self, scalar):\n",
    "        if isinstance(scalar, int) or isinstance(scalar, float):\n",
    "            return Vector(self.x * scalar, self.y * scalar)\n",
    "        else:\n",
    "            raise ValueError(\"Unsupported operand type\")\n",
    "v1 = Vector(2, 3)\n",
    "print(result.x, result.y) ''')"
   ]
  },
  {
   "cell_type": "code",
   "execution_count": 88,
   "id": "4358b1ad-6f41-4fe7-a208-1760c6ebf31b",
   "metadata": {},
   "outputs": [
    {
     "name": "stdout",
     "output_type": "stream",
     "text": [
      "Dynamic polymorphism allows for a single function name to be used for different types of objects. This is achieved through the use of method overriding, which allows a subclass to override a method from its parent class.\n"
     ]
    }
   ],
   "source": [
    "print(\"Dynamic polymorphism allows for a single function name to be used for different types of objects. This is achieved through the use of method overriding, which allows a subclass to override a method from its parent class.\")"
   ]
  },
  {
   "cell_type": "code",
   "execution_count": 89,
   "id": "2b5d00ba-8881-44f2-ab13-1619dd5ff3bd",
   "metadata": {},
   "outputs": [],
   "source": [
    "class Employees:\n",
    "    def calculate_salary(self):\n",
    "        pass\n",
    "    \n",
    "class Manager(Employees):\n",
    "    def __init__(self,position_id):\n",
    "        self.position_id=position_id\n",
    "    def calculate_salary(self):\n",
    "        if 0 < self.position_id < 3:\n",
    "            return f\"The Manager salary is 100000.\"\n",
    "        else:\n",
    "            return f\"Please enter valid position_id\"\n",
    "        \n",
    "class Developer(Employees):\n",
    "    def __init__(self,position_id):\n",
    "        self.position_id=position_id\n",
    "    def calculate_salary(self):\n",
    "        if 3 < self.position_id < 8:\n",
    "            return f\"The Developer salary is 60000.\"\n",
    "        else:\n",
    "            return f\"Please enter valid position_id\"\n",
    "        \n",
    "class Designer(Employees):\n",
    "    def __init__(self,position_id):\n",
    "        self.position_id=position_id\n",
    "    def calculate_salary(self):\n",
    "        if 8 < self.position_id < 12:\n",
    "            return f\"The Designer salary is 50000.\"\n",
    "        else:\n",
    "            return f\"Please enter valid position_id\"\n",
    "        \n",
    "m=Manager(2)\n",
    "d=Developer(6)\n",
    "d1=Designer(9)"
   ]
  },
  {
   "cell_type": "code",
   "execution_count": 90,
   "id": "19faa155-87bf-443f-be98-5d1a9611bf10",
   "metadata": {},
   "outputs": [
    {
     "name": "stdout",
     "output_type": "stream",
     "text": [
      "The Manager salary is 100000.\n",
      "The Developer salary is 60000.\n",
      "The Designer salary is 50000.\n"
     ]
    }
   ],
   "source": [
    "print(m.calculate_salary())\n",
    "print(d.calculate_salary())\n",
    "print(d1.calculate_salary())"
   ]
  },
  {
   "cell_type": "code",
   "execution_count": 91,
   "id": "51705540-94ae-4fc3-9d80-bc346d9576c2",
   "metadata": {},
   "outputs": [
    {
     "name": "stdout",
     "output_type": "stream",
     "text": [
      "A function pointer is a variable that contains the address of a function. Function pointers can be used to achieve polymorphism, which is the ability to use a single name to refer to multiple different functions.\n"
     ]
    }
   ],
   "source": [
    "print(\"A function pointer is a variable that contains the address of a function. Function pointers can be used to achieve polymorphism, which is the ability to use a single name to refer to multiple different functions.\")"
   ]
  },
  {
   "cell_type": "code",
   "execution_count": 92,
   "id": "fdb498eb-9cd6-4bf3-b470-f553a2b08fb1",
   "metadata": {},
   "outputs": [],
   "source": [
    "class Zoo:\n",
    "    def __init__(self,eating,sleeping):\n",
    "        self.eating=eating\n",
    "        self.sleeping=sleeping\n",
    "\n",
    "class Mammals(Zoo):\n",
    "    def __init__(self,eating,sleeping,sound):\n",
    "        super().__init__(eating,sleeping)\n",
    "        self.sound=sound\n",
    "    def mammals_behavior(self):\n",
    "        print(f\"Mammals are eating {self.eating}.\")\n",
    "        print(f\"Mammals are {self.sleeping}.\")\n",
    "        print(f\"Mammals make sound {self.sound}.\")\n",
    "    \n",
    "class Birds(Zoo):\n",
    "    def __init__(self,eating,sleeping,sound):\n",
    "        super().__init__(eating,sleeping)\n",
    "        self.sound=sound\n",
    "    def birds_behavior(self):\n",
    "        print()\n",
    "        print(f\"Birds are eating {self.eating}.\")\n",
    "        print(f\"Birds are {self.sleeping}.\")\n",
    "        print(f\"Birds make sound {self.sound}.\")\n",
    "    \n",
    "class Reptiles(Zoo):\n",
    "    def __init__(self,eating,sleeping,sound):\n",
    "        super().__init__(eating,sleeping)\n",
    "        self.sound=sound\n",
    "    def reptiles_behavior(self):\n",
    "        print()\n",
    "        print(f\"Reptiles are eating {self.eating}.\")\n",
    "        print(f\"Reptiles are {self.sleeping}.\")\n",
    "        print(f\"Reptiles make sound {self.sound}.\")\n",
    "    \n",
    "m=Mammals('plants','sleeping','squeaky')\n",
    "b=Birds('insects','sleeping','chirping')\n",
    "r=Reptiles('small animals','sleeping','hissing')"
   ]
  },
  {
   "cell_type": "code",
   "execution_count": 93,
   "id": "5af00f91-5aed-4c4b-9a49-c3631d003ad2",
   "metadata": {},
   "outputs": [
    {
     "name": "stdout",
     "output_type": "stream",
     "text": [
      "Mammals are eating plants.\n",
      "Mammals are sleeping.\n",
      "Mammals make sound squeaky.\n",
      "\n",
      "Birds are eating insects.\n",
      "Birds are sleeping.\n",
      "Birds make sound chirping.\n",
      "\n",
      "Reptiles are eating small animals.\n",
      "Reptiles are sleeping.\n",
      "Reptiles make sound hissing.\n"
     ]
    }
   ],
   "source": [
    "m.mammals_behavior()\n",
    "b.birds_behavior()\n",
    "r.reptiles_behavior()"
   ]
  },
  {
   "cell_type": "markdown",
   "id": "fe345b1a-f742-411a-bf91-448768baa3a5",
   "metadata": {},
   "source": [
    "ABSTRACTION"
   ]
  },
  {
   "cell_type": "code",
   "execution_count": 1,
   "id": "29e088fd-6f5d-4a9e-9860-832d706cc8b2",
   "metadata": {},
   "outputs": [
    {
     "name": "stdout",
     "output_type": "stream",
     "text": [
      "Abstraction is a process of hiding unnecessary information from the user.\n",
      "Abstraction is used to hide the implementation details of a class and only expose the necessary features of the class to the user.\n"
     ]
    }
   ],
   "source": [
    "print(\"Abstraction is a process of hiding unnecessary information from the user.\")\n",
    "print(\"Abstraction is used to hide the implementation details of a class and only expose the necessary features of the class to the user.\")"
   ]
  },
  {
   "cell_type": "code",
   "execution_count": 2,
   "id": "e66bebec-b7bd-43ab-ae3e-7a65f647f2ef",
   "metadata": {},
   "outputs": [
    {
     "name": "stdout",
     "output_type": "stream",
     "text": [
      "By hiding unnecessary details, abstraction can make your code easier to understand and maintain. Additionally, abstraction can help you to reuse code more easily, which can save you time and effort.\n"
     ]
    }
   ],
   "source": [
    "print(\"By hiding unnecessary details, abstraction can make your code easier to understand and maintain. Additionally, abstraction can help you to reuse code more easily, which can save you time and effort.\")"
   ]
  },
  {
   "cell_type": "code",
   "execution_count": 3,
   "id": "72da25fd-fc38-4796-88c8-090e29be1f39",
   "metadata": {},
   "outputs": [],
   "source": [
    "from abc import ABC, abstractmethod\n",
    "class Shape:\n",
    "    @abstractmethod\n",
    "    def calculate_area(self):\n",
    "        pass\n",
    "    \n",
    "class Circle(Shape):\n",
    "    def __init__(self,radius):\n",
    "        self.radius=radius\n",
    "    def calculate_area(self):\n",
    "        a=3.14*self.radius**2\n",
    "        return f\"Area of circle is {a}.\"\n",
    "    \n",
    "class Rectangle(Shape):\n",
    "    def __init__(self,length,width):\n",
    "        self.length=length\n",
    "        self.width=width\n",
    "    def calculate_area(self):\n",
    "        a=self.length*self.width\n",
    "        return f\"Area of Rectangle is {a}.\"\n",
    "    \n",
    "c=Circle(8)\n",
    "r=Rectangle(3,7)"
   ]
  },
  {
   "cell_type": "code",
   "execution_count": 4,
   "id": "6e543b13-d80f-410e-bf83-44c7c9464fc6",
   "metadata": {},
   "outputs": [
    {
     "name": "stdout",
     "output_type": "stream",
     "text": [
      "Area of circle is 200.96.\n",
      "Area of Rectangle is 21.\n"
     ]
    }
   ],
   "source": [
    "print(c.calculate_area())\n",
    "print(r.calculate_area())"
   ]
  },
  {
   "cell_type": "code",
   "execution_count": 5,
   "id": "3fe34918-6bdf-4186-ad1d-e7526abbfb9e",
   "metadata": {},
   "outputs": [
    {
     "name": "stdout",
     "output_type": "stream",
     "text": [
      "Abstract classes are allow us to define a set of methods that must be implemented by any class that inherits from it.\n",
      "To define an abstract class in Python, we have to use abc module. This module provides a number of decorators that can be used to mark methods as abstract.\n",
      "\n",
      "Example:-\n",
      "from abc import ABC, abstractmethod\n",
      "class Polygon(ABC):\n",
      "    @abstractmethod\n",
      "    def noofsides(self):\n",
      "        pass\n",
      "class Triangle(Polygon):\n",
      "    def noofsides(self):\n",
      "        return 3\n"
     ]
    }
   ],
   "source": [
    "print(\"Abstract classes are allow us to define a set of methods that must be implemented by any class that inherits from it.\")\n",
    "print(\"To define an abstract class in Python, we have to use abc module. This module provides a number of decorators that can be used to mark methods as abstract.\")\n",
    "print('''\\nExample:-\n",
    "from abc import ABC, abstractmethod\n",
    "class Polygon(ABC):\n",
    "    @abstractmethod\n",
    "    def noofsides(self):\n",
    "        pass\n",
    "class Triangle(Polygon):\n",
    "    def noofsides(self):\n",
    "        return 3''')"
   ]
  },
  {
   "cell_type": "code",
   "execution_count": 6,
   "id": "12fb93dc-25e7-4648-8c0d-65126701e078",
   "metadata": {},
   "outputs": [
    {
     "name": "stdout",
     "output_type": "stream",
     "text": [
      "The main difference between an abstract class and a regular class is that we cannot create an instance of an abstract class. Instead, you can only inherit from it.\n",
      "Abstract classes are used to define a set of methods that must be created within any child classes built from the abstract class. This helps to ensure that all child classes have the same functionality.\n"
     ]
    }
   ],
   "source": [
    "print(\"The main difference between an abstract class and a regular class is that we cannot create an instance of an abstract class. Instead, you can only inherit from it.\")\n",
    "print(\"Abstract classes are used to define a set of methods that must be created within any child classes built from the abstract class. This helps to ensure that all child classes have the same functionality.\")"
   ]
  },
  {
   "cell_type": "code",
   "execution_count": 7,
   "id": "00d586c2-961d-4b12-a3ca-17d88dae8af5",
   "metadata": {},
   "outputs": [],
   "source": [
    "class Bank_account:\n",
    "    def __init__(self,account_number,balance):\n",
    "        self.account_number=account_number\n",
    "        self._balance=balance\n",
    "    def deposit(self,acc_number,amount):\n",
    "        if self.account_number == acc_number:\n",
    "            self._balance=self._balance+amount\n",
    "            return f\"Your amount is successfully deposited in your bank account.\"\n",
    "        else:\n",
    "            return f\"Sorry, you entered wrong account number. Enter again--\"\n",
    "    def withdraw(self,account_num,amount):\n",
    "        if self.account_number == account_num:\n",
    "            if self._balance > amount:\n",
    "                return f\"Your transaction is successful. Please collect your cash.\"\n",
    "            else:\n",
    "                return f\"Sorry, You don't have enough balance.\"\n",
    "        else:\n",
    "            return f\"Sorry, you entered wrong account number. Enter again--\"\n",
    "        \n",
    "b=Bank_account(9977553311,22387)"
   ]
  },
  {
   "cell_type": "code",
   "execution_count": 8,
   "id": "4868fe8d-ef96-487c-9727-288cd9cf63a5",
   "metadata": {},
   "outputs": [
    {
     "data": {
      "text/plain": [
       "'Your amount is successfully deposited in your bank account.'"
      ]
     },
     "execution_count": 8,
     "metadata": {},
     "output_type": "execute_result"
    }
   ],
   "source": [
    "b.deposit(9977553311,5000)"
   ]
  },
  {
   "cell_type": "code",
   "execution_count": 9,
   "id": "e66d6295-f0a5-4008-9db2-399bae4624b9",
   "metadata": {},
   "outputs": [
    {
     "data": {
      "text/plain": [
       "'Sorry, you entered wrong account number. Enter again--'"
      ]
     },
     "execution_count": 9,
     "metadata": {},
     "output_type": "execute_result"
    }
   ],
   "source": [
    "b.withdraw(9977553312,20000)"
   ]
  },
  {
   "cell_type": "code",
   "execution_count": 10,
   "id": "ec6f0da0-938c-493f-abf6-956daf5a99d9",
   "metadata": {},
   "outputs": [
    {
     "data": {
      "text/plain": [
       "'Your transaction is successful. Please collect your cash.'"
      ]
     },
     "execution_count": 10,
     "metadata": {},
     "output_type": "execute_result"
    }
   ],
   "source": [
    "b.withdraw(9977553311,20000)"
   ]
  },
  {
   "cell_type": "code",
   "execution_count": 11,
   "id": "363d05f1-8021-48ba-bffb-c46804555f02",
   "metadata": {},
   "outputs": [
    {
     "name": "stdout",
     "output_type": "stream",
     "text": [
      "Interface is a set of method signatures that a class must implement in order to be compatible with another class. Interfaces are used to define the functionality that a class must provide, while classes are used to implement that functionality.\n"
     ]
    }
   ],
   "source": [
    "print(\"Interface is a set of method signatures that a class must implement in order to be compatible with another class. Interfaces are used to define the functionality that a class must provide, while classes are used to implement that functionality.\")"
   ]
  },
  {
   "cell_type": "code",
   "execution_count": 12,
   "id": "db9fbbec-728a-4584-8c81-b3eb1882faf3",
   "metadata": {},
   "outputs": [
    {
     "name": "stdout",
     "output_type": "stream",
     "text": [
      "Mammals eating meat.\n",
      "I'm sleeping in a warm bed.\n",
      "\n",
      "Birds eating seeds.\n",
      "I'm sleeping in a tree.\n",
      "\n",
      "Fishes eating plankton.\n",
      "I'm sleeping in the water.\n"
     ]
    }
   ],
   "source": [
    "from abc import ABC, abstractmethod\n",
    "class Animal(ABC):\n",
    "    @abstractmethod\n",
    "    def eat(self):\n",
    "        pass\n",
    "    @abstractmethod\n",
    "    def sleep(self):\n",
    "        pass\n",
    "\n",
    "class Mammal(Animal):\n",
    "    def eat(self):\n",
    "        print(\"Mammals eating meat.\")\n",
    "    def sleep(self):\n",
    "        print(\"I'm sleeping in a warm bed.\")\n",
    "\n",
    "class Bird(Animal):\n",
    "    def eat(self):\n",
    "        print()\n",
    "        print(\"Birds eating seeds.\")\n",
    "    def sleep(self):\n",
    "        print(\"I'm sleeping in a tree.\")\n",
    "\n",
    "class Fish(Animal):\n",
    "    def eat(self):\n",
    "        print()\n",
    "        print(\"Fishes eating plankton.\")\n",
    "    def sleep(self):\n",
    "        print(\"I'm sleeping in the water.\")\n",
    "\n",
    "\n",
    "animals = [Mammal(), Bird(), Fish()]\n",
    "for animal in animals:\n",
    "    animal.eat()\n",
    "    animal.sleep()"
   ]
  },
  {
   "cell_type": "code",
   "execution_count": 15,
   "id": "89899e82-393c-46c1-afdf-1b82c89d218e",
   "metadata": {},
   "outputs": [
    {
     "name": "stdout",
     "output_type": "stream",
     "text": [
      "Encapsulation is significant in achieving abstraction in Python because it allows us to hide the implementation details of a class from its users.\n",
      "This can make code more readable and maintainable, as well as more secure, since users cannot accidentally modify the data or functionality of a class.\n",
      "\n",
      "Example:-\n",
      "class Employee:\n",
      "    def __init__(self, name, salary):\n",
      "        self.name = name\n",
      "        self.salary = salary\n",
      "    def show(self):\n",
      "        print(\"My name is {} and my salary is {}\".format(self.name, self.salary))\n",
      "employee = Employee(\"Gnanesh\", 100000)\n",
      "employee.show()\n"
     ]
    }
   ],
   "source": [
    "print(\"Encapsulation is significant in achieving abstraction in Python because it allows us to hide the implementation details of a class from its users.\")\n",
    "print(\"This can make code more readable and maintainable, as well as more secure, since users cannot accidentally modify the data or functionality of a class.\")\n",
    "print('''\\nExample:-\n",
    "class Employee:\n",
    "    def __init__(self, name, salary):\n",
    "        self.name = name\n",
    "        self.salary = salary\n",
    "    def show(self):\n",
    "        print(\"My name is {} and my salary is {}\".format(self.name, self.salary))\n",
    "employee = Employee(\"Gnanesh\", 100000)\n",
    "employee.show()''')"
   ]
  },
  {
   "cell_type": "code",
   "execution_count": 16,
   "id": "41c76200-60bc-4f1c-937d-22658ce68328",
   "metadata": {},
   "outputs": [
    {
     "name": "stdout",
     "output_type": "stream",
     "text": [
      "Abstract methods can be used to enforce abstraction in Python classes by preventing the creation of objects of the abstract class itself. Any class that inherits from an abstract class must implement the abstract methods in order to be instantiated.\n"
     ]
    }
   ],
   "source": [
    "print(\"Abstract methods can be used to enforce abstraction in Python classes by preventing the creation of objects of the abstract class itself. Any class that inherits from an abstract class must implement the abstract methods in order to be instantiated.\")"
   ]
  },
  {
   "cell_type": "code",
   "execution_count": 17,
   "id": "a3ee8bfc-9271-4c95-8d5b-550f1e6341f1",
   "metadata": {},
   "outputs": [],
   "source": [
    "from abc import ABC, abstractmethod\n",
    "class Vehicle(ABC):\n",
    "    @abstractmethod\n",
    "    def start(self):\n",
    "        pass\n",
    "    @abstractmethod\n",
    "    def stop(self):\n",
    "        pass\n",
    "\n",
    "class Car(Vehicle):\n",
    "    def start(self):\n",
    "        print(\"Starting the car with start/stop botton.\")\n",
    "    def stop(self):\n",
    "        print(\"Stopping the car with break.\")\n",
    "\n",
    "class Truck(Vehicle):\n",
    "    def start(self):\n",
    "        print()\n",
    "        print(\"Starting the truck with key.\")\n",
    "    def stop(self):\n",
    "        print(\"Stopping the truck with air break.\")\n",
    "\n",
    "c = Car()\n",
    "t = Truck()"
   ]
  },
  {
   "cell_type": "code",
   "execution_count": 18,
   "id": "b6081c65-9890-420d-b3f5-188a3cd01164",
   "metadata": {},
   "outputs": [
    {
     "name": "stdout",
     "output_type": "stream",
     "text": [
      "Starting the car with start/stop botton.\n",
      "Stopping the car with break.\n",
      "\n",
      "Starting the truck with key.\n",
      "Stopping the truck with air break.\n"
     ]
    }
   ],
   "source": [
    "c.start()\n",
    "c.stop()\n",
    "t.start()\n",
    "t.stop()"
   ]
  },
  {
   "cell_type": "code",
   "execution_count": 19,
   "id": "c30280d2-1bee-4681-bebb-c797eebbce42",
   "metadata": {},
   "outputs": [
    {
     "name": "stdout",
     "output_type": "stream",
     "text": [
      " Abstract properties are used in conjunction with abstract classes to provide a way of enforcing that certain methods or properties must be implemented by subclasses.\n"
     ]
    }
   ],
   "source": [
    "print(\" Abstract properties are used in conjunction with abstract classes to provide a way of enforcing that certain methods or properties must be implemented by subclasses.\")"
   ]
  },
  {
   "cell_type": "code",
   "execution_count": 20,
   "id": "68f35189-daa7-4c8f-9e56-9ab3788cfffd",
   "metadata": {},
   "outputs": [],
   "source": [
    "from abc import ABC, abstractmethod\n",
    "class Employees(ABC):\n",
    "    @abstractmethod\n",
    "    def calculate_salary(self):\n",
    "        pass\n",
    "    \n",
    "class Manager(Employees):\n",
    "    def __init__(self,position_id):\n",
    "        self.position_id=position_id\n",
    "    def calculate_salary(self):\n",
    "        if 0 < self.position_id < 3:\n",
    "            return f\"The Manager salary is 100000.\"\n",
    "        else:\n",
    "            return f\"Please enter valid position_id\"\n",
    "        \n",
    "class Developer(Employees):\n",
    "    def __init__(self,position_id):\n",
    "        self.position_id=position_id\n",
    "    def calculate_salary(self):\n",
    "        if 3 < self.position_id < 8:\n",
    "            return f\"The Developer salary is 60000.\"\n",
    "        else:\n",
    "            return f\"Please enter valid position_id\"\n",
    "        \n",
    "class Designer(Employees):\n",
    "    def __init__(self,position_id):\n",
    "        self.position_id=position_id\n",
    "    def calculate_salary(self):\n",
    "        if 8 < self.position_id < 12:\n",
    "            return f\"The Designer salary is 50000.\"\n",
    "        else:\n",
    "            return f\"Please enter valid position_id\"\n",
    "        \n",
    "m=Manager(2)\n",
    "d=Developer(6)\n",
    "d1=Designer(9)"
   ]
  },
  {
   "cell_type": "code",
   "execution_count": 21,
   "id": "64d633e1-5f27-4a96-89e4-8f934476cb75",
   "metadata": {},
   "outputs": [
    {
     "name": "stdout",
     "output_type": "stream",
     "text": [
      "The Manager salary is 100000.\n",
      "The Developer salary is 60000.\n",
      "The Designer salary is 50000.\n"
     ]
    }
   ],
   "source": [
    "print(m.calculate_salary())\n",
    "print(d.calculate_salary())\n",
    "print(d1.calculate_salary())"
   ]
  },
  {
   "cell_type": "code",
   "execution_count": 22,
   "id": "af9d3f44-5d07-4a27-9ece-302589ee3d3d",
   "metadata": {},
   "outputs": [
    {
     "name": "stdout",
     "output_type": "stream",
     "text": [
      "Abstract classes are classes that cannot be instantiated. They are used to define a blueprint for other classes to follow. Concrete classes are classes that can be instantiated and used on their own.\n"
     ]
    }
   ],
   "source": [
    "print(\"Abstract classes are classes that cannot be instantiated. They are used to define a blueprint for other classes to follow. Concrete classes are classes that can be instantiated and used on their own.\")"
   ]
  },
  {
   "cell_type": "code",
   "execution_count": 23,
   "id": "ab281ae1-a2c7-4fad-8895-19a845cc26e7",
   "metadata": {},
   "outputs": [],
   "source": [
    "from abc import ABC, abstractmethod\n",
    "class ComputerSystem(ABC):\n",
    "    @abstractmethod\n",
    "    def power_on(self):\n",
    "        pass\n",
    "    @abstractmethod\n",
    "    def shutdown(self):\n",
    "        pass\n",
    "\n",
    "class Laptop(ComputerSystem):\n",
    "    def power_on(self):\n",
    "        print(\"Turning on the laptop with button.\")\n",
    "    def shutdown(self):\n",
    "        print(\"Turning off the laptop with Alt+F4.\")\n",
    "\n",
    "class Desktop(ComputerSystem):\n",
    "    def power_on(self):\n",
    "        print()\n",
    "        print(\"Turning on the desktop with switch.\")\n",
    "    def shutdown(self):\n",
    "        print(\"Turning off the desktop with shutdown option in power menu.\")\n",
    "\n",
    "laptop = Laptop()\n",
    "desktop = Desktop()"
   ]
  },
  {
   "cell_type": "code",
   "execution_count": 24,
   "id": "8763e308-df63-4f79-9c7e-75125129241a",
   "metadata": {},
   "outputs": [
    {
     "name": "stdout",
     "output_type": "stream",
     "text": [
      "Turning on the laptop with button.\n",
      "Turning off the laptop with Alt+F4.\n",
      "\n",
      "Turning on the desktop with switch.\n",
      "Turning off the desktop with shutdown option in power menu.\n"
     ]
    }
   ],
   "source": [
    "laptop.power_on()\n",
    "laptop.shutdown()\n",
    "desktop.power_on()\n",
    "desktop.shutdown()"
   ]
  },
  {
   "cell_type": "code",
   "execution_count": 25,
   "id": "e88cf4b8-391d-482d-ae76-b6bf697c5afa",
   "metadata": {},
   "outputs": [
    {
     "name": "stdout",
     "output_type": "stream",
     "text": [
      "Abstraction can help to reduce code complexity by hiding unnecessary details from the user.\n",
      "Abstraction can help to increase the scalability of software by allowing developers to focus on the high-level design of the system.\n",
      "Abstraction can help to improve the flexibility of software by allowing developers to easily change or extend the functionality of the system without having to make changes to the underlying code.\n",
      "Abstraction can help to increase the productivity of developers by allowing them to reuse code and focus on more creative and strategic tasks.\n"
     ]
    }
   ],
   "source": [
    "print(\"Abstraction can help to reduce code complexity by hiding unnecessary details from the user.\\nAbstraction can help to increase the scalability of software by allowing developers to focus on the high-level design of the system.\\nAbstraction can help to improve the flexibility of software by allowing developers to easily change or extend the functionality of the system without having to make changes to the underlying code.\\nAbstraction can help to increase the productivity of developers by allowing them to reuse code and focus on more creative and strategic tasks.\")"
   ]
  },
  {
   "cell_type": "code",
   "execution_count": 26,
   "id": "384f9791-116c-41fe-9f8a-4f484cfc579e",
   "metadata": {},
   "outputs": [
    {
     "name": "stdout",
     "output_type": "stream",
     "text": [
      "Abstraction allows developers to focus on the essential characteristics of a problem while ignoring the details.\n",
      "Functions are blocks of code that can be reused throughout a program. \n"
     ]
    }
   ],
   "source": [
    "print(\"Abstraction allows developers to focus on the essential characteristics of a problem while ignoring the details.\\nFunctions are blocks of code that can be reused throughout a program. \")"
   ]
  },
  {
   "cell_type": "code",
   "execution_count": 27,
   "id": "388ce4ee-cd0b-4d64-bb68-74c3d9a496c8",
   "metadata": {},
   "outputs": [],
   "source": [
    "from abc import ABC, abstractmethod\n",
    "class Library(ABC):\n",
    "    @abstractmethod\n",
    "    def add_book(self, book):\n",
    "        self.book=book\n",
    "    @abstractmethod\n",
    "    def borrow_book(self, book):\n",
    "        self.book1=book\n",
    "\n",
    "class Virtual_Library(Library):\n",
    "    def __init__(self,book):\n",
    "        self.book=book\n",
    "    def add_book(self, book):\n",
    "        self.book.append(book)\n",
    "        return f\"Your book is successfully added to the library.\"\n",
    "    def borrow_book(self, book):\n",
    "        if book in self.book :\n",
    "            self.book.remove(book)\n",
    "            return f\"Your book is available. Please collect it from register desk.\"\n",
    "        else:\n",
    "            return f\"Sorry, book is not available\"\n",
    "\n",
    "v=Virtual_Library(['Harry Potter','A passage of India','Time Machine'])"
   ]
  },
  {
   "cell_type": "code",
   "execution_count": 28,
   "id": "acadb2ac-a69d-443b-9f4f-cbada7cf3ee0",
   "metadata": {},
   "outputs": [
    {
     "data": {
      "text/plain": [
       "'Your book is available. Please collect it from register desk.'"
      ]
     },
     "execution_count": 28,
     "metadata": {},
     "output_type": "execute_result"
    }
   ],
   "source": [
    "v.borrow_book('Harry Potter')"
   ]
  },
  {
   "cell_type": "code",
   "execution_count": 29,
   "id": "acf4e588-05c4-4290-a975-226cab9f94cd",
   "metadata": {},
   "outputs": [
    {
     "data": {
      "text/plain": [
       "'Your book is successfully added to the library.'"
      ]
     },
     "execution_count": 29,
     "metadata": {},
     "output_type": "execute_result"
    }
   ],
   "source": [
    "v.add_book('Harry Potter')"
   ]
  },
  {
   "cell_type": "code",
   "execution_count": 30,
   "id": "605b0797-e773-443b-a3c1-f3f558e19dc6",
   "metadata": {},
   "outputs": [
    {
     "name": "stdout",
     "output_type": "stream",
     "text": [
      "Method abstraction is a concept that allows us to hide the implementation details of a method from the user. This can be done by using the abstract decorator.\n"
     ]
    }
   ],
   "source": [
    "print(\"Method abstraction is a concept that allows us to hide the implementation details of a method from the user. This can be done by using the abstract decorator.\")"
   ]
  },
  {
   "cell_type": "markdown",
   "id": "6a3b375a-0eea-4aca-b803-b2f3a1bf36cd",
   "metadata": {},
   "source": [
    "COMPOSITION"
   ]
  },
  {
   "cell_type": "code",
   "execution_count": 31,
   "id": "079191b7-16da-4f5d-b7e3-fa3c27702fad",
   "metadata": {},
   "outputs": [
    {
     "name": "stdout",
     "output_type": "stream",
     "text": [
      "Composition is allows us to create complex objects from simpler ones. This is done by creating a class that references one or more objects of other classes.\n"
     ]
    }
   ],
   "source": [
    "print(\"Composition is allows us to create complex objects from simpler ones. This is done by creating a class that references one or more objects of other classes.\")"
   ]
  },
  {
   "cell_type": "code",
   "execution_count": 32,
   "id": "1438a085-0b4b-428e-9818-2f9bce8d86e8",
   "metadata": {},
   "outputs": [
    {
     "name": "stdout",
     "output_type": "stream",
     "text": [
      "Composition is a relationship where one class, called the composite, contains another class, called the component. The composite class uses the component class to provide its functionality.\n",
      "Inheritance is a relationship where one class, called the child, inherits from another class, called the parent. The child class inherits all of the parent class's attributes and methods, and can also have its own attributes and methods.\n"
     ]
    }
   ],
   "source": [
    "print(\"Composition is a relationship where one class, called the composite, contains another class, called the component. The composite class uses the component class to provide its functionality.\")\n",
    "print(\"Inheritance is a relationship where one class, called the child, inherits from another class, called the parent. The child class inherits all of the parent class's attributes and methods, and can also have its own attributes and methods.\")"
   ]
  },
  {
   "cell_type": "code",
   "execution_count": 33,
   "id": "dcd4b7e2-ce7a-4284-ad23-3038f50e6237",
   "metadata": {},
   "outputs": [],
   "source": [
    "class Author:\n",
    "    def __init__(self, name, birthdate):\n",
    "        self.name = name\n",
    "        self.birthdate = birthdate\n",
    "\n",
    "class Book:\n",
    "    def __init__(self, title, author):\n",
    "        self.title = title\n",
    "        self.author = author\n",
    "\n",
    "author = Author(\"John Doe\", \"1970-01-01\")\n",
    "book = Book(\"The Hitchhiker's Guide to the Galaxy\", author)"
   ]
  },
  {
   "cell_type": "code",
   "execution_count": 34,
   "id": "4680955b-ca7f-4c17-8ec4-fb17bb6ef4ca",
   "metadata": {},
   "outputs": [
    {
     "name": "stdout",
     "output_type": "stream",
     "text": [
      "John Doe 1970-01-01\n",
      "The Hitchhiker's Guide to the Galaxy John Doe\n"
     ]
    }
   ],
   "source": [
    "print(author.name, author.birthdate)\n",
    "print(book.title, book.author.name)"
   ]
  },
  {
   "cell_type": "code",
   "execution_count": 35,
   "id": "0a22ebbf-42a6-4d09-a96f-f32699d1ae55",
   "metadata": {},
   "outputs": [
    {
     "name": "stdout",
     "output_type": "stream",
     "text": [
      "Composition is more flexible than inheritance, you are limited to the functionality that is provided by the base class with composition, you can combine objects from different classes to create new objects with the functionality that you need.\n",
      "composition is more reusable. When we inherit from a class, you are essentially copying the functionality of that class into your own class. \n"
     ]
    }
   ],
   "source": [
    "print(\"Composition is more flexible than inheritance, you are limited to the functionality that is provided by the base class with composition, you can combine objects from different classes to create new objects with the functionality that you need.\")\n",
    "print(\"composition is more reusable. When we inherit from a class, you are essentially copying the functionality of that class into your own class. \")"
   ]
  },
  {
   "cell_type": "code",
   "execution_count": 36,
   "id": "28947069-0f07-4653-9471-295a6adde54f",
   "metadata": {},
   "outputs": [
    {
     "name": "stdout",
     "output_type": "stream",
     "text": [
      "In composition we creating objects of other classes and using those instances within the class.\n",
      "\n",
      "Example:-\n",
      "class Car:\n",
      "    def __init__(self):\n",
      "        self.engine = Engine()\n",
      "    def drive(self):\n",
      "        self.engine.start()\n",
      "        self.engine.accelerate()\n"
     ]
    }
   ],
   "source": [
    "print(\"In composition we creating objects of other classes and using those instances within the class.\")\n",
    "print('''\\nExample:-\n",
    "class Car:\n",
    "    def __init__(self):\n",
    "        self.engine = Engine()\n",
    "    def drive(self):\n",
    "        self.engine.start()\n",
    "        self.engine.accelerate()''')"
   ]
  },
  {
   "cell_type": "code",
   "execution_count": 37,
   "id": "e4c4f8d4-afe9-4108-b655-55806c4c0022",
   "metadata": {},
   "outputs": [],
   "source": [
    "class MusicPlayer:\n",
    "    def __init__(self):\n",
    "        self.playlists = []\n",
    "    def add_playlist(self, playlist):\n",
    "        self.playlists.append(playlist)\n",
    "    def remove_playlist(self, playlist):\n",
    "        self.playlists.remove(playlist)\n",
    "    def play_playlist(self, playlist):\n",
    "        playlist.play()\n",
    "    def stop_playlist(self, playlist):\n",
    "        playlist.stop()\n",
    "\n",
    "class Playlist:\n",
    "    def __init__(self):\n",
    "        self.songs = []\n",
    "    def add_song(self, song):\n",
    "        self.songs.append(song)\n",
    "    def remove_song(self, song):\n",
    "        self.songs.remove(song)\n",
    "    def play(self):\n",
    "        for song in self.songs:\n",
    "            song.play()\n",
    "    def stop(self):\n",
    "        for song in self.songs:\n",
    "            song.stop()\n",
    "\n",
    "class Song:\n",
    "    def __init__(self, title, artist):\n",
    "        self.title = title\n",
    "        self.artist = artist\n",
    "    def play(self):\n",
    "        print(\"Playing {} by {}\".format(self.title, self.artist))\n",
    "    def stop(self):\n",
    "        print(\"Stopping {} by {}\".format(self.title, self.artist))\n",
    "\n",
    "m=MusicPlayer()\n",
    "p=Playlist()\n",
    "s=Song('Leo','Anirudh')"
   ]
  },
  {
   "cell_type": "code",
   "execution_count": 38,
   "id": "f64dd575-52e1-4627-88bd-84afcbd0b4ab",
   "metadata": {},
   "outputs": [],
   "source": [
    "m.add_playlist(['Telugu songs','English songs'])"
   ]
  },
  {
   "cell_type": "code",
   "execution_count": 39,
   "id": "451bc12f-8937-481a-bf84-20871e150e1a",
   "metadata": {},
   "outputs": [
    {
     "name": "stdout",
     "output_type": "stream",
     "text": [
      "Playing Leo by Anirudh\n"
     ]
    }
   ],
   "source": [
    "s.play()"
   ]
  },
  {
   "cell_type": "code",
   "execution_count": 40,
   "id": "9218ffc6-8be3-4d41-b72d-b461a60ddd08",
   "metadata": {},
   "outputs": [
    {
     "name": "stdout",
     "output_type": "stream",
     "text": [
      "Stopping Leo by Anirudh\n"
     ]
    }
   ],
   "source": [
    "s.stop()"
   ]
  },
  {
   "cell_type": "code",
   "execution_count": 41,
   "id": "6df6c835-49e9-4711-b74a-5400562ea0fb",
   "metadata": {},
   "outputs": [
    {
     "name": "stdout",
     "output_type": "stream",
     "text": [
      "The 'has-a' relationship in composition is a way of creating complex objects by combining objects of other types.This relationship is known as 'has-a' because it indicates that one object has another object as part of itself.\n"
     ]
    }
   ],
   "source": [
    "print(\"The 'has-a' relationship in composition is a way of creating complex objects by combining objects of other types.This relationship is known as 'has-a' because it indicates that one object has another object as part of itself.\")"
   ]
  },
  {
   "cell_type": "code",
   "execution_count": 42,
   "id": "0683eaaf-437c-42ba-b159-d5f443124197",
   "metadata": {},
   "outputs": [
    {
     "name": "stdout",
     "output_type": "stream",
     "text": [
      "CPU: Intel Core i7 with 8 cores\n",
      "RAM: 16GB DDR4\n",
      "Storage: 1TB SSD\n"
     ]
    }
   ],
   "source": [
    "class Computer:\n",
    "    def __init__(self, cpu, ram, storage):\n",
    "        self.cpu = cpu\n",
    "        self.ram = ram\n",
    "        self.storage = storage\n",
    "    def get_cpu_info(self):\n",
    "        return self.cpu.get_info()\n",
    "    def get_ram_info(self):\n",
    "        return self.ram.get_info()\n",
    "    def get_storage_info(self):\n",
    "        return self.storage.get_info()\n",
    "\n",
    "class CPU:\n",
    "    def __init__(self, name, model, number_of_cores):\n",
    "        self.name = name\n",
    "        self.model = model\n",
    "        self.number_of_cores = number_of_cores\n",
    "    def get_info(self):\n",
    "        return f\"CPU: {self.name} {self.model} with {self.number_of_cores} cores\"\n",
    "\n",
    "class RAM:\n",
    "    def __init__(self, size, type):\n",
    "        self.size = size\n",
    "        self.type = type\n",
    "    def get_info(self):\n",
    "        return f\"RAM: {self.size} {self.type}\"\n",
    "\n",
    "class Storage:\n",
    "    def __init__(self, size, type):\n",
    "        self.size = size\n",
    "        self.type = type\n",
    "    def get_info(self):\n",
    "        return f\"Storage: {self.size} {self.type}\"\n",
    "\n",
    "c = Computer(CPU(\"Intel\", \"Core i7\", 8), RAM(\"16GB\", \"DDR4\"), Storage(\"1TB\", \"SSD\"))\n",
    "print(c.get_cpu_info())\n",
    "print(c.get_ram_info())\n",
    "print(c.get_storage_info())"
   ]
  },
  {
   "cell_type": "code",
   "execution_count": 43,
   "id": "5551f827-7568-4632-9533-918d1180f82e",
   "metadata": {},
   "outputs": [
    {
     "name": "stdout",
     "output_type": "stream",
     "text": [
      "Delegation is a design pattern that allows an object to pass on a request to another object. This can be used to simplify the design of complex systems by allowing objects to focus on their own responsibilities.\n"
     ]
    }
   ],
   "source": [
    "print(\"Delegation is a design pattern that allows an object to pass on a request to another object. This can be used to simplify the design of complex systems by allowing objects to focus on their own responsibilities.\")"
   ]
  },
  {
   "cell_type": "code",
   "execution_count": 44,
   "id": "3f739b0e-bafe-4c24-94c4-4d3a881fa8ae",
   "metadata": {},
   "outputs": [
    {
     "name": "stdout",
     "output_type": "stream",
     "text": [
      "The engine is starting.\n",
      "The wheels are turning.\n",
      "The transmission is shifting.\n",
      "The engine is stopping.\n",
      "The wheels are stopping.\n",
      "The transmission is in neutral.\n"
     ]
    }
   ],
   "source": [
    "class Car:\n",
    "    def __init__(self, engine, wheels, transmission):\n",
    "        self.engine = engine\n",
    "        self.wheels = wheels\n",
    "        self.transmission = transmission\n",
    "    def drive(self):\n",
    "        self.engine.start()\n",
    "        self.wheels.turn()\n",
    "        self.transmission.shift()\n",
    "    def stop(self):\n",
    "        self.engine.stop()\n",
    "        self.wheels.stop()\n",
    "        self.transmission.neutral()\n",
    "\n",
    "class Engine:\n",
    "    def __init__(self):\n",
    "        pass\n",
    "    def start(self):\n",
    "        print(\"The engine is starting.\")\n",
    "    def stop(self):\n",
    "        print(\"The engine is stopping.\")\n",
    "\n",
    "class Wheels:\n",
    "    def __init__(self):\n",
    "        pass\n",
    "    def turn(self):\n",
    "        print(\"The wheels are turning.\")\n",
    "    def stop(self):\n",
    "        print(\"The wheels are stopping.\")\n",
    "\n",
    "class Transmission:\n",
    "    def __init__(self):\n",
    "        pass\n",
    "    def shift(self):\n",
    "        print(\"The transmission is shifting.\")\n",
    "    def neutral(self):\n",
    "        print(\"The transmission is in neutral.\")\n",
    "\n",
    "car = Car(Engine(), Wheels(), Transmission())\n",
    "car.drive()\n",
    "car.stop()"
   ]
  },
  {
   "cell_type": "code",
   "execution_count": 45,
   "id": "71ef9327-d142-4d46-bed5-b483a1e82ff0",
   "metadata": {},
   "outputs": [
    {
     "name": "stdout",
     "output_type": "stream",
     "text": [
      "Encapsulation in Python can be achieved by using access modifiers, private and protected variables, and getter and setter methods. Access modifiers control the accessibility of variables or methods within a class. Private variables are only accessible within the class, while protected variables are accessible within the class and its subclasses. Getter and setter methods are used to access and modify the values of private variables.\n"
     ]
    }
   ],
   "source": [
    "print(\"Encapsulation in Python can be achieved by using access modifiers, private and protected variables, and getter and setter methods. Access modifiers control the accessibility of variables or methods within a class. Private variables are only accessible within the class, while protected variables are accessible within the class and its subclasses. Getter and setter methods are used to access and modify the values of private variables.\")"
   ]
  },
  {
   "cell_type": "code",
   "execution_count": 46,
   "id": "028ebb73-611e-4f71-9236-fcf230f4eb44",
   "metadata": {},
   "outputs": [],
   "source": [
    "class Course:\n",
    "    def __init__(self, instructor, students, materials):\n",
    "        self.instructor = instructor\n",
    "        self.students = students\n",
    "        self.materials = materials\n",
    "\n",
    "    def get_students(self):\n",
    "        return self.students\n",
    "\n",
    "    def add_student(self, student):\n",
    "        self.students.append(student)\n",
    "\n",
    "    def remove_student(self, student):\n",
    "        self.students.remove(student)\n",
    "\n",
    "    def get_instructor(self):\n",
    "        return self.instructor\n",
    "\n",
    "    def set_instructor(self, instructor):\n",
    "        self.instructor = instructor\n",
    "\n",
    "    def get_materials(self):\n",
    "        return self.materials\n",
    "\n",
    "    def add_material(self, material):\n",
    "        self.materials.append(material)\n",
    "\n",
    "    def remove_material(self, material):\n",
    "        self.materials.remove(material)\n",
    "\n",
    "    def __str__(self):\n",
    "        return \"Instructor: {} Students: {} Materials: {}\".format(self.instructor, self.students, self.materials)"
   ]
  },
  {
   "cell_type": "code",
   "execution_count": 47,
   "id": "b6a72df0-abca-487e-b09d-adf05e69523d",
   "metadata": {},
   "outputs": [
    {
     "name": "stdout",
     "output_type": "stream",
     "text": [
      "Instructor: ['Sudhanshu', 'Priya'] Students: ['Gnanesh', 'Rishi', 'Kavya'] Materials: ['Python material', 'Data Analysis']\n"
     ]
    }
   ],
   "source": [
    "c = Course([\"Sudhanshu\",\"Priya\"], [\"Gnanesh\", \"Rishi\", \"Kavya\"],[\"Python material\",\"Data Analysis\"])\n",
    "print(c)"
   ]
  },
  {
   "cell_type": "code",
   "execution_count": 54,
   "id": "add4dabd-aa48-43d1-83ff-712114adef32",
   "metadata": {},
   "outputs": [
    {
     "name": "stdout",
     "output_type": "stream",
     "text": [
      "_____The Main Menu____\n",
      "**Chicken Alfredo**\n",
      "['chicken', 'pasta', ' Alfredo sauce']\n",
      "**Steak**\n",
      "['steak', 'potatoes', 'vegetables']\n"
     ]
    }
   ],
   "source": [
    "class Menu:\n",
    "    def __init__(self, name):\n",
    "        self.name = name\n",
    "        self.dishes = []\n",
    "    def add_dish(self, dish):\n",
    "        self.dishes.append(dish)\n",
    "    def print_menu(self):\n",
    "        print(\"_____\" + self.name + \"____\")\n",
    "        for dish in self.dishes:\n",
    "            dish.print_dish()\n",
    "\n",
    "class Dish:\n",
    "    def __init__(self, name, ingredients):\n",
    "        self.name = name\n",
    "        self.ingredients = ingredients\n",
    "    def print_dish(self):\n",
    "        print(\"**\" + self.name + \"**\")\n",
    "        print(self.ingredients)\n",
    "\n",
    "menu = Menu(\"The Main Menu\")\n",
    "dish1 = Dish(\"Chicken Alfredo\", [\"chicken\", \"pasta\", \" Alfredo sauce\"])\n",
    "dish2 = Dish(\"Steak\", [\"steak\", \"potatoes\", \"vegetables\"])\n",
    "menu.add_dish(dish1)\n",
    "menu.add_dish(dish2)\n",
    "menu.print_menu()"
   ]
  },
  {
   "cell_type": "code",
   "execution_count": 55,
   "id": "17ef5b3a-0d82-47a7-92e3-50f855aad198",
   "metadata": {},
   "outputs": [
    {
     "name": "stdout",
     "output_type": "stream",
     "text": [
      "Composition can help to reduce code duplication.\n",
      "Composition can help to make your code more modular.\n",
      "composition can help to improve the readability of your code.\n"
     ]
    }
   ],
   "source": [
    "print(\"Composition can help to reduce code duplication.\\nComposition can help to make your code more modular.\\ncomposition can help to improve the readability of your code.\")"
   ]
  },
  {
   "cell_type": "code",
   "execution_count": 68,
   "id": "dc0172dd-1640-460a-a6fc-2962ccd22621",
   "metadata": {},
   "outputs": [],
   "source": [
    "class Character:\n",
    "    def __init__(self, name, level, health,weapon,armor,inventory):\n",
    "        self.name = name\n",
    "        self.level = level\n",
    "        self.health = health\n",
    "        self.weapons = []\n",
    "        self.armor = []\n",
    "        self.inventory = []\n",
    "\n",
    "    def add_weapon(self, weapon):\n",
    "        self.weapons.append(weapon)\n",
    "\n",
    "    def remove_weapon(self, weapon):\n",
    "        self.weapons.remove(weapon)\n",
    "\n",
    "    def add_armor(self, armor):\n",
    "        self.armor.append(armor)\n",
    "\n",
    "    def remove_armor(self, armor):\n",
    "        self.armor.remove(armor)\n",
    "\n",
    "    def add_inventory(self, item):\n",
    "        self.inventory.append(item)\n",
    "\n",
    "    def remove_inventory(self, item):\n",
    "        self.inventory.remove(item)\n",
    "\n",
    "    def attack(self, enemy):\n",
    "        self.health=self.health+10\n",
    "        return f\"You are attacking {enemy}!\"\n",
    "        \n",
    "    def defend(self, enemy):\n",
    "        self.health=self.health-27\n",
    "        return f\"You are defending {enemy}!\"\n",
    "      \n",
    "    def get_health(self):\n",
    "        return self.health\n",
    "        \n",
    "c=Character('Gnanesh',14,100,['AK47','Scarl'],['Silver shield','Golden shield'],['store items','use items'])"
   ]
  },
  {
   "cell_type": "code",
   "execution_count": 69,
   "id": "6eea4a03-470b-420d-9aaf-0577f52a69af",
   "metadata": {},
   "outputs": [
    {
     "data": {
      "text/plain": [
       "'You are attacking John!'"
      ]
     },
     "execution_count": 69,
     "metadata": {},
     "output_type": "execute_result"
    }
   ],
   "source": [
    "c.attack('John')"
   ]
  },
  {
   "cell_type": "code",
   "execution_count": 70,
   "id": "7f42ed95-e2cc-4927-bc52-c2d5aa2837fe",
   "metadata": {},
   "outputs": [
    {
     "data": {
      "text/plain": [
       "'You are defending Mark!'"
      ]
     },
     "execution_count": 70,
     "metadata": {},
     "output_type": "execute_result"
    }
   ],
   "source": [
    "c.defend('Mark')"
   ]
  },
  {
   "cell_type": "code",
   "execution_count": 71,
   "id": "6993cfc6-b8f1-4af1-b989-aba2c54d8dbc",
   "metadata": {},
   "outputs": [
    {
     "data": {
      "text/plain": [
       "83"
      ]
     },
     "execution_count": 71,
     "metadata": {},
     "output_type": "execute_result"
    }
   ],
   "source": [
    "c.get_health()"
   ]
  },
  {
   "cell_type": "code",
   "execution_count": 72,
   "id": "0c442ec6-5795-4519-a28a-aae705079b7d",
   "metadata": {},
   "outputs": [
    {
     "name": "stdout",
     "output_type": "stream",
     "text": [
      " Aggregation is a relationship between two objects where one object, the aggregator, has a collection of objects, the aggregants.\n"
     ]
    }
   ],
   "source": [
    "print(\" Aggregation is a relationship between two objects where one object, the aggregator, has a collection of objects, the aggregants.\")"
   ]
  },
  {
   "cell_type": "code",
   "execution_count": 74,
   "id": "3c2b1fb8-a687-4e56-90e6-ab9a3e477ea4",
   "metadata": {},
   "outputs": [],
   "source": [
    "class House:\n",
    "    def __init__(self, room,furniture,appliances):\n",
    "        self.rooms = room\n",
    "        self.furniture = furniture\n",
    "        self.appliances = appliances\n",
    "\n",
    "    def add_room(self, room):\n",
    "        self.rooms.append(room)\n",
    "\n",
    "    def add_furniture(self, furniture):\n",
    "        self.furniture.append(furniture)\n",
    "\n",
    "    def add_appliance(self, appliance):\n",
    "        self.appliances.append(appliance)\n",
    "\n",
    "    def get_rooms(self):\n",
    "        return self.rooms\n",
    "\n",
    "    def get_furniture(self):\n",
    "        return self.furniture\n",
    "\n",
    "    def get_appliances(self):\n",
    "        return self.appliances\n",
    "\n",
    "    def house_details(self):\n",
    "        return f\"House has {len(self.rooms)} rooms, {len(self.furniture)} pieces of furniture, and {len(self.appliances)} appliances.\"\n",
    "    \n",
    "h=House(['Bed room','Kitchen','Guest room','Hall'],['Dining','Chairs','Cupboard'],['Fan','AC','TV','Washing Machine'])"
   ]
  },
  {
   "cell_type": "code",
   "execution_count": 75,
   "id": "aa5c3492-26f8-4e6f-903c-948abeb16753",
   "metadata": {},
   "outputs": [
    {
     "name": "stdout",
     "output_type": "stream",
     "text": [
      "['Bed room', 'Kitchen', 'Guest room', 'Hall']\n",
      "['Dining', 'Chairs', 'Cupboard']\n",
      "['Fan', 'AC', 'TV', 'Washing Machine']\n",
      "House has 4 rooms, 3 pieces of furniture, and 4 appliances.\n"
     ]
    }
   ],
   "source": [
    "print(h.get_rooms())\n",
    "print(h.get_furniture())\n",
    "print(h.get_appliances())\n",
    "print(h.house_details())"
   ]
  },
  {
   "cell_type": "code",
   "execution_count": 1,
   "id": "8f341425-43d7-4e31-8b26-1514cdb415b4",
   "metadata": {},
   "outputs": [
    {
     "name": "stdout",
     "output_type": "stream",
     "text": [
      "The type() function to create a new class that inherits from the existing class.\n",
      "The dynamic_setattr() function allows you to set an attribute on an object dynamically.\n"
     ]
    }
   ],
   "source": [
    "print(\"The type() function to create a new class that inherits from the existing class.\\nThe dynamic_setattr() function allows you to set an attribute on an object dynamically.\")"
   ]
  },
  {
   "cell_type": "code",
   "execution_count": 11,
   "id": "d3c33e3b-9cb6-49bb-badc-5e673d9ac708",
   "metadata": {},
   "outputs": [],
   "source": [
    "class User:\n",
    "    def __init__(self, name, password):\n",
    "        self.name = name\n",
    "        self.password = password\n",
    "        self.posts = []\n",
    "        self.comments = []\n",
    "\n",
    "    def add_post(self, post):\n",
    "        self.posts.append(post)\n",
    "\n",
    "    def get_posts(self):\n",
    "        return self.posts\n",
    "\n",
    "    def add_comment(self, comment):\n",
    "        self.comments.append(comment)\n",
    "\n",
    "    def get_comments(self):\n",
    "        return self.comments\n",
    "\n",
    "u = User('Gnanesh', 'Gnan123')"
   ]
  },
  {
   "cell_type": "code",
   "execution_count": 12,
   "id": "4e145316-8f31-4d4c-b0b9-b040f628fba2",
   "metadata": {},
   "outputs": [],
   "source": [
    "u.add_post('Harry Potter')\n",
    "u.add_post('Spider Man')\n",
    "u.add_post('Bunny')"
   ]
  },
  {
   "cell_type": "code",
   "execution_count": 13,
   "id": "8202fec3-286b-4afd-86e8-65f91aa3562b",
   "metadata": {},
   "outputs": [],
   "source": [
    "u.add_comment('Nice pic')\n",
    "u.add_comment('Looking good')"
   ]
  },
  {
   "cell_type": "code",
   "execution_count": 14,
   "id": "228d7079-2202-4d74-983f-42e0b5893e6e",
   "metadata": {},
   "outputs": [
    {
     "name": "stdout",
     "output_type": "stream",
     "text": [
      "['Harry Potter', 'Spider Man', 'Bunny']\n",
      "['Nice pic', 'Looking good']\n"
     ]
    }
   ],
   "source": [
    "print(u.get_posts())\n",
    "print(u.get_comments())"
   ]
  },
  {
   "cell_type": "markdown",
   "id": "6b0675ac-755e-49d1-b892-523364b5c29a",
   "metadata": {},
   "source": [
    "THANK YOU FOR GIVING THIS ASSIGNMENT"
   ]
  },
  {
   "cell_type": "code",
   "execution_count": null,
   "id": "1da66878-d61b-4a3a-b31f-751a2418657f",
   "metadata": {},
   "outputs": [],
   "source": []
  }
 ],
 "metadata": {
  "kernelspec": {
   "display_name": "Python 3 (ipykernel)",
   "language": "python",
   "name": "python3"
  },
  "language_info": {
   "codemirror_mode": {
    "name": "ipython",
    "version": 3
   },
   "file_extension": ".py",
   "mimetype": "text/x-python",
   "name": "python",
   "nbconvert_exporter": "python",
   "pygments_lexer": "ipython3",
   "version": "3.10.8"
  }
 },
 "nbformat": 4,
 "nbformat_minor": 5
}
