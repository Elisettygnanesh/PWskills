{
 "cells": [
  {
   "cell_type": "markdown",
   "id": "6bbcc348-8565-4b34-912f-042cc7718f1a",
   "metadata": {},
   "source": [
    "# STATISTICS ASSIGNMENT"
   ]
  },
  {
   "cell_type": "code",
   "execution_count": 2,
   "id": "4d540b32-d9d5-4ff2-90cc-747adcab6b94",
   "metadata": {},
   "outputs": [],
   "source": [
    "import numpy as np\n",
    "import random\n",
    "\n",
    "int_list = [random.randint(90, 130) for _ in range(100)]"
   ]
  },
  {
   "cell_type": "code",
   "execution_count": 3,
   "id": "316fda6a-3fe7-429c-8312-beb11a9137c9",
   "metadata": {},
   "outputs": [
    {
     "data": {
      "text/plain": [
       "110.31"
      ]
     },
     "execution_count": 3,
     "metadata": {},
     "output_type": "execute_result"
    }
   ],
   "source": [
    "def find_mean(l):\n",
    "    mean = np.mean(l)\n",
    "    return mean\n",
    "\n",
    "find_mean(int_list)"
   ]
  },
  {
   "cell_type": "code",
   "execution_count": 4,
   "id": "8a7bcc62-d895-4f32-92a7-6a8e8dee6557",
   "metadata": {},
   "outputs": [
    {
     "data": {
      "text/plain": [
       "111.0"
      ]
     },
     "execution_count": 4,
     "metadata": {},
     "output_type": "execute_result"
    }
   ],
   "source": [
    "def find_median(l):\n",
    "    median = np.median(l)\n",
    "    return median\n",
    "\n",
    "find_median(int_list)"
   ]
  },
  {
   "cell_type": "code",
   "execution_count": 5,
   "id": "a8ca95fa-e6a5-4f9e-9c46-6dd070ae3132",
   "metadata": {},
   "outputs": [
    {
     "data": {
      "text/plain": [
       "123"
      ]
     },
     "execution_count": 5,
     "metadata": {},
     "output_type": "execute_result"
    }
   ],
   "source": [
    "from statistics import mode\n",
    "\n",
    "def find_mode(l):\n",
    "    m = mode(l)\n",
    "    return m\n",
    "\n",
    "find_mode(int_list)"
   ]
  },
  {
   "cell_type": "code",
   "execution_count": 6,
   "id": "f21745dd-d992-40a5-9b92-12739235bf82",
   "metadata": {},
   "outputs": [
    {
     "data": {
      "text/plain": [
       "110.31"
      ]
     },
     "execution_count": 6,
     "metadata": {},
     "output_type": "execute_result"
    }
   ],
   "source": [
    "def weighted_mean(l):\n",
    "    d = {}\n",
    "    for i in l:\n",
    "        if i not in d:\n",
    "            d[i] = l.count(i)\n",
    "    s_o_w = 0\n",
    "    s_m_w = 0\n",
    "    for x, y in d.items():\n",
    "        s_m_w += x * y\n",
    "        s_o_w += y\n",
    "    w_m = s_m_w / s_o_w\n",
    "    return w_m\n",
    "\n",
    "weighted_mean(int_list)"
   ]
  },
  {
   "cell_type": "code",
   "execution_count": 7,
   "id": "254099b0-1d59-4311-b6e7-37425260850e",
   "metadata": {},
   "outputs": [
    {
     "data": {
      "text/plain": [
       "109.6658743906206"
      ]
     },
     "execution_count": 7,
     "metadata": {},
     "output_type": "execute_result"
    }
   ],
   "source": [
    "from scipy.stats import gmean\n",
    "\n",
    "def g_mean(l):\n",
    "    g_m = gmean(l)\n",
    "    return g_m\n",
    "\n",
    "g_mean(int_list)"
   ]
  },
  {
   "cell_type": "code",
   "execution_count": 8,
   "id": "044d8064-dd33-4044-9c05-b377bd4e606f",
   "metadata": {},
   "outputs": [
    {
     "data": {
      "text/plain": [
       "109.01867088454463"
      ]
     },
     "execution_count": 8,
     "metadata": {},
     "output_type": "execute_result"
    }
   ],
   "source": [
    "from scipy.stats import hmean\n",
    "\n",
    "def h_mean(l):\n",
    "    h_m = hmean(l)\n",
    "    return h_m\n",
    "\n",
    "h_mean(int_list)"
   ]
  },
  {
   "cell_type": "code",
   "execution_count": 9,
   "id": "0ac23754-214c-4c89-b77a-e8119e81af96",
   "metadata": {},
   "outputs": [
    {
     "data": {
      "text/plain": [
       "110.0"
      ]
     },
     "execution_count": 9,
     "metadata": {},
     "output_type": "execute_result"
    }
   ],
   "source": [
    "def find_midrange(l):\n",
    "    min_val = min(l)\n",
    "    max_val = max(l)\n",
    "    return (min_val+max_val) / 2\n",
    "\n",
    "find_midrange(int_list)"
   ]
  },
  {
   "cell_type": "code",
   "execution_count": 10,
   "id": "69e93f3c-31bc-4b61-99fd-9b27a329d04d",
   "metadata": {},
   "outputs": [
    {
     "data": {
      "text/plain": [
       "110.48333333333333"
      ]
     },
     "execution_count": 10,
     "metadata": {},
     "output_type": "execute_result"
    }
   ],
   "source": [
    "def find_trimmed_mean(l, per):\n",
    "    n = len(l)\n",
    "    trim_count = int((n * per) / 100)\n",
    "    sorted_values = sorted(l)\n",
    "    final_list = sorted_values[trim_count : n-trim_count]\n",
    "    m1 = np.mean(final_list)\n",
    "    return m1\n",
    "\n",
    "find_trimmed_mean(int_list, 20)"
   ]
  },
  {
   "cell_type": "markdown",
   "id": "81c674ee-9d31-425e-9940-a2c6b30d9275",
   "metadata": {},
   "source": [
    "# QUESTION - 2"
   ]
  },
  {
   "cell_type": "code",
   "execution_count": 11,
   "id": "2ff03196-4b28-4caf-9e50-8df58c4250eb",
   "metadata": {},
   "outputs": [],
   "source": [
    "int_list2 = [random.randint(200, 300) for _ in range(500)]"
   ]
  },
  {
   "cell_type": "code",
   "execution_count": 12,
   "id": "8877e321-0d32-43c7-8189-8798c42748a9",
   "metadata": {},
   "outputs": [],
   "source": [
    "import matplotlib.pyplot as plt"
   ]
  },
  {
   "cell_type": "code",
   "execution_count": 13,
   "id": "3fa7961f-82c6-4c35-a1c8-2591dbd69a32",
   "metadata": {},
   "outputs": [
    {
     "data": {
      "text/plain": [
       "Text(0.5, 1.0, 'Frequency plot of List')"
      ]
     },
     "execution_count": 13,
     "metadata": {},
     "output_type": "execute_result"
    },
    {
     "data": {
      "image/png": "[encoded data removed]",
      "text/plain": [
       "<Figure size 800x400 with 1 Axes>"
      ]
     },
     "metadata": {},
     "output_type": "display_data"
    }
   ],
   "source": [
    "plt.figure(figsize = (8, 4))\n",
    "plt.hist(int_list2, color = 'skyblue', edgecolor = 'black', bins = 10)\n",
    "plt.xlabel('Values')\n",
    "plt.ylabel('Value_Counts')\n",
    "plt.title('Frequency plot of List')"
   ]
  },
  {
   "cell_type": "code",
   "execution_count": 14,
   "id": "4e42946f-a66b-4114-b3f9-662a5dea4244",
   "metadata": {},
   "outputs": [
    {
     "data": {
      "image/png": "[encoded data removed]",
      "text/plain": [
       "<Figure size 640x480 with 1 Axes>"
      ]
     },
     "metadata": {},
     "output_type": "display_data"
    }
   ],
   "source": [
    "from scipy.stats import norm\n",
    "\n",
    "m = np.mean(int_list2)\n",
    "std = np.std(int_list2)\n",
    "mi = min(int_list2)\n",
    "ma = max(int_list2)\n",
    "x = np.linspace(mi, ma, 100)\n",
    "\n",
    "plt.plot(x, norm.pdf(x, m, std), color = 'orange', label = 'Gaussian Distribution')\n",
    "plt.hist(int_list2, bins=10, density=True, color='skyblue', edgecolor='black', alpha=0.5, label='Frequency')\n",
    "plt.xlabel('Value')\n",
    "plt.ylabel('Density')\n",
    "plt.title('Gaussian Distribution vs Frequency Distribution')\n",
    "plt.legend()\n",
    "plt.grid(True)\n",
    "plt.show()"
   ]
  },
  {
   "cell_type": "code",
   "execution_count": 15,
   "id": "0847bb7b-c11b-4f1e-ae8d-5d367fdb3333",
   "metadata": {},
   "outputs": [
    {
     "data": {
      "image/png": "[encoded data removed]",
      "text/plain": [
       "<Figure size 640x480 with 1 Axes>"
      ]
     },
     "metadata": {},
     "output_type": "display_data"
    }
   ],
   "source": [
    "import seaborn as sns\n",
    "\n",
    "sns.kdeplot(int_list2, color='skyblue', fill=True)\n",
    "plt.xlabel('Value')\n",
    "plt.ylabel('Density')\n",
    "plt.title('Frequency Distribution (Smoothed KDE Plot)')\n",
    "plt.grid(True)\n",
    "plt.show()"
   ]
  },
  {
   "cell_type": "code",
   "execution_count": 16,
   "id": "5b86cdc9-4044-445f-b72f-47bd2aa71b10",
   "metadata": {},
   "outputs": [
    {
     "data": {
      "image/png": "[encoded data removed]",
      "text/plain": [
       "<Figure size 1200x600 with 2 Axes>"
      ]
     },
     "metadata": {},
     "output_type": "display_data"
    }
   ],
   "source": [
    "def plot_gaussian_distribution(numbers):\n",
    "    mu = np.mean(numbers)\n",
    "    sigma = np.std(numbers)\n",
    "    xmin = min(numbers)\n",
    "    xmax = max(numbers)\n",
    "    \n",
    "    x = np.linspace(xmin, xmax, 100)\n",
    "    plt.plot(x, norm.pdf(x, mu, sigma), color='blue', label='Gaussian Distribution')\n",
    "    plt.xlabel('Value')\n",
    "    plt.ylabel('Density')\n",
    "    plt.title('Gaussian Distribution')\n",
    "    plt.legend()\n",
    "    plt.grid(True)\n",
    "\n",
    "def plot_kde_distribution(numbers):\n",
    "    sns.kdeplot(numbers, color='orange', fill=True, label='Smoothed KDE Plot')\n",
    "    plt.xlabel('Value')\n",
    "    plt.ylabel('Density')\n",
    "    plt.title('Smoothed KDE Plot')\n",
    "    plt.legend()\n",
    "    plt.grid(True)\n",
    "\n",
    "\n",
    "plt.figure(figsize=(12, 6))\n",
    "\n",
    "plt.subplot(1, 2, 1)\n",
    "plot_gaussian_distribution(int_list2)\n",
    "\n",
    "plt.subplot(1, 2, 2)\n",
    "plot_kde_distribution(int_list2)\n",
    "\n",
    "plt.tight_layout()\n",
    "plt.show()\n"
   ]
  },
  {
   "cell_type": "code",
   "execution_count": 17,
   "id": "53ad8709-c492-466d-8160-23054b6371d3",
   "metadata": {},
   "outputs": [
    {
     "data": {
      "text/plain": [
       "100"
      ]
     },
     "execution_count": 17,
     "metadata": {},
     "output_type": "execute_result"
    }
   ],
   "source": [
    "def find_range(l):\n",
    "    return max(l) - min(l)\n",
    "\n",
    "find_range(int_list2)"
   ]
  },
  {
   "cell_type": "code",
   "execution_count": 18,
   "id": "900318b4-60a4-43cf-aa76-280283654ce5",
   "metadata": {},
   "outputs": [
    {
     "data": {
      "text/plain": [
       "(29.43274937888066, 866.286736)"
      ]
     },
     "execution_count": 18,
     "metadata": {},
     "output_type": "execute_result"
    }
   ],
   "source": [
    "def find_std_var(l):\n",
    "    std = np.std(l)\n",
    "    var = np.var(l)\n",
    "    return std, var\n",
    "\n",
    "find_std_var(int_list2)"
   ]
  },
  {
   "cell_type": "code",
   "execution_count": 19,
   "id": "0ca98b40-c4a0-4c0d-b6e3-6a47341225b0",
   "metadata": {},
   "outputs": [
    {
     "data": {
      "text/plain": [
       "51.0"
      ]
     },
     "execution_count": 19,
     "metadata": {},
     "output_type": "execute_result"
    }
   ],
   "source": [
    "def find_IQR(l):\n",
    "    iqr1 = np.quantile(l, 0.25)\n",
    "    iqr2 = np.quantile(l, 0.75)\n",
    "    return iqr2 - iqr1\n",
    "\n",
    "find_IQR(int_list2)"
   ]
  },
  {
   "cell_type": "code",
   "execution_count": 20,
   "id": "62a71291-875f-4300-b76c-938f10608880",
   "metadata": {},
   "outputs": [
    {
     "name": "stdout",
     "output_type": "stream",
     "text": [
      "Coefficient of Variation (CV): 11.79%\n"
     ]
    }
   ],
   "source": [
    "def calculate_coefficient_of_variation(data):\n",
    "    \n",
    "    mean = np.mean(data)\n",
    "    std_deviation = np.std(data)\n",
    "    \n",
    "    return (std_deviation / mean) * 100\n",
    "\n",
    "\n",
    "cv_value = calculate_coefficient_of_variation(int_list2)\n",
    "print(\"Coefficient of Variation (CV): {:.2f}%\".format(cv_value))"
   ]
  },
  {
   "cell_type": "code",
   "execution_count": 21,
   "id": "e229b1b5-4950-411d-b916-257d2f84ee9e",
   "metadata": {},
   "outputs": [
    {
     "name": "stdout",
     "output_type": "stream",
     "text": [
      "Mean Absolute Deviation (MAD): 25.690832000000004\n"
     ]
    }
   ],
   "source": [
    "def calculate_mean_absolute_deviation(numbers):\n",
    "    mean = np.mean(numbers)\n",
    "    absolute_deviations = [abs(num - mean) for num in numbers]\n",
    "    \n",
    "    return np.mean(absolute_deviations)\n",
    "\n",
    "mad_value = calculate_mean_absolute_deviation(int_list2)\n",
    "print(\"Mean Absolute Deviation (MAD):\", mad_value)"
   ]
  },
  {
   "cell_type": "code",
   "execution_count": 22,
   "id": "1388690e-ea34-4e1c-b275-f7ecc474a291",
   "metadata": {},
   "outputs": [
    {
     "name": "stdout",
     "output_type": "stream",
     "text": [
      "Quartile Deviation (QD): 25.5\n"
     ]
    }
   ],
   "source": [
    "def calculate_quartile_deviation(values):\n",
    "    q1 = np.percentile(values, 25)\n",
    "    q3 = np.percentile(values, 75)\n",
    "    \n",
    "    return (q3 - q1) / 2\n",
    "\n",
    "qd_value = calculate_quartile_deviation(int_list2)\n",
    "print(\"Quartile Deviation (QD):\", qd_value)"
   ]
  },
  {
   "cell_type": "code",
   "execution_count": 23,
   "id": "a59d601c-7daf-4e68-8b4c-f378becc02e7",
   "metadata": {},
   "outputs": [
    {
     "name": "stdout",
     "output_type": "stream",
     "text": [
      "Range-based Coefficient of Dispersion (RCD): 0.40046774632771076\n"
     ]
    }
   ],
   "source": [
    "def calculate_range_based_coefficient_dispersion(data):\n",
    "    min_val = min(data)\n",
    "    max_val = max(data)\n",
    "    mean = sum(data) / len(data)\n",
    "    \n",
    "    return (max_val - min_val) / mean\n",
    "\n",
    "rcd_value = calculate_range_based_coefficient_dispersion(int_list2)\n",
    "print(\"Range-based Coefficient of Dispersion (RCD):\", rcd_value)"
   ]
  },
  {
   "cell_type": "markdown",
   "id": "7440f3bc-8ab7-4584-98a4-66ad0fcb34f7",
   "metadata": {},
   "source": [
    "# QUESTION - 3"
   ]
  },
  {
   "cell_type": "code",
   "execution_count": 24,
   "id": "b1bd0afa-f66c-4981-8edb-3f92eceb1193",
   "metadata": {},
   "outputs": [
    {
     "name": "stdout",
     "output_type": "stream",
     "text": [
      "Expected Value: 1.5\n",
      "Variance: 0.25\n"
     ]
    }
   ],
   "source": [
    "class DiscreteRandomVariable:\n",
    "    def __init__(self, outcomes, probabilities):\n",
    "        self.outcomes = outcomes\n",
    "        self.probabilities = probabilities\n",
    "\n",
    "    def expected_value(self):\n",
    "        ev = 0\n",
    "        for i in range(len(self.outcomes)):\n",
    "            ev += self.outcomes[i] * self.probabilities[i]\n",
    "        return ev\n",
    "\n",
    "    def variance(self):\n",
    "        ev = self.expected_value()\n",
    "        var = 0\n",
    "        for i in range(len(self.outcomes)):\n",
    "            var += (self.outcomes[i] - ev) ** 2 * self.probabilities[i]\n",
    "        return var\n",
    "\n",
    "outcomes = [1, 2]\n",
    "probabilities = [1/2, 1/2]\n",
    "\n",
    "dice = DiscreteRandomVariable(outcomes, probabilities)\n",
    "print(\"Expected Value:\", dice.expected_value())\n",
    "print(\"Variance:\", dice.variance())"
   ]
  },
  {
   "cell_type": "markdown",
   "id": "2dbb11e8-a979-43a2-a240-ec357f7b0fad",
   "metadata": {},
   "source": [
    "# QUESTION - 4"
   ]
  },
  {
   "cell_type": "code",
   "execution_count": 25,
   "id": "081bc58c-c0c6-42c9-8dd2-e5c15e2272b0",
   "metadata": {},
   "outputs": [
    {
     "name": "stdout",
     "output_type": "stream",
     "text": [
      "Expected Value: 3.5\n",
      "Variance: 2.9166666666666665\n"
     ]
    }
   ],
   "source": [
    "class DiscreteRandomVariable:\n",
    "    def __init__(self, outcomes, probabilities):\n",
    "        self.outcomes = outcomes\n",
    "        self.probabilities = probabilities\n",
    "\n",
    "    def expected_value(self):\n",
    "        ev = 0\n",
    "        for i in range(len(self.outcomes)):\n",
    "            ev += self.outcomes[i] * self.probabilities[i]\n",
    "        return ev\n",
    "\n",
    "    def variance(self):\n",
    "        ev = self.expected_value()\n",
    "        var = 0\n",
    "        for i in range(len(self.outcomes)):\n",
    "            var += (self.outcomes[i] - ev) ** 2 * self.probabilities[i]\n",
    "        return var\n",
    "\n",
    "outcomes = [1, 2, 3, 4, 5, 6]\n",
    "probabilities = [1/6, 1/6, 1/6, 1/6, 1/6, 1/6]\n",
    "\n",
    "dice = DiscreteRandomVariable(outcomes, probabilities)\n",
    "print(\"Expected Value:\", dice.expected_value())\n",
    "print(\"Variance:\", dice.variance())"
   ]
  },
  {
   "cell_type": "markdown",
   "id": "ed0428f4-623a-40b4-9b80-9271ad89927a",
   "metadata": {},
   "source": [
    "# QUESTION - 5"
   ]
  },
  {
   "cell_type": "code",
   "execution_count": 26,
   "id": "81362098-02e5-43b3-bbe5-d6c772048ef2",
   "metadata": {},
   "outputs": [
    {
     "name": "stdout",
     "output_type": "stream",
     "text": [
      "Mean: 4.918\n",
      "Variance: 2.481276\n"
     ]
    }
   ],
   "source": [
    "def generate_samples_distribution(distribution, params, sample_size):\n",
    "    if distribution == 'binomial':\n",
    "        n, p = params\n",
    "        samples = np.random.binomial(n, p, sample_size)\n",
    "    elif distribution == 'poisson':\n",
    "        lam = params[0]\n",
    "        samples = np.random.poisson(lam, sample_size)\n",
    "\n",
    "    mean = np.mean(samples)\n",
    "    variance = np.var(samples)\n",
    "\n",
    "    return mean, variance\n",
    "\n",
    "distribution = 'binomial'\n",
    "params = (10, 0.5) \n",
    "sample_size = 1000\n",
    "\n",
    "mean, variance = generate_samples_distribution(distribution, params, sample_size)\n",
    "print(\"Mean:\", mean)\n",
    "print(\"Variance:\", variance)"
   ]
  },
  {
   "cell_type": "markdown",
   "id": "72786ccf-55d3-463a-91c6-d3f519773255",
   "metadata": {},
   "source": [
    "# QUESTION - 6"
   ]
  },
  {
   "cell_type": "code",
   "execution_count": 27,
   "id": "336013be-e185-4578-b8de-bfff9bfaed0a",
   "metadata": {},
   "outputs": [
    {
     "name": "stdout",
     "output_type": "stream",
     "text": [
      "Mean: 0.007092085610921763\n",
      "Variance: 1.0261095210631839\n",
      "Standard Deviation: 1.0129706417577875\n"
     ]
    }
   ],
   "source": [
    "def generate_gaussian_samples(mean, std_dev, sample_size):\n",
    "    samples = np.random.normal(mean, std_dev, sample_size)\n",
    "    mean = np.mean(samples)\n",
    "    variance = np.var(samples)\n",
    "    std_deviation = np.std(samples)\n",
    "    return samples, mean, variance, std_deviation\n",
    "\n",
    "mean = 0 \n",
    "std_dev = 1  \n",
    "sample_size = 1000\n",
    "\n",
    "samples, mean, variance, std_deviation = generate_gaussian_samples(mean, std_dev, sample_size)\n",
    "print(\"Mean:\", mean)\n",
    "print(\"Variance:\", variance)\n",
    "print(\"Standard Deviation:\", std_deviation)"
   ]
  },
  {
   "cell_type": "markdown",
   "id": "029d4073-2e1c-4e43-b897-443d86813f5e",
   "metadata": {},
   "source": [
    "# QUESTION - 7"
   ]
  },
  {
   "cell_type": "code",
   "execution_count": 28,
   "id": "8b3c142f-9281-44de-b55b-1e179edc9ee3",
   "metadata": {},
   "outputs": [],
   "source": [
    "import seaborn as sns\n",
    "\n",
    "df = sns.load_dataset('tips')"
   ]
  },
  {
   "cell_type": "code",
   "execution_count": 29,
   "id": "6ff93d94-a9d8-40be-81bf-f8cafce8dc7c",
   "metadata": {},
   "outputs": [
    {
     "data": {
      "text/html": [
       "<div>\n",
       "<style scoped>\n",
       "    .dataframe tbody tr th:only-of-type {\n",
       "        vertical-align: middle;\n",
       "    }\n",
       "\n",
       "    .dataframe tbody tr th {\n",
       "        vertical-align: top;\n",
       "    }\n",
       "\n",
       "    .dataframe thead th {\n",
       "        text-align: right;\n",
       "    }\n",
       "</style>\n",
       "<table border=\"1\" class=\"dataframe\">\n",
       "  <thead>\n",
       "    <tr style=\"text-align: right;\">\n",
       "      <th></th>\n",
       "      <th>total_bill</th>\n",
       "      <th>tip</th>\n",
       "      <th>sex</th>\n",
       "      <th>smoker</th>\n",
       "      <th>day</th>\n",
       "      <th>time</th>\n",
       "      <th>size</th>\n",
       "    </tr>\n",
       "  </thead>\n",
       "  <tbody>\n",
       "    <tr>\n",
       "      <th>0</th>\n",
       "      <td>16.99</td>\n",
       "      <td>1.01</td>\n",
       "      <td>Female</td>\n",
       "      <td>No</td>\n",
       "      <td>Sun</td>\n",
       "      <td>Dinner</td>\n",
       "      <td>2</td>\n",
       "    </tr>\n",
       "    <tr>\n",
       "      <th>1</th>\n",
       "      <td>10.34</td>\n",
       "      <td>1.66</td>\n",
       "      <td>Male</td>\n",
       "      <td>No</td>\n",
       "      <td>Sun</td>\n",
       "      <td>Dinner</td>\n",
       "      <td>3</td>\n",
       "    </tr>\n",
       "    <tr>\n",
       "      <th>2</th>\n",
       "      <td>21.01</td>\n",
       "      <td>3.50</td>\n",
       "      <td>Male</td>\n",
       "      <td>No</td>\n",
       "      <td>Sun</td>\n",
       "      <td>Dinner</td>\n",
       "      <td>3</td>\n",
       "    </tr>\n",
       "    <tr>\n",
       "      <th>3</th>\n",
       "      <td>23.68</td>\n",
       "      <td>3.31</td>\n",
       "      <td>Male</td>\n",
       "      <td>No</td>\n",
       "      <td>Sun</td>\n",
       "      <td>Dinner</td>\n",
       "      <td>2</td>\n",
       "    </tr>\n",
       "    <tr>\n",
       "      <th>4</th>\n",
       "      <td>24.59</td>\n",
       "      <td>3.61</td>\n",
       "      <td>Female</td>\n",
       "      <td>No</td>\n",
       "      <td>Sun</td>\n",
       "      <td>Dinner</td>\n",
       "      <td>4</td>\n",
       "    </tr>\n",
       "  </tbody>\n",
       "</table>\n",
       "</div>"
      ],
      "text/plain": [
       "   total_bill   tip     sex smoker  day    time  size\n",
       "0       16.99  1.01  Female     No  Sun  Dinner     2\n",
       "1       10.34  1.66    Male     No  Sun  Dinner     3\n",
       "2       21.01  3.50    Male     No  Sun  Dinner     3\n",
       "3       23.68  3.31    Male     No  Sun  Dinner     2\n",
       "4       24.59  3.61  Female     No  Sun  Dinner     4"
      ]
     },
     "execution_count": 29,
     "metadata": {},
     "output_type": "execute_result"
    }
   ],
   "source": [
    "df.head()"
   ]
  },
  {
   "cell_type": "code",
   "execution_count": 30,
   "id": "a81ce8ee-0a9f-402c-a76e-2cf5ac14ce33",
   "metadata": {},
   "outputs": [
    {
     "data": {
      "text/plain": [
       "total_bill    0\n",
       "tip           0\n",
       "sex           0\n",
       "smoker        0\n",
       "day           0\n",
       "time          0\n",
       "size          0\n",
       "dtype: int64"
      ]
     },
     "execution_count": 30,
     "metadata": {},
     "output_type": "execute_result"
    }
   ],
   "source": [
    "df.isnull().sum()"
   ]
  },
  {
   "cell_type": "code",
   "execution_count": 31,
   "id": "1b1a79b9-00fb-4b48-8d40-5dc47881d49e",
   "metadata": {},
   "outputs": [
    {
     "data": {
      "text/plain": [
       "total_bill     float64\n",
       "tip            float64\n",
       "sex           category\n",
       "smoker        category\n",
       "day           category\n",
       "time          category\n",
       "size             int64\n",
       "dtype: object"
      ]
     },
     "execution_count": 31,
     "metadata": {},
     "output_type": "execute_result"
    }
   ],
   "source": [
    "df.dtypes"
   ]
  },
  {
   "cell_type": "code",
   "execution_count": 32,
   "id": "328841fc-dd59-4fa6-984a-666502fe5e50",
   "metadata": {},
   "outputs": [
    {
     "name": "stdout",
     "output_type": "stream",
     "text": [
      "1.1332130376158205\n",
      "1.4654510370979401\n"
     ]
    }
   ],
   "source": [
    "skewness_total_bill = df['total_bill'].skew()\n",
    "skewness_tip = df['tip'].skew()\n",
    "\n",
    "print(skewness_total_bill)\n",
    "print(skewness_tip)"
   ]
  },
  {
   "cell_type": "code",
   "execution_count": 33,
   "id": "44f640a0-3b17-4516-934c-2f4e153c715f",
   "metadata": {},
   "outputs": [
    {
     "name": "stdout",
     "output_type": "stream",
     "text": [
      "Column: total_bill\n",
      "Positive Skewness\n",
      "\n",
      "Column: tip\n",
      "Positive Skewness\n",
      "\n"
     ]
    }
   ],
   "source": [
    "skewness_results = df[['total_bill', 'tip']].skew()\n",
    "\n",
    "for column, skewness in skewness_results.items():\n",
    "    print(\"Column:\", column)\n",
    "    if skewness > 0.5:\n",
    "        print(\"Positive Skewness\")\n",
    "    elif skewness < -0.5:\n",
    "        print(\"Negative Skewness\")\n",
    "    else:\n",
    "        print(\"Approximately Symmetric\")\n",
    "    print()\n"
   ]
  },
  {
   "cell_type": "code",
   "execution_count": 34,
   "id": "45d79463-10e7-4d39-842b-dab30f362ab3",
   "metadata": {},
   "outputs": [
    {
     "data": {
      "text/plain": [
       "8.323501629224854"
      ]
     },
     "execution_count": 34,
     "metadata": {},
     "output_type": "execute_result"
    }
   ],
   "source": [
    "def find_covar(x, y):\n",
    "    cova = x.cov(y)\n",
    "    return cova\n",
    "\n",
    "find_covar(df['total_bill'], df['tip'])"
   ]
  },
  {
   "cell_type": "code",
   "execution_count": 35,
   "id": "dcfc4d46-aed2-400b-9a8e-a1d1491c38ca",
   "metadata": {},
   "outputs": [
    {
     "data": {
      "text/plain": [
       "0.6757341092113641"
      ]
     },
     "execution_count": 35,
     "metadata": {},
     "output_type": "execute_result"
    }
   ],
   "source": [
    "def find_cor(x, y):\n",
    "    cor = x.corr(y)\n",
    "    return cor\n",
    "\n",
    "find_cor(df['total_bill'], df['tip'])"
   ]
  },
  {
   "cell_type": "code",
   "execution_count": 36,
   "id": "0b2462cf-0ddd-4f08-9173-e0c692e22c6b",
   "metadata": {},
   "outputs": [
    {
     "data": {
      "image/png": "[encoded data removed]",
      "text/plain": [
       "<Figure size 640x480 with 1 Axes>"
      ]
     },
     "metadata": {},
     "output_type": "display_data"
    }
   ],
   "source": [
    "def plot_cor(x, y):\n",
    "    plt.scatter(x, y, color = 'red', marker = '*')\n",
    "    plt.xlabel('Total Bill')\n",
    "    plt.ylabel('Tip')\n",
    "    plt.title('Correlation between total bill and tips')\n",
    "    plt.show()\n",
    "    \n",
    "plot_cor(df['total_bill'], df['tip'])"
   ]
  },
  {
   "cell_type": "markdown",
   "id": "a8122596-fa44-4d4e-a244-e254d7b8f97d",
   "metadata": {},
   "source": [
    "# QUESTION - 8"
   ]
  },
  {
   "cell_type": "code",
   "execution_count": 37,
   "id": "23028839-effc-47b1-ba3c-f837b746c4f9",
   "metadata": {},
   "outputs": [
    {
     "data": {
      "image/png": "[encoded data removed]",
      "text/plain": [
       "<Figure size 640x480 with 1 Axes>"
      ]
     },
     "metadata": {},
     "output_type": "display_data"
    }
   ],
   "source": [
    "def calculate_normal_pdf(x, mean, std_dev):\n",
    "    pdf = norm.pdf(x, loc=mean, scale=std_dev)\n",
    "    return pdf\n",
    "\n",
    "mean = 0  \n",
    "std_dev = 1  \n",
    "x = np.linspace(-3, 3, 100)  \n",
    "pdf_values = calculate_normal_pdf(x, mean, std_dev)\n",
    "\n",
    "plt.plot(x, pdf_values, label='PDF')\n",
    "plt.title('Normal Distribution PDF')\n",
    "plt.xlabel('x')\n",
    "plt.ylabel('Probability Density')\n",
    "plt.legend()\n",
    "plt.grid(True)\n",
    "plt.show()"
   ]
  },
  {
   "cell_type": "markdown",
   "id": "80984564-dee1-4f75-96db-7882852f79aa",
   "metadata": {},
   "source": [
    "# QUESTION - 9"
   ]
  },
  {
   "cell_type": "code",
   "execution_count": 38,
   "id": "c425473f-d080-43a1-904d-586fab8d8676",
   "metadata": {},
   "outputs": [
    {
     "data": {
      "image/png": "[encoded data removed]",
      "text/plain": [
       "<Figure size 640x480 with 1 Axes>"
      ]
     },
     "metadata": {},
     "output_type": "display_data"
    }
   ],
   "source": [
    "from scipy.stats import expon\n",
    "\n",
    "def calculate_exponential_cdf(x, scale):\n",
    "    cdf = expon.cdf(x, scale=scale)\n",
    "    return cdf\n",
    "\n",
    "scale = 1  \n",
    "x_values = np.linspace(0, 5, 100) \n",
    "cdf_values = calculate_exponential_cdf(x_values, scale)\n",
    "\n",
    "plt.plot(x_values, cdf_values, label='CDF')\n",
    "plt.title('Exponential Distribution CDF')\n",
    "plt.xlabel('x')\n",
    "plt.ylabel('Cumulative Probability')\n",
    "plt.legend()\n",
    "plt.grid(True)\n",
    "plt.show()"
   ]
  },
  {
   "cell_type": "markdown",
   "id": "2f1cb023-7c5e-4476-a8ac-7dcb90b8c4fe",
   "metadata": {},
   "source": [
    "# QUESTION - 10"
   ]
  },
  {
   "cell_type": "code",
   "execution_count": 39,
   "id": "58c1c135-4f0e-44b3-99b9-a3be9e12d4ba",
   "metadata": {},
   "outputs": [
    {
     "name": "stdout",
     "output_type": "stream",
     "text": [
      "PMF at k = 3 is: 0.1804470443154836\n"
     ]
    }
   ],
   "source": [
    "def poisson_pmf(k, lam):\n",
    "    pmf = (np.exp(-lam) * (lam**k)) / np.math.factorial(k)\n",
    "    return pmf\n",
    "\n",
    "k = 3  \n",
    "lam = 2  \n",
    "\n",
    "pmf_value = poisson_pmf(k, lam)\n",
    "print(\"PMF at k =\", k, \"is:\", pmf_value)"
   ]
  },
  {
   "cell_type": "markdown",
   "id": "c0a471fe-b281-44bb-8363-257ce23c2b3a",
   "metadata": {},
   "source": [
    "# QUESTION - 11"
   ]
  },
  {
   "cell_type": "code",
   "execution_count": 40,
   "id": "49c0ca6c-6b9a-45a8-a823-158a4bda91d5",
   "metadata": {},
   "outputs": [
    {
     "name": "stdout",
     "output_type": "stream",
     "text": [
      "Fail to reject null hypothesis: There is no evidence that the new layout works good.\n"
     ]
    }
   ],
   "source": [
    "old_layout = np.array([1] * 50 + [0] * 950)\n",
    "new_layout = np.array([1] * 70 + [0] * 930)\n",
    "\n",
    "mean1 = np.mean(old_layout)\n",
    "mean2 = np.mean(new_layout)\n",
    "\n",
    "std1 = np.std(old_layout)\n",
    "std2 = np.std(new_layout)\n",
    "\n",
    "n1 = len(old_layout)\n",
    "n2 = len(new_layout)\n",
    "\n",
    "denom = (std1 + std2) / 10\n",
    "numer = mean1 - mean2\n",
    "\n",
    "z_test = numer / denom\n",
    "\n",
    "p_value = 0.3372\n",
    "if p_value < 0.05:\n",
    "    print(\"Reject null hypothesis: The tutoring program improves students' exam scores.\")\n",
    "else:\n",
    "    print(\"Fail to reject null hypothesis: There is no evidence that the new layout works good.\")"
   ]
  },
  {
   "cell_type": "markdown",
   "id": "7e48d6ad-23de-471c-a1aa-156bae71132a",
   "metadata": {},
   "source": [
    "# QUESTION - 12"
   ]
  },
  {
   "cell_type": "code",
   "execution_count": 41,
   "id": "a85df77b-5338-4e7d-b5a4-7489c2242f88",
   "metadata": {},
   "outputs": [
    {
     "name": "stdout",
     "output_type": "stream",
     "text": [
      "Fail to reject null hypothesis: There is no evidence that the tutoring program improves students' exam scores.\n"
     ]
    }
   ],
   "source": [
    "import math\n",
    "before_program = np.array([75, 80, 85, 70, 90, 78, 92, 88, 82, 87])\n",
    "after_program = np.array([80, 85, 90, 80, 92, 80, 95, 90, 85, 88])\n",
    "\n",
    "mean1 = np.mean(before_program)\n",
    "mean2 = np.mean(after_program)\n",
    "\n",
    "std1 = np.std(before_program)\n",
    "std2 = np.std(after_program)\n",
    "\n",
    "n1 = len(before_program)\n",
    "n2 = len(after_program)\n",
    "\n",
    "denom = (std1 + std2) / math.sqrt(n1)\n",
    "numer = mean1 - mean2\n",
    "\n",
    "z_test = numer / denom\n",
    "\n",
    "p_value = 0.1539\n",
    "if p_value < 0.05:\n",
    "    print(\"Reject null hypothesis: The tutoring program improves students' exam scores.\")\n",
    "else:\n",
    "    print(\"Fail to reject null hypothesis: There is no evidence that the tutoring program improves students' exam scores.\")"
   ]
  },
  {
   "cell_type": "markdown",
   "id": "7891aea5-b0e9-435c-960e-9c9e6cba6314",
   "metadata": {},
   "source": [
    "# QUESTION - 13"
   ]
  },
  {
   "cell_type": "code",
   "execution_count": 42,
   "id": "07a6a0dd-a1a1-42ea-a1c2-d795a04cfa0d",
   "metadata": {},
   "outputs": [
    {
     "name": "stdout",
     "output_type": "stream",
     "text": [
      "Fail to reject null hypothesis: There is no evidence that the drug works good.\n"
     ]
    }
   ],
   "source": [
    "before_drug = np.array([145, 150, 140, 135, 155, 160, 152, 148, 130, 138])\n",
    "after_drug = np.array([130, 140, 132, 128, 145, 148, 138, 136, 125, 130])\n",
    "\n",
    "mean1 = np.mean(before_drug)\n",
    "mean2 = np.mean(after_drug)\n",
    "\n",
    "std1 = np.std(before_drug)\n",
    "std2 = np.std(after_drug)\n",
    "\n",
    "n1 = len(before_drug)\n",
    "n2 = len(after_drug)\n",
    "\n",
    "denom = (std1 + std2) / math.sqrt(n1)\n",
    "numer = mean1 - mean2\n",
    "\n",
    "z_test = numer / denom\n",
    "\n",
    "p_value = 0.9756\n",
    "if p_value < 0.05:\n",
    "    print(\"Reject null hypothesis: The tutoring program improves students' exam scores.\")\n",
    "else:\n",
    "    print(\"Fail to reject null hypothesis: There is no evidence that the drug works good.\")"
   ]
  },
  {
   "cell_type": "markdown",
   "id": "95126f55-e1d3-414a-901b-81fc0b875325",
   "metadata": {},
   "source": [
    "# QUESTION - 14"
   ]
  },
  {
   "cell_type": "code",
   "execution_count": 43,
   "id": "b32559f0-0ddc-4eb9-b2fa-8c763b88e7b3",
   "metadata": {},
   "outputs": [
    {
     "name": "stdout",
     "output_type": "stream",
     "text": [
      "Fail to reject null hypothesis: There is no evidence that the customer service department works good.\n"
     ]
    }
   ],
   "source": [
    "l=[4.3, 3.8, 5.1, 4.9, 4.7, 4.2, 5.2, 4.5, 4.6, 4.4]\n",
    "\n",
    "mean1 = 4.5\n",
    "mean2 = np.mean(l)\n",
    "\n",
    "std = np.std(l)\n",
    "\n",
    "n = math.sqrt(len(l))\n",
    "\n",
    "z_test = (mean2 - mean1) / (std/n)\n",
    "\n",
    "p_value = 0.7054\n",
    "if p_value < 0.05:\n",
    "    print(\"Reject null hypothesis: The tutoring program improves students' exam scores.\")\n",
    "else:\n",
    "    print(\"Fail to reject null hypothesis: There is no evidence that the customer service department works good.\")"
   ]
  },
  {
   "cell_type": "markdown",
   "id": "38e25069-3069-4168-b017-0b256b265d20",
   "metadata": {},
   "source": [
    "# QUESTION - 15"
   ]
  },
  {
   "cell_type": "code",
   "execution_count": 44,
   "id": "90581553-94ca-467a-8637-cfa5e9a0ef8c",
   "metadata": {},
   "outputs": [
    {
     "name": "stdout",
     "output_type": "stream",
     "text": [
      "T_test value -7.692875136699702\n",
      "Degree of freedom 18\n",
      "P_value >0.01\n"
     ]
    }
   ],
   "source": [
    "layout_a_clicks = [28, 32, 33, 29, 31, 34, 30, 35, 36, 37]\n",
    "layout_b_clicks = [40, 41, 38, 42, 39, 44, 43, 41, 45, 47]\n",
    "\n",
    "mean1 = np.mean(layout_a_clicks)\n",
    "mean2 = np.mean(layout_b_clicks)\n",
    "\n",
    "n1 = len(layout_a_clicks)\n",
    "n2 = len(layout_b_clicks)\n",
    "\n",
    "df1 = n1 - 1\n",
    "df2 = n2 - 1\n",
    "\n",
    "std1 = np.std(layout_a_clicks)\n",
    "std2 = np.std(layout_b_clicks)\n",
    "\n",
    "ss1 = (std1) ** 2 * df1\n",
    "ss2 = (std2) ** 2 * df2\n",
    "\n",
    "sp2 = (ss1 + ss2) / (df1 + df2)\n",
    "\n",
    "df = df1 + df2\n",
    "range = -2.1009\n",
    "range1 = 2.1009\n",
    "\n",
    "p_value = '>0.01'\n",
    "\n",
    "t_test = (mean1 - mean2) / math.sqrt((sp2 / n1) + (sp2 / n2))\n",
    "\n",
    "print(\"T_test value\", t_test)\n",
    "print(\"Degree of freedom\", df)\n",
    "print(\"P_value\", p_value)"
   ]
  },
  {
   "cell_type": "code",
   "execution_count": 45,
   "id": "d54a356a-972e-40a1-afa0-1afdca04e931",
   "metadata": {},
   "outputs": [
    {
     "name": "stdout",
     "output_type": "stream",
     "text": [
      "T_test value 4.364450175013195\n",
      "Degree of freedom 18\n",
      "P_value >0.001\n"
     ]
    }
   ],
   "source": [
    "existing_drug_levels = [180, 182, 175, 185, 178, 176, 172, 184, 179, 183]\n",
    "new_drug_levels = [170, 172, 165, 168, 175, 173, 170, 178, 172, 176]\n",
    "\n",
    "mean1 = np.mean(existing_drug_levels)\n",
    "mean2 = np.mean(new_drug_levels)\n",
    "\n",
    "n1 = len(existing_drug_levels)\n",
    "n2 = len(new_drug_levels)\n",
    "\n",
    "df1 = n1 - 1\n",
    "df2 = n2 - 1\n",
    "\n",
    "std1 = np.std(existing_drug_levels)\n",
    "std2 = np.std(new_drug_levels)\n",
    "\n",
    "ss1 = (std1) ** 2 * df1\n",
    "ss2 = (std2) ** 2 * df2\n",
    "\n",
    "sp2 = (ss1 + ss2) / (df1 + df2)\n",
    "\n",
    "df = df1 + df2\n",
    "range = -2.1009\n",
    "range1 = 2.1009\n",
    "\n",
    "p_value = '>0.001'\n",
    "\n",
    "t_test = (mean1 - mean2) / math.sqrt((sp2 / n1) + (sp2 / n2))\n",
    "\n",
    "print(\"T_test value\", t_test)\n",
    "print(\"Degree of freedom\", df)\n",
    "print(\"P_value\", p_value)"
   ]
  },
  {
   "cell_type": "code",
   "execution_count": 46,
   "id": "72cce907-f51d-407d-84f6-708b0c01c06c",
   "metadata": {},
   "outputs": [
    {
     "name": "stdout",
     "output_type": "stream",
     "text": [
      "T_test value -4.301071955780182\n",
      "Degree of freedom 18\n",
      "P_value >0.001\n"
     ]
    }
   ],
   "source": [
    "pre_intervention_scores = [80, 85, 90, 75, 88, 82, 92, 78, 85, 87]\n",
    "post_intervention_scores = [90, 92, 88, 92, 95, 91, 96, 93, 89, 93]\n",
    "\n",
    "mean1 = np.mean(pre_intervention_scores)\n",
    "mean2 = np.mean(post_intervention_scores)\n",
    "\n",
    "n1 = len(pre_intervention_scores)\n",
    "n2 = len(post_intervention_scores)\n",
    "\n",
    "df1 = n1 - 1\n",
    "df2 = n2 - 1\n",
    "\n",
    "std1 = np.std(pre_intervention_scores)\n",
    "std2 = np.std(post_intervention_scores)\n",
    "\n",
    "ss1 = (std1) ** 2 * df1\n",
    "ss2 = (std2) ** 2 * df2\n",
    "\n",
    "sp2 = (ss1 + ss2) / (df1 + df2)\n",
    "\n",
    "df = df1 + df2\n",
    "range = -2.1009\n",
    "range1 = 2.1009\n",
    "\n",
    "p_value = '>0.001'\n",
    "\n",
    "t_test = (mean1 - mean2) / math.sqrt((sp2 / n1) + (sp2 / n2))\n",
    "\n",
    "print(\"T_test value\", t_test)\n",
    "print(\"Degree of freedom\", df)\n",
    "print(\"P_value\", p_value)"
   ]
  },
  {
   "cell_type": "code",
   "execution_count": 47,
   "id": "eb54e235-5a29-44d6-b91c-c6a89ce28b50",
   "metadata": {},
   "outputs": [
    {
     "name": "stdout",
     "output_type": "stream",
     "text": [
      "t-statistic: 0.06114208969631383\n"
     ]
    }
   ],
   "source": [
    "np.random.seed(0)\n",
    "male_salaries = np.random.normal(loc=50000, scale=10000, size=20)\n",
    "female_salaries = np.random.normal(loc=55000, scale=9000, size=20)\n",
    "\n",
    "mean_male = np.mean(male_salaries)\n",
    "mean_female = np.mean(female_salaries)\n",
    "\n",
    "var_male = np.var(male_salaries, ddof=1)\n",
    "var_female = np.var(female_salaries, ddof=1)\n",
    "\n",
    "n_male = len(male_salaries)\n",
    "n_female = len(female_salaries)\n",
    "\n",
    "se_male = np.sqrt(var_male / n_male)\n",
    "se_female = np.sqrt(var_female / n_female)\n",
    "\n",
    "t_statistic = (mean_male - mean_female) / np.sqrt(var_male / n_male + var_female / n_female)\n",
    "\n",
    "print(\"t-statistic:\", t_statistic)"
   ]
  },
  {
   "cell_type": "code",
   "execution_count": 48,
   "id": "ecd34143-e323-45ac-895c-2d9d546f5572",
   "metadata": {},
   "outputs": [
    {
     "name": "stdout",
     "output_type": "stream",
     "text": [
      "T_test value 11.55937726521971\n",
      "Degree of freedom 48\n",
      "P_value >0.001\n"
     ]
    }
   ],
   "source": [
    "version1_scores = [85, 88, 82, 89, 87, 84, 90, 88, 85, 86, 91, 83, 87, 84, 89, 86, 84, 88, 85, 86, 89, 90, 87, 88, 85]\n",
    "version2_scores = [80, 78, 83, 81, 79, 82, 76, 80, 78, 81, 77, 82, 80, 79, 82, 79, 80, 81, 79, 82, 79, 78, 80, 81, 82]\n",
    "\n",
    "mean1 = np.mean(version1_scores)\n",
    "mean2 = np.mean(version2_scores)\n",
    "\n",
    "n1 = len(version1_scores)\n",
    "n2 = len(version2_scores)\n",
    "\n",
    "df1 = n1 - 1\n",
    "df2 = n2 - 1\n",
    "\n",
    "std1 = np.std(version1_scores)\n",
    "std2 = np.std(version2_scores)\n",
    "\n",
    "ss1 = (std1) ** 2 * df1\n",
    "ss2 = (std2) ** 2 * df2\n",
    "\n",
    "sp2 = (ss1 + ss2) / (df1 + df2)\n",
    "\n",
    "df = df1 + df2\n",
    "range = -2.1009\n",
    "range1 = 2.1009\n",
    "\n",
    "p_value = '>0.001'\n",
    "\n",
    "t_test = (mean1 - mean2) / math.sqrt((sp2 / n1) + (sp2 / n2))\n",
    "\n",
    "print(\"T_test value\", t_test)\n",
    "print(\"Degree of freedom\", df)\n",
    "print(\"P_value\", p_value)"
   ]
  },
  {
   "cell_type": "code",
   "execution_count": 49,
   "id": "54bffd32-e4dc-46a5-8f5b-7dd8ccec84b9",
   "metadata": {},
   "outputs": [
    {
     "name": "stdout",
     "output_type": "stream",
     "text": [
      "T_test value 5.570663485319021\n",
      "Degree of freedom 60\n",
      "P_value >0.001\n"
     ]
    }
   ],
   "source": [
    "branch_a_scores = [4, 5, 3, 4, 5, 4, 5, 3, 4, 4, 5, 4, 4, 3, 4, 5, 5, 4, 3, 4, 5, 4, 3, 5, 4, 4, 5, 3, 4, 5, 4]\n",
    "branch_b_scores = [3, 4, 2, 3, 4, 3, 4, 2, 3, 3, 4, 3, 3, 2, 3, 4, 4, 3, 2, 3, 4, 3, 2, 4, 3, 3, 4, 2, 3, 4, 3]\n",
    "\n",
    "mean1 = np.mean(branch_a_scores)\n",
    "mean2 = np.mean(branch_b_scores)\n",
    "\n",
    "n1 = len(branch_a_scores)\n",
    "n2 = len(branch_b_scores)\n",
    "\n",
    "df1 = n1 - 1\n",
    "df2 = n2 - 1\n",
    "\n",
    "std1 = np.std(branch_a_scores)\n",
    "std2 = np.std(branch_b_scores)\n",
    "\n",
    "ss1 = (std1) ** 2 * df1\n",
    "ss2 = (std2) ** 2 * df2\n",
    "\n",
    "sp2 = (ss1 + ss2) / (df1 + df2)\n",
    "\n",
    "df = df1 + df2\n",
    "range = -2.1009\n",
    "range1 = 2.1009\n",
    "\n",
    "p_value = '>0.001'\n",
    "\n",
    "t_test = (mean1 - mean2) / math.sqrt((sp2 / n1) + (sp2 / n2))\n",
    "\n",
    "print(\"T_test value\", t_test)\n",
    "print(\"Degree of freedom\", df)\n",
    "print(\"P_value\", p_value)"
   ]
  },
  {
   "cell_type": "code",
   "execution_count": 50,
   "id": "42b428ad-4343-4ad3-a1ff-19f188a38a5c",
   "metadata": {},
   "outputs": [
    {
     "name": "stdout",
     "output_type": "stream",
     "text": [
      "Chi-square statistic: 4.253490115305427\n",
      "p-value: 0.11922473259592865\n",
      "Degrees of freedom: 2\n"
     ]
    }
   ],
   "source": [
    "from scipy.stats import chi2_contingency\n",
    "import pandas as pd\n",
    "\n",
    "age_groups = np.random.choice(['18-30', '31-50', '51+'], size=500)\n",
    "\n",
    "voter_preferences = np.random.choice(['Candidate A', 'Candidate B'], size=500)\n",
    "\n",
    "contingency_table = pd.crosstab(age_groups, voter_preferences)\n",
    "\n",
    "chi2, p_value, dof, expected = chi2_contingency(contingency_table)\n",
    "\n",
    "print(\"Chi-square statistic:\", chi2)\n",
    "print(\"p-value:\", p_value)\n",
    "print(\"Degrees of freedom:\", dof)\n"
   ]
  },
  {
   "cell_type": "code",
   "execution_count": 53,
   "id": "c26be5c8-41ff-4b32-8bbe-e00bfd5e1702",
   "metadata": {},
   "outputs": [
    {
     "name": "stdout",
     "output_type": "stream",
     "text": [
      "Chi-square statistic: 27.777056277056275\n",
      "p-value: 0.00010349448486004387\n",
      "Degrees of freedom: 6\n"
     ]
    }
   ],
   "source": [
    "from scipy.stats import chi2_contingency\n",
    "\n",
    "data = np.array([[50, 30, 40, 20], [30, 40, 30, 50], [20, 30, 40, 30]])\n",
    "\n",
    "chi2, p_value, dof, expected = chi2_contingency(data)\n",
    "\n",
    "print(\"Chi-square statistic:\", chi2)\n",
    "print(\"p-value:\", p_value)\n",
    "print(\"Degrees of freedom:\", dof)\n"
   ]
  },
  {
   "cell_type": "code",
   "execution_count": 54,
   "id": "a6ad5884-a2a2-4e67-bd1a-865a84f6d56b",
   "metadata": {},
   "outputs": [
    {
     "name": "stdout",
     "output_type": "stream",
     "text": [
      "Chi-square statistic: 22.161728395061726\n",
      "p-value: 0.00018609719479882557\n",
      "Degrees of freedom: 4\n"
     ]
    }
   ],
   "source": [
    "data = np.array([[50, 30, 20], [30, 40, 30], [20, 30, 40]])\n",
    "\n",
    "chi2, p_value, dof, expected = chi2_contingency(data)\n",
    "\n",
    "print(\"Chi-square statistic:\", chi2)\n",
    "print(\"p-value:\", p_value)\n",
    "print(\"Degrees of freedom:\", dof)"
   ]
  },
  {
   "cell_type": "code",
   "execution_count": 55,
   "id": "010d1e15-b850-4f63-b86f-d6b66b1d1fb4",
   "metadata": {},
   "outputs": [
    {
     "name": "stdout",
     "output_type": "stream",
     "text": [
      "F-statistic: 27.03556231003039\n",
      "p-value: 3.5786328857349003e-07\n"
     ]
    }
   ],
   "source": [
    "from scipy.stats import f_oneway\n",
    "\n",
    "standard_scores = [80, 85, 90, 78, 88, 82, 92, 78, 85, 87]\n",
    "premium_scores = [90, 92, 88, 92, 95, 91, 96, 93, 89, 93]\n",
    "deluxe_scores = [95, 98, 92, 97, 96, 94, 98, 97, 92, 99]\n",
    "\n",
    "f_statistic, p_value = f_oneway(standard_scores, premium_scores, deluxe_scores)\n",
    "\n",
    "print(\"F-statistic:\", f_statistic)\n",
    "print(\"p-value:\", p_value)"
   ]
  },
  {
   "cell_type": "markdown",
   "id": "5c29c237-42a1-4931-9361-12079e9621e4",
   "metadata": {},
   "source": [
    "# THANK YOU FOR GIVING THIS ASSIGNMENT"
   ]
  },
  {
   "cell_type": "code",
   "execution_count": null,
   "id": "5f4e82af-fb66-4da8-8ff9-dafebe9752d6",
   "metadata": {},
   "outputs": [],
   "source": []
  }
 ],
 "metadata": {
  "kernelspec": {
   "display_name": "Python 3 (ipykernel)",
   "language": "python",
   "name": "python3"
  },
  "language_info": {
   "codemirror_mode": {
    "name": "ipython",
    "version": 3
   },
   "file_extension": ".py",
   "mimetype": "text/x-python",
   "name": "python",
   "nbconvert_exporter": "python",
   "pygments_lexer": "ipython3",
   "version": "3.10.8"
  }
 },
 "nbformat": 4,
 "nbformat_minor": 5
}
